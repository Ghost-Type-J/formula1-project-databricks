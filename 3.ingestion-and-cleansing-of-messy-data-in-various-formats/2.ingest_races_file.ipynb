{
 "cells": [
  {
   "cell_type": "markdown",
   "metadata": {
    "application/vnd.databricks.v1+cell": {
     "cellMetadata": {
      "byteLimit": 2048000,
      "rowLimit": 10000
     },
     "inputWidgets": {},
     "nuid": "9b088dd0-4520-4f40-95e3-95b0ff2faaea",
     "showTitle": false,
     "title": ""
    }
   },
   "source": [
    "\n",
    "### Ingest races.csv file"
   ]
  },
  {
   "cell_type": "markdown",
   "metadata": {
    "application/vnd.databricks.v1+cell": {
     "cellMetadata": {
      "byteLimit": 2048000,
      "rowLimit": 10000
     },
     "inputWidgets": {},
     "nuid": "77894118-42a1-4d89-87ee-a14d60e77518",
     "showTitle": false,
     "title": ""
    }
   },
   "source": [
    "\n",
    "##### Step 1 - Read the CSV file using the spark dataframe reader API, Set the schema\n"
   ]
  },
  {
   "cell_type": "code",
   "execution_count": 0,
   "metadata": {
    "application/vnd.databricks.v1+cell": {
     "cellMetadata": {
      "byteLimit": 2048000,
      "rowLimit": 10000
     },
     "inputWidgets": {},
     "nuid": "42c7d64a-d114-4b27-aa3c-766bf155e914",
     "showTitle": false,
     "title": ""
    }
   },
   "outputs": [],
   "source": [
    "# display(dbutils.fs.ls(\"/mnt/jumayelformula1dl/raw\"))"
   ]
  },
  {
   "cell_type": "code",
   "execution_count": 0,
   "metadata": {
    "application/vnd.databricks.v1+cell": {
     "cellMetadata": {
      "byteLimit": 2048000,
      "rowLimit": 10000
     },
     "inputWidgets": {},
     "nuid": "7a3d97a1-f342-45a2-9ff8-32427837f99e",
     "showTitle": false,
     "title": ""
    }
   },
   "outputs": [],
   "source": [
    "from pyspark.sql.types import StructType, StructField, IntegerType, StringType, DateType"
   ]
  },
  {
   "cell_type": "code",
   "execution_count": 0,
   "metadata": {
    "application/vnd.databricks.v1+cell": {
     "cellMetadata": {
      "byteLimit": 2048000,
      "rowLimit": 10000
     },
     "inputWidgets": {},
     "nuid": "d49d3e8f-1089-4722-b1cc-1030dc91d8f8",
     "showTitle": false,
     "title": ""
    }
   },
   "outputs": [],
   "source": [
    "races_schema = StructType(\n",
    "    [\n",
    "        StructField(\"raceId\", IntegerType(), False),\n",
    "        StructField(\"year\", IntegerType(), True),\n",
    "        StructField(\"round\", IntegerType(), True),\n",
    "        StructField(\"circuitId\", IntegerType(), True),\n",
    "        StructField(\"name\", StringType(), True),\n",
    "        StructField(\"date\", DateType(), True),\n",
    "        StructField(\"time\", StringType(), True),\n",
    "        StructField(\"url\", StringType(), True)\n",
    "    ]\n",
    "\n",
    ")"
   ]
  },
  {
   "cell_type": "code",
   "execution_count": 0,
   "metadata": {
    "application/vnd.databricks.v1+cell": {
     "cellMetadata": {
      "byteLimit": 2048000,
      "rowLimit": 10000
     },
     "inputWidgets": {},
     "nuid": "308445ce-d474-4f9b-9aab-a57a8791f248",
     "showTitle": false,
     "title": ""
    }
   },
   "outputs": [],
   "source": [
    "races_df = spark.read.schema(races_schema).csv(\"/mnt/jumayelformula1dl/raw/races.csv\", header=True)"
   ]
  },
  {
   "cell_type": "markdown",
   "metadata": {
    "application/vnd.databricks.v1+cell": {
     "cellMetadata": {
      "byteLimit": 2048000,
      "rowLimit": 10000
     },
     "inputWidgets": {},
     "nuid": "1f44de9e-547e-4641-8817-99ef30d79081",
     "showTitle": false,
     "title": ""
    }
   },
   "source": [
    "\n",
    "##### Step 2 - Add race_timestamp to the dataframe\n"
   ]
  },
  {
   "cell_type": "code",
   "execution_count": 0,
   "metadata": {
    "application/vnd.databricks.v1+cell": {
     "cellMetadata": {
      "byteLimit": 2048000,
      "rowLimit": 10000
     },
     "inputWidgets": {},
     "nuid": "1be93c5c-a97a-43ff-8d6b-fc3773009bba",
     "showTitle": false,
     "title": ""
    }
   },
   "outputs": [],
   "source": [
    "from pyspark.sql.functions import col, to_timestamp, concat, lit, current_timestamp\n",
    "\n",
    "races_df_with_race_timestamp = races_df\\\n",
    "    .withColumn(\"race_timestamp\", to_timestamp(concat(col(\"date\"), lit(\" \"), col(\"time\")), \"yyyy-MM-dd HH:mm:ss\"))\n"
   ]
  },
  {
   "cell_type": "markdown",
   "metadata": {
    "application/vnd.databricks.v1+cell": {
     "cellMetadata": {
      "byteLimit": 2048000,
      "rowLimit": 10000
     },
     "inputWidgets": {},
     "nuid": "53c71893-6232-44db-ae16-07060ea6fce3",
     "showTitle": false,
     "title": ""
    }
   },
   "source": [
    "\n",
    "##### Step 3 - Select required columns"
   ]
  },
  {
   "cell_type": "code",
   "execution_count": 0,
   "metadata": {
    "application/vnd.databricks.v1+cell": {
     "cellMetadata": {
      "byteLimit": 2048000,
      "rowLimit": 10000
     },
     "inputWidgets": {},
     "nuid": "2683d096-27a0-47c0-82fc-5419b880bb5b",
     "showTitle": false,
     "title": ""
    }
   },
   "outputs": [],
   "source": [
    "races_selected_df = races_df_with_race_timestamp.select(col(\"raceId\"), col(\"year\"), col(\"round\"), col(\"circuitId\"), col(\"name\"), col(\"race_timestamp\"))"
   ]
  },
  {
   "cell_type": "markdown",
   "metadata": {
    "application/vnd.databricks.v1+cell": {
     "cellMetadata": {
      "byteLimit": 2048000,
      "rowLimit": 10000
     },
     "inputWidgets": {},
     "nuid": "72ac76e0-91b9-4a4f-958e-14006626cf45",
     "showTitle": false,
     "title": ""
    }
   },
   "source": [
    "\n",
    "##### Step 4 - Rename columns as required"
   ]
  },
  {
   "cell_type": "code",
   "execution_count": 0,
   "metadata": {
    "application/vnd.databricks.v1+cell": {
     "cellMetadata": {
      "byteLimit": 2048000,
      "rowLimit": 10000
     },
     "inputWidgets": {},
     "nuid": "76fcab65-84ba-4bfb-9b24-1a077e8b0f46",
     "showTitle": false,
     "title": ""
    }
   },
   "outputs": [],
   "source": [
    "races_df_renamed = races_selected_df.withColumnRenamed(\"raceId\", \"race_id\")\\\n",
    ".withColumnRenamed(\"year\", \"race_year\")\\\n",
    ".withColumnRenamed(\"circuitId\", \"circuit_id\")"
   ]
  },
  {
   "cell_type": "markdown",
   "metadata": {
    "application/vnd.databricks.v1+cell": {
     "cellMetadata": {
      "byteLimit": 2048000,
      "rowLimit": 10000
     },
     "inputWidgets": {},
     "nuid": "dccbb5b5-83fd-40b8-9d89-070dc61bce1c",
     "showTitle": false,
     "title": ""
    }
   },
   "source": [
    "\n",
    "##### Step 5 - Add ingestion_date column"
   ]
  },
  {
   "cell_type": "code",
   "execution_count": 0,
   "metadata": {
    "application/vnd.databricks.v1+cell": {
     "cellMetadata": {
      "byteLimit": 2048000,
      "rowLimit": 10000
     },
     "inputWidgets": {},
     "nuid": "e910a5fa-1731-4416-a88f-4e73cd91e117",
     "showTitle": false,
     "title": ""
    }
   },
   "outputs": [],
   "source": [
    "races_df_final = races_df_renamed.withColumn(\"ingestion_date\", current_timestamp())"
   ]
  },
  {
   "cell_type": "markdown",
   "metadata": {
    "application/vnd.databricks.v1+cell": {
     "cellMetadata": {
      "byteLimit": 2048000,
      "rowLimit": 10000
     },
     "inputWidgets": {},
     "nuid": "a83ae727-3da2-48f0-8348-06c12c8d58f7",
     "showTitle": false,
     "title": ""
    }
   },
   "source": [
    "\n",
    "##### Step 6 - Write the dataframe as a parquet file to the desired directory"
   ]
  },
  {
   "cell_type": "code",
   "execution_count": 0,
   "metadata": {
    "application/vnd.databricks.v1+cell": {
     "cellMetadata": {
      "byteLimit": 2048000,
      "rowLimit": 10000
     },
     "inputWidgets": {},
     "nuid": "47285d6f-8f13-4e78-a289-d8aed72704ca",
     "showTitle": false,
     "title": ""
    }
   },
   "outputs": [],
   "source": [
    "races_df_final.write.partitionBy(\"race_year\").parquet(\"mnt/jumayelformula1dl/processed/races/\", mode=\"overwrite\")"
   ]
  },
  {
   "cell_type": "code",
   "execution_count": 0,
   "metadata": {
    "application/vnd.databricks.v1+cell": {
     "cellMetadata": {
      "byteLimit": 2048000,
      "rowLimit": 10000
     },
     "inputWidgets": {},
     "nuid": "69b59be7-c0bc-4133-8390-9caac272d7fc",
     "showTitle": false,
     "title": ""
    }
   },
   "outputs": [
    {
     "output_type": "display_data",
     "data": {
      "text/html": [
       "<style scoped>\n",
       "  .table-result-container {\n",
       "    max-height: 300px;\n",
       "    overflow: auto;\n",
       "  }\n",
       "  table, th, td {\n",
       "    border: 1px solid black;\n",
       "    border-collapse: collapse;\n",
       "  }\n",
       "  th, td {\n",
       "    padding: 5px;\n",
       "  }\n",
       "  th {\n",
       "    text-align: left;\n",
       "  }\n",
       "</style><div class='table-result-container'><table class='table-result'><thead style='background-color: white'><tr><th>race_id</th><th>round</th><th>circuit_id</th><th>name</th><th>race_timestamp</th><th>ingestion_date</th><th>race_year</th></tr></thead><tbody><tr><td>1053</td><td>2</td><td>21</td><td>Emilia Romagna Grand Prix</td><td>2021-04-18T13:00:00.000+0000</td><td>2023-09-23T17:41:31.166+0000</td><td>2021</td></tr><tr><td>1052</td><td>1</td><td>3</td><td>Bahrain Grand Prix</td><td>2021-03-28T15:00:00.000+0000</td><td>2023-09-23T17:41:31.166+0000</td><td>2021</td></tr><tr><td>1051</td><td>21</td><td>1</td><td>Australian Grand Prix</td><td>2021-11-21T06:00:00.000+0000</td><td>2023-09-23T17:41:31.166+0000</td><td>2021</td></tr><tr><td>1054</td><td>3</td><td>20</td><td>TBC</td><td>null</td><td>2023-09-23T17:41:31.166+0000</td><td>2021</td></tr><tr><td>1055</td><td>4</td><td>4</td><td>Spanish Grand Prix</td><td>2021-05-09T13:00:00.000+0000</td><td>2023-09-23T17:41:31.166+0000</td><td>2021</td></tr><tr><td>1056</td><td>5</td><td>6</td><td>Monaco Grand Prix</td><td>2021-05-23T13:00:00.000+0000</td><td>2023-09-23T17:41:31.166+0000</td><td>2021</td></tr><tr><td>1057</td><td>6</td><td>73</td><td>Azerbaijan Grand Prix</td><td>2021-06-06T12:00:00.000+0000</td><td>2023-09-23T17:41:31.166+0000</td><td>2021</td></tr><tr><td>1058</td><td>7</td><td>7</td><td>Canadian Grand Prix</td><td>2021-06-13T18:00:00.000+0000</td><td>2023-09-23T17:41:31.166+0000</td><td>2021</td></tr><tr><td>1059</td><td>8</td><td>34</td><td>French Grand Prix</td><td>2021-06-27T13:00:00.000+0000</td><td>2023-09-23T17:41:31.166+0000</td><td>2021</td></tr><tr><td>1060</td><td>9</td><td>70</td><td>Austrian Grand Prix</td><td>2021-07-04T13:00:00.000+0000</td><td>2023-09-23T17:41:31.166+0000</td><td>2021</td></tr><tr><td>1061</td><td>10</td><td>9</td><td>British Grand Prix</td><td>2021-07-18T14:00:00.000+0000</td><td>2023-09-23T17:41:31.166+0000</td><td>2021</td></tr><tr><td>1062</td><td>11</td><td>11</td><td>Hungarian Grand Prix</td><td>2021-08-01T13:00:00.000+0000</td><td>2023-09-23T17:41:31.166+0000</td><td>2021</td></tr><tr><td>1063</td><td>12</td><td>13</td><td>Belgian Grand Prix</td><td>2021-08-29T13:00:00.000+0000</td><td>2023-09-23T17:41:31.166+0000</td><td>2021</td></tr><tr><td>1064</td><td>13</td><td>39</td><td>Dutch Grand Prix</td><td>2021-09-05T13:00:00.000+0000</td><td>2023-09-23T17:41:31.166+0000</td><td>2021</td></tr><tr><td>1065</td><td>14</td><td>14</td><td>Italian Grand Prix</td><td>2021-09-12T13:00:00.000+0000</td><td>2023-09-23T17:41:31.166+0000</td><td>2021</td></tr><tr><td>1066</td><td>15</td><td>71</td><td>Russian Grand Prix</td><td>2021-09-26T12:00:00.000+0000</td><td>2023-09-23T17:41:31.166+0000</td><td>2021</td></tr><tr><td>1067</td><td>16</td><td>15</td><td>Singapore Grand Prix</td><td>2021-10-03T12:00:00.000+0000</td><td>2023-09-23T17:41:31.166+0000</td><td>2021</td></tr><tr><td>1068</td><td>17</td><td>22</td><td>Japanese Grand Prix</td><td>2021-10-10T05:00:00.000+0000</td><td>2023-09-23T17:41:31.166+0000</td><td>2021</td></tr><tr><td>1069</td><td>18</td><td>69</td><td>United States Grand Prix</td><td>2021-10-24T19:00:00.000+0000</td><td>2023-09-23T17:41:31.166+0000</td><td>2021</td></tr><tr><td>1070</td><td>19</td><td>32</td><td>Mexico City Grand Prix</td><td>2021-10-31T19:00:00.000+0000</td><td>2023-09-23T17:41:31.166+0000</td><td>2021</td></tr><tr><td>1071</td><td>20</td><td>18</td><td>Brazilian Grand Prix</td><td>2021-11-07T17:00:00.000+0000</td><td>2023-09-23T17:41:31.166+0000</td><td>2021</td></tr><tr><td>1072</td><td>22</td><td>77</td><td>Saudi Arabian Grand Prix</td><td>2021-12-05T16:00:00.000+0000</td><td>2023-09-23T17:41:31.166+0000</td><td>2021</td></tr><tr><td>1073</td><td>23</td><td>24</td><td>Abu Dhabi Grand Prix</td><td>2021-12-12T13:00:00.000+0000</td><td>2023-09-23T17:41:31.166+0000</td><td>2021</td></tr><tr><td>989</td><td>1</td><td>1</td><td>Australian Grand Prix</td><td>2018-03-25T05:10:00.000+0000</td><td>2023-09-23T17:41:31.166+0000</td><td>2018</td></tr><tr><td>990</td><td>2</td><td>3</td><td>Bahrain Grand Prix</td><td>2018-04-08T15:10:00.000+0000</td><td>2023-09-23T17:41:31.166+0000</td><td>2018</td></tr><tr><td>991</td><td>3</td><td>17</td><td>Chinese Grand Prix</td><td>2018-04-15T06:10:00.000+0000</td><td>2023-09-23T17:41:31.166+0000</td><td>2018</td></tr><tr><td>992</td><td>4</td><td>73</td><td>Azerbaijan Grand Prix</td><td>2018-04-29T12:10:00.000+0000</td><td>2023-09-23T17:41:31.166+0000</td><td>2018</td></tr><tr><td>993</td><td>5</td><td>4</td><td>Spanish Grand Prix</td><td>2018-05-13T13:10:00.000+0000</td><td>2023-09-23T17:41:31.166+0000</td><td>2018</td></tr><tr><td>994</td><td>6</td><td>6</td><td>Monaco Grand Prix</td><td>2018-05-27T13:10:00.000+0000</td><td>2023-09-23T17:41:31.166+0000</td><td>2018</td></tr><tr><td>995</td><td>7</td><td>7</td><td>Canadian Grand Prix</td><td>2018-06-10T18:10:00.000+0000</td><td>2023-09-23T17:41:31.166+0000</td><td>2018</td></tr><tr><td>996</td><td>8</td><td>34</td><td>French Grand Prix</td><td>2018-06-24T14:10:00.000+0000</td><td>2023-09-23T17:41:31.166+0000</td><td>2018</td></tr><tr><td>997</td><td>9</td><td>70</td><td>Austrian Grand Prix</td><td>2018-07-01T13:10:00.000+0000</td><td>2023-09-23T17:41:31.166+0000</td><td>2018</td></tr><tr><td>998</td><td>10</td><td>9</td><td>British Grand Prix</td><td>2018-07-08T13:10:00.000+0000</td><td>2023-09-23T17:41:31.166+0000</td><td>2018</td></tr><tr><td>999</td><td>11</td><td>10</td><td>German Grand Prix</td><td>2018-07-22T13:10:00.000+0000</td><td>2023-09-23T17:41:31.166+0000</td><td>2018</td></tr><tr><td>1000</td><td>12</td><td>11</td><td>Hungarian Grand Prix</td><td>2018-07-29T13:10:00.000+0000</td><td>2023-09-23T17:41:31.166+0000</td><td>2018</td></tr><tr><td>1001</td><td>13</td><td>13</td><td>Belgian Grand Prix</td><td>2018-08-26T13:10:00.000+0000</td><td>2023-09-23T17:41:31.166+0000</td><td>2018</td></tr><tr><td>1002</td><td>14</td><td>14</td><td>Italian Grand Prix</td><td>2018-09-02T13:10:00.000+0000</td><td>2023-09-23T17:41:31.166+0000</td><td>2018</td></tr><tr><td>1003</td><td>15</td><td>15</td><td>Singapore Grand Prix</td><td>2018-09-16T12:10:00.000+0000</td><td>2023-09-23T17:41:31.166+0000</td><td>2018</td></tr><tr><td>1004</td><td>16</td><td>71</td><td>Russian Grand Prix</td><td>2018-09-30T11:10:00.000+0000</td><td>2023-09-23T17:41:31.166+0000</td><td>2018</td></tr><tr><td>1005</td><td>17</td><td>22</td><td>Japanese Grand Prix</td><td>2018-10-07T05:10:00.000+0000</td><td>2023-09-23T17:41:31.166+0000</td><td>2018</td></tr><tr><td>1006</td><td>18</td><td>69</td><td>United States Grand Prix</td><td>2018-10-21T18:10:00.000+0000</td><td>2023-09-23T17:41:31.166+0000</td><td>2018</td></tr><tr><td>1007</td><td>19</td><td>32</td><td>Mexican Grand Prix</td><td>2018-10-28T19:10:00.000+0000</td><td>2023-09-23T17:41:31.166+0000</td><td>2018</td></tr><tr><td>1008</td><td>20</td><td>18</td><td>Brazilian Grand Prix</td><td>2018-11-11T17:10:00.000+0000</td><td>2023-09-23T17:41:31.166+0000</td><td>2018</td></tr><tr><td>1009</td><td>21</td><td>24</td><td>Abu Dhabi Grand Prix</td><td>2018-11-25T13:10:00.000+0000</td><td>2023-09-23T17:41:31.166+0000</td><td>2018</td></tr><tr><td>1010</td><td>1</td><td>1</td><td>Australian Grand Prix</td><td>2019-03-17T05:10:00.000+0000</td><td>2023-09-23T17:41:31.166+0000</td><td>2019</td></tr><tr><td>1011</td><td>2</td><td>3</td><td>Bahrain Grand Prix</td><td>2019-03-31T15:10:00.000+0000</td><td>2023-09-23T17:41:31.166+0000</td><td>2019</td></tr><tr><td>1012</td><td>3</td><td>17</td><td>Chinese Grand Prix</td><td>2019-04-14T06:10:00.000+0000</td><td>2023-09-23T17:41:31.166+0000</td><td>2019</td></tr><tr><td>1013</td><td>4</td><td>73</td><td>Azerbaijan Grand Prix</td><td>2019-04-28T12:10:00.000+0000</td><td>2023-09-23T17:41:31.166+0000</td><td>2019</td></tr><tr><td>1014</td><td>5</td><td>4</td><td>Spanish Grand Prix</td><td>2019-05-12T13:10:00.000+0000</td><td>2023-09-23T17:41:31.166+0000</td><td>2019</td></tr><tr><td>1015</td><td>6</td><td>6</td><td>Monaco Grand Prix</td><td>2019-05-26T13:10:00.000+0000</td><td>2023-09-23T17:41:31.166+0000</td><td>2019</td></tr><tr><td>1016</td><td>7</td><td>7</td><td>Canadian Grand Prix</td><td>2019-06-09T18:10:00.000+0000</td><td>2023-09-23T17:41:31.166+0000</td><td>2019</td></tr><tr><td>1017</td><td>8</td><td>34</td><td>French Grand Prix</td><td>2019-06-23T13:10:00.000+0000</td><td>2023-09-23T17:41:31.166+0000</td><td>2019</td></tr><tr><td>1018</td><td>9</td><td>70</td><td>Austrian Grand Prix</td><td>2019-06-30T13:10:00.000+0000</td><td>2023-09-23T17:41:31.166+0000</td><td>2019</td></tr><tr><td>1019</td><td>10</td><td>9</td><td>British Grand Prix</td><td>2019-07-14T13:10:00.000+0000</td><td>2023-09-23T17:41:31.166+0000</td><td>2019</td></tr><tr><td>1020</td><td>11</td><td>10</td><td>German Grand Prix</td><td>2019-07-28T13:10:00.000+0000</td><td>2023-09-23T17:41:31.166+0000</td><td>2019</td></tr><tr><td>1021</td><td>12</td><td>11</td><td>Hungarian Grand Prix</td><td>2019-08-04T13:10:00.000+0000</td><td>2023-09-23T17:41:31.166+0000</td><td>2019</td></tr><tr><td>1022</td><td>13</td><td>13</td><td>Belgian Grand Prix</td><td>2019-09-01T13:10:00.000+0000</td><td>2023-09-23T17:41:31.166+0000</td><td>2019</td></tr><tr><td>1023</td><td>14</td><td>14</td><td>Italian Grand Prix</td><td>2019-09-08T13:10:00.000+0000</td><td>2023-09-23T17:41:31.166+0000</td><td>2019</td></tr><tr><td>1024</td><td>15</td><td>15</td><td>Singapore Grand Prix</td><td>2019-09-22T12:10:00.000+0000</td><td>2023-09-23T17:41:31.166+0000</td><td>2019</td></tr><tr><td>1025</td><td>16</td><td>71</td><td>Russian Grand Prix</td><td>2019-09-29T11:10:00.000+0000</td><td>2023-09-23T17:41:31.166+0000</td><td>2019</td></tr><tr><td>1026</td><td>17</td><td>22</td><td>Japanese Grand Prix</td><td>2019-10-13T05:10:00.000+0000</td><td>2023-09-23T17:41:31.166+0000</td><td>2019</td></tr><tr><td>1027</td><td>18</td><td>32</td><td>Mexican Grand Prix</td><td>2019-10-27T19:10:00.000+0000</td><td>2023-09-23T17:41:31.166+0000</td><td>2019</td></tr><tr><td>1028</td><td>19</td><td>69</td><td>United States Grand Prix</td><td>2019-11-03T19:10:00.000+0000</td><td>2023-09-23T17:41:31.166+0000</td><td>2019</td></tr><tr><td>1029</td><td>20</td><td>18</td><td>Brazilian Grand Prix</td><td>2019-11-17T17:10:00.000+0000</td><td>2023-09-23T17:41:31.166+0000</td><td>2019</td></tr><tr><td>1030</td><td>21</td><td>24</td><td>Abu Dhabi Grand Prix</td><td>2019-12-01T13:10:00.000+0000</td><td>2023-09-23T17:41:31.166+0000</td><td>2019</td></tr><tr><td>948</td><td>1</td><td>1</td><td>Australian Grand Prix</td><td>2016-03-20T05:00:00.000+0000</td><td>2023-09-23T17:41:31.166+0000</td><td>2016</td></tr><tr><td>949</td><td>2</td><td>3</td><td>Bahrain Grand Prix</td><td>2016-04-03T15:00:00.000+0000</td><td>2023-09-23T17:41:31.166+0000</td><td>2016</td></tr><tr><td>950</td><td>3</td><td>17</td><td>Chinese Grand Prix</td><td>2016-04-17T06:00:00.000+0000</td><td>2023-09-23T17:41:31.166+0000</td><td>2016</td></tr><tr><td>951</td><td>4</td><td>71</td><td>Russian Grand Prix</td><td>2016-05-01T12:00:00.000+0000</td><td>2023-09-23T17:41:31.166+0000</td><td>2016</td></tr><tr><td>952</td><td>5</td><td>4</td><td>Spanish Grand Prix</td><td>2016-05-15T12:00:00.000+0000</td><td>2023-09-23T17:41:31.166+0000</td><td>2016</td></tr><tr><td>953</td><td>6</td><td>6</td><td>Monaco Grand Prix</td><td>2016-05-29T12:00:00.000+0000</td><td>2023-09-23T17:41:31.166+0000</td><td>2016</td></tr><tr><td>954</td><td>7</td><td>7</td><td>Canadian Grand Prix</td><td>2016-06-12T18:00:00.000+0000</td><td>2023-09-23T17:41:31.166+0000</td><td>2016</td></tr><tr><td>955</td><td>8</td><td>73</td><td>European Grand Prix</td><td>2016-06-19T13:00:00.000+0000</td><td>2023-09-23T17:41:31.166+0000</td><td>2016</td></tr><tr><td>956</td><td>9</td><td>70</td><td>Austrian Grand Prix</td><td>2016-07-03T12:00:00.000+0000</td><td>2023-09-23T17:41:31.166+0000</td><td>2016</td></tr><tr><td>957</td><td>10</td><td>9</td><td>British Grand Prix</td><td>2016-07-10T12:00:00.000+0000</td><td>2023-09-23T17:41:31.166+0000</td><td>2016</td></tr><tr><td>958</td><td>11</td><td>11</td><td>Hungarian Grand Prix</td><td>2016-07-24T12:00:00.000+0000</td><td>2023-09-23T17:41:31.166+0000</td><td>2016</td></tr><tr><td>959</td><td>12</td><td>10</td><td>German Grand Prix</td><td>2016-07-31T12:00:00.000+0000</td><td>2023-09-23T17:41:31.166+0000</td><td>2016</td></tr><tr><td>960</td><td>13</td><td>13</td><td>Belgian Grand Prix</td><td>2016-08-28T12:00:00.000+0000</td><td>2023-09-23T17:41:31.166+0000</td><td>2016</td></tr><tr><td>961</td><td>14</td><td>14</td><td>Italian Grand Prix</td><td>2016-09-04T12:00:00.000+0000</td><td>2023-09-23T17:41:31.166+0000</td><td>2016</td></tr><tr><td>962</td><td>15</td><td>15</td><td>Singapore Grand Prix</td><td>2016-09-18T12:00:00.000+0000</td><td>2023-09-23T17:41:31.166+0000</td><td>2016</td></tr><tr><td>963</td><td>16</td><td>2</td><td>Malaysian Grand Prix</td><td>2016-10-02T07:00:00.000+0000</td><td>2023-09-23T17:41:31.166+0000</td><td>2016</td></tr><tr><td>964</td><td>17</td><td>22</td><td>Japanese Grand Prix</td><td>2016-10-09T05:00:00.000+0000</td><td>2023-09-23T17:41:31.166+0000</td><td>2016</td></tr><tr><td>965</td><td>18</td><td>69</td><td>United States Grand Prix</td><td>2016-10-23T19:00:00.000+0000</td><td>2023-09-23T17:41:31.166+0000</td><td>2016</td></tr><tr><td>966</td><td>19</td><td>32</td><td>Mexican Grand Prix</td><td>2016-10-30T19:00:00.000+0000</td><td>2023-09-23T17:41:31.166+0000</td><td>2016</td></tr><tr><td>967</td><td>20</td><td>18</td><td>Brazilian Grand Prix</td><td>2016-11-13T16:00:00.000+0000</td><td>2023-09-23T17:41:31.166+0000</td><td>2016</td></tr><tr><td>968</td><td>21</td><td>24</td><td>Abu Dhabi Grand Prix</td><td>2016-11-27T13:00:00.000+0000</td><td>2023-09-23T17:41:31.166+0000</td><td>2016</td></tr><tr><td>860</td><td>1</td><td>1</td><td>Australian Grand Prix</td><td>2012-03-18T06:00:00.000+0000</td><td>2023-09-23T17:41:31.166+0000</td><td>2012</td></tr><tr><td>861</td><td>2</td><td>2</td><td>Malaysian Grand Prix</td><td>2012-03-25T08:00:00.000+0000</td><td>2023-09-23T17:41:31.166+0000</td><td>2012</td></tr><tr><td>862</td><td>3</td><td>17</td><td>Chinese Grand Prix</td><td>2012-04-15T07:00:00.000+0000</td><td>2023-09-23T17:41:31.166+0000</td><td>2012</td></tr><tr><td>863</td><td>4</td><td>3</td><td>Bahrain Grand Prix</td><td>2012-04-22T12:00:00.000+0000</td><td>2023-09-23T17:41:31.166+0000</td><td>2012</td></tr><tr><td>864</td><td>5</td><td>4</td><td>Spanish Grand Prix</td><td>2012-05-13T12:00:00.000+0000</td><td>2023-09-23T17:41:31.166+0000</td><td>2012</td></tr><tr><td>865</td><td>6</td><td>6</td><td>Monaco Grand Prix</td><td>2012-05-27T12:00:00.000+0000</td><td>2023-09-23T17:41:31.166+0000</td><td>2012</td></tr><tr><td>866</td><td>7</td><td>7</td><td>Canadian Grand Prix</td><td>2012-06-10T18:00:00.000+0000</td><td>2023-09-23T17:41:31.166+0000</td><td>2012</td></tr><tr><td>867</td><td>8</td><td>12</td><td>European Grand Prix</td><td>2012-06-24T12:00:00.000+0000</td><td>2023-09-23T17:41:31.166+0000</td><td>2012</td></tr><tr><td>868</td><td>9</td><td>9</td><td>British Grand Prix</td><td>2012-07-08T12:00:00.000+0000</td><td>2023-09-23T17:41:31.166+0000</td><td>2012</td></tr><tr><td>869</td><td>10</td><td>10</td><td>German Grand Prix</td><td>2012-07-22T12:00:00.000+0000</td><td>2023-09-23T17:41:31.166+0000</td><td>2012</td></tr><tr><td>870</td><td>11</td><td>11</td><td>Hungarian Grand Prix</td><td>2012-07-29T12:00:00.000+0000</td><td>2023-09-23T17:41:31.166+0000</td><td>2012</td></tr><tr><td>871</td><td>12</td><td>13</td><td>Belgian Grand Prix</td><td>2012-09-02T12:00:00.000+0000</td><td>2023-09-23T17:41:31.166+0000</td><td>2012</td></tr><tr><td>872</td><td>13</td><td>14</td><td>Italian Grand Prix</td><td>2012-09-09T12:00:00.000+0000</td><td>2023-09-23T17:41:31.166+0000</td><td>2012</td></tr><tr><td>873</td><td>14</td><td>15</td><td>Singapore Grand Prix</td><td>2012-09-23T12:00:00.000+0000</td><td>2023-09-23T17:41:31.166+0000</td><td>2012</td></tr><tr><td>874</td><td>15</td><td>22</td><td>Japanese Grand Prix</td><td>2012-10-07T06:00:00.000+0000</td><td>2023-09-23T17:41:31.166+0000</td><td>2012</td></tr><tr><td>875</td><td>16</td><td>35</td><td>Korean Grand Prix</td><td>2012-10-14T06:00:00.000+0000</td><td>2023-09-23T17:41:31.166+0000</td><td>2012</td></tr><tr><td>876</td><td>17</td><td>68</td><td>Indian Grand Prix</td><td>2012-10-28T09:30:00.000+0000</td><td>2023-09-23T17:41:31.166+0000</td><td>2012</td></tr><tr><td>877</td><td>18</td><td>24</td><td>Abu Dhabi Grand Prix</td><td>2012-11-04T13:00:00.000+0000</td><td>2023-09-23T17:41:31.166+0000</td><td>2012</td></tr><tr><td>878</td><td>19</td><td>69</td><td>United States Grand Prix</td><td>2012-11-18T19:00:00.000+0000</td><td>2023-09-23T17:41:31.166+0000</td><td>2012</td></tr><tr><td>879</td><td>20</td><td>18</td><td>Brazilian Grand Prix</td><td>2012-11-25T16:00:00.000+0000</td><td>2023-09-23T17:41:31.166+0000</td><td>2012</td></tr><tr><td>969</td><td>1</td><td>1</td><td>Australian Grand Prix</td><td>2017-03-26T05:00:00.000+0000</td><td>2023-09-23T17:41:31.166+0000</td><td>2017</td></tr><tr><td>970</td><td>2</td><td>17</td><td>Chinese Grand Prix</td><td>2017-04-09T06:00:00.000+0000</td><td>2023-09-23T17:41:31.166+0000</td><td>2017</td></tr><tr><td>971</td><td>3</td><td>3</td><td>Bahrain Grand Prix</td><td>2017-04-16T15:00:00.000+0000</td><td>2023-09-23T17:41:31.166+0000</td><td>2017</td></tr><tr><td>972</td><td>4</td><td>71</td><td>Russian Grand Prix</td><td>2017-04-30T12:00:00.000+0000</td><td>2023-09-23T17:41:31.166+0000</td><td>2017</td></tr><tr><td>973</td><td>5</td><td>4</td><td>Spanish Grand Prix</td><td>2017-05-14T12:00:00.000+0000</td><td>2023-09-23T17:41:31.166+0000</td><td>2017</td></tr><tr><td>974</td><td>6</td><td>6</td><td>Monaco Grand Prix</td><td>2017-05-28T12:00:00.000+0000</td><td>2023-09-23T17:41:31.166+0000</td><td>2017</td></tr><tr><td>975</td><td>7</td><td>7</td><td>Canadian Grand Prix</td><td>2017-06-11T18:00:00.000+0000</td><td>2023-09-23T17:41:31.166+0000</td><td>2017</td></tr><tr><td>976</td><td>8</td><td>73</td><td>Azerbaijan Grand Prix</td><td>2017-06-25T13:00:00.000+0000</td><td>2023-09-23T17:41:31.166+0000</td><td>2017</td></tr><tr><td>977</td><td>9</td><td>70</td><td>Austrian Grand Prix</td><td>2017-07-09T12:00:00.000+0000</td><td>2023-09-23T17:41:31.166+0000</td><td>2017</td></tr><tr><td>978</td><td>10</td><td>9</td><td>British Grand Prix</td><td>2017-07-16T12:00:00.000+0000</td><td>2023-09-23T17:41:31.166+0000</td><td>2017</td></tr><tr><td>979</td><td>11</td><td>11</td><td>Hungarian Grand Prix</td><td>2017-07-30T12:00:00.000+0000</td><td>2023-09-23T17:41:31.166+0000</td><td>2017</td></tr><tr><td>980</td><td>12</td><td>13</td><td>Belgian Grand Prix</td><td>2017-08-27T12:00:00.000+0000</td><td>2023-09-23T17:41:31.166+0000</td><td>2017</td></tr><tr><td>981</td><td>13</td><td>14</td><td>Italian Grand Prix</td><td>2017-09-03T12:00:00.000+0000</td><td>2023-09-23T17:41:31.166+0000</td><td>2017</td></tr><tr><td>982</td><td>14</td><td>15</td><td>Singapore Grand Prix</td><td>2017-09-17T12:00:00.000+0000</td><td>2023-09-23T17:41:31.166+0000</td><td>2017</td></tr><tr><td>983</td><td>15</td><td>2</td><td>Malaysian Grand Prix</td><td>2017-10-01T07:00:00.000+0000</td><td>2023-09-23T17:41:31.166+0000</td><td>2017</td></tr><tr><td>984</td><td>16</td><td>22</td><td>Japanese Grand Prix</td><td>2017-10-08T05:00:00.000+0000</td><td>2023-09-23T17:41:31.166+0000</td><td>2017</td></tr><tr><td>985</td><td>17</td><td>69</td><td>United States Grand Prix</td><td>2017-10-22T19:00:00.000+0000</td><td>2023-09-23T17:41:31.166+0000</td><td>2017</td></tr><tr><td>986</td><td>18</td><td>32</td><td>Mexican Grand Prix</td><td>2017-10-29T19:00:00.000+0000</td><td>2023-09-23T17:41:31.166+0000</td><td>2017</td></tr><tr><td>987</td><td>19</td><td>18</td><td>Brazilian Grand Prix</td><td>2017-11-12T16:00:00.000+0000</td><td>2023-09-23T17:41:31.166+0000</td><td>2017</td></tr><tr><td>988</td><td>20</td><td>24</td><td>Abu Dhabi Grand Prix</td><td>2017-11-26T13:00:00.000+0000</td><td>2023-09-23T17:41:31.166+0000</td><td>2017</td></tr><tr><td>880</td><td>1</td><td>1</td><td>Australian Grand Prix</td><td>2013-03-17T06:00:00.000+0000</td><td>2023-09-23T17:41:31.166+0000</td><td>2013</td></tr><tr><td>881</td><td>2</td><td>2</td><td>Malaysian Grand Prix</td><td>2013-03-24T08:00:00.000+0000</td><td>2023-09-23T17:41:31.166+0000</td><td>2013</td></tr><tr><td>882</td><td>3</td><td>17</td><td>Chinese Grand Prix</td><td>2013-04-14T07:00:00.000+0000</td><td>2023-09-23T17:41:31.166+0000</td><td>2013</td></tr><tr><td>883</td><td>4</td><td>3</td><td>Bahrain Grand Prix</td><td>2013-04-21T12:00:00.000+0000</td><td>2023-09-23T17:41:31.166+0000</td><td>2013</td></tr><tr><td>884</td><td>5</td><td>4</td><td>Spanish Grand Prix</td><td>2013-05-12T12:00:00.000+0000</td><td>2023-09-23T17:41:31.166+0000</td><td>2013</td></tr><tr><td>885</td><td>6</td><td>6</td><td>Monaco Grand Prix</td><td>2013-05-26T12:00:00.000+0000</td><td>2023-09-23T17:41:31.166+0000</td><td>2013</td></tr><tr><td>886</td><td>7</td><td>7</td><td>Canadian Grand Prix</td><td>2013-06-09T18:00:00.000+0000</td><td>2023-09-23T17:41:31.166+0000</td><td>2013</td></tr><tr><td>887</td><td>8</td><td>9</td><td>British Grand Prix</td><td>2013-06-30T12:00:00.000+0000</td><td>2023-09-23T17:41:31.166+0000</td><td>2013</td></tr><tr><td>888</td><td>9</td><td>20</td><td>German Grand Prix</td><td>2013-07-07T12:00:00.000+0000</td><td>2023-09-23T17:41:31.166+0000</td><td>2013</td></tr><tr><td>890</td><td>10</td><td>11</td><td>Hungarian Grand Prix</td><td>2013-07-28T12:00:00.000+0000</td><td>2023-09-23T17:41:31.166+0000</td><td>2013</td></tr><tr><td>891</td><td>11</td><td>13</td><td>Belgian Grand Prix</td><td>2013-08-25T12:00:00.000+0000</td><td>2023-09-23T17:41:31.166+0000</td><td>2013</td></tr><tr><td>892</td><td>12</td><td>14</td><td>Italian Grand Prix</td><td>2013-09-08T12:00:00.000+0000</td><td>2023-09-23T17:41:31.166+0000</td><td>2013</td></tr><tr><td>893</td><td>13</td><td>15</td><td>Singapore Grand Prix</td><td>2013-09-22T12:00:00.000+0000</td><td>2023-09-23T17:41:31.166+0000</td><td>2013</td></tr><tr><td>894</td><td>14</td><td>35</td><td>Korean Grand Prix</td><td>2013-10-06T06:00:00.000+0000</td><td>2023-09-23T17:41:31.166+0000</td><td>2013</td></tr><tr><td>895</td><td>15</td><td>22</td><td>Japanese Grand Prix</td><td>2013-10-13T06:00:00.000+0000</td><td>2023-09-23T17:41:31.166+0000</td><td>2013</td></tr><tr><td>896</td><td>16</td><td>68</td><td>Indian Grand Prix</td><td>2013-10-27T09:30:00.000+0000</td><td>2023-09-23T17:41:31.166+0000</td><td>2013</td></tr><tr><td>897</td><td>17</td><td>24</td><td>Abu Dhabi Grand Prix</td><td>2013-11-03T13:00:00.000+0000</td><td>2023-09-23T17:41:31.166+0000</td><td>2013</td></tr><tr><td>898</td><td>18</td><td>69</td><td>United States Grand Prix</td><td>2013-11-17T19:00:00.000+0000</td><td>2023-09-23T17:41:31.166+0000</td><td>2013</td></tr><tr><td>899</td><td>19</td><td>18</td><td>Brazilian Grand Prix</td><td>2013-11-24T16:00:00.000+0000</td><td>2023-09-23T17:41:31.166+0000</td><td>2013</td></tr><tr><td>900</td><td>1</td><td>1</td><td>Australian Grand Prix</td><td>2014-03-16T06:00:00.000+0000</td><td>2023-09-23T17:41:31.166+0000</td><td>2014</td></tr><tr><td>901</td><td>2</td><td>2</td><td>Malaysian Grand Prix</td><td>2014-03-30T08:00:00.000+0000</td><td>2023-09-23T17:41:31.166+0000</td><td>2014</td></tr><tr><td>902</td><td>3</td><td>3</td><td>Bahrain Grand Prix</td><td>2014-04-06T15:00:00.000+0000</td><td>2023-09-23T17:41:31.166+0000</td><td>2014</td></tr><tr><td>903</td><td>4</td><td>17</td><td>Chinese Grand Prix</td><td>2014-04-20T07:00:00.000+0000</td><td>2023-09-23T17:41:31.166+0000</td><td>2014</td></tr><tr><td>904</td><td>5</td><td>4</td><td>Spanish Grand Prix</td><td>2014-05-11T12:00:00.000+0000</td><td>2023-09-23T17:41:31.166+0000</td><td>2014</td></tr><tr><td>905</td><td>6</td><td>6</td><td>Monaco Grand Prix</td><td>2014-05-25T12:00:00.000+0000</td><td>2023-09-23T17:41:31.166+0000</td><td>2014</td></tr><tr><td>906</td><td>7</td><td>7</td><td>Canadian Grand Prix</td><td>2014-06-08T18:00:00.000+0000</td><td>2023-09-23T17:41:31.166+0000</td><td>2014</td></tr><tr><td>907</td><td>8</td><td>70</td><td>Austrian Grand Prix</td><td>2014-06-22T12:00:00.000+0000</td><td>2023-09-23T17:41:31.166+0000</td><td>2014</td></tr><tr><td>908</td><td>9</td><td>9</td><td>British Grand Prix</td><td>2014-07-06T12:00:00.000+0000</td><td>2023-09-23T17:41:31.166+0000</td><td>2014</td></tr><tr><td>909</td><td>10</td><td>10</td><td>German Grand Prix</td><td>2014-07-20T12:00:00.000+0000</td><td>2023-09-23T17:41:31.166+0000</td><td>2014</td></tr><tr><td>910</td><td>11</td><td>11</td><td>Hungarian Grand Prix</td><td>2014-07-27T12:00:00.000+0000</td><td>2023-09-23T17:41:31.166+0000</td><td>2014</td></tr><tr><td>911</td><td>12</td><td>13</td><td>Belgian Grand Prix</td><td>2014-08-24T12:00:00.000+0000</td><td>2023-09-23T17:41:31.166+0000</td><td>2014</td></tr><tr><td>912</td><td>13</td><td>14</td><td>Italian Grand Prix</td><td>2014-09-07T12:00:00.000+0000</td><td>2023-09-23T17:41:31.166+0000</td><td>2014</td></tr><tr><td>913</td><td>14</td><td>15</td><td>Singapore Grand Prix</td><td>2014-09-21T12:00:00.000+0000</td><td>2023-09-23T17:41:31.166+0000</td><td>2014</td></tr><tr><td>914</td><td>15</td><td>22</td><td>Japanese Grand Prix</td><td>2014-10-05T06:00:00.000+0000</td><td>2023-09-23T17:41:31.166+0000</td><td>2014</td></tr><tr><td>915</td><td>16</td><td>71</td><td>Russian Grand Prix</td><td>2014-10-12T11:00:00.000+0000</td><td>2023-09-23T17:41:31.166+0000</td><td>2014</td></tr><tr><td>916</td><td>17</td><td>69</td><td>United States Grand Prix</td><td>2014-11-02T20:00:00.000+0000</td><td>2023-09-23T17:41:31.166+0000</td><td>2014</td></tr><tr><td>917</td><td>18</td><td>18</td><td>Brazilian Grand Prix</td><td>2014-11-09T16:00:00.000+0000</td><td>2023-09-23T17:41:31.166+0000</td><td>2014</td></tr><tr><td>918</td><td>19</td><td>24</td><td>Abu Dhabi Grand Prix</td><td>2014-11-23T13:00:00.000+0000</td><td>2023-09-23T17:41:31.166+0000</td><td>2014</td></tr><tr><td>931</td><td>6</td><td>6</td><td>Monaco Grand Prix</td><td>2015-05-24T12:00:00.000+0000</td><td>2023-09-23T17:41:31.166+0000</td><td>2015</td></tr><tr><td>932</td><td>7</td><td>7</td><td>Canadian Grand Prix</td><td>2015-06-07T18:00:00.000+0000</td><td>2023-09-23T17:41:31.166+0000</td><td>2015</td></tr><tr><td>929</td><td>4</td><td>3</td><td>Bahrain Grand Prix</td><td>2015-04-19T15:00:00.000+0000</td><td>2023-09-23T17:41:31.166+0000</td><td>2015</td></tr><tr><td>930</td><td>5</td><td>4</td><td>Spanish Grand Prix</td><td>2015-05-10T12:00:00.000+0000</td><td>2023-09-23T17:41:31.166+0000</td><td>2015</td></tr><tr><td>928</td><td>3</td><td>17</td><td>Chinese Grand Prix</td><td>2015-04-12T06:00:00.000+0000</td><td>2023-09-23T17:41:31.166+0000</td><td>2015</td></tr><tr><td>926</td><td>1</td><td>1</td><td>Australian Grand Prix</td><td>2015-03-15T05:00:00.000+0000</td><td>2023-09-23T17:41:31.166+0000</td><td>2015</td></tr><tr><td>927</td><td>2</td><td>2</td><td>Malaysian Grand Prix</td><td>2015-03-29T07:00:00.000+0000</td><td>2023-09-23T17:41:31.166+0000</td><td>2015</td></tr><tr><td>933</td><td>8</td><td>70</td><td>Austrian Grand Prix</td><td>2015-06-21T12:00:00.000+0000</td><td>2023-09-23T17:41:31.166+0000</td><td>2015</td></tr><tr><td>934</td><td>9</td><td>9</td><td>British Grand Prix</td><td>2015-07-05T12:00:00.000+0000</td><td>2023-09-23T17:41:31.166+0000</td><td>2015</td></tr><tr><td>936</td><td>10</td><td>11</td><td>Hungarian Grand Prix</td><td>2015-07-26T12:00:00.000+0000</td><td>2023-09-23T17:41:31.166+0000</td><td>2015</td></tr><tr><td>937</td><td>11</td><td>13</td><td>Belgian Grand Prix</td><td>2015-08-23T12:00:00.000+0000</td><td>2023-09-23T17:41:31.166+0000</td><td>2015</td></tr><tr><td>938</td><td>12</td><td>14</td><td>Italian Grand Prix</td><td>2015-09-06T12:00:00.000+0000</td><td>2023-09-23T17:41:31.166+0000</td><td>2015</td></tr><tr><td>939</td><td>13</td><td>15</td><td>Singapore Grand Prix</td><td>2015-09-20T12:00:00.000+0000</td><td>2023-09-23T17:41:31.166+0000</td><td>2015</td></tr><tr><td>940</td><td>14</td><td>22</td><td>Japanese Grand Prix</td><td>2015-09-27T05:00:00.000+0000</td><td>2023-09-23T17:41:31.166+0000</td><td>2015</td></tr><tr><td>941</td><td>15</td><td>71</td><td>Russian Grand Prix</td><td>2015-10-11T11:00:00.000+0000</td><td>2023-09-23T17:41:31.166+0000</td><td>2015</td></tr><tr><td>942</td><td>16</td><td>69</td><td>United States Grand Prix</td><td>2015-10-25T19:00:00.000+0000</td><td>2023-09-23T17:41:31.166+0000</td><td>2015</td></tr><tr><td>943</td><td>17</td><td>32</td><td>Mexican Grand Prix</td><td>2015-11-01T19:00:00.000+0000</td><td>2023-09-23T17:41:31.166+0000</td><td>2015</td></tr><tr><td>944</td><td>18</td><td>18</td><td>Brazilian Grand Prix</td><td>2015-11-15T16:00:00.000+0000</td><td>2023-09-23T17:41:31.166+0000</td><td>2015</td></tr><tr><td>945</td><td>19</td><td>24</td><td>Abu Dhabi Grand Prix</td><td>2015-11-29T13:00:00.000+0000</td><td>2023-09-23T17:41:31.166+0000</td><td>2015</td></tr><tr><td>71</td><td>1</td><td>1</td><td>Australian Grand Prix</td><td>2005-03-06T14:00:00.000+0000</td><td>2023-09-23T17:41:31.166+0000</td><td>2005</td></tr><tr><td>72</td><td>2</td><td>2</td><td>Malaysian Grand Prix</td><td>2005-03-20T15:00:00.000+0000</td><td>2023-09-23T17:41:31.166+0000</td><td>2005</td></tr><tr><td>73</td><td>3</td><td>3</td><td>Bahrain Grand Prix</td><td>2005-04-03T14:30:00.000+0000</td><td>2023-09-23T17:41:31.166+0000</td><td>2005</td></tr><tr><td>74</td><td>4</td><td>21</td><td>San Marino Grand Prix</td><td>2005-04-24T14:00:00.000+0000</td><td>2023-09-23T17:41:31.166+0000</td><td>2005</td></tr><tr><td>75</td><td>5</td><td>4</td><td>Spanish Grand Prix</td><td>2005-05-08T14:00:00.000+0000</td><td>2023-09-23T17:41:31.166+0000</td><td>2005</td></tr><tr><td>76</td><td>6</td><td>6</td><td>Monaco Grand Prix</td><td>2005-05-22T14:00:00.000+0000</td><td>2023-09-23T17:41:31.166+0000</td><td>2005</td></tr><tr><td>77</td><td>7</td><td>20</td><td>European Grand Prix</td><td>2005-05-29T14:00:00.000+0000</td><td>2023-09-23T17:41:31.166+0000</td><td>2005</td></tr><tr><td>78</td><td>8</td><td>7</td><td>Canadian Grand Prix</td><td>2005-06-12T13:00:00.000+0000</td><td>2023-09-23T17:41:31.166+0000</td><td>2005</td></tr><tr><td>79</td><td>9</td><td>19</td><td>United States Grand Prix</td><td>2005-06-19T14:00:00.000+0000</td><td>2023-09-23T17:41:31.166+0000</td><td>2005</td></tr><tr><td>80</td><td>10</td><td>8</td><td>French Grand Prix</td><td>2005-07-03T14:00:00.000+0000</td><td>2023-09-23T17:41:31.166+0000</td><td>2005</td></tr><tr><td>81</td><td>11</td><td>9</td><td>British Grand Prix</td><td>2005-07-10T14:00:00.000+0000</td><td>2023-09-23T17:41:31.166+0000</td><td>2005</td></tr><tr><td>82</td><td>12</td><td>10</td><td>German Grand Prix</td><td>2005-07-24T14:00:00.000+0000</td><td>2023-09-23T17:41:31.166+0000</td><td>2005</td></tr><tr><td>83</td><td>13</td><td>11</td><td>Hungarian Grand Prix</td><td>2005-07-31T14:00:00.000+0000</td><td>2023-09-23T17:41:31.166+0000</td><td>2005</td></tr><tr><td>84</td><td>14</td><td>5</td><td>Turkish Grand Prix</td><td>2005-08-21T15:00:00.000+0000</td><td>2023-09-23T17:41:31.166+0000</td><td>2005</td></tr><tr><td>85</td><td>15</td><td>14</td><td>Italian Grand Prix</td><td>2005-09-04T14:00:00.000+0000</td><td>2023-09-23T17:41:31.166+0000</td><td>2005</td></tr><tr><td>86</td><td>16</td><td>13</td><td>Belgian Grand Prix</td><td>2005-09-11T14:00:00.000+0000</td><td>2023-09-23T17:41:31.166+0000</td><td>2005</td></tr><tr><td>87</td><td>17</td><td>18</td><td>Brazilian Grand Prix</td><td>2005-09-25T14:00:00.000+0000</td><td>2023-09-23T17:41:31.166+0000</td><td>2005</td></tr><tr><td>88</td><td>18</td><td>22</td><td>Japanese Grand Prix</td><td>2005-10-09T14:00:00.000+0000</td><td>2023-09-23T17:41:31.166+0000</td><td>2005</td></tr><tr><td>89</td><td>19</td><td>17</td><td>Chinese Grand Prix</td><td>2005-10-16T14:00:00.000+0000</td><td>2023-09-23T17:41:31.166+0000</td><td>2005</td></tr><tr><td>337</td><td>1</td><td>3</td><td>Bahrain Grand Prix</td><td>2010-03-14T12:00:00.000+0000</td><td>2023-09-23T17:41:31.166+0000</td><td>2010</td></tr><tr><td>338</td><td>2</td><td>1</td><td>Australian Grand Prix</td><td>2010-03-28T06:00:00.000+0000</td><td>2023-09-23T17:41:31.166+0000</td><td>2010</td></tr><tr><td>339</td><td>3</td><td>2</td><td>Malaysian Grand Prix</td><td>2010-04-04T08:00:00.000+0000</td><td>2023-09-23T17:41:31.166+0000</td><td>2010</td></tr><tr><td>340</td><td>4</td><td>17</td><td>Chinese Grand Prix</td><td>2010-04-18T06:00:00.000+0000</td><td>2023-09-23T17:41:31.166+0000</td><td>2010</td></tr><tr><td>341</td><td>5</td><td>4</td><td>Spanish Grand Prix</td><td>2010-05-09T12:00:00.000+0000</td><td>2023-09-23T17:41:31.166+0000</td><td>2010</td></tr><tr><td>342</td><td>6</td><td>6</td><td>Monaco Grand Prix</td><td>2010-05-16T12:00:00.000+0000</td><td>2023-09-23T17:41:31.166+0000</td><td>2010</td></tr><tr><td>343</td><td>7</td><td>5</td><td>Turkish Grand Prix</td><td>2010-05-30T11:00:00.000+0000</td><td>2023-09-23T17:41:31.166+0000</td><td>2010</td></tr><tr><td>344</td><td>8</td><td>7</td><td>Canadian Grand Prix</td><td>2010-06-13T16:00:00.000+0000</td><td>2023-09-23T17:41:31.166+0000</td><td>2010</td></tr><tr><td>345</td><td>9</td><td>12</td><td>European Grand Prix</td><td>2010-06-27T12:00:00.000+0000</td><td>2023-09-23T17:41:31.166+0000</td><td>2010</td></tr><tr><td>346</td><td>10</td><td>9</td><td>British Grand Prix</td><td>2010-07-11T12:00:00.000+0000</td><td>2023-09-23T17:41:31.166+0000</td><td>2010</td></tr><tr><td>347</td><td>11</td><td>10</td><td>German Grand Prix</td><td>2010-07-25T12:00:00.000+0000</td><td>2023-09-23T17:41:31.166+0000</td><td>2010</td></tr><tr><td>348</td><td>12</td><td>11</td><td>Hungarian Grand Prix</td><td>2010-08-01T12:00:00.000+0000</td><td>2023-09-23T17:41:31.166+0000</td><td>2010</td></tr><tr><td>349</td><td>13</td><td>13</td><td>Belgian Grand Prix</td><td>2010-08-29T12:00:00.000+0000</td><td>2023-09-23T17:41:31.166+0000</td><td>2010</td></tr><tr><td>350</td><td>14</td><td>14</td><td>Italian Grand Prix</td><td>2010-09-12T12:00:00.000+0000</td><td>2023-09-23T17:41:31.166+0000</td><td>2010</td></tr><tr><td>351</td><td>15</td><td>15</td><td>Singapore Grand Prix</td><td>2010-09-26T12:00:00.000+0000</td><td>2023-09-23T17:41:31.166+0000</td><td>2010</td></tr><tr><td>352</td><td>16</td><td>22</td><td>Japanese Grand Prix</td><td>2010-10-10T06:00:00.000+0000</td><td>2023-09-23T17:41:31.166+0000</td><td>2010</td></tr><tr><td>353</td><td>17</td><td>35</td><td>Korean Grand Prix</td><td>2010-10-24T05:00:00.000+0000</td><td>2023-09-23T17:41:31.166+0000</td><td>2010</td></tr><tr><td>354</td><td>18</td><td>18</td><td>Brazilian Grand Prix</td><td>2010-11-07T16:00:00.000+0000</td><td>2023-09-23T17:41:31.166+0000</td><td>2010</td></tr><tr><td>355</td><td>19</td><td>24</td><td>Abu Dhabi Grand Prix</td><td>2010-11-14T13:00:00.000+0000</td><td>2023-09-23T17:41:31.166+0000</td><td>2010</td></tr><tr><td>841</td><td>1</td><td>1</td><td>Australian Grand Prix</td><td>2011-03-27T06:00:00.000+0000</td><td>2023-09-23T17:41:31.166+0000</td><td>2011</td></tr><tr><td>842</td><td>2</td><td>2</td><td>Malaysian Grand Prix</td><td>2011-04-10T08:00:00.000+0000</td><td>2023-09-23T17:41:31.166+0000</td><td>2011</td></tr><tr><td>843</td><td>3</td><td>17</td><td>Chinese Grand Prix</td><td>2011-04-17T07:00:00.000+0000</td><td>2023-09-23T17:41:31.166+0000</td><td>2011</td></tr><tr><td>844</td><td>4</td><td>5</td><td>Turkish Grand Prix</td><td>2011-05-08T12:00:00.000+0000</td><td>2023-09-23T17:41:31.166+0000</td><td>2011</td></tr><tr><td>845</td><td>5</td><td>4</td><td>Spanish Grand Prix</td><td>2011-05-22T12:00:00.000+0000</td><td>2023-09-23T17:41:31.166+0000</td><td>2011</td></tr><tr><td>846</td><td>6</td><td>6</td><td>Monaco Grand Prix</td><td>2011-05-29T12:00:00.000+0000</td><td>2023-09-23T17:41:31.166+0000</td><td>2011</td></tr><tr><td>847</td><td>7</td><td>7</td><td>Canadian Grand Prix</td><td>2011-06-12T17:00:00.000+0000</td><td>2023-09-23T17:41:31.166+0000</td><td>2011</td></tr><tr><td>848</td><td>8</td><td>12</td><td>European Grand Prix</td><td>2011-06-26T12:00:00.000+0000</td><td>2023-09-23T17:41:31.166+0000</td><td>2011</td></tr><tr><td>849</td><td>9</td><td>9</td><td>British Grand Prix</td><td>2011-07-10T12:00:00.000+0000</td><td>2023-09-23T17:41:31.166+0000</td><td>2011</td></tr><tr><td>850</td><td>10</td><td>20</td><td>German Grand Prix</td><td>2011-07-24T12:00:00.000+0000</td><td>2023-09-23T17:41:31.166+0000</td><td>2011</td></tr><tr><td>851</td><td>11</td><td>11</td><td>Hungarian Grand Prix</td><td>2011-07-31T12:00:00.000+0000</td><td>2023-09-23T17:41:31.166+0000</td><td>2011</td></tr><tr><td>852</td><td>12</td><td>13</td><td>Belgian Grand Prix</td><td>2011-08-28T12:00:00.000+0000</td><td>2023-09-23T17:41:31.166+0000</td><td>2011</td></tr><tr><td>853</td><td>13</td><td>14</td><td>Italian Grand Prix</td><td>2011-09-11T12:00:00.000+0000</td><td>2023-09-23T17:41:31.166+0000</td><td>2011</td></tr><tr><td>854</td><td>14</td><td>15</td><td>Singapore Grand Prix</td><td>2011-09-25T12:00:00.000+0000</td><td>2023-09-23T17:41:31.166+0000</td><td>2011</td></tr><tr><td>855</td><td>15</td><td>22</td><td>Japanese Grand Prix</td><td>2011-10-09T06:00:00.000+0000</td><td>2023-09-23T17:41:31.166+0000</td><td>2011</td></tr><tr><td>856</td><td>16</td><td>35</td><td>Korean Grand Prix</td><td>2011-10-16T06:00:00.000+0000</td><td>2023-09-23T17:41:31.166+0000</td><td>2011</td></tr><tr><td>857</td><td>17</td><td>68</td><td>Indian Grand Prix</td><td>2011-10-30T09:30:00.000+0000</td><td>2023-09-23T17:41:31.166+0000</td><td>2011</td></tr><tr><td>858</td><td>18</td><td>24</td><td>Abu Dhabi Grand Prix</td><td>2011-11-13T13:00:00.000+0000</td><td>2023-09-23T17:41:31.166+0000</td><td>2011</td></tr><tr><td>859</td><td>19</td><td>18</td><td>Brazilian Grand Prix</td><td>2011-11-27T16:00:00.000+0000</td><td>2023-09-23T17:41:31.166+0000</td><td>2011</td></tr><tr><td>53</td><td>1</td><td>3</td><td>Bahrain Grand Prix</td><td>2006-03-12T14:30:00.000+0000</td><td>2023-09-23T17:41:31.166+0000</td><td>2006</td></tr><tr><td>54</td><td>2</td><td>2</td><td>Malaysian Grand Prix</td><td>2006-03-19T15:00:00.000+0000</td><td>2023-09-23T17:41:31.166+0000</td><td>2006</td></tr><tr><td>55</td><td>3</td><td>1</td><td>Australian Grand Prix</td><td>2006-04-02T14:00:00.000+0000</td><td>2023-09-23T17:41:31.166+0000</td><td>2006</td></tr><tr><td>56</td><td>4</td><td>21</td><td>San Marino Grand Prix</td><td>2006-04-23T14:00:00.000+0000</td><td>2023-09-23T17:41:31.166+0000</td><td>2006</td></tr><tr><td>57</td><td>5</td><td>20</td><td>European Grand Prix</td><td>2006-05-07T14:00:00.000+0000</td><td>2023-09-23T17:41:31.166+0000</td><td>2006</td></tr><tr><td>58</td><td>6</td><td>4</td><td>Spanish Grand Prix</td><td>2006-05-14T14:00:00.000+0000</td><td>2023-09-23T17:41:31.166+0000</td><td>2006</td></tr><tr><td>59</td><td>7</td><td>6</td><td>Monaco Grand Prix</td><td>2006-05-28T14:00:00.000+0000</td><td>2023-09-23T17:41:31.166+0000</td><td>2006</td></tr><tr><td>60</td><td>8</td><td>9</td><td>British Grand Prix</td><td>2006-06-11T12:00:00.000+0000</td><td>2023-09-23T17:41:31.166+0000</td><td>2006</td></tr><tr><td>61</td><td>9</td><td>7</td><td>Canadian Grand Prix</td><td>2006-06-25T13:00:00.000+0000</td><td>2023-09-23T17:41:31.166+0000</td><td>2006</td></tr><tr><td>62</td><td>10</td><td>19</td><td>United States Grand Prix</td><td>2006-07-02T14:00:00.000+0000</td><td>2023-09-23T17:41:31.166+0000</td><td>2006</td></tr><tr><td>63</td><td>11</td><td>8</td><td>French Grand Prix</td><td>2006-07-16T14:00:00.000+0000</td><td>2023-09-23T17:41:31.166+0000</td><td>2006</td></tr><tr><td>64</td><td>12</td><td>10</td><td>German Grand Prix</td><td>2006-07-30T14:00:00.000+0000</td><td>2023-09-23T17:41:31.166+0000</td><td>2006</td></tr><tr><td>65</td><td>13</td><td>11</td><td>Hungarian Grand Prix</td><td>2006-08-06T14:00:00.000+0000</td><td>2023-09-23T17:41:31.166+0000</td><td>2006</td></tr><tr><td>66</td><td>14</td><td>5</td><td>Turkish Grand Prix</td><td>2006-08-27T15:00:00.000+0000</td><td>2023-09-23T17:41:31.166+0000</td><td>2006</td></tr><tr><td>67</td><td>15</td><td>14</td><td>Italian Grand Prix</td><td>2006-09-10T14:00:00.000+0000</td><td>2023-09-23T17:41:31.166+0000</td><td>2006</td></tr><tr><td>68</td><td>16</td><td>17</td><td>Chinese Grand Prix</td><td>2006-10-01T14:00:00.000+0000</td><td>2023-09-23T17:41:31.166+0000</td><td>2006</td></tr><tr><td>69</td><td>17</td><td>22</td><td>Japanese Grand Prix</td><td>2006-10-08T14:00:00.000+0000</td><td>2023-09-23T17:41:31.166+0000</td><td>2006</td></tr><tr><td>70</td><td>18</td><td>18</td><td>Brazilian Grand Prix</td><td>2006-10-22T14:00:00.000+0000</td><td>2023-09-23T17:41:31.166+0000</td><td>2006</td></tr><tr><td>36</td><td>1</td><td>1</td><td>Australian Grand Prix</td><td>2007-03-18T03:00:00.000+0000</td><td>2023-09-23T17:41:31.166+0000</td><td>2007</td></tr><tr><td>37</td><td>2</td><td>2</td><td>Malaysian Grand Prix</td><td>2007-04-08T07:00:00.000+0000</td><td>2023-09-23T17:41:31.166+0000</td><td>2007</td></tr><tr><td>38</td><td>3</td><td>3</td><td>Bahrain Grand Prix</td><td>2007-04-15T11:30:00.000+0000</td><td>2023-09-23T17:41:31.166+0000</td><td>2007</td></tr><tr><td>39</td><td>4</td><td>4</td><td>Spanish Grand Prix</td><td>2007-05-13T12:00:00.000+0000</td><td>2023-09-23T17:41:31.166+0000</td><td>2007</td></tr><tr><td>40</td><td>5</td><td>6</td><td>Monaco Grand Prix</td><td>2007-05-27T12:00:00.000+0000</td><td>2023-09-23T17:41:31.166+0000</td><td>2007</td></tr><tr><td>41</td><td>6</td><td>7</td><td>Canadian Grand Prix</td><td>2007-06-10T17:00:00.000+0000</td><td>2023-09-23T17:41:31.166+0000</td><td>2007</td></tr><tr><td>42</td><td>7</td><td>19</td><td>United States Grand Prix</td><td>2007-06-17T17:00:00.000+0000</td><td>2023-09-23T17:41:31.166+0000</td><td>2007</td></tr><tr><td>43</td><td>8</td><td>8</td><td>French Grand Prix</td><td>2007-07-01T12:00:00.000+0000</td><td>2023-09-23T17:41:31.166+0000</td><td>2007</td></tr><tr><td>44</td><td>9</td><td>9</td><td>British Grand Prix</td><td>2007-07-08T12:00:00.000+0000</td><td>2023-09-23T17:41:31.166+0000</td><td>2007</td></tr><tr><td>45</td><td>10</td><td>20</td><td>European Grand Prix</td><td>2007-07-22T12:00:00.000+0000</td><td>2023-09-23T17:41:31.166+0000</td><td>2007</td></tr><tr><td>46</td><td>11</td><td>11</td><td>Hungarian Grand Prix</td><td>2007-08-05T12:00:00.000+0000</td><td>2023-09-23T17:41:31.166+0000</td><td>2007</td></tr><tr><td>47</td><td>12</td><td>5</td><td>Turkish Grand Prix</td><td>2007-08-26T12:00:00.000+0000</td><td>2023-09-23T17:41:31.166+0000</td><td>2007</td></tr><tr><td>48</td><td>13</td><td>14</td><td>Italian Grand Prix</td><td>2007-09-09T12:00:00.000+0000</td><td>2023-09-23T17:41:31.166+0000</td><td>2007</td></tr><tr><td>49</td><td>14</td><td>13</td><td>Belgian Grand Prix</td><td>2007-09-16T12:00:00.000+0000</td><td>2023-09-23T17:41:31.166+0000</td><td>2007</td></tr><tr><td>50</td><td>15</td><td>16</td><td>Japanese Grand Prix</td><td>2007-09-30T04:30:00.000+0000</td><td>2023-09-23T17:41:31.166+0000</td><td>2007</td></tr><tr><td>51</td><td>16</td><td>17</td><td>Chinese Grand Prix</td><td>2007-10-07T06:00:00.000+0000</td><td>2023-09-23T17:41:31.166+0000</td><td>2007</td></tr><tr><td>52</td><td>17</td><td>18</td><td>Brazilian Grand Prix</td><td>2007-10-21T16:00:00.000+0000</td><td>2023-09-23T17:41:31.166+0000</td><td>2007</td></tr><tr><td>1031</td><td>1</td><td>70</td><td>Austrian Grand Prix</td><td>2020-07-05T13:10:00.000+0000</td><td>2023-09-23T17:41:31.166+0000</td><td>2020</td></tr><tr><td>1032</td><td>2</td><td>70</td><td>Styrian Grand Prix</td><td>2020-07-12T13:10:00.000+0000</td><td>2023-09-23T17:41:31.166+0000</td><td>2020</td></tr><tr><td>1033</td><td>3</td><td>11</td><td>Hungarian Grand Prix</td><td>2020-07-19T13:10:00.000+0000</td><td>2023-09-23T17:41:31.166+0000</td><td>2020</td></tr><tr><td>1034</td><td>4</td><td>9</td><td>British Grand Prix</td><td>2020-08-02T13:10:00.000+0000</td><td>2023-09-23T17:41:31.166+0000</td><td>2020</td></tr><tr><td>1035</td><td>5</td><td>9</td><td>70th Anniversary Grand Prix</td><td>2020-08-09T13:10:00.000+0000</td><td>2023-09-23T17:41:31.166+0000</td><td>2020</td></tr><tr><td>1036</td><td>6</td><td>4</td><td>Spanish Grand Prix</td><td>2020-08-16T13:10:00.000+0000</td><td>2023-09-23T17:41:31.166+0000</td><td>2020</td></tr><tr><td>1037</td><td>7</td><td>13</td><td>Belgian Grand Prix</td><td>2020-08-30T13:10:00.000+0000</td><td>2023-09-23T17:41:31.166+0000</td><td>2020</td></tr><tr><td>1038</td><td>8</td><td>14</td><td>Italian Grand Prix</td><td>2020-09-06T13:10:00.000+0000</td><td>2023-09-23T17:41:31.166+0000</td><td>2020</td></tr><tr><td>1039</td><td>9</td><td>76</td><td>Tuscan Grand Prix</td><td>2020-09-13T13:10:00.000+0000</td><td>2023-09-23T17:41:31.166+0000</td><td>2020</td></tr><tr><td>1040</td><td>10</td><td>71</td><td>Russian Grand Prix</td><td>2020-09-27T11:10:00.000+0000</td><td>2023-09-23T17:41:31.166+0000</td><td>2020</td></tr><tr><td>1041</td><td>11</td><td>20</td><td>Eifel Grand Prix</td><td>2020-10-11T13:10:00.000+0000</td><td>2023-09-23T17:41:31.166+0000</td><td>2020</td></tr><tr><td>1042</td><td>12</td><td>75</td><td>Portuguese Grand Prix</td><td>2020-10-25T12:10:00.000+0000</td><td>2023-09-23T17:41:31.166+0000</td><td>2020</td></tr><tr><td>1043</td><td>13</td><td>21</td><td>Emilia Romagna Grand Prix</td><td>2020-11-01T12:10:00.000+0000</td><td>2023-09-23T17:41:31.166+0000</td><td>2020</td></tr><tr><td>1044</td><td>14</td><td>5</td><td>Turkish Grand Prix</td><td>2020-11-15T10:10:00.000+0000</td><td>2023-09-23T17:41:31.166+0000</td><td>2020</td></tr><tr><td>1045</td><td>15</td><td>3</td><td>Bahrain Grand Prix</td><td>2020-11-29T14:10:00.000+0000</td><td>2023-09-23T17:41:31.166+0000</td><td>2020</td></tr><tr><td>1046</td><td>16</td><td>3</td><td>Sakhir Grand Prix</td><td>2020-12-06T17:10:00.000+0000</td><td>2023-09-23T17:41:31.166+0000</td><td>2020</td></tr><tr><td>1047</td><td>17</td><td>24</td><td>Abu Dhabi Grand Prix</td><td>2020-12-13T13:10:00.000+0000</td><td>2023-09-23T17:41:31.166+0000</td><td>2020</td></tr><tr><td>18</td><td>1</td><td>1</td><td>Australian Grand Prix</td><td>2008-03-16T04:30:00.000+0000</td><td>2023-09-23T17:41:31.166+0000</td><td>2008</td></tr><tr><td>19</td><td>2</td><td>2</td><td>Malaysian Grand Prix</td><td>2008-03-23T07:00:00.000+0000</td><td>2023-09-23T17:41:31.166+0000</td><td>2008</td></tr><tr><td>20</td><td>3</td><td>3</td><td>Bahrain Grand Prix</td><td>2008-04-06T11:30:00.000+0000</td><td>2023-09-23T17:41:31.166+0000</td><td>2008</td></tr><tr><td>21</td><td>4</td><td>4</td><td>Spanish Grand Prix</td><td>2008-04-27T12:00:00.000+0000</td><td>2023-09-23T17:41:31.166+0000</td><td>2008</td></tr><tr><td>22</td><td>5</td><td>5</td><td>Turkish Grand Prix</td><td>2008-05-11T12:00:00.000+0000</td><td>2023-09-23T17:41:31.166+0000</td><td>2008</td></tr><tr><td>23</td><td>6</td><td>6</td><td>Monaco Grand Prix</td><td>2008-05-25T12:00:00.000+0000</td><td>2023-09-23T17:41:31.166+0000</td><td>2008</td></tr><tr><td>24</td><td>7</td><td>7</td><td>Canadian Grand Prix</td><td>2008-06-08T17:00:00.000+0000</td><td>2023-09-23T17:41:31.166+0000</td><td>2008</td></tr><tr><td>25</td><td>8</td><td>8</td><td>French Grand Prix</td><td>2008-06-22T12:00:00.000+0000</td><td>2023-09-23T17:41:31.166+0000</td><td>2008</td></tr><tr><td>26</td><td>9</td><td>9</td><td>British Grand Prix</td><td>2008-07-06T12:00:00.000+0000</td><td>2023-09-23T17:41:31.166+0000</td><td>2008</td></tr><tr><td>27</td><td>10</td><td>10</td><td>German Grand Prix</td><td>2008-07-20T12:00:00.000+0000</td><td>2023-09-23T17:41:31.166+0000</td><td>2008</td></tr><tr><td>28</td><td>11</td><td>11</td><td>Hungarian Grand Prix</td><td>2008-08-03T12:00:00.000+0000</td><td>2023-09-23T17:41:31.166+0000</td><td>2008</td></tr><tr><td>29</td><td>12</td><td>12</td><td>European Grand Prix</td><td>2008-08-24T12:00:00.000+0000</td><td>2023-09-23T17:41:31.166+0000</td><td>2008</td></tr><tr><td>30</td><td>13</td><td>13</td><td>Belgian Grand Prix</td><td>2008-09-07T12:00:00.000+0000</td><td>2023-09-23T17:41:31.166+0000</td><td>2008</td></tr><tr><td>31</td><td>14</td><td>14</td><td>Italian Grand Prix</td><td>2008-09-14T12:00:00.000+0000</td><td>2023-09-23T17:41:31.166+0000</td><td>2008</td></tr><tr><td>32</td><td>15</td><td>15</td><td>Singapore Grand Prix</td><td>2008-09-28T12:00:00.000+0000</td><td>2023-09-23T17:41:31.166+0000</td><td>2008</td></tr><tr><td>33</td><td>16</td><td>16</td><td>Japanese Grand Prix</td><td>2008-10-12T04:30:00.000+0000</td><td>2023-09-23T17:41:31.166+0000</td><td>2008</td></tr><tr><td>34</td><td>17</td><td>17</td><td>Chinese Grand Prix</td><td>2008-10-19T07:00:00.000+0000</td><td>2023-09-23T17:41:31.166+0000</td><td>2008</td></tr><tr><td>35</td><td>18</td><td>18</td><td>Brazilian Grand Prix</td><td>2008-11-02T17:00:00.000+0000</td><td>2023-09-23T17:41:31.166+0000</td><td>2008</td></tr><tr><td>1</td><td>1</td><td>1</td><td>Australian Grand Prix</td><td>2009-03-29T06:00:00.000+0000</td><td>2023-09-23T17:41:31.166+0000</td><td>2009</td></tr><tr><td>2</td><td>2</td><td>2</td><td>Malaysian Grand Prix</td><td>2009-04-05T09:00:00.000+0000</td><td>2023-09-23T17:41:31.166+0000</td><td>2009</td></tr><tr><td>3</td><td>3</td><td>17</td><td>Chinese Grand Prix</td><td>2009-04-19T07:00:00.000+0000</td><td>2023-09-23T17:41:31.166+0000</td><td>2009</td></tr><tr><td>4</td><td>4</td><td>3</td><td>Bahrain Grand Prix</td><td>2009-04-26T12:00:00.000+0000</td><td>2023-09-23T17:41:31.166+0000</td><td>2009</td></tr><tr><td>5</td><td>5</td><td>4</td><td>Spanish Grand Prix</td><td>2009-05-10T12:00:00.000+0000</td><td>2023-09-23T17:41:31.166+0000</td><td>2009</td></tr><tr><td>6</td><td>6</td><td>6</td><td>Monaco Grand Prix</td><td>2009-05-24T12:00:00.000+0000</td><td>2023-09-23T17:41:31.166+0000</td><td>2009</td></tr><tr><td>7</td><td>7</td><td>5</td><td>Turkish Grand Prix</td><td>2009-06-07T12:00:00.000+0000</td><td>2023-09-23T17:41:31.166+0000</td><td>2009</td></tr><tr><td>8</td><td>8</td><td>9</td><td>British Grand Prix</td><td>2009-06-21T12:00:00.000+0000</td><td>2023-09-23T17:41:31.166+0000</td><td>2009</td></tr><tr><td>9</td><td>9</td><td>20</td><td>German Grand Prix</td><td>2009-07-12T12:00:00.000+0000</td><td>2023-09-23T17:41:31.166+0000</td><td>2009</td></tr><tr><td>10</td><td>10</td><td>11</td><td>Hungarian Grand Prix</td><td>2009-07-26T12:00:00.000+0000</td><td>2023-09-23T17:41:31.166+0000</td><td>2009</td></tr><tr><td>11</td><td>11</td><td>12</td><td>European Grand Prix</td><td>2009-08-23T12:00:00.000+0000</td><td>2023-09-23T17:41:31.166+0000</td><td>2009</td></tr><tr><td>12</td><td>12</td><td>13</td><td>Belgian Grand Prix</td><td>2009-08-30T12:00:00.000+0000</td><td>2023-09-23T17:41:31.166+0000</td><td>2009</td></tr><tr><td>13</td><td>13</td><td>14</td><td>Italian Grand Prix</td><td>2009-09-13T12:00:00.000+0000</td><td>2023-09-23T17:41:31.166+0000</td><td>2009</td></tr><tr><td>14</td><td>14</td><td>15</td><td>Singapore Grand Prix</td><td>2009-09-27T12:00:00.000+0000</td><td>2023-09-23T17:41:31.166+0000</td><td>2009</td></tr><tr><td>15</td><td>15</td><td>22</td><td>Japanese Grand Prix</td><td>2009-10-04T05:00:00.000+0000</td><td>2023-09-23T17:41:31.166+0000</td><td>2009</td></tr><tr><td>16</td><td>16</td><td>18</td><td>Brazilian Grand Prix</td><td>2009-10-18T16:00:00.000+0000</td><td>2023-09-23T17:41:31.166+0000</td><td>2009</td></tr><tr><td>17</td><td>17</td><td>24</td><td>Abu Dhabi Grand Prix</td><td>2009-11-01T11:00:00.000+0000</td><td>2023-09-23T17:41:31.166+0000</td><td>2009</td></tr><tr><td>90</td><td>1</td><td>1</td><td>Australian Grand Prix</td><td>null</td><td>2023-09-23T17:41:31.166+0000</td><td>2004</td></tr><tr><td>91</td><td>2</td><td>2</td><td>Malaysian Grand Prix</td><td>null</td><td>2023-09-23T17:41:31.166+0000</td><td>2004</td></tr><tr><td>92</td><td>3</td><td>3</td><td>Bahrain Grand Prix</td><td>null</td><td>2023-09-23T17:41:31.166+0000</td><td>2004</td></tr><tr><td>93</td><td>4</td><td>21</td><td>San Marino Grand Prix</td><td>null</td><td>2023-09-23T17:41:31.166+0000</td><td>2004</td></tr><tr><td>94</td><td>5</td><td>4</td><td>Spanish Grand Prix</td><td>null</td><td>2023-09-23T17:41:31.166+0000</td><td>2004</td></tr><tr><td>95</td><td>6</td><td>6</td><td>Monaco Grand Prix</td><td>null</td><td>2023-09-23T17:41:31.166+0000</td><td>2004</td></tr><tr><td>96</td><td>7</td><td>20</td><td>European Grand Prix</td><td>null</td><td>2023-09-23T17:41:31.166+0000</td><td>2004</td></tr><tr><td>97</td><td>8</td><td>7</td><td>Canadian Grand Prix</td><td>null</td><td>2023-09-23T17:41:31.166+0000</td><td>2004</td></tr><tr><td>98</td><td>9</td><td>19</td><td>United States Grand Prix</td><td>null</td><td>2023-09-23T17:41:31.166+0000</td><td>2004</td></tr><tr><td>99</td><td>10</td><td>8</td><td>French Grand Prix</td><td>null</td><td>2023-09-23T17:41:31.166+0000</td><td>2004</td></tr><tr><td>100</td><td>11</td><td>9</td><td>British Grand Prix</td><td>null</td><td>2023-09-23T17:41:31.166+0000</td><td>2004</td></tr><tr><td>101</td><td>12</td><td>10</td><td>German Grand Prix</td><td>null</td><td>2023-09-23T17:41:31.166+0000</td><td>2004</td></tr><tr><td>102</td><td>13</td><td>11</td><td>Hungarian Grand Prix</td><td>null</td><td>2023-09-23T17:41:31.166+0000</td><td>2004</td></tr><tr><td>103</td><td>14</td><td>13</td><td>Belgian Grand Prix</td><td>null</td><td>2023-09-23T17:41:31.166+0000</td><td>2004</td></tr><tr><td>104</td><td>15</td><td>14</td><td>Italian Grand Prix</td><td>null</td><td>2023-09-23T17:41:31.166+0000</td><td>2004</td></tr><tr><td>105</td><td>16</td><td>17</td><td>Chinese Grand Prix</td><td>null</td><td>2023-09-23T17:41:31.166+0000</td><td>2004</td></tr><tr><td>106</td><td>17</td><td>22</td><td>Japanese Grand Prix</td><td>null</td><td>2023-09-23T17:41:31.166+0000</td><td>2004</td></tr><tr><td>107</td><td>18</td><td>18</td><td>Brazilian Grand Prix</td><td>null</td><td>2023-09-23T17:41:31.166+0000</td><td>2004</td></tr><tr><td>543</td><td>1</td><td>25</td><td>Argentine Grand Prix</td><td>null</td><td>2023-09-23T17:41:31.166+0000</td><td>1977</td></tr><tr><td>544</td><td>2</td><td>18</td><td>Brazilian Grand Prix</td><td>null</td><td>2023-09-23T17:41:31.166+0000</td><td>1977</td></tr><tr><td>545</td><td>3</td><td>30</td><td>South African Grand Prix</td><td>null</td><td>2023-09-23T17:41:31.166+0000</td><td>1977</td></tr><tr><td>546</td><td>4</td><td>43</td><td>United States Grand Prix West</td><td>null</td><td>2023-09-23T17:41:31.166+0000</td><td>1977</td></tr><tr><td>547</td><td>5</td><td>45</td><td>Spanish Grand Prix</td><td>null</td><td>2023-09-23T17:41:31.166+0000</td><td>1977</td></tr><tr><td>548</td><td>6</td><td>6</td><td>Monaco Grand Prix</td><td>null</td><td>2023-09-23T17:41:31.166+0000</td><td>1977</td></tr><tr><td>549</td><td>7</td><td>40</td><td>Belgian Grand Prix</td><td>null</td><td>2023-09-23T17:41:31.166+0000</td><td>1977</td></tr><tr><td>550</td><td>8</td><td>47</td><td>Swedish Grand Prix</td><td>null</td><td>2023-09-23T17:41:31.166+0000</td><td>1977</td></tr><tr><td>551</td><td>9</td><td>41</td><td>French Grand Prix</td><td>null</td><td>2023-09-23T17:41:31.166+0000</td><td>1977</td></tr><tr><td>552</td><td>10</td><td>9</td><td>British Grand Prix</td><td>null</td><td>2023-09-23T17:41:31.166+0000</td><td>1977</td></tr><tr><td>553</td><td>11</td><td>10</td><td>German Grand Prix</td><td>null</td><td>2023-09-23T17:41:31.166+0000</td><td>1977</td></tr><tr><td>554</td><td>12</td><td>23</td><td>Austrian Grand Prix</td><td>null</td><td>2023-09-23T17:41:31.166+0000</td><td>1977</td></tr><tr><td>555</td><td>13</td><td>39</td><td>Dutch Grand Prix</td><td>null</td><td>2023-09-23T17:41:31.166+0000</td><td>1977</td></tr><tr><td>556</td><td>14</td><td>14</td><td>Italian Grand Prix</td><td>null</td><td>2023-09-23T17:41:31.166+0000</td><td>1977</td></tr><tr><td>557</td><td>15</td><td>46</td><td>United States Grand Prix</td><td>null</td><td>2023-09-23T17:41:31.166+0000</td><td>1977</td></tr><tr><td>558</td><td>16</td><td>48</td><td>Canadian Grand Prix</td><td>null</td><td>2023-09-23T17:41:31.166+0000</td><td>1977</td></tr><tr><td>559</td><td>17</td><td>16</td><td>Japanese Grand Prix</td><td>null</td><td>2023-09-23T17:41:31.166+0000</td><td>1977</td></tr><tr><td>467</td><td>1</td><td>30</td><td>South African Grand Prix</td><td>null</td><td>2023-09-23T17:41:31.166+0000</td><td>1982</td></tr><tr><td>468</td><td>2</td><td>36</td><td>Brazilian Grand Prix</td><td>null</td><td>2023-09-23T17:41:31.166+0000</td><td>1982</td></tr><tr><td>469</td><td>3</td><td>43</td><td>United States Grand Prix West</td><td>null</td><td>2023-09-23T17:41:31.166+0000</td><td>1982</td></tr><tr><td>470</td><td>4</td><td>21</td><td>San Marino Grand Prix</td><td>null</td><td>2023-09-23T17:41:31.166+0000</td><td>1982</td></tr><tr><td>471</td><td>5</td><td>40</td><td>Belgian Grand Prix</td><td>null</td><td>2023-09-23T17:41:31.166+0000</td><td>1982</td></tr><tr><td>472</td><td>6</td><td>6</td><td>Monaco Grand Prix</td><td>null</td><td>2023-09-23T17:41:31.166+0000</td><td>1982</td></tr><tr><td>473</td><td>7</td><td>37</td><td>Detroit Grand Prix</td><td>null</td><td>2023-09-23T17:41:31.166+0000</td><td>1982</td></tr><tr><td>474</td><td>8</td><td>7</td><td>Canadian Grand Prix</td><td>null</td><td>2023-09-23T17:41:31.166+0000</td><td>1982</td></tr><tr><td>475</td><td>9</td><td>39</td><td>Dutch Grand Prix</td><td>null</td><td>2023-09-23T17:41:31.166+0000</td><td>1982</td></tr><tr><td>476</td><td>10</td><td>38</td><td>British Grand Prix</td><td>null</td><td>2023-09-23T17:41:31.166+0000</td><td>1982</td></tr><tr><td>477</td><td>11</td><td>34</td><td>French Grand Prix</td><td>null</td><td>2023-09-23T17:41:31.166+0000</td><td>1982</td></tr><tr><td>478</td><td>12</td><td>10</td><td>German Grand Prix</td><td>null</td><td>2023-09-23T17:41:31.166+0000</td><td>1982</td></tr><tr><td>479</td><td>13</td><td>23</td><td>Austrian Grand Prix</td><td>null</td><td>2023-09-23T17:41:31.166+0000</td><td>1982</td></tr><tr><td>480</td><td>14</td><td>41</td><td>Swiss Grand Prix</td><td>null</td><td>2023-09-23T17:41:31.166+0000</td><td>1982</td></tr><tr><td>481</td><td>15</td><td>14</td><td>Italian Grand Prix</td><td>null</td><td>2023-09-23T17:41:31.166+0000</td><td>1982</td></tr><tr><td>482</td><td>16</td><td>44</td><td>Caesars Palace Grand Prix</td><td>null</td><td>2023-09-23T17:41:31.166+0000</td><td>1982</td></tr><tr><td>158</td><td>1</td><td>1</td><td>Australian Grand Prix</td><td>null</td><td>2023-09-23T17:41:31.166+0000</td><td>2000</td></tr><tr><td>159</td><td>2</td><td>18</td><td>Brazilian Grand Prix</td><td>null</td><td>2023-09-23T17:41:31.166+0000</td><td>2000</td></tr><tr><td>160</td><td>3</td><td>21</td><td>San Marino Grand Prix</td><td>null</td><td>2023-09-23T17:41:31.166+0000</td><td>2000</td></tr><tr><td>161</td><td>4</td><td>9</td><td>British Grand Prix</td><td>null</td><td>2023-09-23T17:41:31.166+0000</td><td>2000</td></tr><tr><td>162</td><td>5</td><td>4</td><td>Spanish Grand Prix</td><td>null</td><td>2023-09-23T17:41:31.166+0000</td><td>2000</td></tr><tr><td>163</td><td>6</td><td>20</td><td>European Grand Prix</td><td>null</td><td>2023-09-23T17:41:31.166+0000</td><td>2000</td></tr><tr><td>164</td><td>7</td><td>6</td><td>Monaco Grand Prix</td><td>null</td><td>2023-09-23T17:41:31.166+0000</td><td>2000</td></tr><tr><td>165</td><td>8</td><td>7</td><td>Canadian Grand Prix</td><td>null</td><td>2023-09-23T17:41:31.166+0000</td><td>2000</td></tr><tr><td>166</td><td>9</td><td>8</td><td>French Grand Prix</td><td>null</td><td>2023-09-23T17:41:31.166+0000</td><td>2000</td></tr><tr><td>167</td><td>10</td><td>23</td><td>Austrian Grand Prix</td><td>null</td><td>2023-09-23T17:41:31.166+0000</td><td>2000</td></tr><tr><td>168</td><td>11</td><td>10</td><td>German Grand Prix</td><td>null</td><td>2023-09-23T17:41:31.166+0000</td><td>2000</td></tr><tr><td>169</td><td>12</td><td>11</td><td>Hungarian Grand Prix</td><td>null</td><td>2023-09-23T17:41:31.166+0000</td><td>2000</td></tr><tr><td>170</td><td>13</td><td>13</td><td>Belgian Grand Prix</td><td>null</td><td>2023-09-23T17:41:31.166+0000</td><td>2000</td></tr><tr><td>171</td><td>14</td><td>14</td><td>Italian Grand Prix</td><td>null</td><td>2023-09-23T17:41:31.166+0000</td><td>2000</td></tr><tr><td>172</td><td>15</td><td>19</td><td>United States Grand Prix</td><td>null</td><td>2023-09-23T17:41:31.166+0000</td><td>2000</td></tr><tr><td>173</td><td>16</td><td>22</td><td>Japanese Grand Prix</td><td>null</td><td>2023-09-23T17:41:31.166+0000</td><td>2000</td></tr><tr><td>174</td><td>17</td><td>2</td><td>Malaysian Grand Prix</td><td>null</td><td>2023-09-23T17:41:31.166+0000</td><td>2000</td></tr><tr><td>141</td><td>1</td><td>1</td><td>Australian Grand Prix</td><td>null</td><td>2023-09-23T17:41:31.166+0000</td><td>2001</td></tr><tr><td>142</td><td>2</td><td>2</td><td>Malaysian Grand Prix</td><td>null</td><td>2023-09-23T17:41:31.166+0000</td><td>2001</td></tr><tr><td>143</td><td>3</td><td>18</td><td>Brazilian Grand Prix</td><td>null</td><td>2023-09-23T17:41:31.166+0000</td><td>2001</td></tr><tr><td>144</td><td>4</td><td>21</td><td>San Marino Grand Prix</td><td>null</td><td>2023-09-23T17:41:31.166+0000</td><td>2001</td></tr><tr><td>145</td><td>5</td><td>4</td><td>Spanish Grand Prix</td><td>null</td><td>2023-09-23T17:41:31.166+0000</td><td>2001</td></tr><tr><td>146</td><td>6</td><td>23</td><td>Austrian Grand Prix</td><td>null</td><td>2023-09-23T17:41:31.166+0000</td><td>2001</td></tr><tr><td>147</td><td>7</td><td>6</td><td>Monaco Grand Prix</td><td>null</td><td>2023-09-23T17:41:31.166+0000</td><td>2001</td></tr><tr><td>148</td><td>8</td><td>7</td><td>Canadian Grand Prix</td><td>null</td><td>2023-09-23T17:41:31.166+0000</td><td>2001</td></tr><tr><td>149</td><td>9</td><td>20</td><td>European Grand Prix</td><td>null</td><td>2023-09-23T17:41:31.166+0000</td><td>2001</td></tr><tr><td>150</td><td>10</td><td>8</td><td>French Grand Prix</td><td>null</td><td>2023-09-23T17:41:31.166+0000</td><td>2001</td></tr><tr><td>151</td><td>11</td><td>9</td><td>British Grand Prix</td><td>null</td><td>2023-09-23T17:41:31.166+0000</td><td>2001</td></tr><tr><td>152</td><td>12</td><td>10</td><td>German Grand Prix</td><td>null</td><td>2023-09-23T17:41:31.166+0000</td><td>2001</td></tr><tr><td>153</td><td>13</td><td>11</td><td>Hungarian Grand Prix</td><td>null</td><td>2023-09-23T17:41:31.166+0000</td><td>2001</td></tr><tr><td>154</td><td>14</td><td>13</td><td>Belgian Grand Prix</td><td>null</td><td>2023-09-23T17:41:31.166+0000</td><td>2001</td></tr><tr><td>155</td><td>15</td><td>14</td><td>Italian Grand Prix</td><td>null</td><td>2023-09-23T17:41:31.166+0000</td><td>2001</td></tr><tr><td>156</td><td>16</td><td>19</td><td>United States Grand Prix</td><td>null</td><td>2023-09-23T17:41:31.166+0000</td><td>2001</td></tr><tr><td>157</td><td>17</td><td>22</td><td>Japanese Grand Prix</td><td>null</td><td>2023-09-23T17:41:31.166+0000</td><td>2001</td></tr><tr><td>124</td><td>1</td><td>1</td><td>Australian Grand Prix</td><td>null</td><td>2023-09-23T17:41:31.166+0000</td><td>2002</td></tr><tr><td>125</td><td>2</td><td>2</td><td>Malaysian Grand Prix</td><td>null</td><td>2023-09-23T17:41:31.166+0000</td><td>2002</td></tr><tr><td>126</td><td>3</td><td>18</td><td>Brazilian Grand Prix</td><td>null</td><td>2023-09-23T17:41:31.166+0000</td><td>2002</td></tr><tr><td>127</td><td>4</td><td>21</td><td>San Marino Grand Prix</td><td>null</td><td>2023-09-23T17:41:31.166+0000</td><td>2002</td></tr><tr><td>128</td><td>5</td><td>4</td><td>Spanish Grand Prix</td><td>null</td><td>2023-09-23T17:41:31.166+0000</td><td>2002</td></tr><tr><td>129</td><td>6</td><td>23</td><td>Austrian Grand Prix</td><td>null</td><td>2023-09-23T17:41:31.166+0000</td><td>2002</td></tr><tr><td>130</td><td>7</td><td>6</td><td>Monaco Grand Prix</td><td>null</td><td>2023-09-23T17:41:31.166+0000</td><td>2002</td></tr><tr><td>131</td><td>8</td><td>7</td><td>Canadian Grand Prix</td><td>null</td><td>2023-09-23T17:41:31.166+0000</td><td>2002</td></tr><tr><td>132</td><td>9</td><td>20</td><td>European Grand Prix</td><td>null</td><td>2023-09-23T17:41:31.166+0000</td><td>2002</td></tr><tr><td>133</td><td>10</td><td>9</td><td>British Grand Prix</td><td>null</td><td>2023-09-23T17:41:31.166+0000</td><td>2002</td></tr><tr><td>134</td><td>11</td><td>8</td><td>French Grand Prix</td><td>null</td><td>2023-09-23T17:41:31.166+0000</td><td>2002</td></tr><tr><td>135</td><td>12</td><td>10</td><td>German Grand Prix</td><td>null</td><td>2023-09-23T17:41:31.166+0000</td><td>2002</td></tr><tr><td>136</td><td>13</td><td>11</td><td>Hungarian Grand Prix</td><td>null</td><td>2023-09-23T17:41:31.166+0000</td><td>2002</td></tr><tr><td>137</td><td>14</td><td>13</td><td>Belgian Grand Prix</td><td>null</td><td>2023-09-23T17:41:31.166+0000</td><td>2002</td></tr><tr><td>138</td><td>15</td><td>14</td><td>Italian Grand Prix</td><td>null</td><td>2023-09-23T17:41:31.166+0000</td><td>2002</td></tr><tr><td>139</td><td>16</td><td>19</td><td>United States Grand Prix</td><td>null</td><td>2023-09-23T17:41:31.166+0000</td><td>2002</td></tr><tr><td>140</td><td>17</td><td>22</td><td>Japanese Grand Prix</td><td>null</td><td>2023-09-23T17:41:31.166+0000</td><td>2002</td></tr><tr><td>527</td><td>1</td><td>25</td><td>Argentine Grand Prix</td><td>null</td><td>2023-09-23T17:41:31.166+0000</td><td>1978</td></tr><tr><td>528</td><td>2</td><td>36</td><td>Brazilian Grand Prix</td><td>null</td><td>2023-09-23T17:41:31.166+0000</td><td>1978</td></tr><tr><td>529</td><td>3</td><td>30</td><td>South African Grand Prix</td><td>null</td><td>2023-09-23T17:41:31.166+0000</td><td>1978</td></tr><tr><td>530</td><td>4</td><td>43</td><td>United States Grand Prix West</td><td>null</td><td>2023-09-23T17:41:31.166+0000</td><td>1978</td></tr><tr><td>531</td><td>5</td><td>6</td><td>Monaco Grand Prix</td><td>null</td><td>2023-09-23T17:41:31.166+0000</td><td>1978</td></tr><tr><td>532</td><td>6</td><td>40</td><td>Belgian Grand Prix</td><td>null</td><td>2023-09-23T17:41:31.166+0000</td><td>1978</td></tr><tr><td>533</td><td>7</td><td>45</td><td>Spanish Grand Prix</td><td>null</td><td>2023-09-23T17:41:31.166+0000</td><td>1978</td></tr><tr><td>534</td><td>8</td><td>47</td><td>Swedish Grand Prix</td><td>null</td><td>2023-09-23T17:41:31.166+0000</td><td>1978</td></tr><tr><td>535</td><td>9</td><td>34</td><td>French Grand Prix</td><td>null</td><td>2023-09-23T17:41:31.166+0000</td><td>1978</td></tr><tr><td>536</td><td>10</td><td>38</td><td>British Grand Prix</td><td>null</td><td>2023-09-23T17:41:31.166+0000</td><td>1978</td></tr><tr><td>537</td><td>11</td><td>10</td><td>German Grand Prix</td><td>null</td><td>2023-09-23T17:41:31.166+0000</td><td>1978</td></tr><tr><td>538</td><td>12</td><td>23</td><td>Austrian Grand Prix</td><td>null</td><td>2023-09-23T17:41:31.166+0000</td><td>1978</td></tr><tr><td>539</td><td>13</td><td>39</td><td>Dutch Grand Prix</td><td>null</td><td>2023-09-23T17:41:31.166+0000</td><td>1978</td></tr><tr><td>540</td><td>14</td><td>14</td><td>Italian Grand Prix</td><td>null</td><td>2023-09-23T17:41:31.166+0000</td><td>1978</td></tr><tr><td>541</td><td>15</td><td>46</td><td>United States Grand Prix</td><td>null</td><td>2023-09-23T17:41:31.166+0000</td><td>1978</td></tr><tr><td>542</td><td>16</td><td>7</td><td>Canadian Grand Prix</td><td>null</td><td>2023-09-23T17:41:31.166+0000</td><td>1978</td></tr><tr><td>207</td><td>1</td><td>1</td><td>Australian Grand Prix</td><td>null</td><td>2023-09-23T17:41:31.166+0000</td><td>1997</td></tr><tr><td>208</td><td>2</td><td>18</td><td>Brazilian Grand Prix</td><td>null</td><td>2023-09-23T17:41:31.166+0000</td><td>1997</td></tr><tr><td>209</td><td>3</td><td>25</td><td>Argentine Grand Prix</td><td>null</td><td>2023-09-23T17:41:31.166+0000</td><td>1997</td></tr><tr><td>210</td><td>4</td><td>21</td><td>San Marino Grand Prix</td><td>null</td><td>2023-09-23T17:41:31.166+0000</td><td>1997</td></tr><tr><td>211</td><td>5</td><td>6</td><td>Monaco Grand Prix</td><td>null</td><td>2023-09-23T17:41:31.166+0000</td><td>1997</td></tr><tr><td>212</td><td>6</td><td>4</td><td>Spanish Grand Prix</td><td>null</td><td>2023-09-23T17:41:31.166+0000</td><td>1997</td></tr><tr><td>213</td><td>7</td><td>7</td><td>Canadian Grand Prix</td><td>null</td><td>2023-09-23T17:41:31.166+0000</td><td>1997</td></tr><tr><td>214</td><td>8</td><td>8</td><td>French Grand Prix</td><td>null</td><td>2023-09-23T17:41:31.166+0000</td><td>1997</td></tr><tr><td>215</td><td>9</td><td>9</td><td>British Grand Prix</td><td>null</td><td>2023-09-23T17:41:31.166+0000</td><td>1997</td></tr><tr><td>216</td><td>10</td><td>10</td><td>German Grand Prix</td><td>null</td><td>2023-09-23T17:41:31.166+0000</td><td>1997</td></tr><tr><td>217</td><td>11</td><td>11</td><td>Hungarian Grand Prix</td><td>null</td><td>2023-09-23T17:41:31.166+0000</td><td>1997</td></tr><tr><td>218</td><td>12</td><td>13</td><td>Belgian Grand Prix</td><td>null</td><td>2023-09-23T17:41:31.166+0000</td><td>1997</td></tr><tr><td>219</td><td>13</td><td>14</td><td>Italian Grand Prix</td><td>null</td><td>2023-09-23T17:41:31.166+0000</td><td>1997</td></tr><tr><td>220</td><td>14</td><td>23</td><td>Austrian Grand Prix</td><td>null</td><td>2023-09-23T17:41:31.166+0000</td><td>1997</td></tr><tr><td>221</td><td>15</td><td>20</td><td>Luxembourg Grand Prix</td><td>null</td><td>2023-09-23T17:41:31.166+0000</td><td>1997</td></tr><tr><td>222</td><td>16</td><td>22</td><td>Japanese Grand Prix</td><td>null</td><td>2023-09-23T17:41:31.166+0000</td><td>1997</td></tr><tr><td>223</td><td>17</td><td>26</td><td>European Grand Prix</td><td>null</td><td>2023-09-23T17:41:31.166+0000</td><td>1997</td></tr><tr><td>483</td><td>1</td><td>43</td><td>United States Grand Prix West</td><td>null</td><td>2023-09-23T17:41:31.166+0000</td><td>1981</td></tr><tr><td>484</td><td>2</td><td>36</td><td>Brazilian Grand Prix</td><td>null</td><td>2023-09-23T17:41:31.166+0000</td><td>1981</td></tr><tr><td>485</td><td>3</td><td>25</td><td>Argentine Grand Prix</td><td>null</td><td>2023-09-23T17:41:31.166+0000</td><td>1981</td></tr><tr><td>486</td><td>4</td><td>21</td><td>San Marino Grand Prix</td><td>null</td><td>2023-09-23T17:41:31.166+0000</td><td>1981</td></tr><tr><td>487</td><td>5</td><td>40</td><td>Belgian Grand Prix</td><td>null</td><td>2023-09-23T17:41:31.166+0000</td><td>1981</td></tr><tr><td>488</td><td>6</td><td>6</td><td>Monaco Grand Prix</td><td>null</td><td>2023-09-23T17:41:31.166+0000</td><td>1981</td></tr><tr><td>489</td><td>7</td><td>45</td><td>Spanish Grand Prix</td><td>null</td><td>2023-09-23T17:41:31.166+0000</td><td>1981</td></tr><tr><td>490</td><td>8</td><td>41</td><td>French Grand Prix</td><td>null</td><td>2023-09-23T17:41:31.166+0000</td><td>1981</td></tr><tr><td>491</td><td>9</td><td>9</td><td>British Grand Prix</td><td>null</td><td>2023-09-23T17:41:31.166+0000</td><td>1981</td></tr><tr><td>492</td><td>10</td><td>10</td><td>German Grand Prix</td><td>null</td><td>2023-09-23T17:41:31.166+0000</td><td>1981</td></tr><tr><td>493</td><td>11</td><td>23</td><td>Austrian Grand Prix</td><td>null</td><td>2023-09-23T17:41:31.166+0000</td><td>1981</td></tr><tr><td>494</td><td>12</td><td>39</td><td>Dutch Grand Prix</td><td>null</td><td>2023-09-23T17:41:31.166+0000</td><td>1981</td></tr><tr><td>495</td><td>13</td><td>14</td><td>Italian Grand Prix</td><td>null</td><td>2023-09-23T17:41:31.166+0000</td><td>1981</td></tr><tr><td>496</td><td>14</td><td>7</td><td>Canadian Grand Prix</td><td>null</td><td>2023-09-23T17:41:31.166+0000</td><td>1981</td></tr><tr><td>497</td><td>15</td><td>44</td><td>Caesars Palace Grand Prix</td><td>null</td><td>2023-09-23T17:41:31.166+0000</td><td>1981</td></tr><tr><td>436</td><td>1</td><td>36</td><td>Brazilian Grand Prix</td><td>null</td><td>2023-09-23T17:41:31.166+0000</td><td>1984</td></tr><tr><td>437</td><td>2</td><td>30</td><td>South African Grand Prix</td><td>null</td><td>2023-09-23T17:41:31.166+0000</td><td>1984</td></tr><tr><td>438</td><td>3</td><td>40</td><td>Belgian Grand Prix</td><td>null</td><td>2023-09-23T17:41:31.166+0000</td><td>1984</td></tr><tr><td>439</td><td>4</td><td>21</td><td>San Marino Grand Prix</td><td>null</td><td>2023-09-23T17:41:31.166+0000</td><td>1984</td></tr><tr><td>440</td><td>5</td><td>41</td><td>French Grand Prix</td><td>null</td><td>2023-09-23T17:41:31.166+0000</td><td>1984</td></tr><tr><td>441</td><td>6</td><td>6</td><td>Monaco Grand Prix</td><td>null</td><td>2023-09-23T17:41:31.166+0000</td><td>1984</td></tr><tr><td>442</td><td>7</td><td>7</td><td>Canadian Grand Prix</td><td>null</td><td>2023-09-23T17:41:31.166+0000</td><td>1984</td></tr><tr><td>443</td><td>8</td><td>37</td><td>Detroit Grand Prix</td><td>null</td><td>2023-09-23T17:41:31.166+0000</td><td>1984</td></tr><tr><td>444</td><td>9</td><td>42</td><td>Dallas Grand Prix</td><td>null</td><td>2023-09-23T17:41:31.166+0000</td><td>1984</td></tr><tr><td>445</td><td>10</td><td>38</td><td>British Grand Prix</td><td>null</td><td>2023-09-23T17:41:31.166+0000</td><td>1984</td></tr><tr><td>446</td><td>11</td><td>10</td><td>German Grand Prix</td><td>null</td><td>2023-09-23T17:41:31.166+0000</td><td>1984</td></tr><tr><td>447</td><td>12</td><td>23</td><td>Austrian Grand Prix</td><td>null</td><td>2023-09-23T17:41:31.166+0000</td><td>1984</td></tr><tr><td>448</td><td>13</td><td>39</td><td>Dutch Grand Prix</td><td>null</td><td>2023-09-23T17:41:31.166+0000</td><td>1984</td></tr><tr><td>449</td><td>14</td><td>14</td><td>Italian Grand Prix</td><td>null</td><td>2023-09-23T17:41:31.166+0000</td><td>1984</td></tr><tr><td>450</td><td>15</td><td>20</td><td>European Grand Prix</td><td>null</td><td>2023-09-23T17:41:31.166+0000</td><td>1984</td></tr><tr><td>451</td><td>16</td><td>27</td><td>Portuguese Grand Prix</td><td>null</td><td>2023-09-23T17:41:31.166+0000</td><td>1984</td></tr><tr><td>452</td><td>1</td><td>36</td><td>Brazilian Grand Prix</td><td>null</td><td>2023-09-23T17:41:31.166+0000</td><td>1983</td></tr><tr><td>453</td><td>2</td><td>43</td><td>United States Grand Prix West</td><td>null</td><td>2023-09-23T17:41:31.166+0000</td><td>1983</td></tr><tr><td>454</td><td>3</td><td>34</td><td>French Grand Prix</td><td>null</td><td>2023-09-23T17:41:31.166+0000</td><td>1983</td></tr><tr><td>455</td><td>4</td><td>21</td><td>San Marino Grand Prix</td><td>null</td><td>2023-09-23T17:41:31.166+0000</td><td>1983</td></tr><tr><td>456</td><td>5</td><td>6</td><td>Monaco Grand Prix</td><td>null</td><td>2023-09-23T17:41:31.166+0000</td><td>1983</td></tr><tr><td>457</td><td>6</td><td>13</td><td>Belgian Grand Prix</td><td>null</td><td>2023-09-23T17:41:31.166+0000</td><td>1983</td></tr><tr><td>458</td><td>7</td><td>37</td><td>Detroit Grand Prix</td><td>null</td><td>2023-09-23T17:41:31.166+0000</td><td>1983</td></tr><tr><td>459</td><td>8</td><td>7</td><td>Canadian Grand Prix</td><td>null</td><td>2023-09-23T17:41:31.166+0000</td><td>1983</td></tr><tr><td>460</td><td>9</td><td>9</td><td>British Grand Prix</td><td>null</td><td>2023-09-23T17:41:31.166+0000</td><td>1983</td></tr><tr><td>461</td><td>10</td><td>10</td><td>German Grand Prix</td><td>null</td><td>2023-09-23T17:41:31.166+0000</td><td>1983</td></tr><tr><td>462</td><td>11</td><td>23</td><td>Austrian Grand Prix</td><td>null</td><td>2023-09-23T17:41:31.166+0000</td><td>1983</td></tr><tr><td>463</td><td>12</td><td>39</td><td>Dutch Grand Prix</td><td>null</td><td>2023-09-23T17:41:31.166+0000</td><td>1983</td></tr><tr><td>464</td><td>13</td><td>14</td><td>Italian Grand Prix</td><td>null</td><td>2023-09-23T17:41:31.166+0000</td><td>1983</td></tr><tr><td>465</td><td>14</td><td>38</td><td>European Grand Prix</td><td>null</td><td>2023-09-23T17:41:31.166+0000</td><td>1983</td></tr><tr><td>466</td><td>15</td><td>30</td><td>South African Grand Prix</td><td>null</td><td>2023-09-23T17:41:31.166+0000</td><td>1983</td></tr><tr><td>560</td><td>1</td><td>18</td><td>Brazilian Grand Prix</td><td>null</td><td>2023-09-23T17:41:31.166+0000</td><td>1976</td></tr><tr><td>561</td><td>2</td><td>30</td><td>South African Grand Prix</td><td>null</td><td>2023-09-23T17:41:31.166+0000</td><td>1976</td></tr><tr><td>562</td><td>3</td><td>43</td><td>United States Grand Prix West</td><td>null</td><td>2023-09-23T17:41:31.166+0000</td><td>1976</td></tr><tr><td>563</td><td>4</td><td>45</td><td>Spanish Grand Prix</td><td>null</td><td>2023-09-23T17:41:31.166+0000</td><td>1976</td></tr><tr><td>564</td><td>5</td><td>40</td><td>Belgian Grand Prix</td><td>null</td><td>2023-09-23T17:41:31.166+0000</td><td>1976</td></tr><tr><td>565</td><td>6</td><td>6</td><td>Monaco Grand Prix</td><td>null</td><td>2023-09-23T17:41:31.166+0000</td><td>1976</td></tr><tr><td>566</td><td>7</td><td>47</td><td>Swedish Grand Prix</td><td>null</td><td>2023-09-23T17:41:31.166+0000</td><td>1976</td></tr><tr><td>567</td><td>8</td><td>34</td><td>French Grand Prix</td><td>null</td><td>2023-09-23T17:41:31.166+0000</td><td>1976</td></tr><tr><td>568</td><td>9</td><td>38</td><td>British Grand Prix</td><td>null</td><td>2023-09-23T17:41:31.166+0000</td><td>1976</td></tr><tr><td>569</td><td>10</td><td>20</td><td>German Grand Prix</td><td>null</td><td>2023-09-23T17:41:31.166+0000</td><td>1976</td></tr><tr><td>570</td><td>11</td><td>23</td><td>Austrian Grand Prix</td><td>null</td><td>2023-09-23T17:41:31.166+0000</td><td>1976</td></tr><tr><td>571</td><td>12</td><td>39</td><td>Dutch Grand Prix</td><td>null</td><td>2023-09-23T17:41:31.166+0000</td><td>1976</td></tr><tr><td>572</td><td>13</td><td>14</td><td>Italian Grand Prix</td><td>null</td><td>2023-09-23T17:41:31.166+0000</td><td>1976</td></tr><tr><td>573</td><td>14</td><td>48</td><td>Canadian Grand Prix</td><td>null</td><td>2023-09-23T17:41:31.166+0000</td><td>1976</td></tr><tr><td>574</td><td>15</td><td>46</td><td>United States Grand Prix</td><td>null</td><td>2023-09-23T17:41:31.166+0000</td><td>1976</td></tr><tr><td>575</td><td>16</td><td>16</td><td>Japanese Grand Prix</td><td>null</td><td>2023-09-23T17:41:31.166+0000</td><td>1976</td></tr><tr><td>240</td><td>1</td><td>18</td><td>Brazilian Grand Prix</td><td>null</td><td>2023-09-23T17:41:31.166+0000</td><td>1995</td></tr><tr><td>241</td><td>2</td><td>25</td><td>Argentine Grand Prix</td><td>null</td><td>2023-09-23T17:41:31.166+0000</td><td>1995</td></tr><tr><td>242</td><td>3</td><td>21</td><td>San Marino Grand Prix</td><td>null</td><td>2023-09-23T17:41:31.166+0000</td><td>1995</td></tr><tr><td>243</td><td>4</td><td>4</td><td>Spanish Grand Prix</td><td>null</td><td>2023-09-23T17:41:31.166+0000</td><td>1995</td></tr><tr><td>244</td><td>5</td><td>6</td><td>Monaco Grand Prix</td><td>null</td><td>2023-09-23T17:41:31.166+0000</td><td>1995</td></tr><tr><td>245</td><td>6</td><td>7</td><td>Canadian Grand Prix</td><td>null</td><td>2023-09-23T17:41:31.166+0000</td><td>1995</td></tr><tr><td>246</td><td>7</td><td>8</td><td>French Grand Prix</td><td>null</td><td>2023-09-23T17:41:31.166+0000</td><td>1995</td></tr><tr><td>247</td><td>8</td><td>9</td><td>British Grand Prix</td><td>null</td><td>2023-09-23T17:41:31.166+0000</td><td>1995</td></tr><tr><td>248</td><td>9</td><td>10</td><td>German Grand Prix</td><td>null</td><td>2023-09-23T17:41:31.166+0000</td><td>1995</td></tr><tr><td>249</td><td>10</td><td>11</td><td>Hungarian Grand Prix</td><td>null</td><td>2023-09-23T17:41:31.166+0000</td><td>1995</td></tr><tr><td>250</td><td>11</td><td>13</td><td>Belgian Grand Prix</td><td>null</td><td>2023-09-23T17:41:31.166+0000</td><td>1995</td></tr><tr><td>251</td><td>12</td><td>14</td><td>Italian Grand Prix</td><td>null</td><td>2023-09-23T17:41:31.166+0000</td><td>1995</td></tr><tr><td>252</td><td>13</td><td>27</td><td>Portuguese Grand Prix</td><td>null</td><td>2023-09-23T17:41:31.166+0000</td><td>1995</td></tr><tr><td>253</td><td>14</td><td>20</td><td>European Grand Prix</td><td>null</td><td>2023-09-23T17:41:31.166+0000</td><td>1995</td></tr><tr><td>254</td><td>15</td><td>28</td><td>Pacific Grand Prix</td><td>null</td><td>2023-09-23T17:41:31.166+0000</td><td>1995</td></tr><tr><td>255</td><td>16</td><td>22</td><td>Japanese Grand Prix</td><td>null</td><td>2023-09-23T17:41:31.166+0000</td><td>1995</td></tr><tr><td>256</td><td>17</td><td>29</td><td>Australian Grand Prix</td><td>null</td><td>2023-09-23T17:41:31.166+0000</td><td>1995</td></tr><tr><td>108</td><td>1</td><td>1</td><td>Australian Grand Prix</td><td>null</td><td>2023-09-23T17:41:31.166+0000</td><td>2003</td></tr><tr><td>109</td><td>2</td><td>2</td><td>Malaysian Grand Prix</td><td>null</td><td>2023-09-23T17:41:31.166+0000</td><td>2003</td></tr><tr><td>110</td><td>3</td><td>18</td><td>Brazilian Grand Prix</td><td>null</td><td>2023-09-23T17:41:31.166+0000</td><td>2003</td></tr><tr><td>111</td><td>4</td><td>21</td><td>San Marino Grand Prix</td><td>null</td><td>2023-09-23T17:41:31.166+0000</td><td>2003</td></tr><tr><td>112</td><td>5</td><td>4</td><td>Spanish Grand Prix</td><td>null</td><td>2023-09-23T17:41:31.166+0000</td><td>2003</td></tr><tr><td>113</td><td>6</td><td>23</td><td>Austrian Grand Prix</td><td>null</td><td>2023-09-23T17:41:31.166+0000</td><td>2003</td></tr><tr><td>114</td><td>7</td><td>6</td><td>Monaco Grand Prix</td><td>null</td><td>2023-09-23T17:41:31.166+0000</td><td>2003</td></tr><tr><td>115</td><td>8</td><td>7</td><td>Canadian Grand Prix</td><td>null</td><td>2023-09-23T17:41:31.166+0000</td><td>2003</td></tr><tr><td>116</td><td>9</td><td>20</td><td>European Grand Prix</td><td>null</td><td>2023-09-23T17:41:31.166+0000</td><td>2003</td></tr><tr><td>117</td><td>10</td><td>8</td><td>French Grand Prix</td><td>null</td><td>2023-09-23T17:41:31.166+0000</td><td>2003</td></tr><tr><td>118</td><td>11</td><td>9</td><td>British Grand Prix</td><td>null</td><td>2023-09-23T17:41:31.166+0000</td><td>2003</td></tr><tr><td>119</td><td>12</td><td>10</td><td>German Grand Prix</td><td>null</td><td>2023-09-23T17:41:31.166+0000</td><td>2003</td></tr><tr><td>120</td><td>13</td><td>11</td><td>Hungarian Grand Prix</td><td>null</td><td>2023-09-23T17:41:31.166+0000</td><td>2003</td></tr><tr><td>121</td><td>14</td><td>14</td><td>Italian Grand Prix</td><td>null</td><td>2023-09-23T17:41:31.166+0000</td><td>2003</td></tr><tr><td>122</td><td>15</td><td>19</td><td>United States Grand Prix</td><td>null</td><td>2023-09-23T17:41:31.166+0000</td><td>2003</td></tr><tr><td>123</td><td>16</td><td>22</td><td>Japanese Grand Prix</td><td>null</td><td>2023-09-23T17:41:31.166+0000</td><td>2003</td></tr><tr><td>420</td><td>1</td><td>36</td><td>Brazilian Grand Prix</td><td>null</td><td>2023-09-23T17:41:31.166+0000</td><td>1985</td></tr><tr><td>421</td><td>2</td><td>27</td><td>Portuguese Grand Prix</td><td>null</td><td>2023-09-23T17:41:31.166+0000</td><td>1985</td></tr><tr><td>422</td><td>3</td><td>21</td><td>San Marino Grand Prix</td><td>null</td><td>2023-09-23T17:41:31.166+0000</td><td>1985</td></tr><tr><td>423</td><td>4</td><td>6</td><td>Monaco Grand Prix</td><td>null</td><td>2023-09-23T17:41:31.166+0000</td><td>1985</td></tr><tr><td>424</td><td>5</td><td>7</td><td>Canadian Grand Prix</td><td>null</td><td>2023-09-23T17:41:31.166+0000</td><td>1985</td></tr><tr><td>425</td><td>6</td><td>37</td><td>Detroit Grand Prix</td><td>null</td><td>2023-09-23T17:41:31.166+0000</td><td>1985</td></tr><tr><td>426</td><td>7</td><td>34</td><td>French Grand Prix</td><td>null</td><td>2023-09-23T17:41:31.166+0000</td><td>1985</td></tr><tr><td>427</td><td>8</td><td>9</td><td>British Grand Prix</td><td>null</td><td>2023-09-23T17:41:31.166+0000</td><td>1985</td></tr><tr><td>428</td><td>9</td><td>20</td><td>German Grand Prix</td><td>null</td><td>2023-09-23T17:41:31.166+0000</td><td>1985</td></tr><tr><td>429</td><td>10</td><td>23</td><td>Austrian Grand Prix</td><td>null</td><td>2023-09-23T17:41:31.166+0000</td><td>1985</td></tr><tr><td>430</td><td>11</td><td>39</td><td>Dutch Grand Prix</td><td>null</td><td>2023-09-23T17:41:31.166+0000</td><td>1985</td></tr><tr><td>431</td><td>12</td><td>14</td><td>Italian Grand Prix</td><td>null</td><td>2023-09-23T17:41:31.166+0000</td><td>1985</td></tr><tr><td>432</td><td>13</td><td>13</td><td>Belgian Grand Prix</td><td>null</td><td>2023-09-23T17:41:31.166+0000</td><td>1985</td></tr><tr><td>433</td><td>14</td><td>38</td><td>European Grand Prix</td><td>null</td><td>2023-09-23T17:41:31.166+0000</td><td>1985</td></tr><tr><td>434</td><td>15</td><td>30</td><td>South African Grand Prix</td><td>null</td><td>2023-09-23T17:41:31.166+0000</td><td>1985</td></tr><tr><td>435</td><td>16</td><td>29</td><td>Australian Grand Prix</td><td>null</td><td>2023-09-23T17:41:31.166+0000</td><td>1985</td></tr><tr><td>305</td><td>1</td><td>33</td><td>United States Grand Prix</td><td>null</td><td>2023-09-23T17:41:31.166+0000</td><td>1991</td></tr><tr><td>306</td><td>2</td><td>18</td><td>Brazilian Grand Prix</td><td>null</td><td>2023-09-23T17:41:31.166+0000</td><td>1991</td></tr><tr><td>307</td><td>3</td><td>21</td><td>San Marino Grand Prix</td><td>null</td><td>2023-09-23T17:41:31.166+0000</td><td>1991</td></tr><tr><td>308</td><td>4</td><td>6</td><td>Monaco Grand Prix</td><td>null</td><td>2023-09-23T17:41:31.166+0000</td><td>1991</td></tr><tr><td>309</td><td>5</td><td>7</td><td>Canadian Grand Prix</td><td>null</td><td>2023-09-23T17:41:31.166+0000</td><td>1991</td></tr><tr><td>310</td><td>6</td><td>32</td><td>Mexican Grand Prix</td><td>null</td><td>2023-09-23T17:41:31.166+0000</td><td>1991</td></tr><tr><td>311</td><td>7</td><td>8</td><td>French Grand Prix</td><td>null</td><td>2023-09-23T17:41:31.166+0000</td><td>1991</td></tr><tr><td>312</td><td>8</td><td>9</td><td>British Grand Prix</td><td>null</td><td>2023-09-23T17:41:31.166+0000</td><td>1991</td></tr><tr><td>313</td><td>9</td><td>10</td><td>German Grand Prix</td><td>null</td><td>2023-09-23T17:41:31.166+0000</td><td>1991</td></tr><tr><td>314</td><td>10</td><td>11</td><td>Hungarian Grand Prix</td><td>null</td><td>2023-09-23T17:41:31.166+0000</td><td>1991</td></tr><tr><td>315</td><td>11</td><td>13</td><td>Belgian Grand Prix</td><td>null</td><td>2023-09-23T17:41:31.166+0000</td><td>1991</td></tr><tr><td>316</td><td>12</td><td>14</td><td>Italian Grand Prix</td><td>null</td><td>2023-09-23T17:41:31.166+0000</td><td>1991</td></tr><tr><td>317</td><td>13</td><td>27</td><td>Portuguese Grand Prix</td><td>null</td><td>2023-09-23T17:41:31.166+0000</td><td>1991</td></tr><tr><td>318</td><td>14</td><td>4</td><td>Spanish Grand Prix</td><td>null</td><td>2023-09-23T17:41:31.166+0000</td><td>1991</td></tr><tr><td>319</td><td>15</td><td>22</td><td>Japanese Grand Prix</td><td>null</td><td>2023-09-23T17:41:31.166+0000</td><td>1991</td></tr><tr><td>320</td><td>16</td><td>29</td><td>Australian Grand Prix</td><td>null</td><td>2023-09-23T17:41:31.166+0000</td><td>1991</td></tr><tr><td>356</td><td>1</td><td>36</td><td>Brazilian Grand Prix</td><td>null</td><td>2023-09-23T17:41:31.166+0000</td><td>1989</td></tr><tr><td>357</td><td>2</td><td>21</td><td>San Marino Grand Prix</td><td>null</td><td>2023-09-23T17:41:31.166+0000</td><td>1989</td></tr><tr><td>358</td><td>3</td><td>6</td><td>Monaco Grand Prix</td><td>null</td><td>2023-09-23T17:41:31.166+0000</td><td>1989</td></tr><tr><td>359</td><td>4</td><td>32</td><td>Mexican Grand Prix</td><td>null</td><td>2023-09-23T17:41:31.166+0000</td><td>1989</td></tr><tr><td>360</td><td>5</td><td>33</td><td>United States Grand Prix</td><td>null</td><td>2023-09-23T17:41:31.166+0000</td><td>1989</td></tr><tr><td>361</td><td>6</td><td>7</td><td>Canadian Grand Prix</td><td>null</td><td>2023-09-23T17:41:31.166+0000</td><td>1989</td></tr><tr><td>362</td><td>7</td><td>34</td><td>French Grand Prix</td><td>null</td><td>2023-09-23T17:41:31.166+0000</td><td>1989</td></tr><tr><td>363</td><td>8</td><td>9</td><td>British Grand Prix</td><td>null</td><td>2023-09-23T17:41:31.166+0000</td><td>1989</td></tr><tr><td>364</td><td>9</td><td>10</td><td>German Grand Prix</td><td>null</td><td>2023-09-23T17:41:31.166+0000</td><td>1989</td></tr><tr><td>365</td><td>10</td><td>11</td><td>Hungarian Grand Prix</td><td>null</td><td>2023-09-23T17:41:31.166+0000</td><td>1989</td></tr><tr><td>366</td><td>11</td><td>13</td><td>Belgian Grand Prix</td><td>null</td><td>2023-09-23T17:41:31.166+0000</td><td>1989</td></tr><tr><td>367</td><td>12</td><td>14</td><td>Italian Grand Prix</td><td>null</td><td>2023-09-23T17:41:31.166+0000</td><td>1989</td></tr><tr><td>368</td><td>13</td><td>27</td><td>Portuguese Grand Prix</td><td>null</td><td>2023-09-23T17:41:31.166+0000</td><td>1989</td></tr><tr><td>369</td><td>14</td><td>26</td><td>Spanish Grand Prix</td><td>null</td><td>2023-09-23T17:41:31.166+0000</td><td>1989</td></tr><tr><td>370</td><td>15</td><td>22</td><td>Japanese Grand Prix</td><td>null</td><td>2023-09-23T17:41:31.166+0000</td><td>1989</td></tr><tr><td>371</td><td>16</td><td>29</td><td>Australian Grand Prix</td><td>null</td><td>2023-09-23T17:41:31.166+0000</td><td>1989</td></tr><tr><td>321</td><td>1</td><td>33</td><td>United States Grand Prix</td><td>null</td><td>2023-09-23T17:41:31.166+0000</td><td>1990</td></tr><tr><td>322</td><td>2</td><td>18</td><td>Brazilian Grand Prix</td><td>null</td><td>2023-09-23T17:41:31.166+0000</td><td>1990</td></tr><tr><td>323</td><td>3</td><td>21</td><td>San Marino Grand Prix</td><td>null</td><td>2023-09-23T17:41:31.166+0000</td><td>1990</td></tr><tr><td>324</td><td>4</td><td>6</td><td>Monaco Grand Prix</td><td>null</td><td>2023-09-23T17:41:31.166+0000</td><td>1990</td></tr><tr><td>325</td><td>5</td><td>7</td><td>Canadian Grand Prix</td><td>null</td><td>2023-09-23T17:41:31.166+0000</td><td>1990</td></tr><tr><td>326</td><td>6</td><td>32</td><td>Mexican Grand Prix</td><td>null</td><td>2023-09-23T17:41:31.166+0000</td><td>1990</td></tr><tr><td>327</td><td>7</td><td>34</td><td>French Grand Prix</td><td>null</td><td>2023-09-23T17:41:31.166+0000</td><td>1990</td></tr><tr><td>328</td><td>8</td><td>9</td><td>British Grand Prix</td><td>null</td><td>2023-09-23T17:41:31.166+0000</td><td>1990</td></tr><tr><td>329</td><td>9</td><td>10</td><td>German Grand Prix</td><td>null</td><td>2023-09-23T17:41:31.166+0000</td><td>1990</td></tr><tr><td>330</td><td>10</td><td>11</td><td>Hungarian Grand Prix</td><td>null</td><td>2023-09-23T17:41:31.166+0000</td><td>1990</td></tr><tr><td>331</td><td>11</td><td>13</td><td>Belgian Grand Prix</td><td>null</td><td>2023-09-23T17:41:31.166+0000</td><td>1990</td></tr><tr><td>332</td><td>12</td><td>14</td><td>Italian Grand Prix</td><td>null</td><td>2023-09-23T17:41:31.166+0000</td><td>1990</td></tr><tr><td>333</td><td>13</td><td>27</td><td>Portuguese Grand Prix</td><td>null</td><td>2023-09-23T17:41:31.166+0000</td><td>1990</td></tr><tr><td>334</td><td>14</td><td>26</td><td>Spanish Grand Prix</td><td>null</td><td>2023-09-23T17:41:31.166+0000</td><td>1990</td></tr><tr><td>335</td><td>15</td><td>22</td><td>Japanese Grand Prix</td><td>null</td><td>2023-09-23T17:41:31.166+0000</td><td>1990</td></tr><tr><td>336</td><td>16</td><td>29</td><td>Australian Grand Prix</td><td>null</td><td>2023-09-23T17:41:31.166+0000</td><td>1990</td></tr><tr><td>224</td><td>1</td><td>1</td><td>Australian Grand Prix</td><td>null</td><td>2023-09-23T17:41:31.166+0000</td><td>1996</td></tr><tr><td>225</td><td>2</td><td>18</td><td>Brazilian Grand Prix</td><td>null</td><td>2023-09-23T17:41:31.166+0000</td><td>1996</td></tr><tr><td>226</td><td>3</td><td>25</td><td>Argentine Grand Prix</td><td>null</td><td>2023-09-23T17:41:31.166+0000</td><td>1996</td></tr><tr><td>227</td><td>4</td><td>20</td><td>European Grand Prix</td><td>null</td><td>2023-09-23T17:41:31.166+0000</td><td>1996</td></tr><tr><td>228</td><td>5</td><td>21</td><td>San Marino Grand Prix</td><td>null</td><td>2023-09-23T17:41:31.166+0000</td><td>1996</td></tr><tr><td>229</td><td>6</td><td>6</td><td>Monaco Grand Prix</td><td>null</td><td>2023-09-23T17:41:31.166+0000</td><td>1996</td></tr><tr><td>230</td><td>7</td><td>4</td><td>Spanish Grand Prix</td><td>null</td><td>2023-09-23T17:41:31.166+0000</td><td>1996</td></tr><tr><td>231</td><td>8</td><td>7</td><td>Canadian Grand Prix</td><td>null</td><td>2023-09-23T17:41:31.166+0000</td><td>1996</td></tr><tr><td>232</td><td>9</td><td>8</td><td>French Grand Prix</td><td>null</td><td>2023-09-23T17:41:31.166+0000</td><td>1996</td></tr><tr><td>233</td><td>10</td><td>9</td><td>British Grand Prix</td><td>null</td><td>2023-09-23T17:41:31.166+0000</td><td>1996</td></tr><tr><td>234</td><td>11</td><td>10</td><td>German Grand Prix</td><td>null</td><td>2023-09-23T17:41:31.166+0000</td><td>1996</td></tr><tr><td>235</td><td>12</td><td>11</td><td>Hungarian Grand Prix</td><td>null</td><td>2023-09-23T17:41:31.166+0000</td><td>1996</td></tr><tr><td>236</td><td>13</td><td>13</td><td>Belgian Grand Prix</td><td>null</td><td>2023-09-23T17:41:31.166+0000</td><td>1996</td></tr><tr><td>237</td><td>14</td><td>14</td><td>Italian Grand Prix</td><td>null</td><td>2023-09-23T17:41:31.166+0000</td><td>1996</td></tr><tr><td>238</td><td>15</td><td>27</td><td>Portuguese Grand Prix</td><td>null</td><td>2023-09-23T17:41:31.166+0000</td><td>1996</td></tr><tr><td>239</td><td>16</td><td>22</td><td>Japanese Grand Prix</td><td>null</td><td>2023-09-23T17:41:31.166+0000</td><td>1996</td></tr><tr><td>273</td><td>1</td><td>30</td><td>South African Grand Prix</td><td>null</td><td>2023-09-23T17:41:31.166+0000</td><td>1993</td></tr><tr><td>274</td><td>2</td><td>18</td><td>Brazilian Grand Prix</td><td>null</td><td>2023-09-23T17:41:31.166+0000</td><td>1993</td></tr><tr><td>275</td><td>3</td><td>31</td><td>European Grand Prix</td><td>null</td><td>2023-09-23T17:41:31.166+0000</td><td>1993</td></tr><tr><td>276</td><td>4</td><td>21</td><td>San Marino Grand Prix</td><td>null</td><td>2023-09-23T17:41:31.166+0000</td><td>1993</td></tr><tr><td>277</td><td>5</td><td>4</td><td>Spanish Grand Prix</td><td>null</td><td>2023-09-23T17:41:31.166+0000</td><td>1993</td></tr><tr><td>278</td><td>6</td><td>6</td><td>Monaco Grand Prix</td><td>null</td><td>2023-09-23T17:41:31.166+0000</td><td>1993</td></tr><tr><td>279</td><td>7</td><td>7</td><td>Canadian Grand Prix</td><td>null</td><td>2023-09-23T17:41:31.166+0000</td><td>1993</td></tr><tr><td>280</td><td>8</td><td>8</td><td>French Grand Prix</td><td>null</td><td>2023-09-23T17:41:31.166+0000</td><td>1993</td></tr><tr><td>281</td><td>9</td><td>9</td><td>British Grand Prix</td><td>null</td><td>2023-09-23T17:41:31.166+0000</td><td>1993</td></tr><tr><td>282</td><td>10</td><td>10</td><td>German Grand Prix</td><td>null</td><td>2023-09-23T17:41:31.166+0000</td><td>1993</td></tr><tr><td>283</td><td>11</td><td>11</td><td>Hungarian Grand Prix</td><td>null</td><td>2023-09-23T17:41:31.166+0000</td><td>1993</td></tr><tr><td>284</td><td>12</td><td>13</td><td>Belgian Grand Prix</td><td>null</td><td>2023-09-23T17:41:31.166+0000</td><td>1993</td></tr><tr><td>285</td><td>13</td><td>14</td><td>Italian Grand Prix</td><td>null</td><td>2023-09-23T17:41:31.166+0000</td><td>1993</td></tr><tr><td>286</td><td>14</td><td>27</td><td>Portuguese Grand Prix</td><td>null</td><td>2023-09-23T17:41:31.166+0000</td><td>1993</td></tr><tr><td>287</td><td>15</td><td>22</td><td>Japanese Grand Prix</td><td>null</td><td>2023-09-23T17:41:31.166+0000</td><td>1993</td></tr><tr><td>288</td><td>16</td><td>29</td><td>Australian Grand Prix</td><td>null</td><td>2023-09-23T17:41:31.166+0000</td><td>1993</td></tr><tr><td>191</td><td>1</td><td>1</td><td>Australian Grand Prix</td><td>null</td><td>2023-09-23T17:41:31.166+0000</td><td>1998</td></tr><tr><td>192</td><td>2</td><td>18</td><td>Brazilian Grand Prix</td><td>null</td><td>2023-09-23T17:41:31.166+0000</td><td>1998</td></tr><tr><td>193</td><td>3</td><td>25</td><td>Argentine Grand Prix</td><td>null</td><td>2023-09-23T17:41:31.166+0000</td><td>1998</td></tr><tr><td>194</td><td>4</td><td>21</td><td>San Marino Grand Prix</td><td>null</td><td>2023-09-23T17:41:31.166+0000</td><td>1998</td></tr><tr><td>195</td><td>5</td><td>4</td><td>Spanish Grand Prix</td><td>null</td><td>2023-09-23T17:41:31.166+0000</td><td>1998</td></tr><tr><td>196</td><td>6</td><td>6</td><td>Monaco Grand Prix</td><td>null</td><td>2023-09-23T17:41:31.166+0000</td><td>1998</td></tr><tr><td>197</td><td>7</td><td>7</td><td>Canadian Grand Prix</td><td>null</td><td>2023-09-23T17:41:31.166+0000</td><td>1998</td></tr><tr><td>198</td><td>8</td><td>8</td><td>French Grand Prix</td><td>null</td><td>2023-09-23T17:41:31.166+0000</td><td>1998</td></tr><tr><td>199</td><td>9</td><td>9</td><td>British Grand Prix</td><td>null</td><td>2023-09-23T17:41:31.166+0000</td><td>1998</td></tr><tr><td>200</td><td>10</td><td>23</td><td>Austrian Grand Prix</td><td>null</td><td>2023-09-23T17:41:31.166+0000</td><td>1998</td></tr><tr><td>201</td><td>11</td><td>10</td><td>German Grand Prix</td><td>null</td><td>2023-09-23T17:41:31.166+0000</td><td>1998</td></tr><tr><td>202</td><td>12</td><td>11</td><td>Hungarian Grand Prix</td><td>null</td><td>2023-09-23T17:41:31.166+0000</td><td>1998</td></tr><tr><td>203</td><td>13</td><td>13</td><td>Belgian Grand Prix</td><td>null</td><td>2023-09-23T17:41:31.166+0000</td><td>1998</td></tr><tr><td>204</td><td>14</td><td>14</td><td>Italian Grand Prix</td><td>null</td><td>2023-09-23T17:41:31.166+0000</td><td>1998</td></tr><tr><td>205</td><td>15</td><td>20</td><td>Luxembourg Grand Prix</td><td>null</td><td>2023-09-23T17:41:31.166+0000</td><td>1998</td></tr><tr><td>206</td><td>16</td><td>22</td><td>Japanese Grand Prix</td><td>null</td><td>2023-09-23T17:41:31.166+0000</td><td>1998</td></tr><tr><td>512</td><td>1</td><td>25</td><td>Argentine Grand Prix</td><td>null</td><td>2023-09-23T17:41:31.166+0000</td><td>1979</td></tr><tr><td>513</td><td>2</td><td>18</td><td>Brazilian Grand Prix</td><td>null</td><td>2023-09-23T17:41:31.166+0000</td><td>1979</td></tr><tr><td>514</td><td>3</td><td>30</td><td>South African Grand Prix</td><td>null</td><td>2023-09-23T17:41:31.166+0000</td><td>1979</td></tr><tr><td>515</td><td>4</td><td>43</td><td>United States Grand Prix West</td><td>null</td><td>2023-09-23T17:41:31.166+0000</td><td>1979</td></tr><tr><td>516</td><td>5</td><td>45</td><td>Spanish Grand Prix</td><td>null</td><td>2023-09-23T17:41:31.166+0000</td><td>1979</td></tr><tr><td>517</td><td>6</td><td>40</td><td>Belgian Grand Prix</td><td>null</td><td>2023-09-23T17:41:31.166+0000</td><td>1979</td></tr><tr><td>518</td><td>7</td><td>6</td><td>Monaco Grand Prix</td><td>null</td><td>2023-09-23T17:41:31.166+0000</td><td>1979</td></tr><tr><td>519</td><td>8</td><td>41</td><td>French Grand Prix</td><td>null</td><td>2023-09-23T17:41:31.166+0000</td><td>1979</td></tr><tr><td>520</td><td>9</td><td>9</td><td>British Grand Prix</td><td>null</td><td>2023-09-23T17:41:31.166+0000</td><td>1979</td></tr><tr><td>521</td><td>10</td><td>10</td><td>German Grand Prix</td><td>null</td><td>2023-09-23T17:41:31.166+0000</td><td>1979</td></tr><tr><td>522</td><td>11</td><td>23</td><td>Austrian Grand Prix</td><td>null</td><td>2023-09-23T17:41:31.166+0000</td><td>1979</td></tr><tr><td>523</td><td>12</td><td>39</td><td>Dutch Grand Prix</td><td>null</td><td>2023-09-23T17:41:31.166+0000</td><td>1979</td></tr><tr><td>524</td><td>13</td><td>14</td><td>Italian Grand Prix</td><td>null</td><td>2023-09-23T17:41:31.166+0000</td><td>1979</td></tr><tr><td>525</td><td>14</td><td>7</td><td>Canadian Grand Prix</td><td>null</td><td>2023-09-23T17:41:31.166+0000</td><td>1979</td></tr><tr><td>526</td><td>15</td><td>46</td><td>United States Grand Prix</td><td>null</td><td>2023-09-23T17:41:31.166+0000</td><td>1979</td></tr><tr><td>257</td><td>1</td><td>18</td><td>Brazilian Grand Prix</td><td>null</td><td>2023-09-23T17:41:31.166+0000</td><td>1994</td></tr><tr><td>258</td><td>2</td><td>28</td><td>Pacific Grand Prix</td><td>null</td><td>2023-09-23T17:41:31.166+0000</td><td>1994</td></tr><tr><td>259</td><td>3</td><td>21</td><td>San Marino Grand Prix</td><td>null</td><td>2023-09-23T17:41:31.166+0000</td><td>1994</td></tr><tr><td>260</td><td>4</td><td>6</td><td>Monaco Grand Prix</td><td>null</td><td>2023-09-23T17:41:31.166+0000</td><td>1994</td></tr><tr><td>261</td><td>5</td><td>4</td><td>Spanish Grand Prix</td><td>null</td><td>2023-09-23T17:41:31.166+0000</td><td>1994</td></tr><tr><td>262</td><td>6</td><td>7</td><td>Canadian Grand Prix</td><td>null</td><td>2023-09-23T17:41:31.166+0000</td><td>1994</td></tr><tr><td>263</td><td>7</td><td>8</td><td>French Grand Prix</td><td>null</td><td>2023-09-23T17:41:31.166+0000</td><td>1994</td></tr><tr><td>264</td><td>8</td><td>9</td><td>British Grand Prix</td><td>null</td><td>2023-09-23T17:41:31.166+0000</td><td>1994</td></tr><tr><td>265</td><td>9</td><td>10</td><td>German Grand Prix</td><td>null</td><td>2023-09-23T17:41:31.166+0000</td><td>1994</td></tr><tr><td>266</td><td>10</td><td>11</td><td>Hungarian Grand Prix</td><td>null</td><td>2023-09-23T17:41:31.166+0000</td><td>1994</td></tr><tr><td>267</td><td>11</td><td>13</td><td>Belgian Grand Prix</td><td>null</td><td>2023-09-23T17:41:31.166+0000</td><td>1994</td></tr><tr><td>268</td><td>12</td><td>14</td><td>Italian Grand Prix</td><td>null</td><td>2023-09-23T17:41:31.166+0000</td><td>1994</td></tr><tr><td>269</td><td>13</td><td>27</td><td>Portuguese Grand Prix</td><td>null</td><td>2023-09-23T17:41:31.166+0000</td><td>1994</td></tr><tr><td>270</td><td>14</td><td>26</td><td>European Grand Prix</td><td>null</td><td>2023-09-23T17:41:31.166+0000</td><td>1994</td></tr><tr><td>271</td><td>15</td><td>22</td><td>Japanese Grand Prix</td><td>null</td><td>2023-09-23T17:41:31.166+0000</td><td>1994</td></tr><tr><td>272</td><td>16</td><td>29</td><td>Australian Grand Prix</td><td>null</td><td>2023-09-23T17:41:31.166+0000</td><td>1994</td></tr><tr><td>590</td><td>1</td><td>25</td><td>Argentine Grand Prix</td><td>null</td><td>2023-09-23T17:41:31.166+0000</td><td>1974</td></tr><tr><td>591</td><td>2</td><td>18</td><td>Brazilian Grand Prix</td><td>null</td><td>2023-09-23T17:41:31.166+0000</td><td>1974</td></tr><tr><td>592</td><td>3</td><td>30</td><td>South African Grand Prix</td><td>null</td><td>2023-09-23T17:41:31.166+0000</td><td>1974</td></tr><tr><td>593</td><td>4</td><td>45</td><td>Spanish Grand Prix</td><td>null</td><td>2023-09-23T17:41:31.166+0000</td><td>1974</td></tr><tr><td>594</td><td>5</td><td>50</td><td>Belgian Grand Prix</td><td>null</td><td>2023-09-23T17:41:31.166+0000</td><td>1974</td></tr><tr><td>595</td><td>6</td><td>6</td><td>Monaco Grand Prix</td><td>null</td><td>2023-09-23T17:41:31.166+0000</td><td>1974</td></tr><tr><td>596</td><td>7</td><td>47</td><td>Swedish Grand Prix</td><td>null</td><td>2023-09-23T17:41:31.166+0000</td><td>1974</td></tr><tr><td>597</td><td>8</td><td>39</td><td>Dutch Grand Prix</td><td>null</td><td>2023-09-23T17:41:31.166+0000</td><td>1974</td></tr><tr><td>598</td><td>9</td><td>41</td><td>French Grand Prix</td><td>null</td><td>2023-09-23T17:41:31.166+0000</td><td>1974</td></tr><tr><td>599</td><td>10</td><td>38</td><td>British Grand Prix</td><td>null</td><td>2023-09-23T17:41:31.166+0000</td><td>1974</td></tr><tr><td>600</td><td>11</td><td>20</td><td>German Grand Prix</td><td>null</td><td>2023-09-23T17:41:31.166+0000</td><td>1974</td></tr><tr><td>601</td><td>12</td><td>23</td><td>Austrian Grand Prix</td><td>null</td><td>2023-09-23T17:41:31.166+0000</td><td>1974</td></tr><tr><td>602</td><td>13</td><td>14</td><td>Italian Grand Prix</td><td>null</td><td>2023-09-23T17:41:31.166+0000</td><td>1974</td></tr><tr><td>603</td><td>14</td><td>48</td><td>Canadian Grand Prix</td><td>null</td><td>2023-09-23T17:41:31.166+0000</td><td>1974</td></tr><tr><td>604</td><td>15</td><td>46</td><td>United States Grand Prix</td><td>null</td><td>2023-09-23T17:41:31.166+0000</td><td>1974</td></tr><tr><td>289</td><td>1</td><td>30</td><td>South African Grand Prix</td><td>null</td><td>2023-09-23T17:41:31.166+0000</td><td>1992</td></tr><tr><td>290</td><td>2</td><td>32</td><td>Mexican Grand Prix</td><td>null</td><td>2023-09-23T17:41:31.166+0000</td><td>1992</td></tr><tr><td>291</td><td>3</td><td>18</td><td>Brazilian Grand Prix</td><td>null</td><td>2023-09-23T17:41:31.166+0000</td><td>1992</td></tr><tr><td>292</td><td>4</td><td>4</td><td>Spanish Grand Prix</td><td>null</td><td>2023-09-23T17:41:31.166+0000</td><td>1992</td></tr><tr><td>293</td><td>5</td><td>21</td><td>San Marino Grand Prix</td><td>null</td><td>2023-09-23T17:41:31.166+0000</td><td>1992</td></tr><tr><td>294</td><td>6</td><td>6</td><td>Monaco Grand Prix</td><td>null</td><td>2023-09-23T17:41:31.166+0000</td><td>1992</td></tr><tr><td>295</td><td>7</td><td>7</td><td>Canadian Grand Prix</td><td>null</td><td>2023-09-23T17:41:31.166+0000</td><td>1992</td></tr><tr><td>296</td><td>8</td><td>8</td><td>French Grand Prix</td><td>null</td><td>2023-09-23T17:41:31.166+0000</td><td>1992</td></tr><tr><td>297</td><td>9</td><td>9</td><td>British Grand Prix</td><td>null</td><td>2023-09-23T17:41:31.166+0000</td><td>1992</td></tr><tr><td>298</td><td>10</td><td>10</td><td>German Grand Prix</td><td>null</td><td>2023-09-23T17:41:31.166+0000</td><td>1992</td></tr><tr><td>299</td><td>11</td><td>11</td><td>Hungarian Grand Prix</td><td>null</td><td>2023-09-23T17:41:31.166+0000</td><td>1992</td></tr><tr><td>300</td><td>12</td><td>13</td><td>Belgian Grand Prix</td><td>null</td><td>2023-09-23T17:41:31.166+0000</td><td>1992</td></tr><tr><td>301</td><td>13</td><td>14</td><td>Italian Grand Prix</td><td>null</td><td>2023-09-23T17:41:31.166+0000</td><td>1992</td></tr><tr><td>302</td><td>14</td><td>27</td><td>Portuguese Grand Prix</td><td>null</td><td>2023-09-23T17:41:31.166+0000</td><td>1992</td></tr><tr><td>303</td><td>15</td><td>22</td><td>Japanese Grand Prix</td><td>null</td><td>2023-09-23T17:41:31.166+0000</td><td>1992</td></tr><tr><td>304</td><td>16</td><td>29</td><td>Australian Grand Prix</td><td>null</td><td>2023-09-23T17:41:31.166+0000</td><td>1992</td></tr><tr><td>605</td><td>1</td><td>25</td><td>Argentine Grand Prix</td><td>null</td><td>2023-09-23T17:41:31.166+0000</td><td>1973</td></tr><tr><td>606</td><td>2</td><td>18</td><td>Brazilian Grand Prix</td><td>null</td><td>2023-09-23T17:41:31.166+0000</td><td>1973</td></tr><tr><td>607</td><td>3</td><td>30</td><td>South African Grand Prix</td><td>null</td><td>2023-09-23T17:41:31.166+0000</td><td>1973</td></tr><tr><td>608</td><td>4</td><td>49</td><td>Spanish Grand Prix</td><td>null</td><td>2023-09-23T17:41:31.166+0000</td><td>1973</td></tr><tr><td>609</td><td>5</td><td>40</td><td>Belgian Grand Prix</td><td>null</td><td>2023-09-23T17:41:31.166+0000</td><td>1973</td></tr><tr><td>610</td><td>6</td><td>6</td><td>Monaco Grand Prix</td><td>null</td><td>2023-09-23T17:41:31.166+0000</td><td>1973</td></tr><tr><td>611</td><td>7</td><td>47</td><td>Swedish Grand Prix</td><td>null</td><td>2023-09-23T17:41:31.166+0000</td><td>1973</td></tr><tr><td>612</td><td>8</td><td>34</td><td>French Grand Prix</td><td>null</td><td>2023-09-23T17:41:31.166+0000</td><td>1973</td></tr><tr><td>613</td><td>9</td><td>9</td><td>British Grand Prix</td><td>null</td><td>2023-09-23T17:41:31.166+0000</td><td>1973</td></tr><tr><td>614</td><td>10</td><td>39</td><td>Dutch Grand Prix</td><td>null</td><td>2023-09-23T17:41:31.166+0000</td><td>1973</td></tr><tr><td>615</td><td>11</td><td>20</td><td>German Grand Prix</td><td>null</td><td>2023-09-23T17:41:31.166+0000</td><td>1973</td></tr><tr><td>616</td><td>12</td><td>23</td><td>Austrian Grand Prix</td><td>null</td><td>2023-09-23T17:41:31.166+0000</td><td>1973</td></tr><tr><td>617</td><td>13</td><td>14</td><td>Italian Grand Prix</td><td>null</td><td>2023-09-23T17:41:31.166+0000</td><td>1973</td></tr><tr><td>618</td><td>14</td><td>48</td><td>Canadian Grand Prix</td><td>null</td><td>2023-09-23T17:41:31.166+0000</td><td>1973</td></tr><tr><td>619</td><td>15</td><td>46</td><td>United States Grand Prix</td><td>null</td><td>2023-09-23T17:41:31.166+0000</td><td>1973</td></tr><tr><td>175</td><td>1</td><td>1</td><td>Australian Grand Prix</td><td>null</td><td>2023-09-23T17:41:31.166+0000</td><td>1999</td></tr><tr><td>176</td><td>2</td><td>18</td><td>Brazilian Grand Prix</td><td>null</td><td>2023-09-23T17:41:31.166+0000</td><td>1999</td></tr><tr><td>177</td><td>3</td><td>21</td><td>San Marino Grand Prix</td><td>null</td><td>2023-09-23T17:41:31.166+0000</td><td>1999</td></tr><tr><td>178</td><td>4</td><td>6</td><td>Monaco Grand Prix</td><td>null</td><td>2023-09-23T17:41:31.166+0000</td><td>1999</td></tr><tr><td>179</td><td>5</td><td>4</td><td>Spanish Grand Prix</td><td>null</td><td>2023-09-23T17:41:31.166+0000</td><td>1999</td></tr><tr><td>180</td><td>6</td><td>7</td><td>Canadian Grand Prix</td><td>null</td><td>2023-09-23T17:41:31.166+0000</td><td>1999</td></tr><tr><td>181</td><td>7</td><td>8</td><td>French Grand Prix</td><td>null</td><td>2023-09-23T17:41:31.166+0000</td><td>1999</td></tr><tr><td>182</td><td>8</td><td>9</td><td>British Grand Prix</td><td>null</td><td>2023-09-23T17:41:31.166+0000</td><td>1999</td></tr><tr><td>183</td><td>9</td><td>23</td><td>Austrian Grand Prix</td><td>null</td><td>2023-09-23T17:41:31.166+0000</td><td>1999</td></tr><tr><td>184</td><td>10</td><td>10</td><td>German Grand Prix</td><td>null</td><td>2023-09-23T17:41:31.166+0000</td><td>1999</td></tr><tr><td>185</td><td>11</td><td>11</td><td>Hungarian Grand Prix</td><td>null</td><td>2023-09-23T17:41:31.166+0000</td><td>1999</td></tr><tr><td>186</td><td>12</td><td>13</td><td>Belgian Grand Prix</td><td>null</td><td>2023-09-23T17:41:31.166+0000</td><td>1999</td></tr><tr><td>187</td><td>13</td><td>14</td><td>Italian Grand Prix</td><td>null</td><td>2023-09-23T17:41:31.166+0000</td><td>1999</td></tr><tr><td>188</td><td>14</td><td>20</td><td>European Grand Prix</td><td>null</td><td>2023-09-23T17:41:31.166+0000</td><td>1999</td></tr><tr><td>189</td><td>15</td><td>2</td><td>Malaysian Grand Prix</td><td>null</td><td>2023-09-23T17:41:31.166+0000</td><td>1999</td></tr><tr><td>190</td><td>16</td><td>22</td><td>Japanese Grand Prix</td><td>null</td><td>2023-09-23T17:41:31.166+0000</td><td>1999</td></tr><tr><td>404</td><td>1</td><td>36</td><td>Brazilian Grand Prix</td><td>null</td><td>2023-09-23T17:41:31.166+0000</td><td>1986</td></tr><tr><td>405</td><td>2</td><td>26</td><td>Spanish Grand Prix</td><td>null</td><td>2023-09-23T17:41:31.166+0000</td><td>1986</td></tr><tr><td>406</td><td>3</td><td>21</td><td>San Marino Grand Prix</td><td>null</td><td>2023-09-23T17:41:31.166+0000</td><td>1986</td></tr><tr><td>407</td><td>4</td><td>6</td><td>Monaco Grand Prix</td><td>null</td><td>2023-09-23T17:41:31.166+0000</td><td>1986</td></tr><tr><td>408</td><td>5</td><td>13</td><td>Belgian Grand Prix</td><td>null</td><td>2023-09-23T17:41:31.166+0000</td><td>1986</td></tr><tr><td>409</td><td>6</td><td>7</td><td>Canadian Grand Prix</td><td>null</td><td>2023-09-23T17:41:31.166+0000</td><td>1986</td></tr><tr><td>410</td><td>7</td><td>37</td><td>Detroit Grand Prix</td><td>null</td><td>2023-09-23T17:41:31.166+0000</td><td>1986</td></tr><tr><td>411</td><td>8</td><td>34</td><td>French Grand Prix</td><td>null</td><td>2023-09-23T17:41:31.166+0000</td><td>1986</td></tr><tr><td>412</td><td>9</td><td>38</td><td>British Grand Prix</td><td>null</td><td>2023-09-23T17:41:31.166+0000</td><td>1986</td></tr><tr><td>413</td><td>10</td><td>10</td><td>German Grand Prix</td><td>null</td><td>2023-09-23T17:41:31.166+0000</td><td>1986</td></tr><tr><td>414</td><td>11</td><td>11</td><td>Hungarian Grand Prix</td><td>null</td><td>2023-09-23T17:41:31.166+0000</td><td>1986</td></tr><tr><td>415</td><td>12</td><td>23</td><td>Austrian Grand Prix</td><td>null</td><td>2023-09-23T17:41:31.166+0000</td><td>1986</td></tr><tr><td>416</td><td>13</td><td>14</td><td>Italian Grand Prix</td><td>null</td><td>2023-09-23T17:41:31.166+0000</td><td>1986</td></tr><tr><td>417</td><td>14</td><td>27</td><td>Portuguese Grand Prix</td><td>null</td><td>2023-09-23T17:41:31.166+0000</td><td>1986</td></tr><tr><td>418</td><td>15</td><td>32</td><td>Mexican Grand Prix</td><td>null</td><td>2023-09-23T17:41:31.166+0000</td><td>1986</td></tr><tr><td>419</td><td>16</td><td>29</td><td>Australian Grand Prix</td><td>null</td><td>2023-09-23T17:41:31.166+0000</td><td>1986</td></tr><tr><td>372</td><td>1</td><td>36</td><td>Brazilian Grand Prix</td><td>null</td><td>2023-09-23T17:41:31.166+0000</td><td>1988</td></tr><tr><td>373</td><td>2</td><td>21</td><td>San Marino Grand Prix</td><td>null</td><td>2023-09-23T17:41:31.166+0000</td><td>1988</td></tr><tr><td>374</td><td>3</td><td>6</td><td>Monaco Grand Prix</td><td>null</td><td>2023-09-23T17:41:31.166+0000</td><td>1988</td></tr><tr><td>375</td><td>4</td><td>32</td><td>Mexican Grand Prix</td><td>null</td><td>2023-09-23T17:41:31.166+0000</td><td>1988</td></tr><tr><td>376</td><td>5</td><td>7</td><td>Canadian Grand Prix</td><td>null</td><td>2023-09-23T17:41:31.166+0000</td><td>1988</td></tr><tr><td>377</td><td>6</td><td>37</td><td>Detroit Grand Prix</td><td>null</td><td>2023-09-23T17:41:31.166+0000</td><td>1988</td></tr><tr><td>378</td><td>7</td><td>34</td><td>French Grand Prix</td><td>null</td><td>2023-09-23T17:41:31.166+0000</td><td>1988</td></tr><tr><td>379</td><td>8</td><td>9</td><td>British Grand Prix</td><td>null</td><td>2023-09-23T17:41:31.166+0000</td><td>1988</td></tr><tr><td>380</td><td>9</td><td>10</td><td>German Grand Prix</td><td>null</td><td>2023-09-23T17:41:31.166+0000</td><td>1988</td></tr><tr><td>381</td><td>10</td><td>11</td><td>Hungarian Grand Prix</td><td>null</td><td>2023-09-23T17:41:31.166+0000</td><td>1988</td></tr><tr><td>382</td><td>11</td><td>13</td><td>Belgian Grand Prix</td><td>null</td><td>2023-09-23T17:41:31.166+0000</td><td>1988</td></tr><tr><td>383</td><td>12</td><td>14</td><td>Italian Grand Prix</td><td>null</td><td>2023-09-23T17:41:31.166+0000</td><td>1988</td></tr><tr><td>384</td><td>13</td><td>27</td><td>Portuguese Grand Prix</td><td>null</td><td>2023-09-23T17:41:31.166+0000</td><td>1988</td></tr><tr><td>385</td><td>14</td><td>26</td><td>Spanish Grand Prix</td><td>null</td><td>2023-09-23T17:41:31.166+0000</td><td>1988</td></tr><tr><td>386</td><td>15</td><td>22</td><td>Japanese Grand Prix</td><td>null</td><td>2023-09-23T17:41:31.166+0000</td><td>1988</td></tr><tr><td>387</td><td>16</td><td>29</td><td>Australian Grand Prix</td><td>null</td><td>2023-09-23T17:41:31.166+0000</td><td>1988</td></tr><tr><td>388</td><td>1</td><td>36</td><td>Brazilian Grand Prix</td><td>null</td><td>2023-09-23T17:41:31.166+0000</td><td>1987</td></tr><tr><td>389</td><td>2</td><td>21</td><td>San Marino Grand Prix</td><td>null</td><td>2023-09-23T17:41:31.166+0000</td><td>1987</td></tr><tr><td>390</td><td>3</td><td>13</td><td>Belgian Grand Prix</td><td>null</td><td>2023-09-23T17:41:31.166+0000</td><td>1987</td></tr><tr><td>391</td><td>4</td><td>6</td><td>Monaco Grand Prix</td><td>null</td><td>2023-09-23T17:41:31.166+0000</td><td>1987</td></tr><tr><td>392</td><td>5</td><td>37</td><td>Detroit Grand Prix</td><td>null</td><td>2023-09-23T17:41:31.166+0000</td><td>1987</td></tr><tr><td>393</td><td>6</td><td>34</td><td>French Grand Prix</td><td>null</td><td>2023-09-23T17:41:31.166+0000</td><td>1987</td></tr><tr><td>394</td><td>7</td><td>9</td><td>British Grand Prix</td><td>null</td><td>2023-09-23T17:41:31.166+0000</td><td>1987</td></tr><tr><td>395</td><td>8</td><td>10</td><td>German Grand Prix</td><td>null</td><td>2023-09-23T17:41:31.166+0000</td><td>1987</td></tr><tr><td>396</td><td>9</td><td>11</td><td>Hungarian Grand Prix</td><td>null</td><td>2023-09-23T17:41:31.166+0000</td><td>1987</td></tr><tr><td>397</td><td>10</td><td>23</td><td>Austrian Grand Prix</td><td>null</td><td>2023-09-23T17:41:31.166+0000</td><td>1987</td></tr><tr><td>398</td><td>11</td><td>14</td><td>Italian Grand Prix</td><td>null</td><td>2023-09-23T17:41:31.166+0000</td><td>1987</td></tr><tr><td>399</td><td>12</td><td>27</td><td>Portuguese Grand Prix</td><td>null</td><td>2023-09-23T17:41:31.166+0000</td><td>1987</td></tr><tr><td>400</td><td>13</td><td>26</td><td>Spanish Grand Prix</td><td>null</td><td>2023-09-23T17:41:31.166+0000</td><td>1987</td></tr><tr><td>401</td><td>14</td><td>32</td><td>Mexican Grand Prix</td><td>null</td><td>2023-09-23T17:41:31.166+0000</td><td>1987</td></tr><tr><td>402</td><td>15</td><td>22</td><td>Japanese Grand Prix</td><td>null</td><td>2023-09-23T17:41:31.166+0000</td><td>1987</td></tr><tr><td>403</td><td>16</td><td>29</td><td>Australian Grand Prix</td><td>null</td><td>2023-09-23T17:41:31.166+0000</td><td>1987</td></tr><tr><td>498</td><td>1</td><td>25</td><td>Argentine Grand Prix</td><td>null</td><td>2023-09-23T17:41:31.166+0000</td><td>1980</td></tr><tr><td>499</td><td>2</td><td>18</td><td>Brazilian Grand Prix</td><td>null</td><td>2023-09-23T17:41:31.166+0000</td><td>1980</td></tr><tr><td>500</td><td>3</td><td>30</td><td>South African Grand Prix</td><td>null</td><td>2023-09-23T17:41:31.166+0000</td><td>1980</td></tr><tr><td>501</td><td>4</td><td>43</td><td>United States Grand Prix West</td><td>null</td><td>2023-09-23T17:41:31.166+0000</td><td>1980</td></tr><tr><td>502</td><td>5</td><td>40</td><td>Belgian Grand Prix</td><td>null</td><td>2023-09-23T17:41:31.166+0000</td><td>1980</td></tr><tr><td>503</td><td>6</td><td>6</td><td>Monaco Grand Prix</td><td>null</td><td>2023-09-23T17:41:31.166+0000</td><td>1980</td></tr><tr><td>504</td><td>7</td><td>34</td><td>French Grand Prix</td><td>null</td><td>2023-09-23T17:41:31.166+0000</td><td>1980</td></tr><tr><td>505</td><td>8</td><td>38</td><td>British Grand Prix</td><td>null</td><td>2023-09-23T17:41:31.166+0000</td><td>1980</td></tr><tr><td>506</td><td>9</td><td>10</td><td>German Grand Prix</td><td>null</td><td>2023-09-23T17:41:31.166+0000</td><td>1980</td></tr><tr><td>507</td><td>10</td><td>23</td><td>Austrian Grand Prix</td><td>null</td><td>2023-09-23T17:41:31.166+0000</td><td>1980</td></tr><tr><td>508</td><td>11</td><td>39</td><td>Dutch Grand Prix</td><td>null</td><td>2023-09-23T17:41:31.166+0000</td><td>1980</td></tr><tr><td>509</td><td>12</td><td>21</td><td>Italian Grand Prix</td><td>null</td><td>2023-09-23T17:41:31.166+0000</td><td>1980</td></tr><tr><td>510</td><td>13</td><td>7</td><td>Canadian Grand Prix</td><td>null</td><td>2023-09-23T17:41:31.166+0000</td><td>1980</td></tr><tr><td>511</td><td>14</td><td>46</td><td>United States Grand Prix</td><td>null</td><td>2023-09-23T17:41:31.166+0000</td><td>1980</td></tr><tr><td>576</td><td>1</td><td>25</td><td>Argentine Grand Prix</td><td>null</td><td>2023-09-23T17:41:31.166+0000</td><td>1975</td></tr><tr><td>577</td><td>2</td><td>18</td><td>Brazilian Grand Prix</td><td>null</td><td>2023-09-23T17:41:31.166+0000</td><td>1975</td></tr><tr><td>578</td><td>3</td><td>30</td><td>South African Grand Prix</td><td>null</td><td>2023-09-23T17:41:31.166+0000</td><td>1975</td></tr><tr><td>579</td><td>4</td><td>49</td><td>Spanish Grand Prix</td><td>null</td><td>2023-09-23T17:41:31.166+0000</td><td>1975</td></tr><tr><td>580</td><td>5</td><td>6</td><td>Monaco Grand Prix</td><td>null</td><td>2023-09-23T17:41:31.166+0000</td><td>1975</td></tr><tr><td>581</td><td>6</td><td>40</td><td>Belgian Grand Prix</td><td>null</td><td>2023-09-23T17:41:31.166+0000</td><td>1975</td></tr><tr><td>582</td><td>7</td><td>47</td><td>Swedish Grand Prix</td><td>null</td><td>2023-09-23T17:41:31.166+0000</td><td>1975</td></tr><tr><td>583</td><td>8</td><td>39</td><td>Dutch Grand Prix</td><td>null</td><td>2023-09-23T17:41:31.166+0000</td><td>1975</td></tr><tr><td>584</td><td>9</td><td>34</td><td>French Grand Prix</td><td>null</td><td>2023-09-23T17:41:31.166+0000</td><td>1975</td></tr><tr><td>585</td><td>10</td><td>9</td><td>British Grand Prix</td><td>null</td><td>2023-09-23T17:41:31.166+0000</td><td>1975</td></tr><tr><td>586</td><td>11</td><td>20</td><td>German Grand Prix</td><td>null</td><td>2023-09-23T17:41:31.166+0000</td><td>1975</td></tr><tr><td>587</td><td>12</td><td>23</td><td>Austrian Grand Prix</td><td>null</td><td>2023-09-23T17:41:31.166+0000</td><td>1975</td></tr><tr><td>588</td><td>13</td><td>14</td><td>Italian Grand Prix</td><td>null</td><td>2023-09-23T17:41:31.166+0000</td><td>1975</td></tr><tr><td>589</td><td>14</td><td>46</td><td>United States Grand Prix</td><td>null</td><td>2023-09-23T17:41:31.166+0000</td><td>1975</td></tr><tr><td>643</td><td>1</td><td>30</td><td>South African Grand Prix</td><td>null</td><td>2023-09-23T17:41:31.166+0000</td><td>1970</td></tr><tr><td>644</td><td>2</td><td>45</td><td>Spanish Grand Prix</td><td>null</td><td>2023-09-23T17:41:31.166+0000</td><td>1970</td></tr><tr><td>645</td><td>3</td><td>6</td><td>Monaco Grand Prix</td><td>null</td><td>2023-09-23T17:41:31.166+0000</td><td>1970</td></tr><tr><td>646</td><td>4</td><td>13</td><td>Belgian Grand Prix</td><td>null</td><td>2023-09-23T17:41:31.166+0000</td><td>1970</td></tr><tr><td>647</td><td>5</td><td>39</td><td>Dutch Grand Prix</td><td>null</td><td>2023-09-23T17:41:31.166+0000</td><td>1970</td></tr><tr><td>648</td><td>6</td><td>51</td><td>French Grand Prix</td><td>null</td><td>2023-09-23T17:41:31.166+0000</td><td>1970</td></tr><tr><td>649</td><td>7</td><td>38</td><td>British Grand Prix</td><td>null</td><td>2023-09-23T17:41:31.166+0000</td><td>1970</td></tr><tr><td>650</td><td>8</td><td>10</td><td>German Grand Prix</td><td>null</td><td>2023-09-23T17:41:31.166+0000</td><td>1970</td></tr><tr><td>651</td><td>9</td><td>23</td><td>Austrian Grand Prix</td><td>null</td><td>2023-09-23T17:41:31.166+0000</td><td>1970</td></tr><tr><td>652</td><td>10</td><td>14</td><td>Italian Grand Prix</td><td>null</td><td>2023-09-23T17:41:31.166+0000</td><td>1970</td></tr><tr><td>653</td><td>11</td><td>52</td><td>Canadian Grand Prix</td><td>null</td><td>2023-09-23T17:41:31.166+0000</td><td>1970</td></tr><tr><td>654</td><td>12</td><td>46</td><td>United States Grand Prix</td><td>null</td><td>2023-09-23T17:41:31.166+0000</td><td>1970</td></tr><tr><td>655</td><td>13</td><td>32</td><td>Mexican Grand Prix</td><td>null</td><td>2023-09-23T17:41:31.166+0000</td><td>1970</td></tr><tr><td>620</td><td>1</td><td>25</td><td>Argentine Grand Prix</td><td>null</td><td>2023-09-23T17:41:31.166+0000</td><td>1972</td></tr><tr><td>621</td><td>2</td><td>30</td><td>South African Grand Prix</td><td>null</td><td>2023-09-23T17:41:31.166+0000</td><td>1972</td></tr><tr><td>622</td><td>3</td><td>45</td><td>Spanish Grand Prix</td><td>null</td><td>2023-09-23T17:41:31.166+0000</td><td>1972</td></tr><tr><td>623</td><td>4</td><td>6</td><td>Monaco Grand Prix</td><td>null</td><td>2023-09-23T17:41:31.166+0000</td><td>1972</td></tr><tr><td>624</td><td>5</td><td>50</td><td>Belgian Grand Prix</td><td>null</td><td>2023-09-23T17:41:31.166+0000</td><td>1972</td></tr><tr><td>625</td><td>6</td><td>51</td><td>French Grand Prix</td><td>null</td><td>2023-09-23T17:41:31.166+0000</td><td>1972</td></tr><tr><td>626</td><td>7</td><td>38</td><td>British Grand Prix</td><td>null</td><td>2023-09-23T17:41:31.166+0000</td><td>1972</td></tr><tr><td>627</td><td>8</td><td>20</td><td>German Grand Prix</td><td>null</td><td>2023-09-23T17:41:31.166+0000</td><td>1972</td></tr><tr><td>628</td><td>9</td><td>23</td><td>Austrian Grand Prix</td><td>null</td><td>2023-09-23T17:41:31.166+0000</td><td>1972</td></tr><tr><td>629</td><td>10</td><td>14</td><td>Italian Grand Prix</td><td>null</td><td>2023-09-23T17:41:31.166+0000</td><td>1972</td></tr><tr><td>630</td><td>11</td><td>48</td><td>Canadian Grand Prix</td><td>null</td><td>2023-09-23T17:41:31.166+0000</td><td>1972</td></tr><tr><td>631</td><td>12</td><td>46</td><td>United States Grand Prix</td><td>null</td><td>2023-09-23T17:41:31.166+0000</td><td>1972</td></tr><tr><td>667</td><td>1</td><td>30</td><td>South African Grand Prix</td><td>null</td><td>2023-09-23T17:41:31.166+0000</td><td>1968</td></tr><tr><td>668</td><td>2</td><td>45</td><td>Spanish Grand Prix</td><td>null</td><td>2023-09-23T17:41:31.166+0000</td><td>1968</td></tr><tr><td>669</td><td>3</td><td>6</td><td>Monaco Grand Prix</td><td>null</td><td>2023-09-23T17:41:31.166+0000</td><td>1968</td></tr><tr><td>670</td><td>4</td><td>13</td><td>Belgian Grand Prix</td><td>null</td><td>2023-09-23T17:41:31.166+0000</td><td>1968</td></tr><tr><td>671</td><td>5</td><td>39</td><td>Dutch Grand Prix</td><td>null</td><td>2023-09-23T17:41:31.166+0000</td><td>1968</td></tr><tr><td>672</td><td>6</td><td>53</td><td>French Grand Prix</td><td>null</td><td>2023-09-23T17:41:31.166+0000</td><td>1968</td></tr><tr><td>673</td><td>7</td><td>38</td><td>British Grand Prix</td><td>null</td><td>2023-09-23T17:41:31.166+0000</td><td>1968</td></tr><tr><td>674</td><td>8</td><td>20</td><td>German Grand Prix</td><td>null</td><td>2023-09-23T17:41:31.166+0000</td><td>1968</td></tr><tr><td>675</td><td>9</td><td>14</td><td>Italian Grand Prix</td><td>null</td><td>2023-09-23T17:41:31.166+0000</td><td>1968</td></tr><tr><td>676</td><td>10</td><td>52</td><td>Canadian Grand Prix</td><td>null</td><td>2023-09-23T17:41:31.166+0000</td><td>1968</td></tr><tr><td>677</td><td>11</td><td>46</td><td>United States Grand Prix</td><td>null</td><td>2023-09-23T17:41:31.166+0000</td><td>1968</td></tr><tr><td>678</td><td>12</td><td>32</td><td>Mexican Grand Prix</td><td>null</td><td>2023-09-23T17:41:31.166+0000</td><td>1968</td></tr><tr><td>679</td><td>1</td><td>30</td><td>South African Grand Prix</td><td>null</td><td>2023-09-23T17:41:31.166+0000</td><td>1967</td></tr><tr><td>680</td><td>2</td><td>6</td><td>Monaco Grand Prix</td><td>null</td><td>2023-09-23T17:41:31.166+0000</td><td>1967</td></tr><tr><td>681</td><td>3</td><td>39</td><td>Dutch Grand Prix</td><td>null</td><td>2023-09-23T17:41:31.166+0000</td><td>1967</td></tr><tr><td>682</td><td>4</td><td>13</td><td>Belgian Grand Prix</td><td>null</td><td>2023-09-23T17:41:31.166+0000</td><td>1967</td></tr><tr><td>683</td><td>5</td><td>54</td><td>French Grand Prix</td><td>null</td><td>2023-09-23T17:41:31.166+0000</td><td>1967</td></tr><tr><td>684</td><td>6</td><td>9</td><td>British Grand Prix</td><td>null</td><td>2023-09-23T17:41:31.166+0000</td><td>1967</td></tr><tr><td>685</td><td>7</td><td>20</td><td>German Grand Prix</td><td>null</td><td>2023-09-23T17:41:31.166+0000</td><td>1967</td></tr><tr><td>686</td><td>8</td><td>48</td><td>Canadian Grand Prix</td><td>null</td><td>2023-09-23T17:41:31.166+0000</td><td>1967</td></tr><tr><td>687</td><td>9</td><td>14</td><td>Italian Grand Prix</td><td>null</td><td>2023-09-23T17:41:31.166+0000</td><td>1967</td></tr><tr><td>688</td><td>10</td><td>46</td><td>United States Grand Prix</td><td>null</td><td>2023-09-23T17:41:31.166+0000</td><td>1967</td></tr><tr><td>689</td><td>11</td><td>32</td><td>Mexican Grand Prix</td><td>null</td><td>2023-09-23T17:41:31.166+0000</td><td>1967</td></tr><tr><td>765</td><td>1</td><td>25</td><td>Argentine Grand Prix</td><td>null</td><td>2023-09-23T17:41:31.166+0000</td><td>1958</td></tr><tr><td>766</td><td>2</td><td>6</td><td>Monaco Grand Prix</td><td>null</td><td>2023-09-23T17:41:31.166+0000</td><td>1958</td></tr><tr><td>767</td><td>3</td><td>39</td><td>Dutch Grand Prix</td><td>null</td><td>2023-09-23T17:41:31.166+0000</td><td>1958</td></tr><tr><td>768</td><td>4</td><td>19</td><td>Indianapolis 500</td><td>null</td><td>2023-09-23T17:41:31.166+0000</td><td>1958</td></tr><tr><td>769</td><td>5</td><td>13</td><td>Belgian Grand Prix</td><td>null</td><td>2023-09-23T17:41:31.166+0000</td><td>1958</td></tr><tr><td>770</td><td>6</td><td>55</td><td>French Grand Prix</td><td>null</td><td>2023-09-23T17:41:31.166+0000</td><td>1958</td></tr><tr><td>771</td><td>7</td><td>9</td><td>British Grand Prix</td><td>null</td><td>2023-09-23T17:41:31.166+0000</td><td>1958</td></tr><tr><td>772</td><td>8</td><td>20</td><td>German Grand Prix</td><td>null</td><td>2023-09-23T17:41:31.166+0000</td><td>1958</td></tr><tr><td>773</td><td>9</td><td>59</td><td>Portuguese Grand Prix</td><td>null</td><td>2023-09-23T17:41:31.166+0000</td><td>1958</td></tr><tr><td>774</td><td>10</td><td>14</td><td>Italian Grand Prix</td><td>null</td><td>2023-09-23T17:41:31.166+0000</td><td>1958</td></tr><tr><td>775</td><td>11</td><td>64</td><td>Moroccan Grand Prix</td><td>null</td><td>2023-09-23T17:41:31.166+0000</td><td>1958</td></tr><tr><td>632</td><td>1</td><td>30</td><td>South African Grand Prix</td><td>null</td><td>2023-09-23T17:41:31.166+0000</td><td>1971</td></tr><tr><td>633</td><td>2</td><td>49</td><td>Spanish Grand Prix</td><td>null</td><td>2023-09-23T17:41:31.166+0000</td><td>1971</td></tr><tr><td>634</td><td>3</td><td>6</td><td>Monaco Grand Prix</td><td>null</td><td>2023-09-23T17:41:31.166+0000</td><td>1971</td></tr><tr><td>635</td><td>4</td><td>39</td><td>Dutch Grand Prix</td><td>null</td><td>2023-09-23T17:41:31.166+0000</td><td>1971</td></tr><tr><td>636</td><td>5</td><td>34</td><td>French Grand Prix</td><td>null</td><td>2023-09-23T17:41:31.166+0000</td><td>1971</td></tr><tr><td>637</td><td>6</td><td>9</td><td>British Grand Prix</td><td>null</td><td>2023-09-23T17:41:31.166+0000</td><td>1971</td></tr><tr><td>638</td><td>7</td><td>20</td><td>German Grand Prix</td><td>null</td><td>2023-09-23T17:41:31.166+0000</td><td>1971</td></tr><tr><td>639</td><td>8</td><td>23</td><td>Austrian Grand Prix</td><td>null</td><td>2023-09-23T17:41:31.166+0000</td><td>1971</td></tr><tr><td>640</td><td>9</td><td>14</td><td>Italian Grand Prix</td><td>null</td><td>2023-09-23T17:41:31.166+0000</td><td>1971</td></tr><tr><td>641</td><td>10</td><td>48</td><td>Canadian Grand Prix</td><td>null</td><td>2023-09-23T17:41:31.166+0000</td><td>1971</td></tr><tr><td>642</td><td>11</td><td>46</td><td>United States Grand Prix</td><td>null</td><td>2023-09-23T17:41:31.166+0000</td><td>1971</td></tr><tr><td>656</td><td>1</td><td>30</td><td>South African Grand Prix</td><td>null</td><td>2023-09-23T17:41:31.166+0000</td><td>1969</td></tr><tr><td>657</td><td>2</td><td>49</td><td>Spanish Grand Prix</td><td>null</td><td>2023-09-23T17:41:31.166+0000</td><td>1969</td></tr><tr><td>658</td><td>3</td><td>6</td><td>Monaco Grand Prix</td><td>null</td><td>2023-09-23T17:41:31.166+0000</td><td>1969</td></tr><tr><td>659</td><td>4</td><td>39</td><td>Dutch Grand Prix</td><td>null</td><td>2023-09-23T17:41:31.166+0000</td><td>1969</td></tr><tr><td>660</td><td>5</td><td>51</td><td>French Grand Prix</td><td>null</td><td>2023-09-23T17:41:31.166+0000</td><td>1969</td></tr><tr><td>661</td><td>6</td><td>9</td><td>British Grand Prix</td><td>null</td><td>2023-09-23T17:41:31.166+0000</td><td>1969</td></tr><tr><td>662</td><td>7</td><td>20</td><td>German Grand Prix</td><td>null</td><td>2023-09-23T17:41:31.166+0000</td><td>1969</td></tr><tr><td>663</td><td>8</td><td>14</td><td>Italian Grand Prix</td><td>null</td><td>2023-09-23T17:41:31.166+0000</td><td>1969</td></tr><tr><td>664</td><td>9</td><td>48</td><td>Canadian Grand Prix</td><td>null</td><td>2023-09-23T17:41:31.166+0000</td><td>1969</td></tr><tr><td>665</td><td>10</td><td>46</td><td>United States Grand Prix</td><td>null</td><td>2023-09-23T17:41:31.166+0000</td><td>1969</td></tr><tr><td>666</td><td>11</td><td>32</td><td>Mexican Grand Prix</td><td>null</td><td>2023-09-23T17:41:31.166+0000</td><td>1969</td></tr><tr><td>746</td><td>1</td><td>25</td><td>Argentine Grand Prix</td><td>null</td><td>2023-09-23T17:41:31.166+0000</td><td>1960</td></tr><tr><td>747</td><td>2</td><td>6</td><td>Monaco Grand Prix</td><td>null</td><td>2023-09-23T17:41:31.166+0000</td><td>1960</td></tr><tr><td>748</td><td>3</td><td>19</td><td>Indianapolis 500</td><td>null</td><td>2023-09-23T17:41:31.166+0000</td><td>1960</td></tr><tr><td>749</td><td>4</td><td>39</td><td>Dutch Grand Prix</td><td>null</td><td>2023-09-23T17:41:31.166+0000</td><td>1960</td></tr><tr><td>750</td><td>5</td><td>13</td><td>Belgian Grand Prix</td><td>null</td><td>2023-09-23T17:41:31.166+0000</td><td>1960</td></tr><tr><td>751</td><td>6</td><td>55</td><td>French Grand Prix</td><td>null</td><td>2023-09-23T17:41:31.166+0000</td><td>1960</td></tr><tr><td>752</td><td>7</td><td>9</td><td>British Grand Prix</td><td>null</td><td>2023-09-23T17:41:31.166+0000</td><td>1960</td></tr><tr><td>753</td><td>8</td><td>59</td><td>Portuguese Grand Prix</td><td>null</td><td>2023-09-23T17:41:31.166+0000</td><td>1960</td></tr><tr><td>754</td><td>9</td><td>14</td><td>Italian Grand Prix</td><td>null</td><td>2023-09-23T17:41:31.166+0000</td><td>1960</td></tr><tr><td>755</td><td>10</td><td>60</td><td>United States Grand Prix</td><td>null</td><td>2023-09-23T17:41:31.166+0000</td><td>1960</td></tr><tr><td>719</td><td>1</td><td>6</td><td>Monaco Grand Prix</td><td>null</td><td>2023-09-23T17:41:31.166+0000</td><td>1963</td></tr><tr><td>720</td><td>2</td><td>13</td><td>Belgian Grand Prix</td><td>null</td><td>2023-09-23T17:41:31.166+0000</td><td>1963</td></tr><tr><td>721</td><td>3</td><td>39</td><td>Dutch Grand Prix</td><td>null</td><td>2023-09-23T17:41:31.166+0000</td><td>1963</td></tr><tr><td>722</td><td>4</td><td>55</td><td>French Grand Prix</td><td>null</td><td>2023-09-23T17:41:31.166+0000</td><td>1963</td></tr><tr><td>723</td><td>5</td><td>9</td><td>British Grand Prix</td><td>null</td><td>2023-09-23T17:41:31.166+0000</td><td>1963</td></tr><tr><td>724</td><td>6</td><td>20</td><td>German Grand Prix</td><td>null</td><td>2023-09-23T17:41:31.166+0000</td><td>1963</td></tr><tr><td>725</td><td>7</td><td>14</td><td>Italian Grand Prix</td><td>null</td><td>2023-09-23T17:41:31.166+0000</td><td>1963</td></tr><tr><td>726</td><td>8</td><td>46</td><td>United States Grand Prix</td><td>null</td><td>2023-09-23T17:41:31.166+0000</td><td>1963</td></tr><tr><td>727</td><td>9</td><td>32</td><td>Mexican Grand Prix</td><td>null</td><td>2023-09-23T17:41:31.166+0000</td><td>1963</td></tr><tr><td>728</td><td>10</td><td>56</td><td>South African Grand Prix</td><td>null</td><td>2023-09-23T17:41:31.166+0000</td><td>1963</td></tr><tr><td>699</td><td>1</td><td>56</td><td>South African Grand Prix</td><td>null</td><td>2023-09-23T17:41:31.166+0000</td><td>1965</td></tr><tr><td>700</td><td>2</td><td>6</td><td>Monaco Grand Prix</td><td>null</td><td>2023-09-23T17:41:31.166+0000</td><td>1965</td></tr><tr><td>701</td><td>3</td><td>13</td><td>Belgian Grand Prix</td><td>null</td><td>2023-09-23T17:41:31.166+0000</td><td>1965</td></tr><tr><td>702</td><td>4</td><td>51</td><td>French Grand Prix</td><td>null</td><td>2023-09-23T17:41:31.166+0000</td><td>1965</td></tr><tr><td>703</td><td>5</td><td>9</td><td>British Grand Prix</td><td>null</td><td>2023-09-23T17:41:31.166+0000</td><td>1965</td></tr><tr><td>704</td><td>6</td><td>39</td><td>Dutch Grand Prix</td><td>null</td><td>2023-09-23T17:41:31.166+0000</td><td>1965</td></tr><tr><td>705</td><td>7</td><td>20</td><td>German Grand Prix</td><td>null</td><td>2023-09-23T17:41:31.166+0000</td><td>1965</td></tr><tr><td>706</td><td>8</td><td>14</td><td>Italian Grand Prix</td><td>null</td><td>2023-09-23T17:41:31.166+0000</td><td>1965</td></tr><tr><td>707</td><td>9</td><td>46</td><td>United States Grand Prix</td><td>null</td><td>2023-09-23T17:41:31.166+0000</td><td>1965</td></tr><tr><td>708</td><td>10</td><td>32</td><td>Mexican Grand Prix</td><td>null</td><td>2023-09-23T17:41:31.166+0000</td><td>1965</td></tr><tr><td>709</td><td>1</td><td>6</td><td>Monaco Grand Prix</td><td>null</td><td>2023-09-23T17:41:31.166+0000</td><td>1964</td></tr><tr><td>710</td><td>2</td><td>39</td><td>Dutch Grand Prix</td><td>null</td><td>2023-09-23T17:41:31.166+0000</td><td>1964</td></tr><tr><td>711</td><td>3</td><td>13</td><td>Belgian Grand Prix</td><td>null</td><td>2023-09-23T17:41:31.166+0000</td><td>1964</td></tr><tr><td>712</td><td>4</td><td>53</td><td>French Grand Prix</td><td>null</td><td>2023-09-23T17:41:31.166+0000</td><td>1964</td></tr><tr><td>713</td><td>5</td><td>38</td><td>British Grand Prix</td><td>null</td><td>2023-09-23T17:41:31.166+0000</td><td>1964</td></tr><tr><td>714</td><td>6</td><td>20</td><td>German Grand Prix</td><td>null</td><td>2023-09-23T17:41:31.166+0000</td><td>1964</td></tr><tr><td>715</td><td>7</td><td>57</td><td>Austrian Grand Prix</td><td>null</td><td>2023-09-23T17:41:31.166+0000</td><td>1964</td></tr><tr><td>716</td><td>8</td><td>14</td><td>Italian Grand Prix</td><td>null</td><td>2023-09-23T17:41:31.166+0000</td><td>1964</td></tr><tr><td>717</td><td>9</td><td>46</td><td>United States Grand Prix</td><td>null</td><td>2023-09-23T17:41:31.166+0000</td><td>1964</td></tr><tr><td>718</td><td>10</td><td>32</td><td>Mexican Grand Prix</td><td>null</td><td>2023-09-23T17:41:31.166+0000</td><td>1964</td></tr><tr><td>756</td><td>1</td><td>6</td><td>Monaco Grand Prix</td><td>null</td><td>2023-09-23T17:41:31.166+0000</td><td>1959</td></tr><tr><td>757</td><td>2</td><td>19</td><td>Indianapolis 500</td><td>null</td><td>2023-09-23T17:41:31.166+0000</td><td>1959</td></tr><tr><td>758</td><td>3</td><td>39</td><td>Dutch Grand Prix</td><td>null</td><td>2023-09-23T17:41:31.166+0000</td><td>1959</td></tr><tr><td>759</td><td>4</td><td>55</td><td>French Grand Prix</td><td>null</td><td>2023-09-23T17:41:31.166+0000</td><td>1959</td></tr><tr><td>760</td><td>5</td><td>58</td><td>British Grand Prix</td><td>null</td><td>2023-09-23T17:41:31.166+0000</td><td>1959</td></tr><tr><td>761</td><td>6</td><td>61</td><td>German Grand Prix</td><td>null</td><td>2023-09-23T17:41:31.166+0000</td><td>1959</td></tr><tr><td>762</td><td>7</td><td>62</td><td>Portuguese Grand Prix</td><td>null</td><td>2023-09-23T17:41:31.166+0000</td><td>1959</td></tr><tr><td>763</td><td>8</td><td>14</td><td>Italian Grand Prix</td><td>null</td><td>2023-09-23T17:41:31.166+0000</td><td>1959</td></tr><tr><td>764</td><td>9</td><td>63</td><td>United States Grand Prix</td><td>null</td><td>2023-09-23T17:41:31.166+0000</td><td>1959</td></tr><tr><td>729</td><td>1</td><td>39</td><td>Dutch Grand Prix</td><td>null</td><td>2023-09-23T17:41:31.166+0000</td><td>1962</td></tr><tr><td>730</td><td>2</td><td>6</td><td>Monaco Grand Prix</td><td>null</td><td>2023-09-23T17:41:31.166+0000</td><td>1962</td></tr><tr><td>731</td><td>3</td><td>13</td><td>Belgian Grand Prix</td><td>null</td><td>2023-09-23T17:41:31.166+0000</td><td>1962</td></tr><tr><td>732</td><td>4</td><td>53</td><td>French Grand Prix</td><td>null</td><td>2023-09-23T17:41:31.166+0000</td><td>1962</td></tr><tr><td>733</td><td>5</td><td>58</td><td>British Grand Prix</td><td>null</td><td>2023-09-23T17:41:31.166+0000</td><td>1962</td></tr><tr><td>734</td><td>6</td><td>20</td><td>German Grand Prix</td><td>null</td><td>2023-09-23T17:41:31.166+0000</td><td>1962</td></tr><tr><td>735</td><td>7</td><td>14</td><td>Italian Grand Prix</td><td>null</td><td>2023-09-23T17:41:31.166+0000</td><td>1962</td></tr><tr><td>736</td><td>8</td><td>46</td><td>United States Grand Prix</td><td>null</td><td>2023-09-23T17:41:31.166+0000</td><td>1962</td></tr><tr><td>737</td><td>9</td><td>56</td><td>South African Grand Prix</td><td>null</td><td>2023-09-23T17:41:31.166+0000</td><td>1962</td></tr><tr><td>690</td><td>1</td><td>6</td><td>Monaco Grand Prix</td><td>null</td><td>2023-09-23T17:41:31.166+0000</td><td>1966</td></tr><tr><td>691</td><td>2</td><td>13</td><td>Belgian Grand Prix</td><td>null</td><td>2023-09-23T17:41:31.166+0000</td><td>1966</td></tr><tr><td>692</td><td>3</td><td>55</td><td>French Grand Prix</td><td>null</td><td>2023-09-23T17:41:31.166+0000</td><td>1966</td></tr><tr><td>693</td><td>4</td><td>38</td><td>British Grand Prix</td><td>null</td><td>2023-09-23T17:41:31.166+0000</td><td>1966</td></tr><tr><td>694</td><td>5</td><td>39</td><td>Dutch Grand Prix</td><td>null</td><td>2023-09-23T17:41:31.166+0000</td><td>1966</td></tr><tr><td>695</td><td>6</td><td>20</td><td>German Grand Prix</td><td>null</td><td>2023-09-23T17:41:31.166+0000</td><td>1966</td></tr><tr><td>696</td><td>7</td><td>14</td><td>Italian Grand Prix</td><td>null</td><td>2023-09-23T17:41:31.166+0000</td><td>1966</td></tr><tr><td>697</td><td>8</td><td>46</td><td>United States Grand Prix</td><td>null</td><td>2023-09-23T17:41:31.166+0000</td><td>1966</td></tr><tr><td>698</td><td>9</td><td>32</td><td>Mexican Grand Prix</td><td>null</td><td>2023-09-23T17:41:31.166+0000</td><td>1966</td></tr><tr><td>799</td><td>1</td><td>25</td><td>Argentine Grand Prix</td><td>null</td><td>2023-09-23T17:41:31.166+0000</td><td>1954</td></tr><tr><td>800</td><td>2</td><td>19</td><td>Indianapolis 500</td><td>null</td><td>2023-09-23T17:41:31.166+0000</td><td>1954</td></tr><tr><td>801</td><td>3</td><td>13</td><td>Belgian Grand Prix</td><td>null</td><td>2023-09-23T17:41:31.166+0000</td><td>1954</td></tr><tr><td>802</td><td>4</td><td>55</td><td>French Grand Prix</td><td>null</td><td>2023-09-23T17:41:31.166+0000</td><td>1954</td></tr><tr><td>803</td><td>5</td><td>9</td><td>British Grand Prix</td><td>null</td><td>2023-09-23T17:41:31.166+0000</td><td>1954</td></tr><tr><td>804</td><td>6</td><td>20</td><td>German Grand Prix</td><td>null</td><td>2023-09-23T17:41:31.166+0000</td><td>1954</td></tr><tr><td>805</td><td>7</td><td>66</td><td>Swiss Grand Prix</td><td>null</td><td>2023-09-23T17:41:31.166+0000</td><td>1954</td></tr><tr><td>806</td><td>8</td><td>14</td><td>Italian Grand Prix</td><td>null</td><td>2023-09-23T17:41:31.166+0000</td><td>1954</td></tr><tr><td>807</td><td>9</td><td>67</td><td>Spanish Grand Prix</td><td>null</td><td>2023-09-23T17:41:31.166+0000</td><td>1954</td></tr><tr><td>808</td><td>1</td><td>25</td><td>Argentine Grand Prix</td><td>null</td><td>2023-09-23T17:41:31.166+0000</td><td>1953</td></tr><tr><td>809</td><td>2</td><td>19</td><td>Indianapolis 500</td><td>null</td><td>2023-09-23T17:41:31.166+0000</td><td>1953</td></tr><tr><td>810</td><td>3</td><td>39</td><td>Dutch Grand Prix</td><td>null</td><td>2023-09-23T17:41:31.166+0000</td><td>1953</td></tr><tr><td>811</td><td>4</td><td>13</td><td>Belgian Grand Prix</td><td>null</td><td>2023-09-23T17:41:31.166+0000</td><td>1953</td></tr><tr><td>812</td><td>5</td><td>55</td><td>French Grand Prix</td><td>null</td><td>2023-09-23T17:41:31.166+0000</td><td>1953</td></tr><tr><td>813</td><td>6</td><td>9</td><td>British Grand Prix</td><td>null</td><td>2023-09-23T17:41:31.166+0000</td><td>1953</td></tr><tr><td>814</td><td>7</td><td>20</td><td>German Grand Prix</td><td>null</td><td>2023-09-23T17:41:31.166+0000</td><td>1953</td></tr><tr><td>815</td><td>8</td><td>66</td><td>Swiss Grand Prix</td><td>null</td><td>2023-09-23T17:41:31.166+0000</td><td>1953</td></tr><tr><td>816</td><td>9</td><td>14</td><td>Italian Grand Prix</td><td>null</td><td>2023-09-23T17:41:31.166+0000</td><td>1953</td></tr><tr><td>738</td><td>1</td><td>6</td><td>Monaco Grand Prix</td><td>null</td><td>2023-09-23T17:41:31.166+0000</td><td>1961</td></tr><tr><td>739</td><td>2</td><td>39</td><td>Dutch Grand Prix</td><td>null</td><td>2023-09-23T17:41:31.166+0000</td><td>1961</td></tr><tr><td>740</td><td>3</td><td>13</td><td>Belgian Grand Prix</td><td>null</td><td>2023-09-23T17:41:31.166+0000</td><td>1961</td></tr><tr><td>741</td><td>4</td><td>55</td><td>French Grand Prix</td><td>null</td><td>2023-09-23T17:41:31.166+0000</td><td>1961</td></tr><tr><td>742</td><td>5</td><td>58</td><td>British Grand Prix</td><td>null</td><td>2023-09-23T17:41:31.166+0000</td><td>1961</td></tr><tr><td>743</td><td>6</td><td>20</td><td>German Grand Prix</td><td>null</td><td>2023-09-23T17:41:31.166+0000</td><td>1961</td></tr><tr><td>744</td><td>7</td><td>14</td><td>Italian Grand Prix</td><td>null</td><td>2023-09-23T17:41:31.166+0000</td><td>1961</td></tr><tr><td>745</td><td>8</td><td>46</td><td>United States Grand Prix</td><td>null</td><td>2023-09-23T17:41:31.166+0000</td><td>1961</td></tr><tr><td>776</td><td>1</td><td>25</td><td>Argentine Grand Prix</td><td>null</td><td>2023-09-23T17:41:31.166+0000</td><td>1957</td></tr><tr><td>777</td><td>2</td><td>6</td><td>Monaco Grand Prix</td><td>null</td><td>2023-09-23T17:41:31.166+0000</td><td>1957</td></tr><tr><td>778</td><td>3</td><td>19</td><td>Indianapolis 500</td><td>null</td><td>2023-09-23T17:41:31.166+0000</td><td>1957</td></tr><tr><td>779</td><td>4</td><td>53</td><td>French Grand Prix</td><td>null</td><td>2023-09-23T17:41:31.166+0000</td><td>1957</td></tr><tr><td>780</td><td>5</td><td>58</td><td>British Grand Prix</td><td>null</td><td>2023-09-23T17:41:31.166+0000</td><td>1957</td></tr><tr><td>781</td><td>6</td><td>20</td><td>German Grand Prix</td><td>null</td><td>2023-09-23T17:41:31.166+0000</td><td>1957</td></tr><tr><td>782</td><td>7</td><td>65</td><td>Pescara Grand Prix</td><td>null</td><td>2023-09-23T17:41:31.166+0000</td><td>1957</td></tr><tr><td>783</td><td>8</td><td>14</td><td>Italian Grand Prix</td><td>null</td><td>2023-09-23T17:41:31.166+0000</td><td>1957</td></tr><tr><td>784</td><td>1</td><td>25</td><td>Argentine Grand Prix</td><td>null</td><td>2023-09-23T17:41:31.166+0000</td><td>1956</td></tr><tr><td>785</td><td>2</td><td>6</td><td>Monaco Grand Prix</td><td>null</td><td>2023-09-23T17:41:31.166+0000</td><td>1956</td></tr><tr><td>786</td><td>3</td><td>19</td><td>Indianapolis 500</td><td>null</td><td>2023-09-23T17:41:31.166+0000</td><td>1956</td></tr><tr><td>787</td><td>4</td><td>13</td><td>Belgian Grand Prix</td><td>null</td><td>2023-09-23T17:41:31.166+0000</td><td>1956</td></tr><tr><td>788</td><td>5</td><td>55</td><td>French Grand Prix</td><td>null</td><td>2023-09-23T17:41:31.166+0000</td><td>1956</td></tr><tr><td>789</td><td>6</td><td>9</td><td>British Grand Prix</td><td>null</td><td>2023-09-23T17:41:31.166+0000</td><td>1956</td></tr><tr><td>790</td><td>7</td><td>20</td><td>German Grand Prix</td><td>null</td><td>2023-09-23T17:41:31.166+0000</td><td>1956</td></tr><tr><td>791</td><td>8</td><td>14</td><td>Italian Grand Prix</td><td>null</td><td>2023-09-23T17:41:31.166+0000</td><td>1956</td></tr><tr><td>825</td><td>1</td><td>66</td><td>Swiss Grand Prix</td><td>null</td><td>2023-09-23T17:41:31.166+0000</td><td>1951</td></tr><tr><td>826</td><td>2</td><td>19</td><td>Indianapolis 500</td><td>null</td><td>2023-09-23T17:41:31.166+0000</td><td>1951</td></tr><tr><td>827</td><td>3</td><td>13</td><td>Belgian Grand Prix</td><td>null</td><td>2023-09-23T17:41:31.166+0000</td><td>1951</td></tr><tr><td>828</td><td>4</td><td>55</td><td>French Grand Prix</td><td>null</td><td>2023-09-23T17:41:31.166+0000</td><td>1951</td></tr><tr><td>829</td><td>5</td><td>9</td><td>British Grand Prix</td><td>null</td><td>2023-09-23T17:41:31.166+0000</td><td>1951</td></tr><tr><td>830</td><td>6</td><td>20</td><td>German Grand Prix</td><td>null</td><td>2023-09-23T17:41:31.166+0000</td><td>1951</td></tr><tr><td>831</td><td>7</td><td>14</td><td>Italian Grand Prix</td><td>null</td><td>2023-09-23T17:41:31.166+0000</td><td>1951</td></tr><tr><td>832</td><td>8</td><td>67</td><td>Spanish Grand Prix</td><td>null</td><td>2023-09-23T17:41:31.166+0000</td><td>1951</td></tr><tr><td>817</td><td>1</td><td>66</td><td>Swiss Grand Prix</td><td>null</td><td>2023-09-23T17:41:31.166+0000</td><td>1952</td></tr><tr><td>818</td><td>2</td><td>19</td><td>Indianapolis 500</td><td>null</td><td>2023-09-23T17:41:31.166+0000</td><td>1952</td></tr><tr><td>819</td><td>3</td><td>13</td><td>Belgian Grand Prix</td><td>null</td><td>2023-09-23T17:41:31.166+0000</td><td>1952</td></tr><tr><td>820</td><td>4</td><td>53</td><td>French Grand Prix</td><td>null</td><td>2023-09-23T17:41:31.166+0000</td><td>1952</td></tr><tr><td>821</td><td>5</td><td>9</td><td>British Grand Prix</td><td>null</td><td>2023-09-23T17:41:31.166+0000</td><td>1952</td></tr><tr><td>822</td><td>6</td><td>20</td><td>German Grand Prix</td><td>null</td><td>2023-09-23T17:41:31.166+0000</td><td>1952</td></tr><tr><td>823</td><td>7</td><td>39</td><td>Dutch Grand Prix</td><td>null</td><td>2023-09-23T17:41:31.166+0000</td><td>1952</td></tr><tr><td>824</td><td>8</td><td>14</td><td>Italian Grand Prix</td><td>null</td><td>2023-09-23T17:41:31.166+0000</td><td>1952</td></tr><tr><td>792</td><td>1</td><td>25</td><td>Argentine Grand Prix</td><td>null</td><td>2023-09-23T17:41:31.166+0000</td><td>1955</td></tr><tr><td>793</td><td>2</td><td>6</td><td>Monaco Grand Prix</td><td>null</td><td>2023-09-23T17:41:31.166+0000</td><td>1955</td></tr><tr><td>794</td><td>3</td><td>19</td><td>Indianapolis 500</td><td>null</td><td>2023-09-23T17:41:31.166+0000</td><td>1955</td></tr><tr><td>795</td><td>4</td><td>13</td><td>Belgian Grand Prix</td><td>null</td><td>2023-09-23T17:41:31.166+0000</td><td>1955</td></tr><tr><td>796</td><td>5</td><td>39</td><td>Dutch Grand Prix</td><td>null</td><td>2023-09-23T17:41:31.166+0000</td><td>1955</td></tr><tr><td>797</td><td>6</td><td>58</td><td>British Grand Prix</td><td>null</td><td>2023-09-23T17:41:31.166+0000</td><td>1955</td></tr><tr><td>798</td><td>7</td><td>14</td><td>Italian Grand Prix</td><td>null</td><td>2023-09-23T17:41:31.166+0000</td><td>1955</td></tr><tr><td>833</td><td>1</td><td>9</td><td>British Grand Prix</td><td>null</td><td>2023-09-23T17:41:31.166+0000</td><td>1950</td></tr><tr><td>834</td><td>2</td><td>6</td><td>Monaco Grand Prix</td><td>null</td><td>2023-09-23T17:41:31.166+0000</td><td>1950</td></tr><tr><td>835</td><td>3</td><td>19</td><td>Indianapolis 500</td><td>null</td><td>2023-09-23T17:41:31.166+0000</td><td>1950</td></tr><tr><td>836</td><td>4</td><td>66</td><td>Swiss Grand Prix</td><td>null</td><td>2023-09-23T17:41:31.166+0000</td><td>1950</td></tr><tr><td>837</td><td>5</td><td>13</td><td>Belgian Grand Prix</td><td>null</td><td>2023-09-23T17:41:31.166+0000</td><td>1950</td></tr><tr><td>838</td><td>6</td><td>55</td><td>French Grand Prix</td><td>null</td><td>2023-09-23T17:41:31.166+0000</td><td>1950</td></tr><tr><td>839</td><td>7</td><td>14</td><td>Italian Grand Prix</td><td>null</td><td>2023-09-23T17:41:31.166+0000</td><td>1950</td></tr></tbody></table></div>"
      ]
     },
     "metadata": {
      "application/vnd.databricks.v1+output": {
       "addedWidgets": {},
       "aggData": [],
       "aggError": "",
       "aggOverflow": false,
       "aggSchema": [],
       "aggSeriesLimitReached": false,
       "aggType": "",
       "arguments": {},
       "columnCustomDisplayInfos": {},
       "data": [
        [
         1053,
         2,
         21,
         "Emilia Romagna Grand Prix",
         "2021-04-18T13:00:00.000+0000",
         "2023-09-23T17:41:31.166+0000",
         2021
        ],
        [
         1052,
         1,
         3,
         "Bahrain Grand Prix",
         "2021-03-28T15:00:00.000+0000",
         "2023-09-23T17:41:31.166+0000",
         2021
        ],
        [
         1051,
         21,
         1,
         "Australian Grand Prix",
         "2021-11-21T06:00:00.000+0000",
         "2023-09-23T17:41:31.166+0000",
         2021
        ],
        [
         1054,
         3,
         20,
         "TBC",
         null,
         "2023-09-23T17:41:31.166+0000",
         2021
        ],
        [
         1055,
         4,
         4,
         "Spanish Grand Prix",
         "2021-05-09T13:00:00.000+0000",
         "2023-09-23T17:41:31.166+0000",
         2021
        ],
        [
         1056,
         5,
         6,
         "Monaco Grand Prix",
         "2021-05-23T13:00:00.000+0000",
         "2023-09-23T17:41:31.166+0000",
         2021
        ],
        [
         1057,
         6,
         73,
         "Azerbaijan Grand Prix",
         "2021-06-06T12:00:00.000+0000",
         "2023-09-23T17:41:31.166+0000",
         2021
        ],
        [
         1058,
         7,
         7,
         "Canadian Grand Prix",
         "2021-06-13T18:00:00.000+0000",
         "2023-09-23T17:41:31.166+0000",
         2021
        ],
        [
         1059,
         8,
         34,
         "French Grand Prix",
         "2021-06-27T13:00:00.000+0000",
         "2023-09-23T17:41:31.166+0000",
         2021
        ],
        [
         1060,
         9,
         70,
         "Austrian Grand Prix",
         "2021-07-04T13:00:00.000+0000",
         "2023-09-23T17:41:31.166+0000",
         2021
        ],
        [
         1061,
         10,
         9,
         "British Grand Prix",
         "2021-07-18T14:00:00.000+0000",
         "2023-09-23T17:41:31.166+0000",
         2021
        ],
        [
         1062,
         11,
         11,
         "Hungarian Grand Prix",
         "2021-08-01T13:00:00.000+0000",
         "2023-09-23T17:41:31.166+0000",
         2021
        ],
        [
         1063,
         12,
         13,
         "Belgian Grand Prix",
         "2021-08-29T13:00:00.000+0000",
         "2023-09-23T17:41:31.166+0000",
         2021
        ],
        [
         1064,
         13,
         39,
         "Dutch Grand Prix",
         "2021-09-05T13:00:00.000+0000",
         "2023-09-23T17:41:31.166+0000",
         2021
        ],
        [
         1065,
         14,
         14,
         "Italian Grand Prix",
         "2021-09-12T13:00:00.000+0000",
         "2023-09-23T17:41:31.166+0000",
         2021
        ],
        [
         1066,
         15,
         71,
         "Russian Grand Prix",
         "2021-09-26T12:00:00.000+0000",
         "2023-09-23T17:41:31.166+0000",
         2021
        ],
        [
         1067,
         16,
         15,
         "Singapore Grand Prix",
         "2021-10-03T12:00:00.000+0000",
         "2023-09-23T17:41:31.166+0000",
         2021
        ],
        [
         1068,
         17,
         22,
         "Japanese Grand Prix",
         "2021-10-10T05:00:00.000+0000",
         "2023-09-23T17:41:31.166+0000",
         2021
        ],
        [
         1069,
         18,
         69,
         "United States Grand Prix",
         "2021-10-24T19:00:00.000+0000",
         "2023-09-23T17:41:31.166+0000",
         2021
        ],
        [
         1070,
         19,
         32,
         "Mexico City Grand Prix",
         "2021-10-31T19:00:00.000+0000",
         "2023-09-23T17:41:31.166+0000",
         2021
        ],
        [
         1071,
         20,
         18,
         "Brazilian Grand Prix",
         "2021-11-07T17:00:00.000+0000",
         "2023-09-23T17:41:31.166+0000",
         2021
        ],
        [
         1072,
         22,
         77,
         "Saudi Arabian Grand Prix",
         "2021-12-05T16:00:00.000+0000",
         "2023-09-23T17:41:31.166+0000",
         2021
        ],
        [
         1073,
         23,
         24,
         "Abu Dhabi Grand Prix",
         "2021-12-12T13:00:00.000+0000",
         "2023-09-23T17:41:31.166+0000",
         2021
        ],
        [
         989,
         1,
         1,
         "Australian Grand Prix",
         "2018-03-25T05:10:00.000+0000",
         "2023-09-23T17:41:31.166+0000",
         2018
        ],
        [
         990,
         2,
         3,
         "Bahrain Grand Prix",
         "2018-04-08T15:10:00.000+0000",
         "2023-09-23T17:41:31.166+0000",
         2018
        ],
        [
         991,
         3,
         17,
         "Chinese Grand Prix",
         "2018-04-15T06:10:00.000+0000",
         "2023-09-23T17:41:31.166+0000",
         2018
        ],
        [
         992,
         4,
         73,
         "Azerbaijan Grand Prix",
         "2018-04-29T12:10:00.000+0000",
         "2023-09-23T17:41:31.166+0000",
         2018
        ],
        [
         993,
         5,
         4,
         "Spanish Grand Prix",
         "2018-05-13T13:10:00.000+0000",
         "2023-09-23T17:41:31.166+0000",
         2018
        ],
        [
         994,
         6,
         6,
         "Monaco Grand Prix",
         "2018-05-27T13:10:00.000+0000",
         "2023-09-23T17:41:31.166+0000",
         2018
        ],
        [
         995,
         7,
         7,
         "Canadian Grand Prix",
         "2018-06-10T18:10:00.000+0000",
         "2023-09-23T17:41:31.166+0000",
         2018
        ],
        [
         996,
         8,
         34,
         "French Grand Prix",
         "2018-06-24T14:10:00.000+0000",
         "2023-09-23T17:41:31.166+0000",
         2018
        ],
        [
         997,
         9,
         70,
         "Austrian Grand Prix",
         "2018-07-01T13:10:00.000+0000",
         "2023-09-23T17:41:31.166+0000",
         2018
        ],
        [
         998,
         10,
         9,
         "British Grand Prix",
         "2018-07-08T13:10:00.000+0000",
         "2023-09-23T17:41:31.166+0000",
         2018
        ],
        [
         999,
         11,
         10,
         "German Grand Prix",
         "2018-07-22T13:10:00.000+0000",
         "2023-09-23T17:41:31.166+0000",
         2018
        ],
        [
         1000,
         12,
         11,
         "Hungarian Grand Prix",
         "2018-07-29T13:10:00.000+0000",
         "2023-09-23T17:41:31.166+0000",
         2018
        ],
        [
         1001,
         13,
         13,
         "Belgian Grand Prix",
         "2018-08-26T13:10:00.000+0000",
         "2023-09-23T17:41:31.166+0000",
         2018
        ],
        [
         1002,
         14,
         14,
         "Italian Grand Prix",
         "2018-09-02T13:10:00.000+0000",
         "2023-09-23T17:41:31.166+0000",
         2018
        ],
        [
         1003,
         15,
         15,
         "Singapore Grand Prix",
         "2018-09-16T12:10:00.000+0000",
         "2023-09-23T17:41:31.166+0000",
         2018
        ],
        [
         1004,
         16,
         71,
         "Russian Grand Prix",
         "2018-09-30T11:10:00.000+0000",
         "2023-09-23T17:41:31.166+0000",
         2018
        ],
        [
         1005,
         17,
         22,
         "Japanese Grand Prix",
         "2018-10-07T05:10:00.000+0000",
         "2023-09-23T17:41:31.166+0000",
         2018
        ],
        [
         1006,
         18,
         69,
         "United States Grand Prix",
         "2018-10-21T18:10:00.000+0000",
         "2023-09-23T17:41:31.166+0000",
         2018
        ],
        [
         1007,
         19,
         32,
         "Mexican Grand Prix",
         "2018-10-28T19:10:00.000+0000",
         "2023-09-23T17:41:31.166+0000",
         2018
        ],
        [
         1008,
         20,
         18,
         "Brazilian Grand Prix",
         "2018-11-11T17:10:00.000+0000",
         "2023-09-23T17:41:31.166+0000",
         2018
        ],
        [
         1009,
         21,
         24,
         "Abu Dhabi Grand Prix",
         "2018-11-25T13:10:00.000+0000",
         "2023-09-23T17:41:31.166+0000",
         2018
        ],
        [
         1010,
         1,
         1,
         "Australian Grand Prix",
         "2019-03-17T05:10:00.000+0000",
         "2023-09-23T17:41:31.166+0000",
         2019
        ],
        [
         1011,
         2,
         3,
         "Bahrain Grand Prix",
         "2019-03-31T15:10:00.000+0000",
         "2023-09-23T17:41:31.166+0000",
         2019
        ],
        [
         1012,
         3,
         17,
         "Chinese Grand Prix",
         "2019-04-14T06:10:00.000+0000",
         "2023-09-23T17:41:31.166+0000",
         2019
        ],
        [
         1013,
         4,
         73,
         "Azerbaijan Grand Prix",
         "2019-04-28T12:10:00.000+0000",
         "2023-09-23T17:41:31.166+0000",
         2019
        ],
        [
         1014,
         5,
         4,
         "Spanish Grand Prix",
         "2019-05-12T13:10:00.000+0000",
         "2023-09-23T17:41:31.166+0000",
         2019
        ],
        [
         1015,
         6,
         6,
         "Monaco Grand Prix",
         "2019-05-26T13:10:00.000+0000",
         "2023-09-23T17:41:31.166+0000",
         2019
        ],
        [
         1016,
         7,
         7,
         "Canadian Grand Prix",
         "2019-06-09T18:10:00.000+0000",
         "2023-09-23T17:41:31.166+0000",
         2019
        ],
        [
         1017,
         8,
         34,
         "French Grand Prix",
         "2019-06-23T13:10:00.000+0000",
         "2023-09-23T17:41:31.166+0000",
         2019
        ],
        [
         1018,
         9,
         70,
         "Austrian Grand Prix",
         "2019-06-30T13:10:00.000+0000",
         "2023-09-23T17:41:31.166+0000",
         2019
        ],
        [
         1019,
         10,
         9,
         "British Grand Prix",
         "2019-07-14T13:10:00.000+0000",
         "2023-09-23T17:41:31.166+0000",
         2019
        ],
        [
         1020,
         11,
         10,
         "German Grand Prix",
         "2019-07-28T13:10:00.000+0000",
         "2023-09-23T17:41:31.166+0000",
         2019
        ],
        [
         1021,
         12,
         11,
         "Hungarian Grand Prix",
         "2019-08-04T13:10:00.000+0000",
         "2023-09-23T17:41:31.166+0000",
         2019
        ],
        [
         1022,
         13,
         13,
         "Belgian Grand Prix",
         "2019-09-01T13:10:00.000+0000",
         "2023-09-23T17:41:31.166+0000",
         2019
        ],
        [
         1023,
         14,
         14,
         "Italian Grand Prix",
         "2019-09-08T13:10:00.000+0000",
         "2023-09-23T17:41:31.166+0000",
         2019
        ],
        [
         1024,
         15,
         15,
         "Singapore Grand Prix",
         "2019-09-22T12:10:00.000+0000",
         "2023-09-23T17:41:31.166+0000",
         2019
        ],
        [
         1025,
         16,
         71,
         "Russian Grand Prix",
         "2019-09-29T11:10:00.000+0000",
         "2023-09-23T17:41:31.166+0000",
         2019
        ],
        [
         1026,
         17,
         22,
         "Japanese Grand Prix",
         "2019-10-13T05:10:00.000+0000",
         "2023-09-23T17:41:31.166+0000",
         2019
        ],
        [
         1027,
         18,
         32,
         "Mexican Grand Prix",
         "2019-10-27T19:10:00.000+0000",
         "2023-09-23T17:41:31.166+0000",
         2019
        ],
        [
         1028,
         19,
         69,
         "United States Grand Prix",
         "2019-11-03T19:10:00.000+0000",
         "2023-09-23T17:41:31.166+0000",
         2019
        ],
        [
         1029,
         20,
         18,
         "Brazilian Grand Prix",
         "2019-11-17T17:10:00.000+0000",
         "2023-09-23T17:41:31.166+0000",
         2019
        ],
        [
         1030,
         21,
         24,
         "Abu Dhabi Grand Prix",
         "2019-12-01T13:10:00.000+0000",
         "2023-09-23T17:41:31.166+0000",
         2019
        ],
        [
         948,
         1,
         1,
         "Australian Grand Prix",
         "2016-03-20T05:00:00.000+0000",
         "2023-09-23T17:41:31.166+0000",
         2016
        ],
        [
         949,
         2,
         3,
         "Bahrain Grand Prix",
         "2016-04-03T15:00:00.000+0000",
         "2023-09-23T17:41:31.166+0000",
         2016
        ],
        [
         950,
         3,
         17,
         "Chinese Grand Prix",
         "2016-04-17T06:00:00.000+0000",
         "2023-09-23T17:41:31.166+0000",
         2016
        ],
        [
         951,
         4,
         71,
         "Russian Grand Prix",
         "2016-05-01T12:00:00.000+0000",
         "2023-09-23T17:41:31.166+0000",
         2016
        ],
        [
         952,
         5,
         4,
         "Spanish Grand Prix",
         "2016-05-15T12:00:00.000+0000",
         "2023-09-23T17:41:31.166+0000",
         2016
        ],
        [
         953,
         6,
         6,
         "Monaco Grand Prix",
         "2016-05-29T12:00:00.000+0000",
         "2023-09-23T17:41:31.166+0000",
         2016
        ],
        [
         954,
         7,
         7,
         "Canadian Grand Prix",
         "2016-06-12T18:00:00.000+0000",
         "2023-09-23T17:41:31.166+0000",
         2016
        ],
        [
         955,
         8,
         73,
         "European Grand Prix",
         "2016-06-19T13:00:00.000+0000",
         "2023-09-23T17:41:31.166+0000",
         2016
        ],
        [
         956,
         9,
         70,
         "Austrian Grand Prix",
         "2016-07-03T12:00:00.000+0000",
         "2023-09-23T17:41:31.166+0000",
         2016
        ],
        [
         957,
         10,
         9,
         "British Grand Prix",
         "2016-07-10T12:00:00.000+0000",
         "2023-09-23T17:41:31.166+0000",
         2016
        ],
        [
         958,
         11,
         11,
         "Hungarian Grand Prix",
         "2016-07-24T12:00:00.000+0000",
         "2023-09-23T17:41:31.166+0000",
         2016
        ],
        [
         959,
         12,
         10,
         "German Grand Prix",
         "2016-07-31T12:00:00.000+0000",
         "2023-09-23T17:41:31.166+0000",
         2016
        ],
        [
         960,
         13,
         13,
         "Belgian Grand Prix",
         "2016-08-28T12:00:00.000+0000",
         "2023-09-23T17:41:31.166+0000",
         2016
        ],
        [
         961,
         14,
         14,
         "Italian Grand Prix",
         "2016-09-04T12:00:00.000+0000",
         "2023-09-23T17:41:31.166+0000",
         2016
        ],
        [
         962,
         15,
         15,
         "Singapore Grand Prix",
         "2016-09-18T12:00:00.000+0000",
         "2023-09-23T17:41:31.166+0000",
         2016
        ],
        [
         963,
         16,
         2,
         "Malaysian Grand Prix",
         "2016-10-02T07:00:00.000+0000",
         "2023-09-23T17:41:31.166+0000",
         2016
        ],
        [
         964,
         17,
         22,
         "Japanese Grand Prix",
         "2016-10-09T05:00:00.000+0000",
         "2023-09-23T17:41:31.166+0000",
         2016
        ],
        [
         965,
         18,
         69,
         "United States Grand Prix",
         "2016-10-23T19:00:00.000+0000",
         "2023-09-23T17:41:31.166+0000",
         2016
        ],
        [
         966,
         19,
         32,
         "Mexican Grand Prix",
         "2016-10-30T19:00:00.000+0000",
         "2023-09-23T17:41:31.166+0000",
         2016
        ],
        [
         967,
         20,
         18,
         "Brazilian Grand Prix",
         "2016-11-13T16:00:00.000+0000",
         "2023-09-23T17:41:31.166+0000",
         2016
        ],
        [
         968,
         21,
         24,
         "Abu Dhabi Grand Prix",
         "2016-11-27T13:00:00.000+0000",
         "2023-09-23T17:41:31.166+0000",
         2016
        ],
        [
         860,
         1,
         1,
         "Australian Grand Prix",
         "2012-03-18T06:00:00.000+0000",
         "2023-09-23T17:41:31.166+0000",
         2012
        ],
        [
         861,
         2,
         2,
         "Malaysian Grand Prix",
         "2012-03-25T08:00:00.000+0000",
         "2023-09-23T17:41:31.166+0000",
         2012
        ],
        [
         862,
         3,
         17,
         "Chinese Grand Prix",
         "2012-04-15T07:00:00.000+0000",
         "2023-09-23T17:41:31.166+0000",
         2012
        ],
        [
         863,
         4,
         3,
         "Bahrain Grand Prix",
         "2012-04-22T12:00:00.000+0000",
         "2023-09-23T17:41:31.166+0000",
         2012
        ],
        [
         864,
         5,
         4,
         "Spanish Grand Prix",
         "2012-05-13T12:00:00.000+0000",
         "2023-09-23T17:41:31.166+0000",
         2012
        ],
        [
         865,
         6,
         6,
         "Monaco Grand Prix",
         "2012-05-27T12:00:00.000+0000",
         "2023-09-23T17:41:31.166+0000",
         2012
        ],
        [
         866,
         7,
         7,
         "Canadian Grand Prix",
         "2012-06-10T18:00:00.000+0000",
         "2023-09-23T17:41:31.166+0000",
         2012
        ],
        [
         867,
         8,
         12,
         "European Grand Prix",
         "2012-06-24T12:00:00.000+0000",
         "2023-09-23T17:41:31.166+0000",
         2012
        ],
        [
         868,
         9,
         9,
         "British Grand Prix",
         "2012-07-08T12:00:00.000+0000",
         "2023-09-23T17:41:31.166+0000",
         2012
        ],
        [
         869,
         10,
         10,
         "German Grand Prix",
         "2012-07-22T12:00:00.000+0000",
         "2023-09-23T17:41:31.166+0000",
         2012
        ],
        [
         870,
         11,
         11,
         "Hungarian Grand Prix",
         "2012-07-29T12:00:00.000+0000",
         "2023-09-23T17:41:31.166+0000",
         2012
        ],
        [
         871,
         12,
         13,
         "Belgian Grand Prix",
         "2012-09-02T12:00:00.000+0000",
         "2023-09-23T17:41:31.166+0000",
         2012
        ],
        [
         872,
         13,
         14,
         "Italian Grand Prix",
         "2012-09-09T12:00:00.000+0000",
         "2023-09-23T17:41:31.166+0000",
         2012
        ],
        [
         873,
         14,
         15,
         "Singapore Grand Prix",
         "2012-09-23T12:00:00.000+0000",
         "2023-09-23T17:41:31.166+0000",
         2012
        ],
        [
         874,
         15,
         22,
         "Japanese Grand Prix",
         "2012-10-07T06:00:00.000+0000",
         "2023-09-23T17:41:31.166+0000",
         2012
        ],
        [
         875,
         16,
         35,
         "Korean Grand Prix",
         "2012-10-14T06:00:00.000+0000",
         "2023-09-23T17:41:31.166+0000",
         2012
        ],
        [
         876,
         17,
         68,
         "Indian Grand Prix",
         "2012-10-28T09:30:00.000+0000",
         "2023-09-23T17:41:31.166+0000",
         2012
        ],
        [
         877,
         18,
         24,
         "Abu Dhabi Grand Prix",
         "2012-11-04T13:00:00.000+0000",
         "2023-09-23T17:41:31.166+0000",
         2012
        ],
        [
         878,
         19,
         69,
         "United States Grand Prix",
         "2012-11-18T19:00:00.000+0000",
         "2023-09-23T17:41:31.166+0000",
         2012
        ],
        [
         879,
         20,
         18,
         "Brazilian Grand Prix",
         "2012-11-25T16:00:00.000+0000",
         "2023-09-23T17:41:31.166+0000",
         2012
        ],
        [
         969,
         1,
         1,
         "Australian Grand Prix",
         "2017-03-26T05:00:00.000+0000",
         "2023-09-23T17:41:31.166+0000",
         2017
        ],
        [
         970,
         2,
         17,
         "Chinese Grand Prix",
         "2017-04-09T06:00:00.000+0000",
         "2023-09-23T17:41:31.166+0000",
         2017
        ],
        [
         971,
         3,
         3,
         "Bahrain Grand Prix",
         "2017-04-16T15:00:00.000+0000",
         "2023-09-23T17:41:31.166+0000",
         2017
        ],
        [
         972,
         4,
         71,
         "Russian Grand Prix",
         "2017-04-30T12:00:00.000+0000",
         "2023-09-23T17:41:31.166+0000",
         2017
        ],
        [
         973,
         5,
         4,
         "Spanish Grand Prix",
         "2017-05-14T12:00:00.000+0000",
         "2023-09-23T17:41:31.166+0000",
         2017
        ],
        [
         974,
         6,
         6,
         "Monaco Grand Prix",
         "2017-05-28T12:00:00.000+0000",
         "2023-09-23T17:41:31.166+0000",
         2017
        ],
        [
         975,
         7,
         7,
         "Canadian Grand Prix",
         "2017-06-11T18:00:00.000+0000",
         "2023-09-23T17:41:31.166+0000",
         2017
        ],
        [
         976,
         8,
         73,
         "Azerbaijan Grand Prix",
         "2017-06-25T13:00:00.000+0000",
         "2023-09-23T17:41:31.166+0000",
         2017
        ],
        [
         977,
         9,
         70,
         "Austrian Grand Prix",
         "2017-07-09T12:00:00.000+0000",
         "2023-09-23T17:41:31.166+0000",
         2017
        ],
        [
         978,
         10,
         9,
         "British Grand Prix",
         "2017-07-16T12:00:00.000+0000",
         "2023-09-23T17:41:31.166+0000",
         2017
        ],
        [
         979,
         11,
         11,
         "Hungarian Grand Prix",
         "2017-07-30T12:00:00.000+0000",
         "2023-09-23T17:41:31.166+0000",
         2017
        ],
        [
         980,
         12,
         13,
         "Belgian Grand Prix",
         "2017-08-27T12:00:00.000+0000",
         "2023-09-23T17:41:31.166+0000",
         2017
        ],
        [
         981,
         13,
         14,
         "Italian Grand Prix",
         "2017-09-03T12:00:00.000+0000",
         "2023-09-23T17:41:31.166+0000",
         2017
        ],
        [
         982,
         14,
         15,
         "Singapore Grand Prix",
         "2017-09-17T12:00:00.000+0000",
         "2023-09-23T17:41:31.166+0000",
         2017
        ],
        [
         983,
         15,
         2,
         "Malaysian Grand Prix",
         "2017-10-01T07:00:00.000+0000",
         "2023-09-23T17:41:31.166+0000",
         2017
        ],
        [
         984,
         16,
         22,
         "Japanese Grand Prix",
         "2017-10-08T05:00:00.000+0000",
         "2023-09-23T17:41:31.166+0000",
         2017
        ],
        [
         985,
         17,
         69,
         "United States Grand Prix",
         "2017-10-22T19:00:00.000+0000",
         "2023-09-23T17:41:31.166+0000",
         2017
        ],
        [
         986,
         18,
         32,
         "Mexican Grand Prix",
         "2017-10-29T19:00:00.000+0000",
         "2023-09-23T17:41:31.166+0000",
         2017
        ],
        [
         987,
         19,
         18,
         "Brazilian Grand Prix",
         "2017-11-12T16:00:00.000+0000",
         "2023-09-23T17:41:31.166+0000",
         2017
        ],
        [
         988,
         20,
         24,
         "Abu Dhabi Grand Prix",
         "2017-11-26T13:00:00.000+0000",
         "2023-09-23T17:41:31.166+0000",
         2017
        ],
        [
         880,
         1,
         1,
         "Australian Grand Prix",
         "2013-03-17T06:00:00.000+0000",
         "2023-09-23T17:41:31.166+0000",
         2013
        ],
        [
         881,
         2,
         2,
         "Malaysian Grand Prix",
         "2013-03-24T08:00:00.000+0000",
         "2023-09-23T17:41:31.166+0000",
         2013
        ],
        [
         882,
         3,
         17,
         "Chinese Grand Prix",
         "2013-04-14T07:00:00.000+0000",
         "2023-09-23T17:41:31.166+0000",
         2013
        ],
        [
         883,
         4,
         3,
         "Bahrain Grand Prix",
         "2013-04-21T12:00:00.000+0000",
         "2023-09-23T17:41:31.166+0000",
         2013
        ],
        [
         884,
         5,
         4,
         "Spanish Grand Prix",
         "2013-05-12T12:00:00.000+0000",
         "2023-09-23T17:41:31.166+0000",
         2013
        ],
        [
         885,
         6,
         6,
         "Monaco Grand Prix",
         "2013-05-26T12:00:00.000+0000",
         "2023-09-23T17:41:31.166+0000",
         2013
        ],
        [
         886,
         7,
         7,
         "Canadian Grand Prix",
         "2013-06-09T18:00:00.000+0000",
         "2023-09-23T17:41:31.166+0000",
         2013
        ],
        [
         887,
         8,
         9,
         "British Grand Prix",
         "2013-06-30T12:00:00.000+0000",
         "2023-09-23T17:41:31.166+0000",
         2013
        ],
        [
         888,
         9,
         20,
         "German Grand Prix",
         "2013-07-07T12:00:00.000+0000",
         "2023-09-23T17:41:31.166+0000",
         2013
        ],
        [
         890,
         10,
         11,
         "Hungarian Grand Prix",
         "2013-07-28T12:00:00.000+0000",
         "2023-09-23T17:41:31.166+0000",
         2013
        ],
        [
         891,
         11,
         13,
         "Belgian Grand Prix",
         "2013-08-25T12:00:00.000+0000",
         "2023-09-23T17:41:31.166+0000",
         2013
        ],
        [
         892,
         12,
         14,
         "Italian Grand Prix",
         "2013-09-08T12:00:00.000+0000",
         "2023-09-23T17:41:31.166+0000",
         2013
        ],
        [
         893,
         13,
         15,
         "Singapore Grand Prix",
         "2013-09-22T12:00:00.000+0000",
         "2023-09-23T17:41:31.166+0000",
         2013
        ],
        [
         894,
         14,
         35,
         "Korean Grand Prix",
         "2013-10-06T06:00:00.000+0000",
         "2023-09-23T17:41:31.166+0000",
         2013
        ],
        [
         895,
         15,
         22,
         "Japanese Grand Prix",
         "2013-10-13T06:00:00.000+0000",
         "2023-09-23T17:41:31.166+0000",
         2013
        ],
        [
         896,
         16,
         68,
         "Indian Grand Prix",
         "2013-10-27T09:30:00.000+0000",
         "2023-09-23T17:41:31.166+0000",
         2013
        ],
        [
         897,
         17,
         24,
         "Abu Dhabi Grand Prix",
         "2013-11-03T13:00:00.000+0000",
         "2023-09-23T17:41:31.166+0000",
         2013
        ],
        [
         898,
         18,
         69,
         "United States Grand Prix",
         "2013-11-17T19:00:00.000+0000",
         "2023-09-23T17:41:31.166+0000",
         2013
        ],
        [
         899,
         19,
         18,
         "Brazilian Grand Prix",
         "2013-11-24T16:00:00.000+0000",
         "2023-09-23T17:41:31.166+0000",
         2013
        ],
        [
         900,
         1,
         1,
         "Australian Grand Prix",
         "2014-03-16T06:00:00.000+0000",
         "2023-09-23T17:41:31.166+0000",
         2014
        ],
        [
         901,
         2,
         2,
         "Malaysian Grand Prix",
         "2014-03-30T08:00:00.000+0000",
         "2023-09-23T17:41:31.166+0000",
         2014
        ],
        [
         902,
         3,
         3,
         "Bahrain Grand Prix",
         "2014-04-06T15:00:00.000+0000",
         "2023-09-23T17:41:31.166+0000",
         2014
        ],
        [
         903,
         4,
         17,
         "Chinese Grand Prix",
         "2014-04-20T07:00:00.000+0000",
         "2023-09-23T17:41:31.166+0000",
         2014
        ],
        [
         904,
         5,
         4,
         "Spanish Grand Prix",
         "2014-05-11T12:00:00.000+0000",
         "2023-09-23T17:41:31.166+0000",
         2014
        ],
        [
         905,
         6,
         6,
         "Monaco Grand Prix",
         "2014-05-25T12:00:00.000+0000",
         "2023-09-23T17:41:31.166+0000",
         2014
        ],
        [
         906,
         7,
         7,
         "Canadian Grand Prix",
         "2014-06-08T18:00:00.000+0000",
         "2023-09-23T17:41:31.166+0000",
         2014
        ],
        [
         907,
         8,
         70,
         "Austrian Grand Prix",
         "2014-06-22T12:00:00.000+0000",
         "2023-09-23T17:41:31.166+0000",
         2014
        ],
        [
         908,
         9,
         9,
         "British Grand Prix",
         "2014-07-06T12:00:00.000+0000",
         "2023-09-23T17:41:31.166+0000",
         2014
        ],
        [
         909,
         10,
         10,
         "German Grand Prix",
         "2014-07-20T12:00:00.000+0000",
         "2023-09-23T17:41:31.166+0000",
         2014
        ],
        [
         910,
         11,
         11,
         "Hungarian Grand Prix",
         "2014-07-27T12:00:00.000+0000",
         "2023-09-23T17:41:31.166+0000",
         2014
        ],
        [
         911,
         12,
         13,
         "Belgian Grand Prix",
         "2014-08-24T12:00:00.000+0000",
         "2023-09-23T17:41:31.166+0000",
         2014
        ],
        [
         912,
         13,
         14,
         "Italian Grand Prix",
         "2014-09-07T12:00:00.000+0000",
         "2023-09-23T17:41:31.166+0000",
         2014
        ],
        [
         913,
         14,
         15,
         "Singapore Grand Prix",
         "2014-09-21T12:00:00.000+0000",
         "2023-09-23T17:41:31.166+0000",
         2014
        ],
        [
         914,
         15,
         22,
         "Japanese Grand Prix",
         "2014-10-05T06:00:00.000+0000",
         "2023-09-23T17:41:31.166+0000",
         2014
        ],
        [
         915,
         16,
         71,
         "Russian Grand Prix",
         "2014-10-12T11:00:00.000+0000",
         "2023-09-23T17:41:31.166+0000",
         2014
        ],
        [
         916,
         17,
         69,
         "United States Grand Prix",
         "2014-11-02T20:00:00.000+0000",
         "2023-09-23T17:41:31.166+0000",
         2014
        ],
        [
         917,
         18,
         18,
         "Brazilian Grand Prix",
         "2014-11-09T16:00:00.000+0000",
         "2023-09-23T17:41:31.166+0000",
         2014
        ],
        [
         918,
         19,
         24,
         "Abu Dhabi Grand Prix",
         "2014-11-23T13:00:00.000+0000",
         "2023-09-23T17:41:31.166+0000",
         2014
        ],
        [
         931,
         6,
         6,
         "Monaco Grand Prix",
         "2015-05-24T12:00:00.000+0000",
         "2023-09-23T17:41:31.166+0000",
         2015
        ],
        [
         932,
         7,
         7,
         "Canadian Grand Prix",
         "2015-06-07T18:00:00.000+0000",
         "2023-09-23T17:41:31.166+0000",
         2015
        ],
        [
         929,
         4,
         3,
         "Bahrain Grand Prix",
         "2015-04-19T15:00:00.000+0000",
         "2023-09-23T17:41:31.166+0000",
         2015
        ],
        [
         930,
         5,
         4,
         "Spanish Grand Prix",
         "2015-05-10T12:00:00.000+0000",
         "2023-09-23T17:41:31.166+0000",
         2015
        ],
        [
         928,
         3,
         17,
         "Chinese Grand Prix",
         "2015-04-12T06:00:00.000+0000",
         "2023-09-23T17:41:31.166+0000",
         2015
        ],
        [
         926,
         1,
         1,
         "Australian Grand Prix",
         "2015-03-15T05:00:00.000+0000",
         "2023-09-23T17:41:31.166+0000",
         2015
        ],
        [
         927,
         2,
         2,
         "Malaysian Grand Prix",
         "2015-03-29T07:00:00.000+0000",
         "2023-09-23T17:41:31.166+0000",
         2015
        ],
        [
         933,
         8,
         70,
         "Austrian Grand Prix",
         "2015-06-21T12:00:00.000+0000",
         "2023-09-23T17:41:31.166+0000",
         2015
        ],
        [
         934,
         9,
         9,
         "British Grand Prix",
         "2015-07-05T12:00:00.000+0000",
         "2023-09-23T17:41:31.166+0000",
         2015
        ],
        [
         936,
         10,
         11,
         "Hungarian Grand Prix",
         "2015-07-26T12:00:00.000+0000",
         "2023-09-23T17:41:31.166+0000",
         2015
        ],
        [
         937,
         11,
         13,
         "Belgian Grand Prix",
         "2015-08-23T12:00:00.000+0000",
         "2023-09-23T17:41:31.166+0000",
         2015
        ],
        [
         938,
         12,
         14,
         "Italian Grand Prix",
         "2015-09-06T12:00:00.000+0000",
         "2023-09-23T17:41:31.166+0000",
         2015
        ],
        [
         939,
         13,
         15,
         "Singapore Grand Prix",
         "2015-09-20T12:00:00.000+0000",
         "2023-09-23T17:41:31.166+0000",
         2015
        ],
        [
         940,
         14,
         22,
         "Japanese Grand Prix",
         "2015-09-27T05:00:00.000+0000",
         "2023-09-23T17:41:31.166+0000",
         2015
        ],
        [
         941,
         15,
         71,
         "Russian Grand Prix",
         "2015-10-11T11:00:00.000+0000",
         "2023-09-23T17:41:31.166+0000",
         2015
        ],
        [
         942,
         16,
         69,
         "United States Grand Prix",
         "2015-10-25T19:00:00.000+0000",
         "2023-09-23T17:41:31.166+0000",
         2015
        ],
        [
         943,
         17,
         32,
         "Mexican Grand Prix",
         "2015-11-01T19:00:00.000+0000",
         "2023-09-23T17:41:31.166+0000",
         2015
        ],
        [
         944,
         18,
         18,
         "Brazilian Grand Prix",
         "2015-11-15T16:00:00.000+0000",
         "2023-09-23T17:41:31.166+0000",
         2015
        ],
        [
         945,
         19,
         24,
         "Abu Dhabi Grand Prix",
         "2015-11-29T13:00:00.000+0000",
         "2023-09-23T17:41:31.166+0000",
         2015
        ],
        [
         71,
         1,
         1,
         "Australian Grand Prix",
         "2005-03-06T14:00:00.000+0000",
         "2023-09-23T17:41:31.166+0000",
         2005
        ],
        [
         72,
         2,
         2,
         "Malaysian Grand Prix",
         "2005-03-20T15:00:00.000+0000",
         "2023-09-23T17:41:31.166+0000",
         2005
        ],
        [
         73,
         3,
         3,
         "Bahrain Grand Prix",
         "2005-04-03T14:30:00.000+0000",
         "2023-09-23T17:41:31.166+0000",
         2005
        ],
        [
         74,
         4,
         21,
         "San Marino Grand Prix",
         "2005-04-24T14:00:00.000+0000",
         "2023-09-23T17:41:31.166+0000",
         2005
        ],
        [
         75,
         5,
         4,
         "Spanish Grand Prix",
         "2005-05-08T14:00:00.000+0000",
         "2023-09-23T17:41:31.166+0000",
         2005
        ],
        [
         76,
         6,
         6,
         "Monaco Grand Prix",
         "2005-05-22T14:00:00.000+0000",
         "2023-09-23T17:41:31.166+0000",
         2005
        ],
        [
         77,
         7,
         20,
         "European Grand Prix",
         "2005-05-29T14:00:00.000+0000",
         "2023-09-23T17:41:31.166+0000",
         2005
        ],
        [
         78,
         8,
         7,
         "Canadian Grand Prix",
         "2005-06-12T13:00:00.000+0000",
         "2023-09-23T17:41:31.166+0000",
         2005
        ],
        [
         79,
         9,
         19,
         "United States Grand Prix",
         "2005-06-19T14:00:00.000+0000",
         "2023-09-23T17:41:31.166+0000",
         2005
        ],
        [
         80,
         10,
         8,
         "French Grand Prix",
         "2005-07-03T14:00:00.000+0000",
         "2023-09-23T17:41:31.166+0000",
         2005
        ],
        [
         81,
         11,
         9,
         "British Grand Prix",
         "2005-07-10T14:00:00.000+0000",
         "2023-09-23T17:41:31.166+0000",
         2005
        ],
        [
         82,
         12,
         10,
         "German Grand Prix",
         "2005-07-24T14:00:00.000+0000",
         "2023-09-23T17:41:31.166+0000",
         2005
        ],
        [
         83,
         13,
         11,
         "Hungarian Grand Prix",
         "2005-07-31T14:00:00.000+0000",
         "2023-09-23T17:41:31.166+0000",
         2005
        ],
        [
         84,
         14,
         5,
         "Turkish Grand Prix",
         "2005-08-21T15:00:00.000+0000",
         "2023-09-23T17:41:31.166+0000",
         2005
        ],
        [
         85,
         15,
         14,
         "Italian Grand Prix",
         "2005-09-04T14:00:00.000+0000",
         "2023-09-23T17:41:31.166+0000",
         2005
        ],
        [
         86,
         16,
         13,
         "Belgian Grand Prix",
         "2005-09-11T14:00:00.000+0000",
         "2023-09-23T17:41:31.166+0000",
         2005
        ],
        [
         87,
         17,
         18,
         "Brazilian Grand Prix",
         "2005-09-25T14:00:00.000+0000",
         "2023-09-23T17:41:31.166+0000",
         2005
        ],
        [
         88,
         18,
         22,
         "Japanese Grand Prix",
         "2005-10-09T14:00:00.000+0000",
         "2023-09-23T17:41:31.166+0000",
         2005
        ],
        [
         89,
         19,
         17,
         "Chinese Grand Prix",
         "2005-10-16T14:00:00.000+0000",
         "2023-09-23T17:41:31.166+0000",
         2005
        ],
        [
         337,
         1,
         3,
         "Bahrain Grand Prix",
         "2010-03-14T12:00:00.000+0000",
         "2023-09-23T17:41:31.166+0000",
         2010
        ],
        [
         338,
         2,
         1,
         "Australian Grand Prix",
         "2010-03-28T06:00:00.000+0000",
         "2023-09-23T17:41:31.166+0000",
         2010
        ],
        [
         339,
         3,
         2,
         "Malaysian Grand Prix",
         "2010-04-04T08:00:00.000+0000",
         "2023-09-23T17:41:31.166+0000",
         2010
        ],
        [
         340,
         4,
         17,
         "Chinese Grand Prix",
         "2010-04-18T06:00:00.000+0000",
         "2023-09-23T17:41:31.166+0000",
         2010
        ],
        [
         341,
         5,
         4,
         "Spanish Grand Prix",
         "2010-05-09T12:00:00.000+0000",
         "2023-09-23T17:41:31.166+0000",
         2010
        ],
        [
         342,
         6,
         6,
         "Monaco Grand Prix",
         "2010-05-16T12:00:00.000+0000",
         "2023-09-23T17:41:31.166+0000",
         2010
        ],
        [
         343,
         7,
         5,
         "Turkish Grand Prix",
         "2010-05-30T11:00:00.000+0000",
         "2023-09-23T17:41:31.166+0000",
         2010
        ],
        [
         344,
         8,
         7,
         "Canadian Grand Prix",
         "2010-06-13T16:00:00.000+0000",
         "2023-09-23T17:41:31.166+0000",
         2010
        ],
        [
         345,
         9,
         12,
         "European Grand Prix",
         "2010-06-27T12:00:00.000+0000",
         "2023-09-23T17:41:31.166+0000",
         2010
        ],
        [
         346,
         10,
         9,
         "British Grand Prix",
         "2010-07-11T12:00:00.000+0000",
         "2023-09-23T17:41:31.166+0000",
         2010
        ],
        [
         347,
         11,
         10,
         "German Grand Prix",
         "2010-07-25T12:00:00.000+0000",
         "2023-09-23T17:41:31.166+0000",
         2010
        ],
        [
         348,
         12,
         11,
         "Hungarian Grand Prix",
         "2010-08-01T12:00:00.000+0000",
         "2023-09-23T17:41:31.166+0000",
         2010
        ],
        [
         349,
         13,
         13,
         "Belgian Grand Prix",
         "2010-08-29T12:00:00.000+0000",
         "2023-09-23T17:41:31.166+0000",
         2010
        ],
        [
         350,
         14,
         14,
         "Italian Grand Prix",
         "2010-09-12T12:00:00.000+0000",
         "2023-09-23T17:41:31.166+0000",
         2010
        ],
        [
         351,
         15,
         15,
         "Singapore Grand Prix",
         "2010-09-26T12:00:00.000+0000",
         "2023-09-23T17:41:31.166+0000",
         2010
        ],
        [
         352,
         16,
         22,
         "Japanese Grand Prix",
         "2010-10-10T06:00:00.000+0000",
         "2023-09-23T17:41:31.166+0000",
         2010
        ],
        [
         353,
         17,
         35,
         "Korean Grand Prix",
         "2010-10-24T05:00:00.000+0000",
         "2023-09-23T17:41:31.166+0000",
         2010
        ],
        [
         354,
         18,
         18,
         "Brazilian Grand Prix",
         "2010-11-07T16:00:00.000+0000",
         "2023-09-23T17:41:31.166+0000",
         2010
        ],
        [
         355,
         19,
         24,
         "Abu Dhabi Grand Prix",
         "2010-11-14T13:00:00.000+0000",
         "2023-09-23T17:41:31.166+0000",
         2010
        ],
        [
         841,
         1,
         1,
         "Australian Grand Prix",
         "2011-03-27T06:00:00.000+0000",
         "2023-09-23T17:41:31.166+0000",
         2011
        ],
        [
         842,
         2,
         2,
         "Malaysian Grand Prix",
         "2011-04-10T08:00:00.000+0000",
         "2023-09-23T17:41:31.166+0000",
         2011
        ],
        [
         843,
         3,
         17,
         "Chinese Grand Prix",
         "2011-04-17T07:00:00.000+0000",
         "2023-09-23T17:41:31.166+0000",
         2011
        ],
        [
         844,
         4,
         5,
         "Turkish Grand Prix",
         "2011-05-08T12:00:00.000+0000",
         "2023-09-23T17:41:31.166+0000",
         2011
        ],
        [
         845,
         5,
         4,
         "Spanish Grand Prix",
         "2011-05-22T12:00:00.000+0000",
         "2023-09-23T17:41:31.166+0000",
         2011
        ],
        [
         846,
         6,
         6,
         "Monaco Grand Prix",
         "2011-05-29T12:00:00.000+0000",
         "2023-09-23T17:41:31.166+0000",
         2011
        ],
        [
         847,
         7,
         7,
         "Canadian Grand Prix",
         "2011-06-12T17:00:00.000+0000",
         "2023-09-23T17:41:31.166+0000",
         2011
        ],
        [
         848,
         8,
         12,
         "European Grand Prix",
         "2011-06-26T12:00:00.000+0000",
         "2023-09-23T17:41:31.166+0000",
         2011
        ],
        [
         849,
         9,
         9,
         "British Grand Prix",
         "2011-07-10T12:00:00.000+0000",
         "2023-09-23T17:41:31.166+0000",
         2011
        ],
        [
         850,
         10,
         20,
         "German Grand Prix",
         "2011-07-24T12:00:00.000+0000",
         "2023-09-23T17:41:31.166+0000",
         2011
        ],
        [
         851,
         11,
         11,
         "Hungarian Grand Prix",
         "2011-07-31T12:00:00.000+0000",
         "2023-09-23T17:41:31.166+0000",
         2011
        ],
        [
         852,
         12,
         13,
         "Belgian Grand Prix",
         "2011-08-28T12:00:00.000+0000",
         "2023-09-23T17:41:31.166+0000",
         2011
        ],
        [
         853,
         13,
         14,
         "Italian Grand Prix",
         "2011-09-11T12:00:00.000+0000",
         "2023-09-23T17:41:31.166+0000",
         2011
        ],
        [
         854,
         14,
         15,
         "Singapore Grand Prix",
         "2011-09-25T12:00:00.000+0000",
         "2023-09-23T17:41:31.166+0000",
         2011
        ],
        [
         855,
         15,
         22,
         "Japanese Grand Prix",
         "2011-10-09T06:00:00.000+0000",
         "2023-09-23T17:41:31.166+0000",
         2011
        ],
        [
         856,
         16,
         35,
         "Korean Grand Prix",
         "2011-10-16T06:00:00.000+0000",
         "2023-09-23T17:41:31.166+0000",
         2011
        ],
        [
         857,
         17,
         68,
         "Indian Grand Prix",
         "2011-10-30T09:30:00.000+0000",
         "2023-09-23T17:41:31.166+0000",
         2011
        ],
        [
         858,
         18,
         24,
         "Abu Dhabi Grand Prix",
         "2011-11-13T13:00:00.000+0000",
         "2023-09-23T17:41:31.166+0000",
         2011
        ],
        [
         859,
         19,
         18,
         "Brazilian Grand Prix",
         "2011-11-27T16:00:00.000+0000",
         "2023-09-23T17:41:31.166+0000",
         2011
        ],
        [
         53,
         1,
         3,
         "Bahrain Grand Prix",
         "2006-03-12T14:30:00.000+0000",
         "2023-09-23T17:41:31.166+0000",
         2006
        ],
        [
         54,
         2,
         2,
         "Malaysian Grand Prix",
         "2006-03-19T15:00:00.000+0000",
         "2023-09-23T17:41:31.166+0000",
         2006
        ],
        [
         55,
         3,
         1,
         "Australian Grand Prix",
         "2006-04-02T14:00:00.000+0000",
         "2023-09-23T17:41:31.166+0000",
         2006
        ],
        [
         56,
         4,
         21,
         "San Marino Grand Prix",
         "2006-04-23T14:00:00.000+0000",
         "2023-09-23T17:41:31.166+0000",
         2006
        ],
        [
         57,
         5,
         20,
         "European Grand Prix",
         "2006-05-07T14:00:00.000+0000",
         "2023-09-23T17:41:31.166+0000",
         2006
        ],
        [
         58,
         6,
         4,
         "Spanish Grand Prix",
         "2006-05-14T14:00:00.000+0000",
         "2023-09-23T17:41:31.166+0000",
         2006
        ],
        [
         59,
         7,
         6,
         "Monaco Grand Prix",
         "2006-05-28T14:00:00.000+0000",
         "2023-09-23T17:41:31.166+0000",
         2006
        ],
        [
         60,
         8,
         9,
         "British Grand Prix",
         "2006-06-11T12:00:00.000+0000",
         "2023-09-23T17:41:31.166+0000",
         2006
        ],
        [
         61,
         9,
         7,
         "Canadian Grand Prix",
         "2006-06-25T13:00:00.000+0000",
         "2023-09-23T17:41:31.166+0000",
         2006
        ],
        [
         62,
         10,
         19,
         "United States Grand Prix",
         "2006-07-02T14:00:00.000+0000",
         "2023-09-23T17:41:31.166+0000",
         2006
        ],
        [
         63,
         11,
         8,
         "French Grand Prix",
         "2006-07-16T14:00:00.000+0000",
         "2023-09-23T17:41:31.166+0000",
         2006
        ],
        [
         64,
         12,
         10,
         "German Grand Prix",
         "2006-07-30T14:00:00.000+0000",
         "2023-09-23T17:41:31.166+0000",
         2006
        ],
        [
         65,
         13,
         11,
         "Hungarian Grand Prix",
         "2006-08-06T14:00:00.000+0000",
         "2023-09-23T17:41:31.166+0000",
         2006
        ],
        [
         66,
         14,
         5,
         "Turkish Grand Prix",
         "2006-08-27T15:00:00.000+0000",
         "2023-09-23T17:41:31.166+0000",
         2006
        ],
        [
         67,
         15,
         14,
         "Italian Grand Prix",
         "2006-09-10T14:00:00.000+0000",
         "2023-09-23T17:41:31.166+0000",
         2006
        ],
        [
         68,
         16,
         17,
         "Chinese Grand Prix",
         "2006-10-01T14:00:00.000+0000",
         "2023-09-23T17:41:31.166+0000",
         2006
        ],
        [
         69,
         17,
         22,
         "Japanese Grand Prix",
         "2006-10-08T14:00:00.000+0000",
         "2023-09-23T17:41:31.166+0000",
         2006
        ],
        [
         70,
         18,
         18,
         "Brazilian Grand Prix",
         "2006-10-22T14:00:00.000+0000",
         "2023-09-23T17:41:31.166+0000",
         2006
        ],
        [
         36,
         1,
         1,
         "Australian Grand Prix",
         "2007-03-18T03:00:00.000+0000",
         "2023-09-23T17:41:31.166+0000",
         2007
        ],
        [
         37,
         2,
         2,
         "Malaysian Grand Prix",
         "2007-04-08T07:00:00.000+0000",
         "2023-09-23T17:41:31.166+0000",
         2007
        ],
        [
         38,
         3,
         3,
         "Bahrain Grand Prix",
         "2007-04-15T11:30:00.000+0000",
         "2023-09-23T17:41:31.166+0000",
         2007
        ],
        [
         39,
         4,
         4,
         "Spanish Grand Prix",
         "2007-05-13T12:00:00.000+0000",
         "2023-09-23T17:41:31.166+0000",
         2007
        ],
        [
         40,
         5,
         6,
         "Monaco Grand Prix",
         "2007-05-27T12:00:00.000+0000",
         "2023-09-23T17:41:31.166+0000",
         2007
        ],
        [
         41,
         6,
         7,
         "Canadian Grand Prix",
         "2007-06-10T17:00:00.000+0000",
         "2023-09-23T17:41:31.166+0000",
         2007
        ],
        [
         42,
         7,
         19,
         "United States Grand Prix",
         "2007-06-17T17:00:00.000+0000",
         "2023-09-23T17:41:31.166+0000",
         2007
        ],
        [
         43,
         8,
         8,
         "French Grand Prix",
         "2007-07-01T12:00:00.000+0000",
         "2023-09-23T17:41:31.166+0000",
         2007
        ],
        [
         44,
         9,
         9,
         "British Grand Prix",
         "2007-07-08T12:00:00.000+0000",
         "2023-09-23T17:41:31.166+0000",
         2007
        ],
        [
         45,
         10,
         20,
         "European Grand Prix",
         "2007-07-22T12:00:00.000+0000",
         "2023-09-23T17:41:31.166+0000",
         2007
        ],
        [
         46,
         11,
         11,
         "Hungarian Grand Prix",
         "2007-08-05T12:00:00.000+0000",
         "2023-09-23T17:41:31.166+0000",
         2007
        ],
        [
         47,
         12,
         5,
         "Turkish Grand Prix",
         "2007-08-26T12:00:00.000+0000",
         "2023-09-23T17:41:31.166+0000",
         2007
        ],
        [
         48,
         13,
         14,
         "Italian Grand Prix",
         "2007-09-09T12:00:00.000+0000",
         "2023-09-23T17:41:31.166+0000",
         2007
        ],
        [
         49,
         14,
         13,
         "Belgian Grand Prix",
         "2007-09-16T12:00:00.000+0000",
         "2023-09-23T17:41:31.166+0000",
         2007
        ],
        [
         50,
         15,
         16,
         "Japanese Grand Prix",
         "2007-09-30T04:30:00.000+0000",
         "2023-09-23T17:41:31.166+0000",
         2007
        ],
        [
         51,
         16,
         17,
         "Chinese Grand Prix",
         "2007-10-07T06:00:00.000+0000",
         "2023-09-23T17:41:31.166+0000",
         2007
        ],
        [
         52,
         17,
         18,
         "Brazilian Grand Prix",
         "2007-10-21T16:00:00.000+0000",
         "2023-09-23T17:41:31.166+0000",
         2007
        ],
        [
         1031,
         1,
         70,
         "Austrian Grand Prix",
         "2020-07-05T13:10:00.000+0000",
         "2023-09-23T17:41:31.166+0000",
         2020
        ],
        [
         1032,
         2,
         70,
         "Styrian Grand Prix",
         "2020-07-12T13:10:00.000+0000",
         "2023-09-23T17:41:31.166+0000",
         2020
        ],
        [
         1033,
         3,
         11,
         "Hungarian Grand Prix",
         "2020-07-19T13:10:00.000+0000",
         "2023-09-23T17:41:31.166+0000",
         2020
        ],
        [
         1034,
         4,
         9,
         "British Grand Prix",
         "2020-08-02T13:10:00.000+0000",
         "2023-09-23T17:41:31.166+0000",
         2020
        ],
        [
         1035,
         5,
         9,
         "70th Anniversary Grand Prix",
         "2020-08-09T13:10:00.000+0000",
         "2023-09-23T17:41:31.166+0000",
         2020
        ],
        [
         1036,
         6,
         4,
         "Spanish Grand Prix",
         "2020-08-16T13:10:00.000+0000",
         "2023-09-23T17:41:31.166+0000",
         2020
        ],
        [
         1037,
         7,
         13,
         "Belgian Grand Prix",
         "2020-08-30T13:10:00.000+0000",
         "2023-09-23T17:41:31.166+0000",
         2020
        ],
        [
         1038,
         8,
         14,
         "Italian Grand Prix",
         "2020-09-06T13:10:00.000+0000",
         "2023-09-23T17:41:31.166+0000",
         2020
        ],
        [
         1039,
         9,
         76,
         "Tuscan Grand Prix",
         "2020-09-13T13:10:00.000+0000",
         "2023-09-23T17:41:31.166+0000",
         2020
        ],
        [
         1040,
         10,
         71,
         "Russian Grand Prix",
         "2020-09-27T11:10:00.000+0000",
         "2023-09-23T17:41:31.166+0000",
         2020
        ],
        [
         1041,
         11,
         20,
         "Eifel Grand Prix",
         "2020-10-11T13:10:00.000+0000",
         "2023-09-23T17:41:31.166+0000",
         2020
        ],
        [
         1042,
         12,
         75,
         "Portuguese Grand Prix",
         "2020-10-25T12:10:00.000+0000",
         "2023-09-23T17:41:31.166+0000",
         2020
        ],
        [
         1043,
         13,
         21,
         "Emilia Romagna Grand Prix",
         "2020-11-01T12:10:00.000+0000",
         "2023-09-23T17:41:31.166+0000",
         2020
        ],
        [
         1044,
         14,
         5,
         "Turkish Grand Prix",
         "2020-11-15T10:10:00.000+0000",
         "2023-09-23T17:41:31.166+0000",
         2020
        ],
        [
         1045,
         15,
         3,
         "Bahrain Grand Prix",
         "2020-11-29T14:10:00.000+0000",
         "2023-09-23T17:41:31.166+0000",
         2020
        ],
        [
         1046,
         16,
         3,
         "Sakhir Grand Prix",
         "2020-12-06T17:10:00.000+0000",
         "2023-09-23T17:41:31.166+0000",
         2020
        ],
        [
         1047,
         17,
         24,
         "Abu Dhabi Grand Prix",
         "2020-12-13T13:10:00.000+0000",
         "2023-09-23T17:41:31.166+0000",
         2020
        ],
        [
         18,
         1,
         1,
         "Australian Grand Prix",
         "2008-03-16T04:30:00.000+0000",
         "2023-09-23T17:41:31.166+0000",
         2008
        ],
        [
         19,
         2,
         2,
         "Malaysian Grand Prix",
         "2008-03-23T07:00:00.000+0000",
         "2023-09-23T17:41:31.166+0000",
         2008
        ],
        [
         20,
         3,
         3,
         "Bahrain Grand Prix",
         "2008-04-06T11:30:00.000+0000",
         "2023-09-23T17:41:31.166+0000",
         2008
        ],
        [
         21,
         4,
         4,
         "Spanish Grand Prix",
         "2008-04-27T12:00:00.000+0000",
         "2023-09-23T17:41:31.166+0000",
         2008
        ],
        [
         22,
         5,
         5,
         "Turkish Grand Prix",
         "2008-05-11T12:00:00.000+0000",
         "2023-09-23T17:41:31.166+0000",
         2008
        ],
        [
         23,
         6,
         6,
         "Monaco Grand Prix",
         "2008-05-25T12:00:00.000+0000",
         "2023-09-23T17:41:31.166+0000",
         2008
        ],
        [
         24,
         7,
         7,
         "Canadian Grand Prix",
         "2008-06-08T17:00:00.000+0000",
         "2023-09-23T17:41:31.166+0000",
         2008
        ],
        [
         25,
         8,
         8,
         "French Grand Prix",
         "2008-06-22T12:00:00.000+0000",
         "2023-09-23T17:41:31.166+0000",
         2008
        ],
        [
         26,
         9,
         9,
         "British Grand Prix",
         "2008-07-06T12:00:00.000+0000",
         "2023-09-23T17:41:31.166+0000",
         2008
        ],
        [
         27,
         10,
         10,
         "German Grand Prix",
         "2008-07-20T12:00:00.000+0000",
         "2023-09-23T17:41:31.166+0000",
         2008
        ],
        [
         28,
         11,
         11,
         "Hungarian Grand Prix",
         "2008-08-03T12:00:00.000+0000",
         "2023-09-23T17:41:31.166+0000",
         2008
        ],
        [
         29,
         12,
         12,
         "European Grand Prix",
         "2008-08-24T12:00:00.000+0000",
         "2023-09-23T17:41:31.166+0000",
         2008
        ],
        [
         30,
         13,
         13,
         "Belgian Grand Prix",
         "2008-09-07T12:00:00.000+0000",
         "2023-09-23T17:41:31.166+0000",
         2008
        ],
        [
         31,
         14,
         14,
         "Italian Grand Prix",
         "2008-09-14T12:00:00.000+0000",
         "2023-09-23T17:41:31.166+0000",
         2008
        ],
        [
         32,
         15,
         15,
         "Singapore Grand Prix",
         "2008-09-28T12:00:00.000+0000",
         "2023-09-23T17:41:31.166+0000",
         2008
        ],
        [
         33,
         16,
         16,
         "Japanese Grand Prix",
         "2008-10-12T04:30:00.000+0000",
         "2023-09-23T17:41:31.166+0000",
         2008
        ],
        [
         34,
         17,
         17,
         "Chinese Grand Prix",
         "2008-10-19T07:00:00.000+0000",
         "2023-09-23T17:41:31.166+0000",
         2008
        ],
        [
         35,
         18,
         18,
         "Brazilian Grand Prix",
         "2008-11-02T17:00:00.000+0000",
         "2023-09-23T17:41:31.166+0000",
         2008
        ],
        [
         1,
         1,
         1,
         "Australian Grand Prix",
         "2009-03-29T06:00:00.000+0000",
         "2023-09-23T17:41:31.166+0000",
         2009
        ],
        [
         2,
         2,
         2,
         "Malaysian Grand Prix",
         "2009-04-05T09:00:00.000+0000",
         "2023-09-23T17:41:31.166+0000",
         2009
        ],
        [
         3,
         3,
         17,
         "Chinese Grand Prix",
         "2009-04-19T07:00:00.000+0000",
         "2023-09-23T17:41:31.166+0000",
         2009
        ],
        [
         4,
         4,
         3,
         "Bahrain Grand Prix",
         "2009-04-26T12:00:00.000+0000",
         "2023-09-23T17:41:31.166+0000",
         2009
        ],
        [
         5,
         5,
         4,
         "Spanish Grand Prix",
         "2009-05-10T12:00:00.000+0000",
         "2023-09-23T17:41:31.166+0000",
         2009
        ],
        [
         6,
         6,
         6,
         "Monaco Grand Prix",
         "2009-05-24T12:00:00.000+0000",
         "2023-09-23T17:41:31.166+0000",
         2009
        ],
        [
         7,
         7,
         5,
         "Turkish Grand Prix",
         "2009-06-07T12:00:00.000+0000",
         "2023-09-23T17:41:31.166+0000",
         2009
        ],
        [
         8,
         8,
         9,
         "British Grand Prix",
         "2009-06-21T12:00:00.000+0000",
         "2023-09-23T17:41:31.166+0000",
         2009
        ],
        [
         9,
         9,
         20,
         "German Grand Prix",
         "2009-07-12T12:00:00.000+0000",
         "2023-09-23T17:41:31.166+0000",
         2009
        ],
        [
         10,
         10,
         11,
         "Hungarian Grand Prix",
         "2009-07-26T12:00:00.000+0000",
         "2023-09-23T17:41:31.166+0000",
         2009
        ],
        [
         11,
         11,
         12,
         "European Grand Prix",
         "2009-08-23T12:00:00.000+0000",
         "2023-09-23T17:41:31.166+0000",
         2009
        ],
        [
         12,
         12,
         13,
         "Belgian Grand Prix",
         "2009-08-30T12:00:00.000+0000",
         "2023-09-23T17:41:31.166+0000",
         2009
        ],
        [
         13,
         13,
         14,
         "Italian Grand Prix",
         "2009-09-13T12:00:00.000+0000",
         "2023-09-23T17:41:31.166+0000",
         2009
        ],
        [
         14,
         14,
         15,
         "Singapore Grand Prix",
         "2009-09-27T12:00:00.000+0000",
         "2023-09-23T17:41:31.166+0000",
         2009
        ],
        [
         15,
         15,
         22,
         "Japanese Grand Prix",
         "2009-10-04T05:00:00.000+0000",
         "2023-09-23T17:41:31.166+0000",
         2009
        ],
        [
         16,
         16,
         18,
         "Brazilian Grand Prix",
         "2009-10-18T16:00:00.000+0000",
         "2023-09-23T17:41:31.166+0000",
         2009
        ],
        [
         17,
         17,
         24,
         "Abu Dhabi Grand Prix",
         "2009-11-01T11:00:00.000+0000",
         "2023-09-23T17:41:31.166+0000",
         2009
        ],
        [
         90,
         1,
         1,
         "Australian Grand Prix",
         null,
         "2023-09-23T17:41:31.166+0000",
         2004
        ],
        [
         91,
         2,
         2,
         "Malaysian Grand Prix",
         null,
         "2023-09-23T17:41:31.166+0000",
         2004
        ],
        [
         92,
         3,
         3,
         "Bahrain Grand Prix",
         null,
         "2023-09-23T17:41:31.166+0000",
         2004
        ],
        [
         93,
         4,
         21,
         "San Marino Grand Prix",
         null,
         "2023-09-23T17:41:31.166+0000",
         2004
        ],
        [
         94,
         5,
         4,
         "Spanish Grand Prix",
         null,
         "2023-09-23T17:41:31.166+0000",
         2004
        ],
        [
         95,
         6,
         6,
         "Monaco Grand Prix",
         null,
         "2023-09-23T17:41:31.166+0000",
         2004
        ],
        [
         96,
         7,
         20,
         "European Grand Prix",
         null,
         "2023-09-23T17:41:31.166+0000",
         2004
        ],
        [
         97,
         8,
         7,
         "Canadian Grand Prix",
         null,
         "2023-09-23T17:41:31.166+0000",
         2004
        ],
        [
         98,
         9,
         19,
         "United States Grand Prix",
         null,
         "2023-09-23T17:41:31.166+0000",
         2004
        ],
        [
         99,
         10,
         8,
         "French Grand Prix",
         null,
         "2023-09-23T17:41:31.166+0000",
         2004
        ],
        [
         100,
         11,
         9,
         "British Grand Prix",
         null,
         "2023-09-23T17:41:31.166+0000",
         2004
        ],
        [
         101,
         12,
         10,
         "German Grand Prix",
         null,
         "2023-09-23T17:41:31.166+0000",
         2004
        ],
        [
         102,
         13,
         11,
         "Hungarian Grand Prix",
         null,
         "2023-09-23T17:41:31.166+0000",
         2004
        ],
        [
         103,
         14,
         13,
         "Belgian Grand Prix",
         null,
         "2023-09-23T17:41:31.166+0000",
         2004
        ],
        [
         104,
         15,
         14,
         "Italian Grand Prix",
         null,
         "2023-09-23T17:41:31.166+0000",
         2004
        ],
        [
         105,
         16,
         17,
         "Chinese Grand Prix",
         null,
         "2023-09-23T17:41:31.166+0000",
         2004
        ],
        [
         106,
         17,
         22,
         "Japanese Grand Prix",
         null,
         "2023-09-23T17:41:31.166+0000",
         2004
        ],
        [
         107,
         18,
         18,
         "Brazilian Grand Prix",
         null,
         "2023-09-23T17:41:31.166+0000",
         2004
        ],
        [
         543,
         1,
         25,
         "Argentine Grand Prix",
         null,
         "2023-09-23T17:41:31.166+0000",
         1977
        ],
        [
         544,
         2,
         18,
         "Brazilian Grand Prix",
         null,
         "2023-09-23T17:41:31.166+0000",
         1977
        ],
        [
         545,
         3,
         30,
         "South African Grand Prix",
         null,
         "2023-09-23T17:41:31.166+0000",
         1977
        ],
        [
         546,
         4,
         43,
         "United States Grand Prix West",
         null,
         "2023-09-23T17:41:31.166+0000",
         1977
        ],
        [
         547,
         5,
         45,
         "Spanish Grand Prix",
         null,
         "2023-09-23T17:41:31.166+0000",
         1977
        ],
        [
         548,
         6,
         6,
         "Monaco Grand Prix",
         null,
         "2023-09-23T17:41:31.166+0000",
         1977
        ],
        [
         549,
         7,
         40,
         "Belgian Grand Prix",
         null,
         "2023-09-23T17:41:31.166+0000",
         1977
        ],
        [
         550,
         8,
         47,
         "Swedish Grand Prix",
         null,
         "2023-09-23T17:41:31.166+0000",
         1977
        ],
        [
         551,
         9,
         41,
         "French Grand Prix",
         null,
         "2023-09-23T17:41:31.166+0000",
         1977
        ],
        [
         552,
         10,
         9,
         "British Grand Prix",
         null,
         "2023-09-23T17:41:31.166+0000",
         1977
        ],
        [
         553,
         11,
         10,
         "German Grand Prix",
         null,
         "2023-09-23T17:41:31.166+0000",
         1977
        ],
        [
         554,
         12,
         23,
         "Austrian Grand Prix",
         null,
         "2023-09-23T17:41:31.166+0000",
         1977
        ],
        [
         555,
         13,
         39,
         "Dutch Grand Prix",
         null,
         "2023-09-23T17:41:31.166+0000",
         1977
        ],
        [
         556,
         14,
         14,
         "Italian Grand Prix",
         null,
         "2023-09-23T17:41:31.166+0000",
         1977
        ],
        [
         557,
         15,
         46,
         "United States Grand Prix",
         null,
         "2023-09-23T17:41:31.166+0000",
         1977
        ],
        [
         558,
         16,
         48,
         "Canadian Grand Prix",
         null,
         "2023-09-23T17:41:31.166+0000",
         1977
        ],
        [
         559,
         17,
         16,
         "Japanese Grand Prix",
         null,
         "2023-09-23T17:41:31.166+0000",
         1977
        ],
        [
         467,
         1,
         30,
         "South African Grand Prix",
         null,
         "2023-09-23T17:41:31.166+0000",
         1982
        ],
        [
         468,
         2,
         36,
         "Brazilian Grand Prix",
         null,
         "2023-09-23T17:41:31.166+0000",
         1982
        ],
        [
         469,
         3,
         43,
         "United States Grand Prix West",
         null,
         "2023-09-23T17:41:31.166+0000",
         1982
        ],
        [
         470,
         4,
         21,
         "San Marino Grand Prix",
         null,
         "2023-09-23T17:41:31.166+0000",
         1982
        ],
        [
         471,
         5,
         40,
         "Belgian Grand Prix",
         null,
         "2023-09-23T17:41:31.166+0000",
         1982
        ],
        [
         472,
         6,
         6,
         "Monaco Grand Prix",
         null,
         "2023-09-23T17:41:31.166+0000",
         1982
        ],
        [
         473,
         7,
         37,
         "Detroit Grand Prix",
         null,
         "2023-09-23T17:41:31.166+0000",
         1982
        ],
        [
         474,
         8,
         7,
         "Canadian Grand Prix",
         null,
         "2023-09-23T17:41:31.166+0000",
         1982
        ],
        [
         475,
         9,
         39,
         "Dutch Grand Prix",
         null,
         "2023-09-23T17:41:31.166+0000",
         1982
        ],
        [
         476,
         10,
         38,
         "British Grand Prix",
         null,
         "2023-09-23T17:41:31.166+0000",
         1982
        ],
        [
         477,
         11,
         34,
         "French Grand Prix",
         null,
         "2023-09-23T17:41:31.166+0000",
         1982
        ],
        [
         478,
         12,
         10,
         "German Grand Prix",
         null,
         "2023-09-23T17:41:31.166+0000",
         1982
        ],
        [
         479,
         13,
         23,
         "Austrian Grand Prix",
         null,
         "2023-09-23T17:41:31.166+0000",
         1982
        ],
        [
         480,
         14,
         41,
         "Swiss Grand Prix",
         null,
         "2023-09-23T17:41:31.166+0000",
         1982
        ],
        [
         481,
         15,
         14,
         "Italian Grand Prix",
         null,
         "2023-09-23T17:41:31.166+0000",
         1982
        ],
        [
         482,
         16,
         44,
         "Caesars Palace Grand Prix",
         null,
         "2023-09-23T17:41:31.166+0000",
         1982
        ],
        [
         158,
         1,
         1,
         "Australian Grand Prix",
         null,
         "2023-09-23T17:41:31.166+0000",
         2000
        ],
        [
         159,
         2,
         18,
         "Brazilian Grand Prix",
         null,
         "2023-09-23T17:41:31.166+0000",
         2000
        ],
        [
         160,
         3,
         21,
         "San Marino Grand Prix",
         null,
         "2023-09-23T17:41:31.166+0000",
         2000
        ],
        [
         161,
         4,
         9,
         "British Grand Prix",
         null,
         "2023-09-23T17:41:31.166+0000",
         2000
        ],
        [
         162,
         5,
         4,
         "Spanish Grand Prix",
         null,
         "2023-09-23T17:41:31.166+0000",
         2000
        ],
        [
         163,
         6,
         20,
         "European Grand Prix",
         null,
         "2023-09-23T17:41:31.166+0000",
         2000
        ],
        [
         164,
         7,
         6,
         "Monaco Grand Prix",
         null,
         "2023-09-23T17:41:31.166+0000",
         2000
        ],
        [
         165,
         8,
         7,
         "Canadian Grand Prix",
         null,
         "2023-09-23T17:41:31.166+0000",
         2000
        ],
        [
         166,
         9,
         8,
         "French Grand Prix",
         null,
         "2023-09-23T17:41:31.166+0000",
         2000
        ],
        [
         167,
         10,
         23,
         "Austrian Grand Prix",
         null,
         "2023-09-23T17:41:31.166+0000",
         2000
        ],
        [
         168,
         11,
         10,
         "German Grand Prix",
         null,
         "2023-09-23T17:41:31.166+0000",
         2000
        ],
        [
         169,
         12,
         11,
         "Hungarian Grand Prix",
         null,
         "2023-09-23T17:41:31.166+0000",
         2000
        ],
        [
         170,
         13,
         13,
         "Belgian Grand Prix",
         null,
         "2023-09-23T17:41:31.166+0000",
         2000
        ],
        [
         171,
         14,
         14,
         "Italian Grand Prix",
         null,
         "2023-09-23T17:41:31.166+0000",
         2000
        ],
        [
         172,
         15,
         19,
         "United States Grand Prix",
         null,
         "2023-09-23T17:41:31.166+0000",
         2000
        ],
        [
         173,
         16,
         22,
         "Japanese Grand Prix",
         null,
         "2023-09-23T17:41:31.166+0000",
         2000
        ],
        [
         174,
         17,
         2,
         "Malaysian Grand Prix",
         null,
         "2023-09-23T17:41:31.166+0000",
         2000
        ],
        [
         141,
         1,
         1,
         "Australian Grand Prix",
         null,
         "2023-09-23T17:41:31.166+0000",
         2001
        ],
        [
         142,
         2,
         2,
         "Malaysian Grand Prix",
         null,
         "2023-09-23T17:41:31.166+0000",
         2001
        ],
        [
         143,
         3,
         18,
         "Brazilian Grand Prix",
         null,
         "2023-09-23T17:41:31.166+0000",
         2001
        ],
        [
         144,
         4,
         21,
         "San Marino Grand Prix",
         null,
         "2023-09-23T17:41:31.166+0000",
         2001
        ],
        [
         145,
         5,
         4,
         "Spanish Grand Prix",
         null,
         "2023-09-23T17:41:31.166+0000",
         2001
        ],
        [
         146,
         6,
         23,
         "Austrian Grand Prix",
         null,
         "2023-09-23T17:41:31.166+0000",
         2001
        ],
        [
         147,
         7,
         6,
         "Monaco Grand Prix",
         null,
         "2023-09-23T17:41:31.166+0000",
         2001
        ],
        [
         148,
         8,
         7,
         "Canadian Grand Prix",
         null,
         "2023-09-23T17:41:31.166+0000",
         2001
        ],
        [
         149,
         9,
         20,
         "European Grand Prix",
         null,
         "2023-09-23T17:41:31.166+0000",
         2001
        ],
        [
         150,
         10,
         8,
         "French Grand Prix",
         null,
         "2023-09-23T17:41:31.166+0000",
         2001
        ],
        [
         151,
         11,
         9,
         "British Grand Prix",
         null,
         "2023-09-23T17:41:31.166+0000",
         2001
        ],
        [
         152,
         12,
         10,
         "German Grand Prix",
         null,
         "2023-09-23T17:41:31.166+0000",
         2001
        ],
        [
         153,
         13,
         11,
         "Hungarian Grand Prix",
         null,
         "2023-09-23T17:41:31.166+0000",
         2001
        ],
        [
         154,
         14,
         13,
         "Belgian Grand Prix",
         null,
         "2023-09-23T17:41:31.166+0000",
         2001
        ],
        [
         155,
         15,
         14,
         "Italian Grand Prix",
         null,
         "2023-09-23T17:41:31.166+0000",
         2001
        ],
        [
         156,
         16,
         19,
         "United States Grand Prix",
         null,
         "2023-09-23T17:41:31.166+0000",
         2001
        ],
        [
         157,
         17,
         22,
         "Japanese Grand Prix",
         null,
         "2023-09-23T17:41:31.166+0000",
         2001
        ],
        [
         124,
         1,
         1,
         "Australian Grand Prix",
         null,
         "2023-09-23T17:41:31.166+0000",
         2002
        ],
        [
         125,
         2,
         2,
         "Malaysian Grand Prix",
         null,
         "2023-09-23T17:41:31.166+0000",
         2002
        ],
        [
         126,
         3,
         18,
         "Brazilian Grand Prix",
         null,
         "2023-09-23T17:41:31.166+0000",
         2002
        ],
        [
         127,
         4,
         21,
         "San Marino Grand Prix",
         null,
         "2023-09-23T17:41:31.166+0000",
         2002
        ],
        [
         128,
         5,
         4,
         "Spanish Grand Prix",
         null,
         "2023-09-23T17:41:31.166+0000",
         2002
        ],
        [
         129,
         6,
         23,
         "Austrian Grand Prix",
         null,
         "2023-09-23T17:41:31.166+0000",
         2002
        ],
        [
         130,
         7,
         6,
         "Monaco Grand Prix",
         null,
         "2023-09-23T17:41:31.166+0000",
         2002
        ],
        [
         131,
         8,
         7,
         "Canadian Grand Prix",
         null,
         "2023-09-23T17:41:31.166+0000",
         2002
        ],
        [
         132,
         9,
         20,
         "European Grand Prix",
         null,
         "2023-09-23T17:41:31.166+0000",
         2002
        ],
        [
         133,
         10,
         9,
         "British Grand Prix",
         null,
         "2023-09-23T17:41:31.166+0000",
         2002
        ],
        [
         134,
         11,
         8,
         "French Grand Prix",
         null,
         "2023-09-23T17:41:31.166+0000",
         2002
        ],
        [
         135,
         12,
         10,
         "German Grand Prix",
         null,
         "2023-09-23T17:41:31.166+0000",
         2002
        ],
        [
         136,
         13,
         11,
         "Hungarian Grand Prix",
         null,
         "2023-09-23T17:41:31.166+0000",
         2002
        ],
        [
         137,
         14,
         13,
         "Belgian Grand Prix",
         null,
         "2023-09-23T17:41:31.166+0000",
         2002
        ],
        [
         138,
         15,
         14,
         "Italian Grand Prix",
         null,
         "2023-09-23T17:41:31.166+0000",
         2002
        ],
        [
         139,
         16,
         19,
         "United States Grand Prix",
         null,
         "2023-09-23T17:41:31.166+0000",
         2002
        ],
        [
         140,
         17,
         22,
         "Japanese Grand Prix",
         null,
         "2023-09-23T17:41:31.166+0000",
         2002
        ],
        [
         527,
         1,
         25,
         "Argentine Grand Prix",
         null,
         "2023-09-23T17:41:31.166+0000",
         1978
        ],
        [
         528,
         2,
         36,
         "Brazilian Grand Prix",
         null,
         "2023-09-23T17:41:31.166+0000",
         1978
        ],
        [
         529,
         3,
         30,
         "South African Grand Prix",
         null,
         "2023-09-23T17:41:31.166+0000",
         1978
        ],
        [
         530,
         4,
         43,
         "United States Grand Prix West",
         null,
         "2023-09-23T17:41:31.166+0000",
         1978
        ],
        [
         531,
         5,
         6,
         "Monaco Grand Prix",
         null,
         "2023-09-23T17:41:31.166+0000",
         1978
        ],
        [
         532,
         6,
         40,
         "Belgian Grand Prix",
         null,
         "2023-09-23T17:41:31.166+0000",
         1978
        ],
        [
         533,
         7,
         45,
         "Spanish Grand Prix",
         null,
         "2023-09-23T17:41:31.166+0000",
         1978
        ],
        [
         534,
         8,
         47,
         "Swedish Grand Prix",
         null,
         "2023-09-23T17:41:31.166+0000",
         1978
        ],
        [
         535,
         9,
         34,
         "French Grand Prix",
         null,
         "2023-09-23T17:41:31.166+0000",
         1978
        ],
        [
         536,
         10,
         38,
         "British Grand Prix",
         null,
         "2023-09-23T17:41:31.166+0000",
         1978
        ],
        [
         537,
         11,
         10,
         "German Grand Prix",
         null,
         "2023-09-23T17:41:31.166+0000",
         1978
        ],
        [
         538,
         12,
         23,
         "Austrian Grand Prix",
         null,
         "2023-09-23T17:41:31.166+0000",
         1978
        ],
        [
         539,
         13,
         39,
         "Dutch Grand Prix",
         null,
         "2023-09-23T17:41:31.166+0000",
         1978
        ],
        [
         540,
         14,
         14,
         "Italian Grand Prix",
         null,
         "2023-09-23T17:41:31.166+0000",
         1978
        ],
        [
         541,
         15,
         46,
         "United States Grand Prix",
         null,
         "2023-09-23T17:41:31.166+0000",
         1978
        ],
        [
         542,
         16,
         7,
         "Canadian Grand Prix",
         null,
         "2023-09-23T17:41:31.166+0000",
         1978
        ],
        [
         207,
         1,
         1,
         "Australian Grand Prix",
         null,
         "2023-09-23T17:41:31.166+0000",
         1997
        ],
        [
         208,
         2,
         18,
         "Brazilian Grand Prix",
         null,
         "2023-09-23T17:41:31.166+0000",
         1997
        ],
        [
         209,
         3,
         25,
         "Argentine Grand Prix",
         null,
         "2023-09-23T17:41:31.166+0000",
         1997
        ],
        [
         210,
         4,
         21,
         "San Marino Grand Prix",
         null,
         "2023-09-23T17:41:31.166+0000",
         1997
        ],
        [
         211,
         5,
         6,
         "Monaco Grand Prix",
         null,
         "2023-09-23T17:41:31.166+0000",
         1997
        ],
        [
         212,
         6,
         4,
         "Spanish Grand Prix",
         null,
         "2023-09-23T17:41:31.166+0000",
         1997
        ],
        [
         213,
         7,
         7,
         "Canadian Grand Prix",
         null,
         "2023-09-23T17:41:31.166+0000",
         1997
        ],
        [
         214,
         8,
         8,
         "French Grand Prix",
         null,
         "2023-09-23T17:41:31.166+0000",
         1997
        ],
        [
         215,
         9,
         9,
         "British Grand Prix",
         null,
         "2023-09-23T17:41:31.166+0000",
         1997
        ],
        [
         216,
         10,
         10,
         "German Grand Prix",
         null,
         "2023-09-23T17:41:31.166+0000",
         1997
        ],
        [
         217,
         11,
         11,
         "Hungarian Grand Prix",
         null,
         "2023-09-23T17:41:31.166+0000",
         1997
        ],
        [
         218,
         12,
         13,
         "Belgian Grand Prix",
         null,
         "2023-09-23T17:41:31.166+0000",
         1997
        ],
        [
         219,
         13,
         14,
         "Italian Grand Prix",
         null,
         "2023-09-23T17:41:31.166+0000",
         1997
        ],
        [
         220,
         14,
         23,
         "Austrian Grand Prix",
         null,
         "2023-09-23T17:41:31.166+0000",
         1997
        ],
        [
         221,
         15,
         20,
         "Luxembourg Grand Prix",
         null,
         "2023-09-23T17:41:31.166+0000",
         1997
        ],
        [
         222,
         16,
         22,
         "Japanese Grand Prix",
         null,
         "2023-09-23T17:41:31.166+0000",
         1997
        ],
        [
         223,
         17,
         26,
         "European Grand Prix",
         null,
         "2023-09-23T17:41:31.166+0000",
         1997
        ],
        [
         483,
         1,
         43,
         "United States Grand Prix West",
         null,
         "2023-09-23T17:41:31.166+0000",
         1981
        ],
        [
         484,
         2,
         36,
         "Brazilian Grand Prix",
         null,
         "2023-09-23T17:41:31.166+0000",
         1981
        ],
        [
         485,
         3,
         25,
         "Argentine Grand Prix",
         null,
         "2023-09-23T17:41:31.166+0000",
         1981
        ],
        [
         486,
         4,
         21,
         "San Marino Grand Prix",
         null,
         "2023-09-23T17:41:31.166+0000",
         1981
        ],
        [
         487,
         5,
         40,
         "Belgian Grand Prix",
         null,
         "2023-09-23T17:41:31.166+0000",
         1981
        ],
        [
         488,
         6,
         6,
         "Monaco Grand Prix",
         null,
         "2023-09-23T17:41:31.166+0000",
         1981
        ],
        [
         489,
         7,
         45,
         "Spanish Grand Prix",
         null,
         "2023-09-23T17:41:31.166+0000",
         1981
        ],
        [
         490,
         8,
         41,
         "French Grand Prix",
         null,
         "2023-09-23T17:41:31.166+0000",
         1981
        ],
        [
         491,
         9,
         9,
         "British Grand Prix",
         null,
         "2023-09-23T17:41:31.166+0000",
         1981
        ],
        [
         492,
         10,
         10,
         "German Grand Prix",
         null,
         "2023-09-23T17:41:31.166+0000",
         1981
        ],
        [
         493,
         11,
         23,
         "Austrian Grand Prix",
         null,
         "2023-09-23T17:41:31.166+0000",
         1981
        ],
        [
         494,
         12,
         39,
         "Dutch Grand Prix",
         null,
         "2023-09-23T17:41:31.166+0000",
         1981
        ],
        [
         495,
         13,
         14,
         "Italian Grand Prix",
         null,
         "2023-09-23T17:41:31.166+0000",
         1981
        ],
        [
         496,
         14,
         7,
         "Canadian Grand Prix",
         null,
         "2023-09-23T17:41:31.166+0000",
         1981
        ],
        [
         497,
         15,
         44,
         "Caesars Palace Grand Prix",
         null,
         "2023-09-23T17:41:31.166+0000",
         1981
        ],
        [
         436,
         1,
         36,
         "Brazilian Grand Prix",
         null,
         "2023-09-23T17:41:31.166+0000",
         1984
        ],
        [
         437,
         2,
         30,
         "South African Grand Prix",
         null,
         "2023-09-23T17:41:31.166+0000",
         1984
        ],
        [
         438,
         3,
         40,
         "Belgian Grand Prix",
         null,
         "2023-09-23T17:41:31.166+0000",
         1984
        ],
        [
         439,
         4,
         21,
         "San Marino Grand Prix",
         null,
         "2023-09-23T17:41:31.166+0000",
         1984
        ],
        [
         440,
         5,
         41,
         "French Grand Prix",
         null,
         "2023-09-23T17:41:31.166+0000",
         1984
        ],
        [
         441,
         6,
         6,
         "Monaco Grand Prix",
         null,
         "2023-09-23T17:41:31.166+0000",
         1984
        ],
        [
         442,
         7,
         7,
         "Canadian Grand Prix",
         null,
         "2023-09-23T17:41:31.166+0000",
         1984
        ],
        [
         443,
         8,
         37,
         "Detroit Grand Prix",
         null,
         "2023-09-23T17:41:31.166+0000",
         1984
        ],
        [
         444,
         9,
         42,
         "Dallas Grand Prix",
         null,
         "2023-09-23T17:41:31.166+0000",
         1984
        ],
        [
         445,
         10,
         38,
         "British Grand Prix",
         null,
         "2023-09-23T17:41:31.166+0000",
         1984
        ],
        [
         446,
         11,
         10,
         "German Grand Prix",
         null,
         "2023-09-23T17:41:31.166+0000",
         1984
        ],
        [
         447,
         12,
         23,
         "Austrian Grand Prix",
         null,
         "2023-09-23T17:41:31.166+0000",
         1984
        ],
        [
         448,
         13,
         39,
         "Dutch Grand Prix",
         null,
         "2023-09-23T17:41:31.166+0000",
         1984
        ],
        [
         449,
         14,
         14,
         "Italian Grand Prix",
         null,
         "2023-09-23T17:41:31.166+0000",
         1984
        ],
        [
         450,
         15,
         20,
         "European Grand Prix",
         null,
         "2023-09-23T17:41:31.166+0000",
         1984
        ],
        [
         451,
         16,
         27,
         "Portuguese Grand Prix",
         null,
         "2023-09-23T17:41:31.166+0000",
         1984
        ],
        [
         452,
         1,
         36,
         "Brazilian Grand Prix",
         null,
         "2023-09-23T17:41:31.166+0000",
         1983
        ],
        [
         453,
         2,
         43,
         "United States Grand Prix West",
         null,
         "2023-09-23T17:41:31.166+0000",
         1983
        ],
        [
         454,
         3,
         34,
         "French Grand Prix",
         null,
         "2023-09-23T17:41:31.166+0000",
         1983
        ],
        [
         455,
         4,
         21,
         "San Marino Grand Prix",
         null,
         "2023-09-23T17:41:31.166+0000",
         1983
        ],
        [
         456,
         5,
         6,
         "Monaco Grand Prix",
         null,
         "2023-09-23T17:41:31.166+0000",
         1983
        ],
        [
         457,
         6,
         13,
         "Belgian Grand Prix",
         null,
         "2023-09-23T17:41:31.166+0000",
         1983
        ],
        [
         458,
         7,
         37,
         "Detroit Grand Prix",
         null,
         "2023-09-23T17:41:31.166+0000",
         1983
        ],
        [
         459,
         8,
         7,
         "Canadian Grand Prix",
         null,
         "2023-09-23T17:41:31.166+0000",
         1983
        ],
        [
         460,
         9,
         9,
         "British Grand Prix",
         null,
         "2023-09-23T17:41:31.166+0000",
         1983
        ],
        [
         461,
         10,
         10,
         "German Grand Prix",
         null,
         "2023-09-23T17:41:31.166+0000",
         1983
        ],
        [
         462,
         11,
         23,
         "Austrian Grand Prix",
         null,
         "2023-09-23T17:41:31.166+0000",
         1983
        ],
        [
         463,
         12,
         39,
         "Dutch Grand Prix",
         null,
         "2023-09-23T17:41:31.166+0000",
         1983
        ],
        [
         464,
         13,
         14,
         "Italian Grand Prix",
         null,
         "2023-09-23T17:41:31.166+0000",
         1983
        ],
        [
         465,
         14,
         38,
         "European Grand Prix",
         null,
         "2023-09-23T17:41:31.166+0000",
         1983
        ],
        [
         466,
         15,
         30,
         "South African Grand Prix",
         null,
         "2023-09-23T17:41:31.166+0000",
         1983
        ],
        [
         560,
         1,
         18,
         "Brazilian Grand Prix",
         null,
         "2023-09-23T17:41:31.166+0000",
         1976
        ],
        [
         561,
         2,
         30,
         "South African Grand Prix",
         null,
         "2023-09-23T17:41:31.166+0000",
         1976
        ],
        [
         562,
         3,
         43,
         "United States Grand Prix West",
         null,
         "2023-09-23T17:41:31.166+0000",
         1976
        ],
        [
         563,
         4,
         45,
         "Spanish Grand Prix",
         null,
         "2023-09-23T17:41:31.166+0000",
         1976
        ],
        [
         564,
         5,
         40,
         "Belgian Grand Prix",
         null,
         "2023-09-23T17:41:31.166+0000",
         1976
        ],
        [
         565,
         6,
         6,
         "Monaco Grand Prix",
         null,
         "2023-09-23T17:41:31.166+0000",
         1976
        ],
        [
         566,
         7,
         47,
         "Swedish Grand Prix",
         null,
         "2023-09-23T17:41:31.166+0000",
         1976
        ],
        [
         567,
         8,
         34,
         "French Grand Prix",
         null,
         "2023-09-23T17:41:31.166+0000",
         1976
        ],
        [
         568,
         9,
         38,
         "British Grand Prix",
         null,
         "2023-09-23T17:41:31.166+0000",
         1976
        ],
        [
         569,
         10,
         20,
         "German Grand Prix",
         null,
         "2023-09-23T17:41:31.166+0000",
         1976
        ],
        [
         570,
         11,
         23,
         "Austrian Grand Prix",
         null,
         "2023-09-23T17:41:31.166+0000",
         1976
        ],
        [
         571,
         12,
         39,
         "Dutch Grand Prix",
         null,
         "2023-09-23T17:41:31.166+0000",
         1976
        ],
        [
         572,
         13,
         14,
         "Italian Grand Prix",
         null,
         "2023-09-23T17:41:31.166+0000",
         1976
        ],
        [
         573,
         14,
         48,
         "Canadian Grand Prix",
         null,
         "2023-09-23T17:41:31.166+0000",
         1976
        ],
        [
         574,
         15,
         46,
         "United States Grand Prix",
         null,
         "2023-09-23T17:41:31.166+0000",
         1976
        ],
        [
         575,
         16,
         16,
         "Japanese Grand Prix",
         null,
         "2023-09-23T17:41:31.166+0000",
         1976
        ],
        [
         240,
         1,
         18,
         "Brazilian Grand Prix",
         null,
         "2023-09-23T17:41:31.166+0000",
         1995
        ],
        [
         241,
         2,
         25,
         "Argentine Grand Prix",
         null,
         "2023-09-23T17:41:31.166+0000",
         1995
        ],
        [
         242,
         3,
         21,
         "San Marino Grand Prix",
         null,
         "2023-09-23T17:41:31.166+0000",
         1995
        ],
        [
         243,
         4,
         4,
         "Spanish Grand Prix",
         null,
         "2023-09-23T17:41:31.166+0000",
         1995
        ],
        [
         244,
         5,
         6,
         "Monaco Grand Prix",
         null,
         "2023-09-23T17:41:31.166+0000",
         1995
        ],
        [
         245,
         6,
         7,
         "Canadian Grand Prix",
         null,
         "2023-09-23T17:41:31.166+0000",
         1995
        ],
        [
         246,
         7,
         8,
         "French Grand Prix",
         null,
         "2023-09-23T17:41:31.166+0000",
         1995
        ],
        [
         247,
         8,
         9,
         "British Grand Prix",
         null,
         "2023-09-23T17:41:31.166+0000",
         1995
        ],
        [
         248,
         9,
         10,
         "German Grand Prix",
         null,
         "2023-09-23T17:41:31.166+0000",
         1995
        ],
        [
         249,
         10,
         11,
         "Hungarian Grand Prix",
         null,
         "2023-09-23T17:41:31.166+0000",
         1995
        ],
        [
         250,
         11,
         13,
         "Belgian Grand Prix",
         null,
         "2023-09-23T17:41:31.166+0000",
         1995
        ],
        [
         251,
         12,
         14,
         "Italian Grand Prix",
         null,
         "2023-09-23T17:41:31.166+0000",
         1995
        ],
        [
         252,
         13,
         27,
         "Portuguese Grand Prix",
         null,
         "2023-09-23T17:41:31.166+0000",
         1995
        ],
        [
         253,
         14,
         20,
         "European Grand Prix",
         null,
         "2023-09-23T17:41:31.166+0000",
         1995
        ],
        [
         254,
         15,
         28,
         "Pacific Grand Prix",
         null,
         "2023-09-23T17:41:31.166+0000",
         1995
        ],
        [
         255,
         16,
         22,
         "Japanese Grand Prix",
         null,
         "2023-09-23T17:41:31.166+0000",
         1995
        ],
        [
         256,
         17,
         29,
         "Australian Grand Prix",
         null,
         "2023-09-23T17:41:31.166+0000",
         1995
        ],
        [
         108,
         1,
         1,
         "Australian Grand Prix",
         null,
         "2023-09-23T17:41:31.166+0000",
         2003
        ],
        [
         109,
         2,
         2,
         "Malaysian Grand Prix",
         null,
         "2023-09-23T17:41:31.166+0000",
         2003
        ],
        [
         110,
         3,
         18,
         "Brazilian Grand Prix",
         null,
         "2023-09-23T17:41:31.166+0000",
         2003
        ],
        [
         111,
         4,
         21,
         "San Marino Grand Prix",
         null,
         "2023-09-23T17:41:31.166+0000",
         2003
        ],
        [
         112,
         5,
         4,
         "Spanish Grand Prix",
         null,
         "2023-09-23T17:41:31.166+0000",
         2003
        ],
        [
         113,
         6,
         23,
         "Austrian Grand Prix",
         null,
         "2023-09-23T17:41:31.166+0000",
         2003
        ],
        [
         114,
         7,
         6,
         "Monaco Grand Prix",
         null,
         "2023-09-23T17:41:31.166+0000",
         2003
        ],
        [
         115,
         8,
         7,
         "Canadian Grand Prix",
         null,
         "2023-09-23T17:41:31.166+0000",
         2003
        ],
        [
         116,
         9,
         20,
         "European Grand Prix",
         null,
         "2023-09-23T17:41:31.166+0000",
         2003
        ],
        [
         117,
         10,
         8,
         "French Grand Prix",
         null,
         "2023-09-23T17:41:31.166+0000",
         2003
        ],
        [
         118,
         11,
         9,
         "British Grand Prix",
         null,
         "2023-09-23T17:41:31.166+0000",
         2003
        ],
        [
         119,
         12,
         10,
         "German Grand Prix",
         null,
         "2023-09-23T17:41:31.166+0000",
         2003
        ],
        [
         120,
         13,
         11,
         "Hungarian Grand Prix",
         null,
         "2023-09-23T17:41:31.166+0000",
         2003
        ],
        [
         121,
         14,
         14,
         "Italian Grand Prix",
         null,
         "2023-09-23T17:41:31.166+0000",
         2003
        ],
        [
         122,
         15,
         19,
         "United States Grand Prix",
         null,
         "2023-09-23T17:41:31.166+0000",
         2003
        ],
        [
         123,
         16,
         22,
         "Japanese Grand Prix",
         null,
         "2023-09-23T17:41:31.166+0000",
         2003
        ],
        [
         420,
         1,
         36,
         "Brazilian Grand Prix",
         null,
         "2023-09-23T17:41:31.166+0000",
         1985
        ],
        [
         421,
         2,
         27,
         "Portuguese Grand Prix",
         null,
         "2023-09-23T17:41:31.166+0000",
         1985
        ],
        [
         422,
         3,
         21,
         "San Marino Grand Prix",
         null,
         "2023-09-23T17:41:31.166+0000",
         1985
        ],
        [
         423,
         4,
         6,
         "Monaco Grand Prix",
         null,
         "2023-09-23T17:41:31.166+0000",
         1985
        ],
        [
         424,
         5,
         7,
         "Canadian Grand Prix",
         null,
         "2023-09-23T17:41:31.166+0000",
         1985
        ],
        [
         425,
         6,
         37,
         "Detroit Grand Prix",
         null,
         "2023-09-23T17:41:31.166+0000",
         1985
        ],
        [
         426,
         7,
         34,
         "French Grand Prix",
         null,
         "2023-09-23T17:41:31.166+0000",
         1985
        ],
        [
         427,
         8,
         9,
         "British Grand Prix",
         null,
         "2023-09-23T17:41:31.166+0000",
         1985
        ],
        [
         428,
         9,
         20,
         "German Grand Prix",
         null,
         "2023-09-23T17:41:31.166+0000",
         1985
        ],
        [
         429,
         10,
         23,
         "Austrian Grand Prix",
         null,
         "2023-09-23T17:41:31.166+0000",
         1985
        ],
        [
         430,
         11,
         39,
         "Dutch Grand Prix",
         null,
         "2023-09-23T17:41:31.166+0000",
         1985
        ],
        [
         431,
         12,
         14,
         "Italian Grand Prix",
         null,
         "2023-09-23T17:41:31.166+0000",
         1985
        ],
        [
         432,
         13,
         13,
         "Belgian Grand Prix",
         null,
         "2023-09-23T17:41:31.166+0000",
         1985
        ],
        [
         433,
         14,
         38,
         "European Grand Prix",
         null,
         "2023-09-23T17:41:31.166+0000",
         1985
        ],
        [
         434,
         15,
         30,
         "South African Grand Prix",
         null,
         "2023-09-23T17:41:31.166+0000",
         1985
        ],
        [
         435,
         16,
         29,
         "Australian Grand Prix",
         null,
         "2023-09-23T17:41:31.166+0000",
         1985
        ],
        [
         305,
         1,
         33,
         "United States Grand Prix",
         null,
         "2023-09-23T17:41:31.166+0000",
         1991
        ],
        [
         306,
         2,
         18,
         "Brazilian Grand Prix",
         null,
         "2023-09-23T17:41:31.166+0000",
         1991
        ],
        [
         307,
         3,
         21,
         "San Marino Grand Prix",
         null,
         "2023-09-23T17:41:31.166+0000",
         1991
        ],
        [
         308,
         4,
         6,
         "Monaco Grand Prix",
         null,
         "2023-09-23T17:41:31.166+0000",
         1991
        ],
        [
         309,
         5,
         7,
         "Canadian Grand Prix",
         null,
         "2023-09-23T17:41:31.166+0000",
         1991
        ],
        [
         310,
         6,
         32,
         "Mexican Grand Prix",
         null,
         "2023-09-23T17:41:31.166+0000",
         1991
        ],
        [
         311,
         7,
         8,
         "French Grand Prix",
         null,
         "2023-09-23T17:41:31.166+0000",
         1991
        ],
        [
         312,
         8,
         9,
         "British Grand Prix",
         null,
         "2023-09-23T17:41:31.166+0000",
         1991
        ],
        [
         313,
         9,
         10,
         "German Grand Prix",
         null,
         "2023-09-23T17:41:31.166+0000",
         1991
        ],
        [
         314,
         10,
         11,
         "Hungarian Grand Prix",
         null,
         "2023-09-23T17:41:31.166+0000",
         1991
        ],
        [
         315,
         11,
         13,
         "Belgian Grand Prix",
         null,
         "2023-09-23T17:41:31.166+0000",
         1991
        ],
        [
         316,
         12,
         14,
         "Italian Grand Prix",
         null,
         "2023-09-23T17:41:31.166+0000",
         1991
        ],
        [
         317,
         13,
         27,
         "Portuguese Grand Prix",
         null,
         "2023-09-23T17:41:31.166+0000",
         1991
        ],
        [
         318,
         14,
         4,
         "Spanish Grand Prix",
         null,
         "2023-09-23T17:41:31.166+0000",
         1991
        ],
        [
         319,
         15,
         22,
         "Japanese Grand Prix",
         null,
         "2023-09-23T17:41:31.166+0000",
         1991
        ],
        [
         320,
         16,
         29,
         "Australian Grand Prix",
         null,
         "2023-09-23T17:41:31.166+0000",
         1991
        ],
        [
         356,
         1,
         36,
         "Brazilian Grand Prix",
         null,
         "2023-09-23T17:41:31.166+0000",
         1989
        ],
        [
         357,
         2,
         21,
         "San Marino Grand Prix",
         null,
         "2023-09-23T17:41:31.166+0000",
         1989
        ],
        [
         358,
         3,
         6,
         "Monaco Grand Prix",
         null,
         "2023-09-23T17:41:31.166+0000",
         1989
        ],
        [
         359,
         4,
         32,
         "Mexican Grand Prix",
         null,
         "2023-09-23T17:41:31.166+0000",
         1989
        ],
        [
         360,
         5,
         33,
         "United States Grand Prix",
         null,
         "2023-09-23T17:41:31.166+0000",
         1989
        ],
        [
         361,
         6,
         7,
         "Canadian Grand Prix",
         null,
         "2023-09-23T17:41:31.166+0000",
         1989
        ],
        [
         362,
         7,
         34,
         "French Grand Prix",
         null,
         "2023-09-23T17:41:31.166+0000",
         1989
        ],
        [
         363,
         8,
         9,
         "British Grand Prix",
         null,
         "2023-09-23T17:41:31.166+0000",
         1989
        ],
        [
         364,
         9,
         10,
         "German Grand Prix",
         null,
         "2023-09-23T17:41:31.166+0000",
         1989
        ],
        [
         365,
         10,
         11,
         "Hungarian Grand Prix",
         null,
         "2023-09-23T17:41:31.166+0000",
         1989
        ],
        [
         366,
         11,
         13,
         "Belgian Grand Prix",
         null,
         "2023-09-23T17:41:31.166+0000",
         1989
        ],
        [
         367,
         12,
         14,
         "Italian Grand Prix",
         null,
         "2023-09-23T17:41:31.166+0000",
         1989
        ],
        [
         368,
         13,
         27,
         "Portuguese Grand Prix",
         null,
         "2023-09-23T17:41:31.166+0000",
         1989
        ],
        [
         369,
         14,
         26,
         "Spanish Grand Prix",
         null,
         "2023-09-23T17:41:31.166+0000",
         1989
        ],
        [
         370,
         15,
         22,
         "Japanese Grand Prix",
         null,
         "2023-09-23T17:41:31.166+0000",
         1989
        ],
        [
         371,
         16,
         29,
         "Australian Grand Prix",
         null,
         "2023-09-23T17:41:31.166+0000",
         1989
        ],
        [
         321,
         1,
         33,
         "United States Grand Prix",
         null,
         "2023-09-23T17:41:31.166+0000",
         1990
        ],
        [
         322,
         2,
         18,
         "Brazilian Grand Prix",
         null,
         "2023-09-23T17:41:31.166+0000",
         1990
        ],
        [
         323,
         3,
         21,
         "San Marino Grand Prix",
         null,
         "2023-09-23T17:41:31.166+0000",
         1990
        ],
        [
         324,
         4,
         6,
         "Monaco Grand Prix",
         null,
         "2023-09-23T17:41:31.166+0000",
         1990
        ],
        [
         325,
         5,
         7,
         "Canadian Grand Prix",
         null,
         "2023-09-23T17:41:31.166+0000",
         1990
        ],
        [
         326,
         6,
         32,
         "Mexican Grand Prix",
         null,
         "2023-09-23T17:41:31.166+0000",
         1990
        ],
        [
         327,
         7,
         34,
         "French Grand Prix",
         null,
         "2023-09-23T17:41:31.166+0000",
         1990
        ],
        [
         328,
         8,
         9,
         "British Grand Prix",
         null,
         "2023-09-23T17:41:31.166+0000",
         1990
        ],
        [
         329,
         9,
         10,
         "German Grand Prix",
         null,
         "2023-09-23T17:41:31.166+0000",
         1990
        ],
        [
         330,
         10,
         11,
         "Hungarian Grand Prix",
         null,
         "2023-09-23T17:41:31.166+0000",
         1990
        ],
        [
         331,
         11,
         13,
         "Belgian Grand Prix",
         null,
         "2023-09-23T17:41:31.166+0000",
         1990
        ],
        [
         332,
         12,
         14,
         "Italian Grand Prix",
         null,
         "2023-09-23T17:41:31.166+0000",
         1990
        ],
        [
         333,
         13,
         27,
         "Portuguese Grand Prix",
         null,
         "2023-09-23T17:41:31.166+0000",
         1990
        ],
        [
         334,
         14,
         26,
         "Spanish Grand Prix",
         null,
         "2023-09-23T17:41:31.166+0000",
         1990
        ],
        [
         335,
         15,
         22,
         "Japanese Grand Prix",
         null,
         "2023-09-23T17:41:31.166+0000",
         1990
        ],
        [
         336,
         16,
         29,
         "Australian Grand Prix",
         null,
         "2023-09-23T17:41:31.166+0000",
         1990
        ],
        [
         224,
         1,
         1,
         "Australian Grand Prix",
         null,
         "2023-09-23T17:41:31.166+0000",
         1996
        ],
        [
         225,
         2,
         18,
         "Brazilian Grand Prix",
         null,
         "2023-09-23T17:41:31.166+0000",
         1996
        ],
        [
         226,
         3,
         25,
         "Argentine Grand Prix",
         null,
         "2023-09-23T17:41:31.166+0000",
         1996
        ],
        [
         227,
         4,
         20,
         "European Grand Prix",
         null,
         "2023-09-23T17:41:31.166+0000",
         1996
        ],
        [
         228,
         5,
         21,
         "San Marino Grand Prix",
         null,
         "2023-09-23T17:41:31.166+0000",
         1996
        ],
        [
         229,
         6,
         6,
         "Monaco Grand Prix",
         null,
         "2023-09-23T17:41:31.166+0000",
         1996
        ],
        [
         230,
         7,
         4,
         "Spanish Grand Prix",
         null,
         "2023-09-23T17:41:31.166+0000",
         1996
        ],
        [
         231,
         8,
         7,
         "Canadian Grand Prix",
         null,
         "2023-09-23T17:41:31.166+0000",
         1996
        ],
        [
         232,
         9,
         8,
         "French Grand Prix",
         null,
         "2023-09-23T17:41:31.166+0000",
         1996
        ],
        [
         233,
         10,
         9,
         "British Grand Prix",
         null,
         "2023-09-23T17:41:31.166+0000",
         1996
        ],
        [
         234,
         11,
         10,
         "German Grand Prix",
         null,
         "2023-09-23T17:41:31.166+0000",
         1996
        ],
        [
         235,
         12,
         11,
         "Hungarian Grand Prix",
         null,
         "2023-09-23T17:41:31.166+0000",
         1996
        ],
        [
         236,
         13,
         13,
         "Belgian Grand Prix",
         null,
         "2023-09-23T17:41:31.166+0000",
         1996
        ],
        [
         237,
         14,
         14,
         "Italian Grand Prix",
         null,
         "2023-09-23T17:41:31.166+0000",
         1996
        ],
        [
         238,
         15,
         27,
         "Portuguese Grand Prix",
         null,
         "2023-09-23T17:41:31.166+0000",
         1996
        ],
        [
         239,
         16,
         22,
         "Japanese Grand Prix",
         null,
         "2023-09-23T17:41:31.166+0000",
         1996
        ],
        [
         273,
         1,
         30,
         "South African Grand Prix",
         null,
         "2023-09-23T17:41:31.166+0000",
         1993
        ],
        [
         274,
         2,
         18,
         "Brazilian Grand Prix",
         null,
         "2023-09-23T17:41:31.166+0000",
         1993
        ],
        [
         275,
         3,
         31,
         "European Grand Prix",
         null,
         "2023-09-23T17:41:31.166+0000",
         1993
        ],
        [
         276,
         4,
         21,
         "San Marino Grand Prix",
         null,
         "2023-09-23T17:41:31.166+0000",
         1993
        ],
        [
         277,
         5,
         4,
         "Spanish Grand Prix",
         null,
         "2023-09-23T17:41:31.166+0000",
         1993
        ],
        [
         278,
         6,
         6,
         "Monaco Grand Prix",
         null,
         "2023-09-23T17:41:31.166+0000",
         1993
        ],
        [
         279,
         7,
         7,
         "Canadian Grand Prix",
         null,
         "2023-09-23T17:41:31.166+0000",
         1993
        ],
        [
         280,
         8,
         8,
         "French Grand Prix",
         null,
         "2023-09-23T17:41:31.166+0000",
         1993
        ],
        [
         281,
         9,
         9,
         "British Grand Prix",
         null,
         "2023-09-23T17:41:31.166+0000",
         1993
        ],
        [
         282,
         10,
         10,
         "German Grand Prix",
         null,
         "2023-09-23T17:41:31.166+0000",
         1993
        ],
        [
         283,
         11,
         11,
         "Hungarian Grand Prix",
         null,
         "2023-09-23T17:41:31.166+0000",
         1993
        ],
        [
         284,
         12,
         13,
         "Belgian Grand Prix",
         null,
         "2023-09-23T17:41:31.166+0000",
         1993
        ],
        [
         285,
         13,
         14,
         "Italian Grand Prix",
         null,
         "2023-09-23T17:41:31.166+0000",
         1993
        ],
        [
         286,
         14,
         27,
         "Portuguese Grand Prix",
         null,
         "2023-09-23T17:41:31.166+0000",
         1993
        ],
        [
         287,
         15,
         22,
         "Japanese Grand Prix",
         null,
         "2023-09-23T17:41:31.166+0000",
         1993
        ],
        [
         288,
         16,
         29,
         "Australian Grand Prix",
         null,
         "2023-09-23T17:41:31.166+0000",
         1993
        ],
        [
         191,
         1,
         1,
         "Australian Grand Prix",
         null,
         "2023-09-23T17:41:31.166+0000",
         1998
        ],
        [
         192,
         2,
         18,
         "Brazilian Grand Prix",
         null,
         "2023-09-23T17:41:31.166+0000",
         1998
        ],
        [
         193,
         3,
         25,
         "Argentine Grand Prix",
         null,
         "2023-09-23T17:41:31.166+0000",
         1998
        ],
        [
         194,
         4,
         21,
         "San Marino Grand Prix",
         null,
         "2023-09-23T17:41:31.166+0000",
         1998
        ],
        [
         195,
         5,
         4,
         "Spanish Grand Prix",
         null,
         "2023-09-23T17:41:31.166+0000",
         1998
        ],
        [
         196,
         6,
         6,
         "Monaco Grand Prix",
         null,
         "2023-09-23T17:41:31.166+0000",
         1998
        ],
        [
         197,
         7,
         7,
         "Canadian Grand Prix",
         null,
         "2023-09-23T17:41:31.166+0000",
         1998
        ],
        [
         198,
         8,
         8,
         "French Grand Prix",
         null,
         "2023-09-23T17:41:31.166+0000",
         1998
        ],
        [
         199,
         9,
         9,
         "British Grand Prix",
         null,
         "2023-09-23T17:41:31.166+0000",
         1998
        ],
        [
         200,
         10,
         23,
         "Austrian Grand Prix",
         null,
         "2023-09-23T17:41:31.166+0000",
         1998
        ],
        [
         201,
         11,
         10,
         "German Grand Prix",
         null,
         "2023-09-23T17:41:31.166+0000",
         1998
        ],
        [
         202,
         12,
         11,
         "Hungarian Grand Prix",
         null,
         "2023-09-23T17:41:31.166+0000",
         1998
        ],
        [
         203,
         13,
         13,
         "Belgian Grand Prix",
         null,
         "2023-09-23T17:41:31.166+0000",
         1998
        ],
        [
         204,
         14,
         14,
         "Italian Grand Prix",
         null,
         "2023-09-23T17:41:31.166+0000",
         1998
        ],
        [
         205,
         15,
         20,
         "Luxembourg Grand Prix",
         null,
         "2023-09-23T17:41:31.166+0000",
         1998
        ],
        [
         206,
         16,
         22,
         "Japanese Grand Prix",
         null,
         "2023-09-23T17:41:31.166+0000",
         1998
        ],
        [
         512,
         1,
         25,
         "Argentine Grand Prix",
         null,
         "2023-09-23T17:41:31.166+0000",
         1979
        ],
        [
         513,
         2,
         18,
         "Brazilian Grand Prix",
         null,
         "2023-09-23T17:41:31.166+0000",
         1979
        ],
        [
         514,
         3,
         30,
         "South African Grand Prix",
         null,
         "2023-09-23T17:41:31.166+0000",
         1979
        ],
        [
         515,
         4,
         43,
         "United States Grand Prix West",
         null,
         "2023-09-23T17:41:31.166+0000",
         1979
        ],
        [
         516,
         5,
         45,
         "Spanish Grand Prix",
         null,
         "2023-09-23T17:41:31.166+0000",
         1979
        ],
        [
         517,
         6,
         40,
         "Belgian Grand Prix",
         null,
         "2023-09-23T17:41:31.166+0000",
         1979
        ],
        [
         518,
         7,
         6,
         "Monaco Grand Prix",
         null,
         "2023-09-23T17:41:31.166+0000",
         1979
        ],
        [
         519,
         8,
         41,
         "French Grand Prix",
         null,
         "2023-09-23T17:41:31.166+0000",
         1979
        ],
        [
         520,
         9,
         9,
         "British Grand Prix",
         null,
         "2023-09-23T17:41:31.166+0000",
         1979
        ],
        [
         521,
         10,
         10,
         "German Grand Prix",
         null,
         "2023-09-23T17:41:31.166+0000",
         1979
        ],
        [
         522,
         11,
         23,
         "Austrian Grand Prix",
         null,
         "2023-09-23T17:41:31.166+0000",
         1979
        ],
        [
         523,
         12,
         39,
         "Dutch Grand Prix",
         null,
         "2023-09-23T17:41:31.166+0000",
         1979
        ],
        [
         524,
         13,
         14,
         "Italian Grand Prix",
         null,
         "2023-09-23T17:41:31.166+0000",
         1979
        ],
        [
         525,
         14,
         7,
         "Canadian Grand Prix",
         null,
         "2023-09-23T17:41:31.166+0000",
         1979
        ],
        [
         526,
         15,
         46,
         "United States Grand Prix",
         null,
         "2023-09-23T17:41:31.166+0000",
         1979
        ],
        [
         257,
         1,
         18,
         "Brazilian Grand Prix",
         null,
         "2023-09-23T17:41:31.166+0000",
         1994
        ],
        [
         258,
         2,
         28,
         "Pacific Grand Prix",
         null,
         "2023-09-23T17:41:31.166+0000",
         1994
        ],
        [
         259,
         3,
         21,
         "San Marino Grand Prix",
         null,
         "2023-09-23T17:41:31.166+0000",
         1994
        ],
        [
         260,
         4,
         6,
         "Monaco Grand Prix",
         null,
         "2023-09-23T17:41:31.166+0000",
         1994
        ],
        [
         261,
         5,
         4,
         "Spanish Grand Prix",
         null,
         "2023-09-23T17:41:31.166+0000",
         1994
        ],
        [
         262,
         6,
         7,
         "Canadian Grand Prix",
         null,
         "2023-09-23T17:41:31.166+0000",
         1994
        ],
        [
         263,
         7,
         8,
         "French Grand Prix",
         null,
         "2023-09-23T17:41:31.166+0000",
         1994
        ],
        [
         264,
         8,
         9,
         "British Grand Prix",
         null,
         "2023-09-23T17:41:31.166+0000",
         1994
        ],
        [
         265,
         9,
         10,
         "German Grand Prix",
         null,
         "2023-09-23T17:41:31.166+0000",
         1994
        ],
        [
         266,
         10,
         11,
         "Hungarian Grand Prix",
         null,
         "2023-09-23T17:41:31.166+0000",
         1994
        ],
        [
         267,
         11,
         13,
         "Belgian Grand Prix",
         null,
         "2023-09-23T17:41:31.166+0000",
         1994
        ],
        [
         268,
         12,
         14,
         "Italian Grand Prix",
         null,
         "2023-09-23T17:41:31.166+0000",
         1994
        ],
        [
         269,
         13,
         27,
         "Portuguese Grand Prix",
         null,
         "2023-09-23T17:41:31.166+0000",
         1994
        ],
        [
         270,
         14,
         26,
         "European Grand Prix",
         null,
         "2023-09-23T17:41:31.166+0000",
         1994
        ],
        [
         271,
         15,
         22,
         "Japanese Grand Prix",
         null,
         "2023-09-23T17:41:31.166+0000",
         1994
        ],
        [
         272,
         16,
         29,
         "Australian Grand Prix",
         null,
         "2023-09-23T17:41:31.166+0000",
         1994
        ],
        [
         590,
         1,
         25,
         "Argentine Grand Prix",
         null,
         "2023-09-23T17:41:31.166+0000",
         1974
        ],
        [
         591,
         2,
         18,
         "Brazilian Grand Prix",
         null,
         "2023-09-23T17:41:31.166+0000",
         1974
        ],
        [
         592,
         3,
         30,
         "South African Grand Prix",
         null,
         "2023-09-23T17:41:31.166+0000",
         1974
        ],
        [
         593,
         4,
         45,
         "Spanish Grand Prix",
         null,
         "2023-09-23T17:41:31.166+0000",
         1974
        ],
        [
         594,
         5,
         50,
         "Belgian Grand Prix",
         null,
         "2023-09-23T17:41:31.166+0000",
         1974
        ],
        [
         595,
         6,
         6,
         "Monaco Grand Prix",
         null,
         "2023-09-23T17:41:31.166+0000",
         1974
        ],
        [
         596,
         7,
         47,
         "Swedish Grand Prix",
         null,
         "2023-09-23T17:41:31.166+0000",
         1974
        ],
        [
         597,
         8,
         39,
         "Dutch Grand Prix",
         null,
         "2023-09-23T17:41:31.166+0000",
         1974
        ],
        [
         598,
         9,
         41,
         "French Grand Prix",
         null,
         "2023-09-23T17:41:31.166+0000",
         1974
        ],
        [
         599,
         10,
         38,
         "British Grand Prix",
         null,
         "2023-09-23T17:41:31.166+0000",
         1974
        ],
        [
         600,
         11,
         20,
         "German Grand Prix",
         null,
         "2023-09-23T17:41:31.166+0000",
         1974
        ],
        [
         601,
         12,
         23,
         "Austrian Grand Prix",
         null,
         "2023-09-23T17:41:31.166+0000",
         1974
        ],
        [
         602,
         13,
         14,
         "Italian Grand Prix",
         null,
         "2023-09-23T17:41:31.166+0000",
         1974
        ],
        [
         603,
         14,
         48,
         "Canadian Grand Prix",
         null,
         "2023-09-23T17:41:31.166+0000",
         1974
        ],
        [
         604,
         15,
         46,
         "United States Grand Prix",
         null,
         "2023-09-23T17:41:31.166+0000",
         1974
        ],
        [
         289,
         1,
         30,
         "South African Grand Prix",
         null,
         "2023-09-23T17:41:31.166+0000",
         1992
        ],
        [
         290,
         2,
         32,
         "Mexican Grand Prix",
         null,
         "2023-09-23T17:41:31.166+0000",
         1992
        ],
        [
         291,
         3,
         18,
         "Brazilian Grand Prix",
         null,
         "2023-09-23T17:41:31.166+0000",
         1992
        ],
        [
         292,
         4,
         4,
         "Spanish Grand Prix",
         null,
         "2023-09-23T17:41:31.166+0000",
         1992
        ],
        [
         293,
         5,
         21,
         "San Marino Grand Prix",
         null,
         "2023-09-23T17:41:31.166+0000",
         1992
        ],
        [
         294,
         6,
         6,
         "Monaco Grand Prix",
         null,
         "2023-09-23T17:41:31.166+0000",
         1992
        ],
        [
         295,
         7,
         7,
         "Canadian Grand Prix",
         null,
         "2023-09-23T17:41:31.166+0000",
         1992
        ],
        [
         296,
         8,
         8,
         "French Grand Prix",
         null,
         "2023-09-23T17:41:31.166+0000",
         1992
        ],
        [
         297,
         9,
         9,
         "British Grand Prix",
         null,
         "2023-09-23T17:41:31.166+0000",
         1992
        ],
        [
         298,
         10,
         10,
         "German Grand Prix",
         null,
         "2023-09-23T17:41:31.166+0000",
         1992
        ],
        [
         299,
         11,
         11,
         "Hungarian Grand Prix",
         null,
         "2023-09-23T17:41:31.166+0000",
         1992
        ],
        [
         300,
         12,
         13,
         "Belgian Grand Prix",
         null,
         "2023-09-23T17:41:31.166+0000",
         1992
        ],
        [
         301,
         13,
         14,
         "Italian Grand Prix",
         null,
         "2023-09-23T17:41:31.166+0000",
         1992
        ],
        [
         302,
         14,
         27,
         "Portuguese Grand Prix",
         null,
         "2023-09-23T17:41:31.166+0000",
         1992
        ],
        [
         303,
         15,
         22,
         "Japanese Grand Prix",
         null,
         "2023-09-23T17:41:31.166+0000",
         1992
        ],
        [
         304,
         16,
         29,
         "Australian Grand Prix",
         null,
         "2023-09-23T17:41:31.166+0000",
         1992
        ],
        [
         605,
         1,
         25,
         "Argentine Grand Prix",
         null,
         "2023-09-23T17:41:31.166+0000",
         1973
        ],
        [
         606,
         2,
         18,
         "Brazilian Grand Prix",
         null,
         "2023-09-23T17:41:31.166+0000",
         1973
        ],
        [
         607,
         3,
         30,
         "South African Grand Prix",
         null,
         "2023-09-23T17:41:31.166+0000",
         1973
        ],
        [
         608,
         4,
         49,
         "Spanish Grand Prix",
         null,
         "2023-09-23T17:41:31.166+0000",
         1973
        ],
        [
         609,
         5,
         40,
         "Belgian Grand Prix",
         null,
         "2023-09-23T17:41:31.166+0000",
         1973
        ],
        [
         610,
         6,
         6,
         "Monaco Grand Prix",
         null,
         "2023-09-23T17:41:31.166+0000",
         1973
        ],
        [
         611,
         7,
         47,
         "Swedish Grand Prix",
         null,
         "2023-09-23T17:41:31.166+0000",
         1973
        ],
        [
         612,
         8,
         34,
         "French Grand Prix",
         null,
         "2023-09-23T17:41:31.166+0000",
         1973
        ],
        [
         613,
         9,
         9,
         "British Grand Prix",
         null,
         "2023-09-23T17:41:31.166+0000",
         1973
        ],
        [
         614,
         10,
         39,
         "Dutch Grand Prix",
         null,
         "2023-09-23T17:41:31.166+0000",
         1973
        ],
        [
         615,
         11,
         20,
         "German Grand Prix",
         null,
         "2023-09-23T17:41:31.166+0000",
         1973
        ],
        [
         616,
         12,
         23,
         "Austrian Grand Prix",
         null,
         "2023-09-23T17:41:31.166+0000",
         1973
        ],
        [
         617,
         13,
         14,
         "Italian Grand Prix",
         null,
         "2023-09-23T17:41:31.166+0000",
         1973
        ],
        [
         618,
         14,
         48,
         "Canadian Grand Prix",
         null,
         "2023-09-23T17:41:31.166+0000",
         1973
        ],
        [
         619,
         15,
         46,
         "United States Grand Prix",
         null,
         "2023-09-23T17:41:31.166+0000",
         1973
        ],
        [
         175,
         1,
         1,
         "Australian Grand Prix",
         null,
         "2023-09-23T17:41:31.166+0000",
         1999
        ],
        [
         176,
         2,
         18,
         "Brazilian Grand Prix",
         null,
         "2023-09-23T17:41:31.166+0000",
         1999
        ],
        [
         177,
         3,
         21,
         "San Marino Grand Prix",
         null,
         "2023-09-23T17:41:31.166+0000",
         1999
        ],
        [
         178,
         4,
         6,
         "Monaco Grand Prix",
         null,
         "2023-09-23T17:41:31.166+0000",
         1999
        ],
        [
         179,
         5,
         4,
         "Spanish Grand Prix",
         null,
         "2023-09-23T17:41:31.166+0000",
         1999
        ],
        [
         180,
         6,
         7,
         "Canadian Grand Prix",
         null,
         "2023-09-23T17:41:31.166+0000",
         1999
        ],
        [
         181,
         7,
         8,
         "French Grand Prix",
         null,
         "2023-09-23T17:41:31.166+0000",
         1999
        ],
        [
         182,
         8,
         9,
         "British Grand Prix",
         null,
         "2023-09-23T17:41:31.166+0000",
         1999
        ],
        [
         183,
         9,
         23,
         "Austrian Grand Prix",
         null,
         "2023-09-23T17:41:31.166+0000",
         1999
        ],
        [
         184,
         10,
         10,
         "German Grand Prix",
         null,
         "2023-09-23T17:41:31.166+0000",
         1999
        ],
        [
         185,
         11,
         11,
         "Hungarian Grand Prix",
         null,
         "2023-09-23T17:41:31.166+0000",
         1999
        ],
        [
         186,
         12,
         13,
         "Belgian Grand Prix",
         null,
         "2023-09-23T17:41:31.166+0000",
         1999
        ],
        [
         187,
         13,
         14,
         "Italian Grand Prix",
         null,
         "2023-09-23T17:41:31.166+0000",
         1999
        ],
        [
         188,
         14,
         20,
         "European Grand Prix",
         null,
         "2023-09-23T17:41:31.166+0000",
         1999
        ],
        [
         189,
         15,
         2,
         "Malaysian Grand Prix",
         null,
         "2023-09-23T17:41:31.166+0000",
         1999
        ],
        [
         190,
         16,
         22,
         "Japanese Grand Prix",
         null,
         "2023-09-23T17:41:31.166+0000",
         1999
        ],
        [
         404,
         1,
         36,
         "Brazilian Grand Prix",
         null,
         "2023-09-23T17:41:31.166+0000",
         1986
        ],
        [
         405,
         2,
         26,
         "Spanish Grand Prix",
         null,
         "2023-09-23T17:41:31.166+0000",
         1986
        ],
        [
         406,
         3,
         21,
         "San Marino Grand Prix",
         null,
         "2023-09-23T17:41:31.166+0000",
         1986
        ],
        [
         407,
         4,
         6,
         "Monaco Grand Prix",
         null,
         "2023-09-23T17:41:31.166+0000",
         1986
        ],
        [
         408,
         5,
         13,
         "Belgian Grand Prix",
         null,
         "2023-09-23T17:41:31.166+0000",
         1986
        ],
        [
         409,
         6,
         7,
         "Canadian Grand Prix",
         null,
         "2023-09-23T17:41:31.166+0000",
         1986
        ],
        [
         410,
         7,
         37,
         "Detroit Grand Prix",
         null,
         "2023-09-23T17:41:31.166+0000",
         1986
        ],
        [
         411,
         8,
         34,
         "French Grand Prix",
         null,
         "2023-09-23T17:41:31.166+0000",
         1986
        ],
        [
         412,
         9,
         38,
         "British Grand Prix",
         null,
         "2023-09-23T17:41:31.166+0000",
         1986
        ],
        [
         413,
         10,
         10,
         "German Grand Prix",
         null,
         "2023-09-23T17:41:31.166+0000",
         1986
        ],
        [
         414,
         11,
         11,
         "Hungarian Grand Prix",
         null,
         "2023-09-23T17:41:31.166+0000",
         1986
        ],
        [
         415,
         12,
         23,
         "Austrian Grand Prix",
         null,
         "2023-09-23T17:41:31.166+0000",
         1986
        ],
        [
         416,
         13,
         14,
         "Italian Grand Prix",
         null,
         "2023-09-23T17:41:31.166+0000",
         1986
        ],
        [
         417,
         14,
         27,
         "Portuguese Grand Prix",
         null,
         "2023-09-23T17:41:31.166+0000",
         1986
        ],
        [
         418,
         15,
         32,
         "Mexican Grand Prix",
         null,
         "2023-09-23T17:41:31.166+0000",
         1986
        ],
        [
         419,
         16,
         29,
         "Australian Grand Prix",
         null,
         "2023-09-23T17:41:31.166+0000",
         1986
        ],
        [
         372,
         1,
         36,
         "Brazilian Grand Prix",
         null,
         "2023-09-23T17:41:31.166+0000",
         1988
        ],
        [
         373,
         2,
         21,
         "San Marino Grand Prix",
         null,
         "2023-09-23T17:41:31.166+0000",
         1988
        ],
        [
         374,
         3,
         6,
         "Monaco Grand Prix",
         null,
         "2023-09-23T17:41:31.166+0000",
         1988
        ],
        [
         375,
         4,
         32,
         "Mexican Grand Prix",
         null,
         "2023-09-23T17:41:31.166+0000",
         1988
        ],
        [
         376,
         5,
         7,
         "Canadian Grand Prix",
         null,
         "2023-09-23T17:41:31.166+0000",
         1988
        ],
        [
         377,
         6,
         37,
         "Detroit Grand Prix",
         null,
         "2023-09-23T17:41:31.166+0000",
         1988
        ],
        [
         378,
         7,
         34,
         "French Grand Prix",
         null,
         "2023-09-23T17:41:31.166+0000",
         1988
        ],
        [
         379,
         8,
         9,
         "British Grand Prix",
         null,
         "2023-09-23T17:41:31.166+0000",
         1988
        ],
        [
         380,
         9,
         10,
         "German Grand Prix",
         null,
         "2023-09-23T17:41:31.166+0000",
         1988
        ],
        [
         381,
         10,
         11,
         "Hungarian Grand Prix",
         null,
         "2023-09-23T17:41:31.166+0000",
         1988
        ],
        [
         382,
         11,
         13,
         "Belgian Grand Prix",
         null,
         "2023-09-23T17:41:31.166+0000",
         1988
        ],
        [
         383,
         12,
         14,
         "Italian Grand Prix",
         null,
         "2023-09-23T17:41:31.166+0000",
         1988
        ],
        [
         384,
         13,
         27,
         "Portuguese Grand Prix",
         null,
         "2023-09-23T17:41:31.166+0000",
         1988
        ],
        [
         385,
         14,
         26,
         "Spanish Grand Prix",
         null,
         "2023-09-23T17:41:31.166+0000",
         1988
        ],
        [
         386,
         15,
         22,
         "Japanese Grand Prix",
         null,
         "2023-09-23T17:41:31.166+0000",
         1988
        ],
        [
         387,
         16,
         29,
         "Australian Grand Prix",
         null,
         "2023-09-23T17:41:31.166+0000",
         1988
        ],
        [
         388,
         1,
         36,
         "Brazilian Grand Prix",
         null,
         "2023-09-23T17:41:31.166+0000",
         1987
        ],
        [
         389,
         2,
         21,
         "San Marino Grand Prix",
         null,
         "2023-09-23T17:41:31.166+0000",
         1987
        ],
        [
         390,
         3,
         13,
         "Belgian Grand Prix",
         null,
         "2023-09-23T17:41:31.166+0000",
         1987
        ],
        [
         391,
         4,
         6,
         "Monaco Grand Prix",
         null,
         "2023-09-23T17:41:31.166+0000",
         1987
        ],
        [
         392,
         5,
         37,
         "Detroit Grand Prix",
         null,
         "2023-09-23T17:41:31.166+0000",
         1987
        ],
        [
         393,
         6,
         34,
         "French Grand Prix",
         null,
         "2023-09-23T17:41:31.166+0000",
         1987
        ],
        [
         394,
         7,
         9,
         "British Grand Prix",
         null,
         "2023-09-23T17:41:31.166+0000",
         1987
        ],
        [
         395,
         8,
         10,
         "German Grand Prix",
         null,
         "2023-09-23T17:41:31.166+0000",
         1987
        ],
        [
         396,
         9,
         11,
         "Hungarian Grand Prix",
         null,
         "2023-09-23T17:41:31.166+0000",
         1987
        ],
        [
         397,
         10,
         23,
         "Austrian Grand Prix",
         null,
         "2023-09-23T17:41:31.166+0000",
         1987
        ],
        [
         398,
         11,
         14,
         "Italian Grand Prix",
         null,
         "2023-09-23T17:41:31.166+0000",
         1987
        ],
        [
         399,
         12,
         27,
         "Portuguese Grand Prix",
         null,
         "2023-09-23T17:41:31.166+0000",
         1987
        ],
        [
         400,
         13,
         26,
         "Spanish Grand Prix",
         null,
         "2023-09-23T17:41:31.166+0000",
         1987
        ],
        [
         401,
         14,
         32,
         "Mexican Grand Prix",
         null,
         "2023-09-23T17:41:31.166+0000",
         1987
        ],
        [
         402,
         15,
         22,
         "Japanese Grand Prix",
         null,
         "2023-09-23T17:41:31.166+0000",
         1987
        ],
        [
         403,
         16,
         29,
         "Australian Grand Prix",
         null,
         "2023-09-23T17:41:31.166+0000",
         1987
        ],
        [
         498,
         1,
         25,
         "Argentine Grand Prix",
         null,
         "2023-09-23T17:41:31.166+0000",
         1980
        ],
        [
         499,
         2,
         18,
         "Brazilian Grand Prix",
         null,
         "2023-09-23T17:41:31.166+0000",
         1980
        ],
        [
         500,
         3,
         30,
         "South African Grand Prix",
         null,
         "2023-09-23T17:41:31.166+0000",
         1980
        ],
        [
         501,
         4,
         43,
         "United States Grand Prix West",
         null,
         "2023-09-23T17:41:31.166+0000",
         1980
        ],
        [
         502,
         5,
         40,
         "Belgian Grand Prix",
         null,
         "2023-09-23T17:41:31.166+0000",
         1980
        ],
        [
         503,
         6,
         6,
         "Monaco Grand Prix",
         null,
         "2023-09-23T17:41:31.166+0000",
         1980
        ],
        [
         504,
         7,
         34,
         "French Grand Prix",
         null,
         "2023-09-23T17:41:31.166+0000",
         1980
        ],
        [
         505,
         8,
         38,
         "British Grand Prix",
         null,
         "2023-09-23T17:41:31.166+0000",
         1980
        ],
        [
         506,
         9,
         10,
         "German Grand Prix",
         null,
         "2023-09-23T17:41:31.166+0000",
         1980
        ],
        [
         507,
         10,
         23,
         "Austrian Grand Prix",
         null,
         "2023-09-23T17:41:31.166+0000",
         1980
        ],
        [
         508,
         11,
         39,
         "Dutch Grand Prix",
         null,
         "2023-09-23T17:41:31.166+0000",
         1980
        ],
        [
         509,
         12,
         21,
         "Italian Grand Prix",
         null,
         "2023-09-23T17:41:31.166+0000",
         1980
        ],
        [
         510,
         13,
         7,
         "Canadian Grand Prix",
         null,
         "2023-09-23T17:41:31.166+0000",
         1980
        ],
        [
         511,
         14,
         46,
         "United States Grand Prix",
         null,
         "2023-09-23T17:41:31.166+0000",
         1980
        ],
        [
         576,
         1,
         25,
         "Argentine Grand Prix",
         null,
         "2023-09-23T17:41:31.166+0000",
         1975
        ],
        [
         577,
         2,
         18,
         "Brazilian Grand Prix",
         null,
         "2023-09-23T17:41:31.166+0000",
         1975
        ],
        [
         578,
         3,
         30,
         "South African Grand Prix",
         null,
         "2023-09-23T17:41:31.166+0000",
         1975
        ],
        [
         579,
         4,
         49,
         "Spanish Grand Prix",
         null,
         "2023-09-23T17:41:31.166+0000",
         1975
        ],
        [
         580,
         5,
         6,
         "Monaco Grand Prix",
         null,
         "2023-09-23T17:41:31.166+0000",
         1975
        ],
        [
         581,
         6,
         40,
         "Belgian Grand Prix",
         null,
         "2023-09-23T17:41:31.166+0000",
         1975
        ],
        [
         582,
         7,
         47,
         "Swedish Grand Prix",
         null,
         "2023-09-23T17:41:31.166+0000",
         1975
        ],
        [
         583,
         8,
         39,
         "Dutch Grand Prix",
         null,
         "2023-09-23T17:41:31.166+0000",
         1975
        ],
        [
         584,
         9,
         34,
         "French Grand Prix",
         null,
         "2023-09-23T17:41:31.166+0000",
         1975
        ],
        [
         585,
         10,
         9,
         "British Grand Prix",
         null,
         "2023-09-23T17:41:31.166+0000",
         1975
        ],
        [
         586,
         11,
         20,
         "German Grand Prix",
         null,
         "2023-09-23T17:41:31.166+0000",
         1975
        ],
        [
         587,
         12,
         23,
         "Austrian Grand Prix",
         null,
         "2023-09-23T17:41:31.166+0000",
         1975
        ],
        [
         588,
         13,
         14,
         "Italian Grand Prix",
         null,
         "2023-09-23T17:41:31.166+0000",
         1975
        ],
        [
         589,
         14,
         46,
         "United States Grand Prix",
         null,
         "2023-09-23T17:41:31.166+0000",
         1975
        ],
        [
         643,
         1,
         30,
         "South African Grand Prix",
         null,
         "2023-09-23T17:41:31.166+0000",
         1970
        ],
        [
         644,
         2,
         45,
         "Spanish Grand Prix",
         null,
         "2023-09-23T17:41:31.166+0000",
         1970
        ],
        [
         645,
         3,
         6,
         "Monaco Grand Prix",
         null,
         "2023-09-23T17:41:31.166+0000",
         1970
        ],
        [
         646,
         4,
         13,
         "Belgian Grand Prix",
         null,
         "2023-09-23T17:41:31.166+0000",
         1970
        ],
        [
         647,
         5,
         39,
         "Dutch Grand Prix",
         null,
         "2023-09-23T17:41:31.166+0000",
         1970
        ],
        [
         648,
         6,
         51,
         "French Grand Prix",
         null,
         "2023-09-23T17:41:31.166+0000",
         1970
        ],
        [
         649,
         7,
         38,
         "British Grand Prix",
         null,
         "2023-09-23T17:41:31.166+0000",
         1970
        ],
        [
         650,
         8,
         10,
         "German Grand Prix",
         null,
         "2023-09-23T17:41:31.166+0000",
         1970
        ],
        [
         651,
         9,
         23,
         "Austrian Grand Prix",
         null,
         "2023-09-23T17:41:31.166+0000",
         1970
        ],
        [
         652,
         10,
         14,
         "Italian Grand Prix",
         null,
         "2023-09-23T17:41:31.166+0000",
         1970
        ],
        [
         653,
         11,
         52,
         "Canadian Grand Prix",
         null,
         "2023-09-23T17:41:31.166+0000",
         1970
        ],
        [
         654,
         12,
         46,
         "United States Grand Prix",
         null,
         "2023-09-23T17:41:31.166+0000",
         1970
        ],
        [
         655,
         13,
         32,
         "Mexican Grand Prix",
         null,
         "2023-09-23T17:41:31.166+0000",
         1970
        ],
        [
         620,
         1,
         25,
         "Argentine Grand Prix",
         null,
         "2023-09-23T17:41:31.166+0000",
         1972
        ],
        [
         621,
         2,
         30,
         "South African Grand Prix",
         null,
         "2023-09-23T17:41:31.166+0000",
         1972
        ],
        [
         622,
         3,
         45,
         "Spanish Grand Prix",
         null,
         "2023-09-23T17:41:31.166+0000",
         1972
        ],
        [
         623,
         4,
         6,
         "Monaco Grand Prix",
         null,
         "2023-09-23T17:41:31.166+0000",
         1972
        ],
        [
         624,
         5,
         50,
         "Belgian Grand Prix",
         null,
         "2023-09-23T17:41:31.166+0000",
         1972
        ],
        [
         625,
         6,
         51,
         "French Grand Prix",
         null,
         "2023-09-23T17:41:31.166+0000",
         1972
        ],
        [
         626,
         7,
         38,
         "British Grand Prix",
         null,
         "2023-09-23T17:41:31.166+0000",
         1972
        ],
        [
         627,
         8,
         20,
         "German Grand Prix",
         null,
         "2023-09-23T17:41:31.166+0000",
         1972
        ],
        [
         628,
         9,
         23,
         "Austrian Grand Prix",
         null,
         "2023-09-23T17:41:31.166+0000",
         1972
        ],
        [
         629,
         10,
         14,
         "Italian Grand Prix",
         null,
         "2023-09-23T17:41:31.166+0000",
         1972
        ],
        [
         630,
         11,
         48,
         "Canadian Grand Prix",
         null,
         "2023-09-23T17:41:31.166+0000",
         1972
        ],
        [
         631,
         12,
         46,
         "United States Grand Prix",
         null,
         "2023-09-23T17:41:31.166+0000",
         1972
        ],
        [
         667,
         1,
         30,
         "South African Grand Prix",
         null,
         "2023-09-23T17:41:31.166+0000",
         1968
        ],
        [
         668,
         2,
         45,
         "Spanish Grand Prix",
         null,
         "2023-09-23T17:41:31.166+0000",
         1968
        ],
        [
         669,
         3,
         6,
         "Monaco Grand Prix",
         null,
         "2023-09-23T17:41:31.166+0000",
         1968
        ],
        [
         670,
         4,
         13,
         "Belgian Grand Prix",
         null,
         "2023-09-23T17:41:31.166+0000",
         1968
        ],
        [
         671,
         5,
         39,
         "Dutch Grand Prix",
         null,
         "2023-09-23T17:41:31.166+0000",
         1968
        ],
        [
         672,
         6,
         53,
         "French Grand Prix",
         null,
         "2023-09-23T17:41:31.166+0000",
         1968
        ],
        [
         673,
         7,
         38,
         "British Grand Prix",
         null,
         "2023-09-23T17:41:31.166+0000",
         1968
        ],
        [
         674,
         8,
         20,
         "German Grand Prix",
         null,
         "2023-09-23T17:41:31.166+0000",
         1968
        ],
        [
         675,
         9,
         14,
         "Italian Grand Prix",
         null,
         "2023-09-23T17:41:31.166+0000",
         1968
        ],
        [
         676,
         10,
         52,
         "Canadian Grand Prix",
         null,
         "2023-09-23T17:41:31.166+0000",
         1968
        ],
        [
         677,
         11,
         46,
         "United States Grand Prix",
         null,
         "2023-09-23T17:41:31.166+0000",
         1968
        ],
        [
         678,
         12,
         32,
         "Mexican Grand Prix",
         null,
         "2023-09-23T17:41:31.166+0000",
         1968
        ],
        [
         679,
         1,
         30,
         "South African Grand Prix",
         null,
         "2023-09-23T17:41:31.166+0000",
         1967
        ],
        [
         680,
         2,
         6,
         "Monaco Grand Prix",
         null,
         "2023-09-23T17:41:31.166+0000",
         1967
        ],
        [
         681,
         3,
         39,
         "Dutch Grand Prix",
         null,
         "2023-09-23T17:41:31.166+0000",
         1967
        ],
        [
         682,
         4,
         13,
         "Belgian Grand Prix",
         null,
         "2023-09-23T17:41:31.166+0000",
         1967
        ],
        [
         683,
         5,
         54,
         "French Grand Prix",
         null,
         "2023-09-23T17:41:31.166+0000",
         1967
        ],
        [
         684,
         6,
         9,
         "British Grand Prix",
         null,
         "2023-09-23T17:41:31.166+0000",
         1967
        ],
        [
         685,
         7,
         20,
         "German Grand Prix",
         null,
         "2023-09-23T17:41:31.166+0000",
         1967
        ],
        [
         686,
         8,
         48,
         "Canadian Grand Prix",
         null,
         "2023-09-23T17:41:31.166+0000",
         1967
        ],
        [
         687,
         9,
         14,
         "Italian Grand Prix",
         null,
         "2023-09-23T17:41:31.166+0000",
         1967
        ],
        [
         688,
         10,
         46,
         "United States Grand Prix",
         null,
         "2023-09-23T17:41:31.166+0000",
         1967
        ],
        [
         689,
         11,
         32,
         "Mexican Grand Prix",
         null,
         "2023-09-23T17:41:31.166+0000",
         1967
        ],
        [
         765,
         1,
         25,
         "Argentine Grand Prix",
         null,
         "2023-09-23T17:41:31.166+0000",
         1958
        ],
        [
         766,
         2,
         6,
         "Monaco Grand Prix",
         null,
         "2023-09-23T17:41:31.166+0000",
         1958
        ],
        [
         767,
         3,
         39,
         "Dutch Grand Prix",
         null,
         "2023-09-23T17:41:31.166+0000",
         1958
        ],
        [
         768,
         4,
         19,
         "Indianapolis 500",
         null,
         "2023-09-23T17:41:31.166+0000",
         1958
        ],
        [
         769,
         5,
         13,
         "Belgian Grand Prix",
         null,
         "2023-09-23T17:41:31.166+0000",
         1958
        ],
        [
         770,
         6,
         55,
         "French Grand Prix",
         null,
         "2023-09-23T17:41:31.166+0000",
         1958
        ],
        [
         771,
         7,
         9,
         "British Grand Prix",
         null,
         "2023-09-23T17:41:31.166+0000",
         1958
        ],
        [
         772,
         8,
         20,
         "German Grand Prix",
         null,
         "2023-09-23T17:41:31.166+0000",
         1958
        ],
        [
         773,
         9,
         59,
         "Portuguese Grand Prix",
         null,
         "2023-09-23T17:41:31.166+0000",
         1958
        ],
        [
         774,
         10,
         14,
         "Italian Grand Prix",
         null,
         "2023-09-23T17:41:31.166+0000",
         1958
        ],
        [
         775,
         11,
         64,
         "Moroccan Grand Prix",
         null,
         "2023-09-23T17:41:31.166+0000",
         1958
        ],
        [
         632,
         1,
         30,
         "South African Grand Prix",
         null,
         "2023-09-23T17:41:31.166+0000",
         1971
        ],
        [
         633,
         2,
         49,
         "Spanish Grand Prix",
         null,
         "2023-09-23T17:41:31.166+0000",
         1971
        ],
        [
         634,
         3,
         6,
         "Monaco Grand Prix",
         null,
         "2023-09-23T17:41:31.166+0000",
         1971
        ],
        [
         635,
         4,
         39,
         "Dutch Grand Prix",
         null,
         "2023-09-23T17:41:31.166+0000",
         1971
        ],
        [
         636,
         5,
         34,
         "French Grand Prix",
         null,
         "2023-09-23T17:41:31.166+0000",
         1971
        ],
        [
         637,
         6,
         9,
         "British Grand Prix",
         null,
         "2023-09-23T17:41:31.166+0000",
         1971
        ],
        [
         638,
         7,
         20,
         "German Grand Prix",
         null,
         "2023-09-23T17:41:31.166+0000",
         1971
        ],
        [
         639,
         8,
         23,
         "Austrian Grand Prix",
         null,
         "2023-09-23T17:41:31.166+0000",
         1971
        ],
        [
         640,
         9,
         14,
         "Italian Grand Prix",
         null,
         "2023-09-23T17:41:31.166+0000",
         1971
        ],
        [
         641,
         10,
         48,
         "Canadian Grand Prix",
         null,
         "2023-09-23T17:41:31.166+0000",
         1971
        ],
        [
         642,
         11,
         46,
         "United States Grand Prix",
         null,
         "2023-09-23T17:41:31.166+0000",
         1971
        ],
        [
         656,
         1,
         30,
         "South African Grand Prix",
         null,
         "2023-09-23T17:41:31.166+0000",
         1969
        ],
        [
         657,
         2,
         49,
         "Spanish Grand Prix",
         null,
         "2023-09-23T17:41:31.166+0000",
         1969
        ],
        [
         658,
         3,
         6,
         "Monaco Grand Prix",
         null,
         "2023-09-23T17:41:31.166+0000",
         1969
        ],
        [
         659,
         4,
         39,
         "Dutch Grand Prix",
         null,
         "2023-09-23T17:41:31.166+0000",
         1969
        ],
        [
         660,
         5,
         51,
         "French Grand Prix",
         null,
         "2023-09-23T17:41:31.166+0000",
         1969
        ],
        [
         661,
         6,
         9,
         "British Grand Prix",
         null,
         "2023-09-23T17:41:31.166+0000",
         1969
        ],
        [
         662,
         7,
         20,
         "German Grand Prix",
         null,
         "2023-09-23T17:41:31.166+0000",
         1969
        ],
        [
         663,
         8,
         14,
         "Italian Grand Prix",
         null,
         "2023-09-23T17:41:31.166+0000",
         1969
        ],
        [
         664,
         9,
         48,
         "Canadian Grand Prix",
         null,
         "2023-09-23T17:41:31.166+0000",
         1969
        ],
        [
         665,
         10,
         46,
         "United States Grand Prix",
         null,
         "2023-09-23T17:41:31.166+0000",
         1969
        ],
        [
         666,
         11,
         32,
         "Mexican Grand Prix",
         null,
         "2023-09-23T17:41:31.166+0000",
         1969
        ],
        [
         746,
         1,
         25,
         "Argentine Grand Prix",
         null,
         "2023-09-23T17:41:31.166+0000",
         1960
        ],
        [
         747,
         2,
         6,
         "Monaco Grand Prix",
         null,
         "2023-09-23T17:41:31.166+0000",
         1960
        ],
        [
         748,
         3,
         19,
         "Indianapolis 500",
         null,
         "2023-09-23T17:41:31.166+0000",
         1960
        ],
        [
         749,
         4,
         39,
         "Dutch Grand Prix",
         null,
         "2023-09-23T17:41:31.166+0000",
         1960
        ],
        [
         750,
         5,
         13,
         "Belgian Grand Prix",
         null,
         "2023-09-23T17:41:31.166+0000",
         1960
        ],
        [
         751,
         6,
         55,
         "French Grand Prix",
         null,
         "2023-09-23T17:41:31.166+0000",
         1960
        ],
        [
         752,
         7,
         9,
         "British Grand Prix",
         null,
         "2023-09-23T17:41:31.166+0000",
         1960
        ],
        [
         753,
         8,
         59,
         "Portuguese Grand Prix",
         null,
         "2023-09-23T17:41:31.166+0000",
         1960
        ],
        [
         754,
         9,
         14,
         "Italian Grand Prix",
         null,
         "2023-09-23T17:41:31.166+0000",
         1960
        ],
        [
         755,
         10,
         60,
         "United States Grand Prix",
         null,
         "2023-09-23T17:41:31.166+0000",
         1960
        ],
        [
         719,
         1,
         6,
         "Monaco Grand Prix",
         null,
         "2023-09-23T17:41:31.166+0000",
         1963
        ],
        [
         720,
         2,
         13,
         "Belgian Grand Prix",
         null,
         "2023-09-23T17:41:31.166+0000",
         1963
        ],
        [
         721,
         3,
         39,
         "Dutch Grand Prix",
         null,
         "2023-09-23T17:41:31.166+0000",
         1963
        ],
        [
         722,
         4,
         55,
         "French Grand Prix",
         null,
         "2023-09-23T17:41:31.166+0000",
         1963
        ],
        [
         723,
         5,
         9,
         "British Grand Prix",
         null,
         "2023-09-23T17:41:31.166+0000",
         1963
        ],
        [
         724,
         6,
         20,
         "German Grand Prix",
         null,
         "2023-09-23T17:41:31.166+0000",
         1963
        ],
        [
         725,
         7,
         14,
         "Italian Grand Prix",
         null,
         "2023-09-23T17:41:31.166+0000",
         1963
        ],
        [
         726,
         8,
         46,
         "United States Grand Prix",
         null,
         "2023-09-23T17:41:31.166+0000",
         1963
        ],
        [
         727,
         9,
         32,
         "Mexican Grand Prix",
         null,
         "2023-09-23T17:41:31.166+0000",
         1963
        ],
        [
         728,
         10,
         56,
         "South African Grand Prix",
         null,
         "2023-09-23T17:41:31.166+0000",
         1963
        ],
        [
         699,
         1,
         56,
         "South African Grand Prix",
         null,
         "2023-09-23T17:41:31.166+0000",
         1965
        ],
        [
         700,
         2,
         6,
         "Monaco Grand Prix",
         null,
         "2023-09-23T17:41:31.166+0000",
         1965
        ],
        [
         701,
         3,
         13,
         "Belgian Grand Prix",
         null,
         "2023-09-23T17:41:31.166+0000",
         1965
        ],
        [
         702,
         4,
         51,
         "French Grand Prix",
         null,
         "2023-09-23T17:41:31.166+0000",
         1965
        ],
        [
         703,
         5,
         9,
         "British Grand Prix",
         null,
         "2023-09-23T17:41:31.166+0000",
         1965
        ],
        [
         704,
         6,
         39,
         "Dutch Grand Prix",
         null,
         "2023-09-23T17:41:31.166+0000",
         1965
        ],
        [
         705,
         7,
         20,
         "German Grand Prix",
         null,
         "2023-09-23T17:41:31.166+0000",
         1965
        ],
        [
         706,
         8,
         14,
         "Italian Grand Prix",
         null,
         "2023-09-23T17:41:31.166+0000",
         1965
        ],
        [
         707,
         9,
         46,
         "United States Grand Prix",
         null,
         "2023-09-23T17:41:31.166+0000",
         1965
        ],
        [
         708,
         10,
         32,
         "Mexican Grand Prix",
         null,
         "2023-09-23T17:41:31.166+0000",
         1965
        ],
        [
         709,
         1,
         6,
         "Monaco Grand Prix",
         null,
         "2023-09-23T17:41:31.166+0000",
         1964
        ],
        [
         710,
         2,
         39,
         "Dutch Grand Prix",
         null,
         "2023-09-23T17:41:31.166+0000",
         1964
        ],
        [
         711,
         3,
         13,
         "Belgian Grand Prix",
         null,
         "2023-09-23T17:41:31.166+0000",
         1964
        ],
        [
         712,
         4,
         53,
         "French Grand Prix",
         null,
         "2023-09-23T17:41:31.166+0000",
         1964
        ],
        [
         713,
         5,
         38,
         "British Grand Prix",
         null,
         "2023-09-23T17:41:31.166+0000",
         1964
        ],
        [
         714,
         6,
         20,
         "German Grand Prix",
         null,
         "2023-09-23T17:41:31.166+0000",
         1964
        ],
        [
         715,
         7,
         57,
         "Austrian Grand Prix",
         null,
         "2023-09-23T17:41:31.166+0000",
         1964
        ],
        [
         716,
         8,
         14,
         "Italian Grand Prix",
         null,
         "2023-09-23T17:41:31.166+0000",
         1964
        ],
        [
         717,
         9,
         46,
         "United States Grand Prix",
         null,
         "2023-09-23T17:41:31.166+0000",
         1964
        ],
        [
         718,
         10,
         32,
         "Mexican Grand Prix",
         null,
         "2023-09-23T17:41:31.166+0000",
         1964
        ],
        [
         756,
         1,
         6,
         "Monaco Grand Prix",
         null,
         "2023-09-23T17:41:31.166+0000",
         1959
        ],
        [
         757,
         2,
         19,
         "Indianapolis 500",
         null,
         "2023-09-23T17:41:31.166+0000",
         1959
        ],
        [
         758,
         3,
         39,
         "Dutch Grand Prix",
         null,
         "2023-09-23T17:41:31.166+0000",
         1959
        ],
        [
         759,
         4,
         55,
         "French Grand Prix",
         null,
         "2023-09-23T17:41:31.166+0000",
         1959
        ],
        [
         760,
         5,
         58,
         "British Grand Prix",
         null,
         "2023-09-23T17:41:31.166+0000",
         1959
        ],
        [
         761,
         6,
         61,
         "German Grand Prix",
         null,
         "2023-09-23T17:41:31.166+0000",
         1959
        ],
        [
         762,
         7,
         62,
         "Portuguese Grand Prix",
         null,
         "2023-09-23T17:41:31.166+0000",
         1959
        ],
        [
         763,
         8,
         14,
         "Italian Grand Prix",
         null,
         "2023-09-23T17:41:31.166+0000",
         1959
        ],
        [
         764,
         9,
         63,
         "United States Grand Prix",
         null,
         "2023-09-23T17:41:31.166+0000",
         1959
        ],
        [
         729,
         1,
         39,
         "Dutch Grand Prix",
         null,
         "2023-09-23T17:41:31.166+0000",
         1962
        ],
        [
         730,
         2,
         6,
         "Monaco Grand Prix",
         null,
         "2023-09-23T17:41:31.166+0000",
         1962
        ],
        [
         731,
         3,
         13,
         "Belgian Grand Prix",
         null,
         "2023-09-23T17:41:31.166+0000",
         1962
        ],
        [
         732,
         4,
         53,
         "French Grand Prix",
         null,
         "2023-09-23T17:41:31.166+0000",
         1962
        ],
        [
         733,
         5,
         58,
         "British Grand Prix",
         null,
         "2023-09-23T17:41:31.166+0000",
         1962
        ],
        [
         734,
         6,
         20,
         "German Grand Prix",
         null,
         "2023-09-23T17:41:31.166+0000",
         1962
        ],
        [
         735,
         7,
         14,
         "Italian Grand Prix",
         null,
         "2023-09-23T17:41:31.166+0000",
         1962
        ],
        [
         736,
         8,
         46,
         "United States Grand Prix",
         null,
         "2023-09-23T17:41:31.166+0000",
         1962
        ],
        [
         737,
         9,
         56,
         "South African Grand Prix",
         null,
         "2023-09-23T17:41:31.166+0000",
         1962
        ],
        [
         690,
         1,
         6,
         "Monaco Grand Prix",
         null,
         "2023-09-23T17:41:31.166+0000",
         1966
        ],
        [
         691,
         2,
         13,
         "Belgian Grand Prix",
         null,
         "2023-09-23T17:41:31.166+0000",
         1966
        ],
        [
         692,
         3,
         55,
         "French Grand Prix",
         null,
         "2023-09-23T17:41:31.166+0000",
         1966
        ],
        [
         693,
         4,
         38,
         "British Grand Prix",
         null,
         "2023-09-23T17:41:31.166+0000",
         1966
        ],
        [
         694,
         5,
         39,
         "Dutch Grand Prix",
         null,
         "2023-09-23T17:41:31.166+0000",
         1966
        ],
        [
         695,
         6,
         20,
         "German Grand Prix",
         null,
         "2023-09-23T17:41:31.166+0000",
         1966
        ],
        [
         696,
         7,
         14,
         "Italian Grand Prix",
         null,
         "2023-09-23T17:41:31.166+0000",
         1966
        ],
        [
         697,
         8,
         46,
         "United States Grand Prix",
         null,
         "2023-09-23T17:41:31.166+0000",
         1966
        ],
        [
         698,
         9,
         32,
         "Mexican Grand Prix",
         null,
         "2023-09-23T17:41:31.166+0000",
         1966
        ],
        [
         799,
         1,
         25,
         "Argentine Grand Prix",
         null,
         "2023-09-23T17:41:31.166+0000",
         1954
        ],
        [
         800,
         2,
         19,
         "Indianapolis 500",
         null,
         "2023-09-23T17:41:31.166+0000",
         1954
        ],
        [
         801,
         3,
         13,
         "Belgian Grand Prix",
         null,
         "2023-09-23T17:41:31.166+0000",
         1954
        ],
        [
         802,
         4,
         55,
         "French Grand Prix",
         null,
         "2023-09-23T17:41:31.166+0000",
         1954
        ],
        [
         803,
         5,
         9,
         "British Grand Prix",
         null,
         "2023-09-23T17:41:31.166+0000",
         1954
        ],
        [
         804,
         6,
         20,
         "German Grand Prix",
         null,
         "2023-09-23T17:41:31.166+0000",
         1954
        ],
        [
         805,
         7,
         66,
         "Swiss Grand Prix",
         null,
         "2023-09-23T17:41:31.166+0000",
         1954
        ],
        [
         806,
         8,
         14,
         "Italian Grand Prix",
         null,
         "2023-09-23T17:41:31.166+0000",
         1954
        ],
        [
         807,
         9,
         67,
         "Spanish Grand Prix",
         null,
         "2023-09-23T17:41:31.166+0000",
         1954
        ],
        [
         808,
         1,
         25,
         "Argentine Grand Prix",
         null,
         "2023-09-23T17:41:31.166+0000",
         1953
        ],
        [
         809,
         2,
         19,
         "Indianapolis 500",
         null,
         "2023-09-23T17:41:31.166+0000",
         1953
        ],
        [
         810,
         3,
         39,
         "Dutch Grand Prix",
         null,
         "2023-09-23T17:41:31.166+0000",
         1953
        ],
        [
         811,
         4,
         13,
         "Belgian Grand Prix",
         null,
         "2023-09-23T17:41:31.166+0000",
         1953
        ],
        [
         812,
         5,
         55,
         "French Grand Prix",
         null,
         "2023-09-23T17:41:31.166+0000",
         1953
        ],
        [
         813,
         6,
         9,
         "British Grand Prix",
         null,
         "2023-09-23T17:41:31.166+0000",
         1953
        ],
        [
         814,
         7,
         20,
         "German Grand Prix",
         null,
         "2023-09-23T17:41:31.166+0000",
         1953
        ],
        [
         815,
         8,
         66,
         "Swiss Grand Prix",
         null,
         "2023-09-23T17:41:31.166+0000",
         1953
        ],
        [
         816,
         9,
         14,
         "Italian Grand Prix",
         null,
         "2023-09-23T17:41:31.166+0000",
         1953
        ],
        [
         738,
         1,
         6,
         "Monaco Grand Prix",
         null,
         "2023-09-23T17:41:31.166+0000",
         1961
        ],
        [
         739,
         2,
         39,
         "Dutch Grand Prix",
         null,
         "2023-09-23T17:41:31.166+0000",
         1961
        ],
        [
         740,
         3,
         13,
         "Belgian Grand Prix",
         null,
         "2023-09-23T17:41:31.166+0000",
         1961
        ],
        [
         741,
         4,
         55,
         "French Grand Prix",
         null,
         "2023-09-23T17:41:31.166+0000",
         1961
        ],
        [
         742,
         5,
         58,
         "British Grand Prix",
         null,
         "2023-09-23T17:41:31.166+0000",
         1961
        ],
        [
         743,
         6,
         20,
         "German Grand Prix",
         null,
         "2023-09-23T17:41:31.166+0000",
         1961
        ],
        [
         744,
         7,
         14,
         "Italian Grand Prix",
         null,
         "2023-09-23T17:41:31.166+0000",
         1961
        ],
        [
         745,
         8,
         46,
         "United States Grand Prix",
         null,
         "2023-09-23T17:41:31.166+0000",
         1961
        ],
        [
         776,
         1,
         25,
         "Argentine Grand Prix",
         null,
         "2023-09-23T17:41:31.166+0000",
         1957
        ],
        [
         777,
         2,
         6,
         "Monaco Grand Prix",
         null,
         "2023-09-23T17:41:31.166+0000",
         1957
        ],
        [
         778,
         3,
         19,
         "Indianapolis 500",
         null,
         "2023-09-23T17:41:31.166+0000",
         1957
        ],
        [
         779,
         4,
         53,
         "French Grand Prix",
         null,
         "2023-09-23T17:41:31.166+0000",
         1957
        ],
        [
         780,
         5,
         58,
         "British Grand Prix",
         null,
         "2023-09-23T17:41:31.166+0000",
         1957
        ],
        [
         781,
         6,
         20,
         "German Grand Prix",
         null,
         "2023-09-23T17:41:31.166+0000",
         1957
        ],
        [
         782,
         7,
         65,
         "Pescara Grand Prix",
         null,
         "2023-09-23T17:41:31.166+0000",
         1957
        ],
        [
         783,
         8,
         14,
         "Italian Grand Prix",
         null,
         "2023-09-23T17:41:31.166+0000",
         1957
        ],
        [
         784,
         1,
         25,
         "Argentine Grand Prix",
         null,
         "2023-09-23T17:41:31.166+0000",
         1956
        ],
        [
         785,
         2,
         6,
         "Monaco Grand Prix",
         null,
         "2023-09-23T17:41:31.166+0000",
         1956
        ],
        [
         786,
         3,
         19,
         "Indianapolis 500",
         null,
         "2023-09-23T17:41:31.166+0000",
         1956
        ],
        [
         787,
         4,
         13,
         "Belgian Grand Prix",
         null,
         "2023-09-23T17:41:31.166+0000",
         1956
        ],
        [
         788,
         5,
         55,
         "French Grand Prix",
         null,
         "2023-09-23T17:41:31.166+0000",
         1956
        ],
        [
         789,
         6,
         9,
         "British Grand Prix",
         null,
         "2023-09-23T17:41:31.166+0000",
         1956
        ],
        [
         790,
         7,
         20,
         "German Grand Prix",
         null,
         "2023-09-23T17:41:31.166+0000",
         1956
        ],
        [
         791,
         8,
         14,
         "Italian Grand Prix",
         null,
         "2023-09-23T17:41:31.166+0000",
         1956
        ],
        [
         825,
         1,
         66,
         "Swiss Grand Prix",
         null,
         "2023-09-23T17:41:31.166+0000",
         1951
        ],
        [
         826,
         2,
         19,
         "Indianapolis 500",
         null,
         "2023-09-23T17:41:31.166+0000",
         1951
        ],
        [
         827,
         3,
         13,
         "Belgian Grand Prix",
         null,
         "2023-09-23T17:41:31.166+0000",
         1951
        ],
        [
         828,
         4,
         55,
         "French Grand Prix",
         null,
         "2023-09-23T17:41:31.166+0000",
         1951
        ],
        [
         829,
         5,
         9,
         "British Grand Prix",
         null,
         "2023-09-23T17:41:31.166+0000",
         1951
        ],
        [
         830,
         6,
         20,
         "German Grand Prix",
         null,
         "2023-09-23T17:41:31.166+0000",
         1951
        ],
        [
         831,
         7,
         14,
         "Italian Grand Prix",
         null,
         "2023-09-23T17:41:31.166+0000",
         1951
        ],
        [
         832,
         8,
         67,
         "Spanish Grand Prix",
         null,
         "2023-09-23T17:41:31.166+0000",
         1951
        ],
        [
         817,
         1,
         66,
         "Swiss Grand Prix",
         null,
         "2023-09-23T17:41:31.166+0000",
         1952
        ],
        [
         818,
         2,
         19,
         "Indianapolis 500",
         null,
         "2023-09-23T17:41:31.166+0000",
         1952
        ],
        [
         819,
         3,
         13,
         "Belgian Grand Prix",
         null,
         "2023-09-23T17:41:31.166+0000",
         1952
        ],
        [
         820,
         4,
         53,
         "French Grand Prix",
         null,
         "2023-09-23T17:41:31.166+0000",
         1952
        ],
        [
         821,
         5,
         9,
         "British Grand Prix",
         null,
         "2023-09-23T17:41:31.166+0000",
         1952
        ],
        [
         822,
         6,
         20,
         "German Grand Prix",
         null,
         "2023-09-23T17:41:31.166+0000",
         1952
        ],
        [
         823,
         7,
         39,
         "Dutch Grand Prix",
         null,
         "2023-09-23T17:41:31.166+0000",
         1952
        ],
        [
         824,
         8,
         14,
         "Italian Grand Prix",
         null,
         "2023-09-23T17:41:31.166+0000",
         1952
        ],
        [
         792,
         1,
         25,
         "Argentine Grand Prix",
         null,
         "2023-09-23T17:41:31.166+0000",
         1955
        ],
        [
         793,
         2,
         6,
         "Monaco Grand Prix",
         null,
         "2023-09-23T17:41:31.166+0000",
         1955
        ],
        [
         794,
         3,
         19,
         "Indianapolis 500",
         null,
         "2023-09-23T17:41:31.166+0000",
         1955
        ],
        [
         795,
         4,
         13,
         "Belgian Grand Prix",
         null,
         "2023-09-23T17:41:31.166+0000",
         1955
        ],
        [
         796,
         5,
         39,
         "Dutch Grand Prix",
         null,
         "2023-09-23T17:41:31.166+0000",
         1955
        ],
        [
         797,
         6,
         58,
         "British Grand Prix",
         null,
         "2023-09-23T17:41:31.166+0000",
         1955
        ],
        [
         798,
         7,
         14,
         "Italian Grand Prix",
         null,
         "2023-09-23T17:41:31.166+0000",
         1955
        ],
        [
         833,
         1,
         9,
         "British Grand Prix",
         null,
         "2023-09-23T17:41:31.166+0000",
         1950
        ],
        [
         834,
         2,
         6,
         "Monaco Grand Prix",
         null,
         "2023-09-23T17:41:31.166+0000",
         1950
        ],
        [
         835,
         3,
         19,
         "Indianapolis 500",
         null,
         "2023-09-23T17:41:31.166+0000",
         1950
        ],
        [
         836,
         4,
         66,
         "Swiss Grand Prix",
         null,
         "2023-09-23T17:41:31.166+0000",
         1950
        ],
        [
         837,
         5,
         13,
         "Belgian Grand Prix",
         null,
         "2023-09-23T17:41:31.166+0000",
         1950
        ],
        [
         838,
         6,
         55,
         "French Grand Prix",
         null,
         "2023-09-23T17:41:31.166+0000",
         1950
        ],
        [
         839,
         7,
         14,
         "Italian Grand Prix",
         null,
         "2023-09-23T17:41:31.166+0000",
         1950
        ]
       ],
       "datasetInfos": [],
       "dbfsResultPath": null,
       "isJsonSchema": true,
       "metadata": {},
       "overflow": false,
       "plotOptions": {
        "customPlotOptions": {},
        "displayType": "table",
        "pivotAggregation": null,
        "pivotColumns": null,
        "xColumns": null,
        "yColumns": null
       },
       "removedWidgets": [],
       "schema": [
        {
         "metadata": "{}",
         "name": "race_id",
         "type": "\"integer\""
        },
        {
         "metadata": "{}",
         "name": "round",
         "type": "\"integer\""
        },
        {
         "metadata": "{}",
         "name": "circuit_id",
         "type": "\"integer\""
        },
        {
         "metadata": "{}",
         "name": "name",
         "type": "\"string\""
        },
        {
         "metadata": "{}",
         "name": "race_timestamp",
         "type": "\"timestamp\""
        },
        {
         "metadata": "{}",
         "name": "ingestion_date",
         "type": "\"timestamp\""
        },
        {
         "metadata": "{}",
         "name": "race_year",
         "type": "\"integer\""
        }
       ],
       "type": "table"
      }
     },
     "output_type": "display_data"
    }
   ],
   "source": [
    "df = spark.read.parquet(\"/mnt/jumayelformula1dl/processed/races/\")\n",
    "display(df)"
   ]
  },
  {
   "cell_type": "code",
   "execution_count": 0,
   "metadata": {
    "application/vnd.databricks.v1+cell": {
     "cellMetadata": {},
     "inputWidgets": {},
     "nuid": "2afc888f-6211-4263-947a-9d51df075372",
     "showTitle": false,
     "title": ""
    }
   },
   "outputs": [],
   "source": []
  }
 ],
 "metadata": {
  "application/vnd.databricks.v1+notebook": {
   "dashboards": [],
   "language": "python",
   "notebookMetadata": {
    "mostRecentlyExecutedCommandWithImplicitDF": {
     "commandId": 154262438495748,
     "dataframes": [
      "_sqldf"
     ]
    },
    "pythonIndentUnit": 4
   },
   "notebookName": "2.ingest_races_file",
   "widgets": {}
  }
 },
 "nbformat": 4,
 "nbformat_minor": 0
}
