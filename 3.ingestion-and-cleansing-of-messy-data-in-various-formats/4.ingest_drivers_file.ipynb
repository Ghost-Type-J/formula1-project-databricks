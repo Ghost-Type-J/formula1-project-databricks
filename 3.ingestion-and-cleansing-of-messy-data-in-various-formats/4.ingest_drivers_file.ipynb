{
 "cells": [
  {
   "cell_type": "markdown",
   "metadata": {
    "application/vnd.databricks.v1+cell": {
     "cellMetadata": {
      "byteLimit": 2048000,
      "rowLimit": 10000
     },
     "inputWidgets": {},
     "nuid": "6419df4f-7796-4d32-91a0-4274644a5d95",
     "showTitle": false,
     "title": ""
    }
   },
   "source": [
    "\n",
    "### Ingest drivers.json file\n"
   ]
  },
  {
   "cell_type": "markdown",
   "metadata": {
    "application/vnd.databricks.v1+cell": {
     "cellMetadata": {
      "byteLimit": 2048000,
      "rowLimit": 10000
     },
     "inputWidgets": {},
     "nuid": "6d1c419c-78cc-44f8-b899-30926fa30775",
     "showTitle": false,
     "title": ""
    }
   },
   "source": [
    "\n",
    "##### Step 1 - Read the JSON file using the spark dataframe reader API"
   ]
  },
  {
   "cell_type": "code",
   "execution_count": 0,
   "metadata": {
    "application/vnd.databricks.v1+cell": {
     "cellMetadata": {
      "byteLimit": 2048000,
      "rowLimit": 10000
     },
     "inputWidgets": {},
     "nuid": "c5159312-3c49-42d8-bc41-834f41081f16",
     "showTitle": false,
     "title": ""
    }
   },
   "outputs": [],
   "source": [
    "from pyspark.sql.types import StructType, StructField, IntegerType, StringType, DateType"
   ]
  },
  {
   "cell_type": "code",
   "execution_count": 0,
   "metadata": {
    "application/vnd.databricks.v1+cell": {
     "cellMetadata": {
      "byteLimit": 2048000,
      "rowLimit": 10000
     },
     "inputWidgets": {},
     "nuid": "4bf4787f-6bf1-44ab-81fb-7d0376e4c685",
     "showTitle": false,
     "title": ""
    }
   },
   "outputs": [],
   "source": [
    "names_schema = StructType(fields=[\n",
    "    StructField(\"forename\", StringType(), True),\n",
    "    StructField(\"surname\", StringType(), True)\n",
    "])\n",
    "\n",
    "drivers_schema = StructType(fields=[\n",
    "    StructField(\"driverId\", IntegerType(), False),\n",
    "    StructField(\"driverRef\", StringType(), True),\n",
    "    StructField(\"number\", IntegerType(), True),\n",
    "    StructField(\"code\", StringType(), True),\n",
    "    StructField(\"name\", names_schema, True),\n",
    "    StructField(\"dob\", DateType(), True),\n",
    "    StructField(\"nationality\", StringType(), True),\n",
    "    StructField(\"url\", StringType(), True)\n",
    "])"
   ]
  },
  {
   "cell_type": "code",
   "execution_count": 0,
   "metadata": {
    "application/vnd.databricks.v1+cell": {
     "cellMetadata": {
      "byteLimit": 2048000,
      "rowLimit": 10000
     },
     "inputWidgets": {},
     "nuid": "3cf8bb22-b0b5-4a3a-a4a5-4b6434ba4edc",
     "showTitle": false,
     "title": ""
    }
   },
   "outputs": [],
   "source": [
    "driver_df = spark.read.json(\"/mnt/jumayelformula1dl/raw/drivers.json\", schema=drivers_schema)"
   ]
  },
  {
   "cell_type": "markdown",
   "metadata": {
    "application/vnd.databricks.v1+cell": {
     "cellMetadata": {
      "byteLimit": 2048000,
      "rowLimit": 10000
     },
     "inputWidgets": {},
     "nuid": "5a24fe81-f885-4a68-ab5c-6b7704befbe1",
     "showTitle": false,
     "title": ""
    }
   },
   "source": [
    "\n",
    "#####Step 2 - Rename columns, add ingestion_date column and concatenate the name column with both names"
   ]
  },
  {
   "cell_type": "code",
   "execution_count": 0,
   "metadata": {
    "application/vnd.databricks.v1+cell": {
     "cellMetadata": {
      "byteLimit": 2048000,
      "rowLimit": 10000
     },
     "inputWidgets": {},
     "nuid": "f56513fd-3f05-422c-be27-d492fdb14fe7",
     "showTitle": false,
     "title": ""
    }
   },
   "outputs": [],
   "source": [
    "from pyspark.sql.functions import col, lit, concat, current_timestamp"
   ]
  },
  {
   "cell_type": "code",
   "execution_count": 0,
   "metadata": {
    "application/vnd.databricks.v1+cell": {
     "cellMetadata": {
      "byteLimit": 2048000,
      "rowLimit": 10000
     },
     "inputWidgets": {},
     "nuid": "9b0beccd-92c7-4e69-bfef-bc6334729875",
     "showTitle": false,
     "title": ""
    }
   },
   "outputs": [],
   "source": [
    "drivers_with_columns_df = driver_df.withColumnRenamed(\"driverId\", \"driver_id\") \\\n",
    "                                   .withColumnRenamed(\"driverRef\", \"driver_ref\") \\\n",
    "                                   .withColumn(\"ingestion_date\", current_timestamp()) \\\n",
    "                                   .withColumn(\"name\", concat(col(\"name.forename\"), lit(\" \"), col(\"name.surname\")))\n"
   ]
  },
  {
   "cell_type": "markdown",
   "metadata": {
    "application/vnd.databricks.v1+cell": {
     "cellMetadata": {
      "byteLimit": 2048000,
      "rowLimit": 10000
     },
     "inputWidgets": {},
     "nuid": "515f3035-8a80-4ae5-a8b4-36c5aaf070c9",
     "showTitle": false,
     "title": ""
    }
   },
   "source": [
    "\n",
    "##### Step 3 - Drop the unwanted columns"
   ]
  },
  {
   "cell_type": "code",
   "execution_count": 0,
   "metadata": {
    "application/vnd.databricks.v1+cell": {
     "cellMetadata": {
      "byteLimit": 2048000,
      "rowLimit": 10000
     },
     "inputWidgets": {},
     "nuid": "48ecd190-1024-42de-ba41-fc57b73d42d4",
     "showTitle": false,
     "title": ""
    }
   },
   "outputs": [],
   "source": [
    "drivers_final_df = drivers_with_columns_df.drop(\"url\")"
   ]
  },
  {
   "cell_type": "markdown",
   "metadata": {
    "application/vnd.databricks.v1+cell": {
     "cellMetadata": {
      "byteLimit": 2048000,
      "rowLimit": 10000
     },
     "inputWidgets": {},
     "nuid": "79920bd6-3ccd-4cef-9247-9f64fefe073d",
     "showTitle": false,
     "title": ""
    }
   },
   "source": [
    "\n",
    "##### Step 4 - Write the output to the processed container in parquet format"
   ]
  },
  {
   "cell_type": "code",
   "execution_count": 0,
   "metadata": {
    "application/vnd.databricks.v1+cell": {
     "cellMetadata": {
      "byteLimit": 2048000,
      "rowLimit": 10000
     },
     "inputWidgets": {},
     "nuid": "094a72ce-b126-4301-8fb3-a41a6f8f3602",
     "showTitle": false,
     "title": ""
    }
   },
   "outputs": [],
   "source": [
    "drivers_final_df.write.parquet(\"/mnt/jumayelformula1dl/processed/drivers/\", mode=\"overwrite\")"
   ]
  },
  {
   "cell_type": "code",
   "execution_count": 0,
   "metadata": {
    "application/vnd.databricks.v1+cell": {
     "cellMetadata": {
      "byteLimit": 2048000,
      "rowLimit": 10000
     },
     "inputWidgets": {},
     "nuid": "89653145-0787-42ff-bd7b-4900eb37ba96",
     "showTitle": false,
     "title": ""
    }
   },
   "outputs": [
    {
     "output_type": "display_data",
     "data": {
      "text/html": [
       "<style scoped>\n",
       "  .table-result-container {\n",
       "    max-height: 300px;\n",
       "    overflow: auto;\n",
       "  }\n",
       "  table, th, td {\n",
       "    border: 1px solid black;\n",
       "    border-collapse: collapse;\n",
       "  }\n",
       "  th, td {\n",
       "    padding: 5px;\n",
       "  }\n",
       "  th {\n",
       "    text-align: left;\n",
       "  }\n",
       "</style><div class='table-result-container'><table class='table-result'><thead style='background-color: white'><tr><th>driver_id</th><th>driver_ref</th><th>number</th><th>code</th><th>name</th><th>dob</th><th>nationality</th><th>ingestion_date</th></tr></thead><tbody><tr><td>1</td><td>hamilton</td><td>44</td><td>HAM</td><td>Lewis Hamilton</td><td>1985-01-07</td><td>British</td><td>2023-09-23T20:22:29.129+0000</td></tr><tr><td>2</td><td>heidfeld</td><td>null</td><td>HEI</td><td>Nick Heidfeld</td><td>1977-05-10</td><td>German</td><td>2023-09-23T20:22:29.129+0000</td></tr><tr><td>3</td><td>rosberg</td><td>6</td><td>ROS</td><td>Nico Rosberg</td><td>1985-06-27</td><td>German</td><td>2023-09-23T20:22:29.129+0000</td></tr><tr><td>4</td><td>alonso</td><td>14</td><td>ALO</td><td>Fernando Alonso</td><td>1981-07-29</td><td>Spanish</td><td>2023-09-23T20:22:29.129+0000</td></tr><tr><td>5</td><td>kovalainen</td><td>null</td><td>KOV</td><td>Heikki Kovalainen</td><td>1981-10-19</td><td>Finnish</td><td>2023-09-23T20:22:29.129+0000</td></tr><tr><td>6</td><td>nakajima</td><td>null</td><td>NAK</td><td>Kazuki Nakajima</td><td>1985-01-11</td><td>Japanese</td><td>2023-09-23T20:22:29.129+0000</td></tr><tr><td>7</td><td>bourdais</td><td>null</td><td>BOU</td><td>Sébastien Bourdais</td><td>1979-02-28</td><td>French</td><td>2023-09-23T20:22:29.129+0000</td></tr><tr><td>8</td><td>raikkonen</td><td>7</td><td>RAI</td><td>Kimi Räikkönen</td><td>1979-10-17</td><td>Finnish</td><td>2023-09-23T20:22:29.129+0000</td></tr><tr><td>9</td><td>kubica</td><td>88</td><td>KUB</td><td>Robert Kubica</td><td>1984-12-07</td><td>Polish</td><td>2023-09-23T20:22:29.129+0000</td></tr><tr><td>10</td><td>glock</td><td>null</td><td>GLO</td><td>Timo Glock</td><td>1982-03-18</td><td>German</td><td>2023-09-23T20:22:29.129+0000</td></tr><tr><td>11</td><td>sato</td><td>null</td><td>SAT</td><td>Takuma Sato</td><td>1977-01-28</td><td>Japanese</td><td>2023-09-23T20:22:29.129+0000</td></tr><tr><td>12</td><td>piquet_jr</td><td>null</td><td>PIQ</td><td>Nelson Piquet Jr.</td><td>1985-07-25</td><td>Brazilian</td><td>2023-09-23T20:22:29.129+0000</td></tr><tr><td>13</td><td>massa</td><td>19</td><td>MAS</td><td>Felipe Massa</td><td>1981-04-25</td><td>Brazilian</td><td>2023-09-23T20:22:29.129+0000</td></tr><tr><td>14</td><td>coulthard</td><td>null</td><td>COU</td><td>David Coulthard</td><td>1971-03-27</td><td>British</td><td>2023-09-23T20:22:29.129+0000</td></tr><tr><td>15</td><td>trulli</td><td>null</td><td>TRU</td><td>Jarno Trulli</td><td>1974-07-13</td><td>Italian</td><td>2023-09-23T20:22:29.129+0000</td></tr><tr><td>16</td><td>sutil</td><td>99</td><td>SUT</td><td>Adrian Sutil</td><td>1983-01-11</td><td>German</td><td>2023-09-23T20:22:29.129+0000</td></tr><tr><td>17</td><td>webber</td><td>null</td><td>WEB</td><td>Mark Webber</td><td>1976-08-27</td><td>Australian</td><td>2023-09-23T20:22:29.129+0000</td></tr><tr><td>18</td><td>button</td><td>22</td><td>BUT</td><td>Jenson Button</td><td>1980-01-19</td><td>British</td><td>2023-09-23T20:22:29.129+0000</td></tr><tr><td>19</td><td>davidson</td><td>null</td><td>DAV</td><td>Anthony Davidson</td><td>1979-04-18</td><td>British</td><td>2023-09-23T20:22:29.129+0000</td></tr><tr><td>20</td><td>vettel</td><td>5</td><td>VET</td><td>Sebastian Vettel</td><td>1987-07-03</td><td>German</td><td>2023-09-23T20:22:29.129+0000</td></tr><tr><td>21</td><td>fisichella</td><td>null</td><td>FIS</td><td>Giancarlo Fisichella</td><td>1973-01-14</td><td>Italian</td><td>2023-09-23T20:22:29.129+0000</td></tr><tr><td>22</td><td>barrichello</td><td>null</td><td>BAR</td><td>Rubens Barrichello</td><td>1972-05-23</td><td>Brazilian</td><td>2023-09-23T20:22:29.129+0000</td></tr><tr><td>23</td><td>ralf_schumacher</td><td>null</td><td>SCH</td><td>Ralf Schumacher</td><td>1975-06-30</td><td>German</td><td>2023-09-23T20:22:29.129+0000</td></tr><tr><td>24</td><td>liuzzi</td><td>null</td><td>LIU</td><td>Vitantonio Liuzzi</td><td>1980-08-06</td><td>Italian</td><td>2023-09-23T20:22:29.129+0000</td></tr><tr><td>25</td><td>wurz</td><td>null</td><td>WUR</td><td>Alexander Wurz</td><td>1974-02-15</td><td>Austrian</td><td>2023-09-23T20:22:29.129+0000</td></tr><tr><td>26</td><td>speed</td><td>null</td><td>SPE</td><td>Scott Speed</td><td>1983-01-24</td><td>American</td><td>2023-09-23T20:22:29.129+0000</td></tr><tr><td>27</td><td>albers</td><td>null</td><td>ALB</td><td>Christijan Albers</td><td>1979-04-16</td><td>Dutch</td><td>2023-09-23T20:22:29.129+0000</td></tr><tr><td>28</td><td>markus_winkelhock</td><td>null</td><td>WIN</td><td>Markus Winkelhock</td><td>1980-06-13</td><td>German</td><td>2023-09-23T20:22:29.129+0000</td></tr><tr><td>29</td><td>yamamoto</td><td>null</td><td>YAM</td><td>Sakon Yamamoto</td><td>1982-07-09</td><td>Japanese</td><td>2023-09-23T20:22:29.129+0000</td></tr><tr><td>30</td><td>michael_schumacher</td><td>null</td><td>MSC</td><td>Michael Schumacher</td><td>1969-01-03</td><td>German</td><td>2023-09-23T20:22:29.129+0000</td></tr><tr><td>31</td><td>montoya</td><td>null</td><td>MON</td><td>Juan Pablo Montoya</td><td>1975-09-20</td><td>Colombian</td><td>2023-09-23T20:22:29.129+0000</td></tr><tr><td>32</td><td>klien</td><td>null</td><td>KLI</td><td>Christian Klien</td><td>1983-02-07</td><td>Austrian</td><td>2023-09-23T20:22:29.129+0000</td></tr><tr><td>33</td><td>monteiro</td><td>null</td><td>TMO</td><td>Tiago Monteiro</td><td>1976-07-24</td><td>Portuguese</td><td>2023-09-23T20:22:29.129+0000</td></tr><tr><td>34</td><td>ide</td><td>null</td><td>IDE</td><td>Yuji Ide</td><td>1975-01-21</td><td>Japanese</td><td>2023-09-23T20:22:29.129+0000</td></tr><tr><td>35</td><td>villeneuve</td><td>null</td><td>VIL</td><td>Jacques Villeneuve</td><td>1971-04-09</td><td>Canadian</td><td>2023-09-23T20:22:29.129+0000</td></tr><tr><td>36</td><td>montagny</td><td>null</td><td>FMO</td><td>Franck Montagny</td><td>1978-01-05</td><td>French</td><td>2023-09-23T20:22:29.129+0000</td></tr><tr><td>37</td><td>rosa</td><td>null</td><td>DLR</td><td>Pedro de la Rosa</td><td>1971-02-24</td><td>Spanish</td><td>2023-09-23T20:22:29.129+0000</td></tr><tr><td>38</td><td>doornbos</td><td>null</td><td>DOO</td><td>Robert Doornbos</td><td>1981-09-23</td><td>Dutch</td><td>2023-09-23T20:22:29.129+0000</td></tr><tr><td>39</td><td>karthikeyan</td><td>null</td><td>KAR</td><td>Narain Karthikeyan</td><td>1977-01-14</td><td>Indian</td><td>2023-09-23T20:22:29.129+0000</td></tr><tr><td>40</td><td>friesacher</td><td>null</td><td>FRI</td><td>Patrick Friesacher</td><td>1980-09-26</td><td>Austrian</td><td>2023-09-23T20:22:29.129+0000</td></tr><tr><td>41</td><td>zonta</td><td>null</td><td>ZON</td><td>Ricardo Zonta</td><td>1976-03-23</td><td>Brazilian</td><td>2023-09-23T20:22:29.129+0000</td></tr><tr><td>42</td><td>pizzonia</td><td>null</td><td>PIZ</td><td>Antônio Pizzonia</td><td>1980-09-11</td><td>Brazilian</td><td>2023-09-23T20:22:29.129+0000</td></tr><tr><td>43</td><td>matta</td><td>null</td><td>\\N</td><td>Cristiano da Matta</td><td>1973-09-19</td><td>Brazilian</td><td>2023-09-23T20:22:29.129+0000</td></tr><tr><td>44</td><td>panis</td><td>null</td><td>\\N</td><td>Olivier Panis</td><td>1966-09-02</td><td>French</td><td>2023-09-23T20:22:29.129+0000</td></tr><tr><td>45</td><td>pantano</td><td>null</td><td>\\N</td><td>Giorgio Pantano</td><td>1979-02-04</td><td>Italian</td><td>2023-09-23T20:22:29.129+0000</td></tr><tr><td>46</td><td>bruni</td><td>null</td><td>\\N</td><td>Gianmaria Bruni</td><td>1981-05-30</td><td>Italian</td><td>2023-09-23T20:22:29.129+0000</td></tr><tr><td>47</td><td>baumgartner</td><td>null</td><td>\\N</td><td>Zsolt Baumgartner</td><td>1981-01-01</td><td>Hungarian</td><td>2023-09-23T20:22:29.129+0000</td></tr><tr><td>48</td><td>gene</td><td>null</td><td>\\N</td><td>Marc Gené</td><td>1974-03-29</td><td>Spanish</td><td>2023-09-23T20:22:29.129+0000</td></tr><tr><td>49</td><td>frentzen</td><td>null</td><td>\\N</td><td>Heinz-Harald Frentzen</td><td>1967-05-18</td><td>German</td><td>2023-09-23T20:22:29.129+0000</td></tr><tr><td>50</td><td>verstappen</td><td>null</td><td>\\N</td><td>Jos Verstappen</td><td>1972-03-04</td><td>Dutch</td><td>2023-09-23T20:22:29.129+0000</td></tr><tr><td>51</td><td>wilson</td><td>null</td><td>\\N</td><td>Justin Wilson</td><td>1978-07-31</td><td>British</td><td>2023-09-23T20:22:29.129+0000</td></tr><tr><td>52</td><td>firman</td><td>null</td><td>\\N</td><td>Ralph Firman</td><td>1975-05-20</td><td>Irish</td><td>2023-09-23T20:22:29.129+0000</td></tr><tr><td>53</td><td>kiesa</td><td>null</td><td>\\N</td><td>Nicolas Kiesa</td><td>1978-03-03</td><td>Danish</td><td>2023-09-23T20:22:29.129+0000</td></tr><tr><td>54</td><td>burti</td><td>null</td><td>\\N</td><td>Luciano Burti</td><td>1975-03-05</td><td>Brazilian</td><td>2023-09-23T20:22:29.129+0000</td></tr><tr><td>55</td><td>alesi</td><td>null</td><td>\\N</td><td>Jean Alesi</td><td>1964-06-11</td><td>French</td><td>2023-09-23T20:22:29.129+0000</td></tr><tr><td>56</td><td>irvine</td><td>null</td><td>\\N</td><td>Eddie Irvine</td><td>1965-11-10</td><td>British</td><td>2023-09-23T20:22:29.129+0000</td></tr><tr><td>57</td><td>hakkinen</td><td>null</td><td>\\N</td><td>Mika Häkkinen</td><td>1968-09-28</td><td>Finnish</td><td>2023-09-23T20:22:29.129+0000</td></tr><tr><td>58</td><td>marques</td><td>null</td><td>\\N</td><td>Tarso Marques</td><td>1976-01-19</td><td>Brazilian</td><td>2023-09-23T20:22:29.129+0000</td></tr><tr><td>59</td><td>bernoldi</td><td>null</td><td>\\N</td><td>Enrique Bernoldi</td><td>1978-10-19</td><td>Brazilian</td><td>2023-09-23T20:22:29.129+0000</td></tr><tr><td>60</td><td>mazzacane</td><td>null</td><td>\\N</td><td>Gastón Mazzacane</td><td>1975-05-08</td><td>Argentine</td><td>2023-09-23T20:22:29.129+0000</td></tr><tr><td>61</td><td>enge</td><td>null</td><td>\\N</td><td>Tomáš Enge</td><td>1976-09-11</td><td>Czech</td><td>2023-09-23T20:22:29.129+0000</td></tr><tr><td>62</td><td>yoong</td><td>null</td><td>\\N</td><td>Alex Yoong</td><td>1976-07-20</td><td>Malaysian</td><td>2023-09-23T20:22:29.129+0000</td></tr><tr><td>63</td><td>salo</td><td>null</td><td>\\N</td><td>Mika Salo</td><td>1966-11-30</td><td>Finnish</td><td>2023-09-23T20:22:29.129+0000</td></tr><tr><td>64</td><td>diniz</td><td>null</td><td>\\N</td><td>Pedro Diniz</td><td>1970-05-22</td><td>Brazilian</td><td>2023-09-23T20:22:29.129+0000</td></tr><tr><td>65</td><td>herbert</td><td>null</td><td>\\N</td><td>Johnny Herbert</td><td>1964-06-25</td><td>British</td><td>2023-09-23T20:22:29.129+0000</td></tr><tr><td>66</td><td>mcnish</td><td>null</td><td>\\N</td><td>Allan McNish</td><td>1969-12-29</td><td>British</td><td>2023-09-23T20:22:29.129+0000</td></tr><tr><td>67</td><td>buemi</td><td>null</td><td>BUE</td><td>Sébastien Buemi</td><td>1988-10-31</td><td>Swiss</td><td>2023-09-23T20:22:29.129+0000</td></tr><tr><td>68</td><td>takagi</td><td>null</td><td>\\N</td><td>Toranosuke Takagi</td><td>1974-02-12</td><td>Japanese</td><td>2023-09-23T20:22:29.129+0000</td></tr><tr><td>69</td><td>badoer</td><td>null</td><td>BAD</td><td>Luca Badoer</td><td>1971-01-25</td><td>Italian</td><td>2023-09-23T20:22:29.129+0000</td></tr><tr><td>70</td><td>zanardi</td><td>null</td><td>\\N</td><td>Alessandro Zanardi</td><td>1966-10-23</td><td>Italian</td><td>2023-09-23T20:22:29.129+0000</td></tr><tr><td>71</td><td>damon_hill</td><td>null</td><td>\\N</td><td>Damon Hill</td><td>1960-09-17</td><td>British</td><td>2023-09-23T20:22:29.129+0000</td></tr><tr><td>72</td><td>sarrazin</td><td>null</td><td>\\N</td><td>Stéphane Sarrazin</td><td>1975-11-02</td><td>French</td><td>2023-09-23T20:22:29.129+0000</td></tr><tr><td>73</td><td>rosset</td><td>null</td><td>\\N</td><td>Ricardo Rosset</td><td>1968-07-27</td><td>Brazilian</td><td>2023-09-23T20:22:29.129+0000</td></tr><tr><td>74</td><td>tuero</td><td>null</td><td>\\N</td><td>Esteban Tuero</td><td>1978-04-22</td><td>Argentine</td><td>2023-09-23T20:22:29.129+0000</td></tr><tr><td>75</td><td>nakano</td><td>null</td><td>\\N</td><td>Shinji Nakano</td><td>1971-04-01</td><td>Japanese</td><td>2023-09-23T20:22:29.129+0000</td></tr><tr><td>76</td><td>magnussen</td><td>null</td><td>MAG</td><td>Jan Magnussen</td><td>1973-07-04</td><td>Danish</td><td>2023-09-23T20:22:29.129+0000</td></tr><tr><td>77</td><td>berger</td><td>null</td><td>\\N</td><td>Gerhard Berger</td><td>1959-08-27</td><td>Austrian</td><td>2023-09-23T20:22:29.129+0000</td></tr><tr><td>78</td><td>larini</td><td>null</td><td>\\N</td><td>Nicola Larini</td><td>1964-03-19</td><td>Italian</td><td>2023-09-23T20:22:29.129+0000</td></tr><tr><td>79</td><td>katayama</td><td>null</td><td>\\N</td><td>Ukyo Katayama</td><td>1963-05-29</td><td>Japanese</td><td>2023-09-23T20:22:29.129+0000</td></tr><tr><td>80</td><td>sospiri</td><td>null</td><td>\\N</td><td>Vincenzo Sospiri</td><td>1966-10-07</td><td>Italian</td><td>2023-09-23T20:22:29.129+0000</td></tr><tr><td>81</td><td>morbidelli</td><td>null</td><td>\\N</td><td>Gianni Morbidelli</td><td>1968-01-13</td><td>Italian</td><td>2023-09-23T20:22:29.129+0000</td></tr><tr><td>82</td><td>fontana</td><td>null</td><td>\\N</td><td>Norberto Fontana</td><td>1975-01-20</td><td>Argentine</td><td>2023-09-23T20:22:29.129+0000</td></tr><tr><td>83</td><td>lamy</td><td>null</td><td>\\N</td><td>Pedro Lamy</td><td>1972-03-20</td><td>Portuguese</td><td>2023-09-23T20:22:29.129+0000</td></tr><tr><td>84</td><td>brundle</td><td>null</td><td>\\N</td><td>Martin Brundle</td><td>1959-06-01</td><td>British</td><td>2023-09-23T20:22:29.129+0000</td></tr><tr><td>85</td><td>montermini</td><td>null</td><td>\\N</td><td>Andrea Montermini</td><td>1964-05-30</td><td>Italian</td><td>2023-09-23T20:22:29.129+0000</td></tr><tr><td>86</td><td>lavaggi</td><td>null</td><td>\\N</td><td>Giovanni Lavaggi</td><td>1958-02-18</td><td>Italian</td><td>2023-09-23T20:22:29.129+0000</td></tr><tr><td>87</td><td>blundell</td><td>null</td><td>\\N</td><td>Mark Blundell</td><td>1966-04-08</td><td>British</td><td>2023-09-23T20:22:29.129+0000</td></tr><tr><td>88</td><td>suzuki</td><td>null</td><td>\\N</td><td>Aguri Suzuki</td><td>1960-09-08</td><td>Japanese</td><td>2023-09-23T20:22:29.129+0000</td></tr><tr><td>89</td><td>inoue</td><td>null</td><td>\\N</td><td>Taki Inoue</td><td>1963-09-05</td><td>Japanese</td><td>2023-09-23T20:22:29.129+0000</td></tr><tr><td>90</td><td>moreno</td><td>null</td><td>\\N</td><td>Roberto Moreno</td><td>1959-02-11</td><td>Brazilian</td><td>2023-09-23T20:22:29.129+0000</td></tr><tr><td>91</td><td>wendlinger</td><td>null</td><td>\\N</td><td>Karl Wendlinger</td><td>1968-12-20</td><td>Austrian</td><td>2023-09-23T20:22:29.129+0000</td></tr><tr><td>92</td><td>gachot</td><td>null</td><td>\\N</td><td>Bertrand Gachot</td><td>1962-12-23</td><td>Belgian</td><td>2023-09-23T20:22:29.129+0000</td></tr><tr><td>93</td><td>schiattarella</td><td>null</td><td>\\N</td><td>Domenico Schiattarella</td><td>1967-11-17</td><td>Italian</td><td>2023-09-23T20:22:29.129+0000</td></tr><tr><td>94</td><td>martini</td><td>null</td><td>\\N</td><td>Pierluigi Martini</td><td>1961-04-23</td><td>Italian</td><td>2023-09-23T20:22:29.129+0000</td></tr><tr><td>95</td><td>mansell</td><td>null</td><td>\\N</td><td>Nigel Mansell</td><td>1953-08-08</td><td>British</td><td>2023-09-23T20:22:29.129+0000</td></tr><tr><td>96</td><td>boullion</td><td>null</td><td>\\N</td><td>Jean-Christophe Boullion</td><td>1969-12-27</td><td>French</td><td>2023-09-23T20:22:29.129+0000</td></tr><tr><td>97</td><td>papis</td><td>null</td><td>\\N</td><td>Massimiliano Papis</td><td>1969-10-03</td><td>Italian</td><td>2023-09-23T20:22:29.129+0000</td></tr><tr><td>98</td><td>deletraz</td><td>null</td><td>\\N</td><td>Jean-Denis Délétraz</td><td>1963-10-01</td><td>Swiss</td><td>2023-09-23T20:22:29.129+0000</td></tr><tr><td>99</td><td>tarquini</td><td>null</td><td>\\N</td><td>Gabriele Tarquini</td><td>1962-03-02</td><td>Italian</td><td>2023-09-23T20:22:29.129+0000</td></tr><tr><td>100</td><td>comas</td><td>null</td><td>\\N</td><td>Érik Comas</td><td>1963-09-28</td><td>French</td><td>2023-09-23T20:22:29.129+0000</td></tr><tr><td>101</td><td>brabham</td><td>null</td><td>\\N</td><td>David Brabham</td><td>1965-09-05</td><td>Australian</td><td>2023-09-23T20:22:29.129+0000</td></tr><tr><td>102</td><td>senna</td><td>null</td><td>\\N</td><td>Ayrton Senna</td><td>1960-03-21</td><td>Brazilian</td><td>2023-09-23T20:22:29.129+0000</td></tr><tr><td>103</td><td>bernard</td><td>null</td><td>\\N</td><td>Éric Bernard</td><td>1964-08-24</td><td>French</td><td>2023-09-23T20:22:29.129+0000</td></tr><tr><td>104</td><td>fittipaldi</td><td>null</td><td>\\N</td><td>Christian Fittipaldi</td><td>1971-01-18</td><td>Brazilian</td><td>2023-09-23T20:22:29.129+0000</td></tr><tr><td>105</td><td>alboreto</td><td>null</td><td>\\N</td><td>Michele Alboreto</td><td>1956-12-23</td><td>Italian</td><td>2023-09-23T20:22:29.129+0000</td></tr><tr><td>106</td><td>beretta</td><td>null</td><td>\\N</td><td>Olivier Beretta</td><td>1969-11-23</td><td>Monegasque</td><td>2023-09-23T20:22:29.129+0000</td></tr><tr><td>107</td><td>ratzenberger</td><td>null</td><td>\\N</td><td>Roland Ratzenberger</td><td>1960-07-04</td><td>Austrian</td><td>2023-09-23T20:22:29.129+0000</td></tr><tr><td>108</td><td>belmondo</td><td>null</td><td>\\N</td><td>Paul Belmondo</td><td>1963-04-23</td><td>French</td><td>2023-09-23T20:22:29.129+0000</td></tr><tr><td>109</td><td>lehto</td><td>null</td><td>\\N</td><td>Jyrki Järvilehto</td><td>1966-01-31</td><td>Finnish</td><td>2023-09-23T20:22:29.129+0000</td></tr><tr><td>110</td><td>cesaris</td><td>null</td><td>\\N</td><td>Andrea de Cesaris</td><td>1959-05-31</td><td>Italian</td><td>2023-09-23T20:22:29.129+0000</td></tr><tr><td>111</td><td>gounon</td><td>null</td><td>\\N</td><td>Jean-Marc Gounon</td><td>1963-01-01</td><td>French</td><td>2023-09-23T20:22:29.129+0000</td></tr><tr><td>112</td><td>alliot</td><td>null</td><td>\\N</td><td>Philippe Alliot</td><td>1954-07-27</td><td>French</td><td>2023-09-23T20:22:29.129+0000</td></tr><tr><td>113</td><td>adams</td><td>null</td><td>\\N</td><td>Philippe Adams</td><td>1969-11-19</td><td>Belgian</td><td>2023-09-23T20:22:29.129+0000</td></tr><tr><td>114</td><td>dalmas</td><td>null</td><td>\\N</td><td>Yannick Dalmas</td><td>1961-07-28</td><td>French</td><td>2023-09-23T20:22:29.129+0000</td></tr><tr><td>115</td><td>noda</td><td>null</td><td>\\N</td><td>Hideki Noda</td><td>1969-03-07</td><td>Japanese</td><td>2023-09-23T20:22:29.129+0000</td></tr><tr><td>116</td><td>lagorce</td><td>null</td><td>\\N</td><td>Franck Lagorce</td><td>1968-09-01</td><td>French</td><td>2023-09-23T20:22:29.129+0000</td></tr><tr><td>117</td><td>prost</td><td>null</td><td>\\N</td><td>Alain Prost</td><td>1955-02-24</td><td>French</td><td>2023-09-23T20:22:29.129+0000</td></tr><tr><td>118</td><td>warwick</td><td>null</td><td>\\N</td><td>Derek Warwick</td><td>1954-08-27</td><td>British</td><td>2023-09-23T20:22:29.129+0000</td></tr><tr><td>119</td><td>patrese</td><td>null</td><td>\\N</td><td>Riccardo Patrese</td><td>1954-04-17</td><td>Italian</td><td>2023-09-23T20:22:29.129+0000</td></tr><tr><td>120</td><td>barbazza</td><td>null</td><td>\\N</td><td>Fabrizio Barbazza</td><td>1963-04-02</td><td>Italian</td><td>2023-09-23T20:22:29.129+0000</td></tr><tr><td>121</td><td>andretti</td><td>null</td><td>\\N</td><td>Michael Andretti</td><td>1962-10-05</td><td>American</td><td>2023-09-23T20:22:29.129+0000</td></tr><tr><td>122</td><td>capelli</td><td>null</td><td>\\N</td><td>Ivan Capelli</td><td>1963-05-24</td><td>Italian</td><td>2023-09-23T20:22:29.129+0000</td></tr><tr><td>123</td><td>boutsen</td><td>null</td><td>\\N</td><td>Thierry Boutsen</td><td>1957-07-13</td><td>Belgian</td><td>2023-09-23T20:22:29.129+0000</td></tr><tr><td>124</td><td>apicella</td><td>null</td><td>\\N</td><td>Marco Apicella</td><td>1965-10-07</td><td>Italian</td><td>2023-09-23T20:22:29.129+0000</td></tr><tr><td>125</td><td>naspetti</td><td>null</td><td>\\N</td><td>Emanuele Naspetti</td><td>1968-02-24</td><td>Italian</td><td>2023-09-23T20:22:29.129+0000</td></tr><tr><td>126</td><td>toshio_suzuki</td><td>null</td><td>\\N</td><td>Toshio Suzuki</td><td>1955-03-10</td><td>Japanese</td><td>2023-09-23T20:22:29.129+0000</td></tr><tr><td>127</td><td>gugelmin</td><td>null</td><td>\\N</td><td>Maurício Gugelmin</td><td>1963-04-20</td><td>Brazilian</td><td>2023-09-23T20:22:29.129+0000</td></tr><tr><td>128</td><td>poele</td><td>null</td><td>\\N</td><td>Eric van de Poele</td><td>1961-09-30</td><td>Belgian</td><td>2023-09-23T20:22:29.129+0000</td></tr><tr><td>129</td><td>grouillard</td><td>null</td><td>\\N</td><td>Olivier Grouillard</td><td>1958-09-02</td><td>French</td><td>2023-09-23T20:22:29.129+0000</td></tr><tr><td>130</td><td>chiesa</td><td>null</td><td>\\N</td><td>Andrea Chiesa</td><td>1964-05-06</td><td>Swiss</td><td>2023-09-23T20:22:29.129+0000</td></tr><tr><td>131</td><td>modena</td><td>null</td><td>\\N</td><td>Stefano Modena</td><td>1963-05-12</td><td>Italian</td><td>2023-09-23T20:22:29.129+0000</td></tr><tr><td>132</td><td>amati</td><td>null</td><td>\\N</td><td>Giovanna Amati</td><td>1959-07-20</td><td>Italian</td><td>2023-09-23T20:22:29.129+0000</td></tr><tr><td>133</td><td>caffi</td><td>null</td><td>\\N</td><td>Alex Caffi</td><td>1964-03-18</td><td>Italian</td><td>2023-09-23T20:22:29.129+0000</td></tr><tr><td>134</td><td>bertaggia</td><td>null</td><td>\\N</td><td>Enrico Bertaggia</td><td>1964-09-19</td><td>Italian</td><td>2023-09-23T20:22:29.129+0000</td></tr><tr><td>135</td><td>mccarthy</td><td>null</td><td>\\N</td><td>Perry McCarthy</td><td>1961-03-03</td><td>British</td><td>2023-09-23T20:22:29.129+0000</td></tr><tr><td>136</td><td>lammers</td><td>null</td><td>\\N</td><td>Jan Lammers</td><td>1956-06-02</td><td>Dutch</td><td>2023-09-23T20:22:29.129+0000</td></tr><tr><td>137</td><td>piquet</td><td>null</td><td>\\N</td><td>Nelson Piquet</td><td>1952-08-17</td><td>Brazilian</td><td>2023-09-23T20:22:29.129+0000</td></tr><tr><td>138</td><td>satoru_nakajima</td><td>null</td><td>\\N</td><td>Satoru Nakajima</td><td>1953-02-23</td><td>Japanese</td><td>2023-09-23T20:22:29.129+0000</td></tr><tr><td>139</td><td>pirro</td><td>null</td><td>\\N</td><td>Emanuele Pirro</td><td>1962-01-12</td><td>Italian</td><td>2023-09-23T20:22:29.129+0000</td></tr><tr><td>140</td><td>johansson</td><td>null</td><td>\\N</td><td>Stefan Johansson</td><td>1956-09-08</td><td>Swedish</td><td>2023-09-23T20:22:29.129+0000</td></tr><tr><td>141</td><td>bailey</td><td>null</td><td>\\N</td><td>Julian Bailey</td><td>1961-10-09</td><td>British</td><td>2023-09-23T20:22:29.129+0000</td></tr><tr><td>142</td><td>chaves</td><td>null</td><td>\\N</td><td>Pedro Chaves</td><td>1965-02-27</td><td>Portuguese</td><td>2023-09-23T20:22:29.129+0000</td></tr><tr><td>143</td><td>bartels</td><td>null</td><td>\\N</td><td>Michael Bartels</td><td>1968-03-08</td><td>German</td><td>2023-09-23T20:22:29.129+0000</td></tr><tr><td>144</td><td>hattori</td><td>null</td><td>\\N</td><td>Naoki Hattori</td><td>1966-06-13</td><td>Japanese</td><td>2023-09-23T20:22:29.129+0000</td></tr><tr><td>145</td><td>nannini</td><td>null</td><td>\\N</td><td>Alessandro Nannini</td><td>1959-07-07</td><td>Italian</td><td>2023-09-23T20:22:29.129+0000</td></tr><tr><td>146</td><td>schneider</td><td>null</td><td>\\N</td><td>Bernd Schneider</td><td>1964-07-20</td><td>German</td><td>2023-09-23T20:22:29.129+0000</td></tr><tr><td>147</td><td>barilla</td><td>null</td><td>\\N</td><td>Paolo Barilla</td><td>1961-04-20</td><td>Italian</td><td>2023-09-23T20:22:29.129+0000</td></tr><tr><td>148</td><td>foitek</td><td>null</td><td>\\N</td><td>Gregor Foitek</td><td>1965-03-27</td><td>Swiss</td><td>2023-09-23T20:22:29.129+0000</td></tr><tr><td>149</td><td>langes</td><td>null</td><td>\\N</td><td>Claudio Langes</td><td>1960-07-20</td><td>Italian</td><td>2023-09-23T20:22:29.129+0000</td></tr><tr><td>150</td><td>gary_brabham</td><td>null</td><td>\\N</td><td>Gary Brabham</td><td>1961-03-29</td><td>Australian</td><td>2023-09-23T20:22:29.129+0000</td></tr><tr><td>151</td><td>donnelly</td><td>null</td><td>\\N</td><td>Martin Donnelly</td><td>1964-03-26</td><td>British</td><td>2023-09-23T20:22:29.129+0000</td></tr><tr><td>152</td><td>giacomelli</td><td>null</td><td>\\N</td><td>Bruno Giacomelli</td><td>1952-09-10</td><td>Italian</td><td>2023-09-23T20:22:29.129+0000</td></tr><tr><td>153</td><td>alguersuari</td><td>null</td><td>ALG</td><td>Jaime Alguersuari</td><td>1990-03-23</td><td>Spanish</td><td>2023-09-23T20:22:29.129+0000</td></tr><tr><td>154</td><td>grosjean</td><td>8</td><td>GRO</td><td>Romain Grosjean</td><td>1986-04-17</td><td>French</td><td>2023-09-23T20:22:29.129+0000</td></tr><tr><td>155</td><td>kobayashi</td><td>10</td><td>KOB</td><td>Kamui Kobayashi</td><td>1986-09-13</td><td>Japanese</td><td>2023-09-23T20:22:29.129+0000</td></tr><tr><td>156</td><td>palmer</td><td>null</td><td>\\N</td><td>Jonathan Palmer</td><td>1956-11-07</td><td>British</td><td>2023-09-23T20:22:29.129+0000</td></tr><tr><td>157</td><td>danner</td><td>null</td><td>\\N</td><td>Christian Danner</td><td>1958-04-04</td><td>German</td><td>2023-09-23T20:22:29.129+0000</td></tr><tr><td>158</td><td>cheever</td><td>null</td><td>\\N</td><td>Eddie Cheever</td><td>1958-01-10</td><td>American</td><td>2023-09-23T20:22:29.129+0000</td></tr><tr><td>159</td><td>sala</td><td>null</td><td>\\N</td><td>Luis Pérez-Sala</td><td>1959-05-15</td><td>Spanish</td><td>2023-09-23T20:22:29.129+0000</td></tr><tr><td>160</td><td>ghinzani</td><td>null</td><td>\\N</td><td>Piercarlo Ghinzani</td><td>1952-01-16</td><td>Italian</td><td>2023-09-23T20:22:29.129+0000</td></tr><tr><td>161</td><td>weidler</td><td>null</td><td>\\N</td><td>Volker Weidler</td><td>1962-03-18</td><td>German</td><td>2023-09-23T20:22:29.129+0000</td></tr><tr><td>162</td><td>raphanel</td><td>null</td><td>\\N</td><td>Pierre-Henri Raphanel</td><td>1961-05-27</td><td>French</td><td>2023-09-23T20:22:29.129+0000</td></tr><tr><td>163</td><td>arnoux</td><td>null</td><td>\\N</td><td>René Arnoux</td><td>1948-07-04</td><td>French</td><td>2023-09-23T20:22:29.129+0000</td></tr><tr><td>164</td><td>joachim_winkelhock</td><td>null</td><td>\\N</td><td>Joachim Winkelhock</td><td>1960-10-24</td><td>German</td><td>2023-09-23T20:22:29.129+0000</td></tr><tr><td>165</td><td>larrauri</td><td>null</td><td>\\N</td><td>Oscar Larrauri</td><td>1954-08-19</td><td>Argentine</td><td>2023-09-23T20:22:29.129+0000</td></tr><tr><td>166</td><td>streiff</td><td>null</td><td>\\N</td><td>Philippe Streiff</td><td>1955-06-26</td><td>French</td><td>2023-09-23T20:22:29.129+0000</td></tr><tr><td>167</td><td>campos</td><td>null</td><td>\\N</td><td>Adrián Campos</td><td>1960-06-17</td><td>Spanish</td><td>2023-09-23T20:22:29.129+0000</td></tr><tr><td>168</td><td>schlesser</td><td>null</td><td>\\N</td><td>Jean-Louis Schlesser</td><td>1948-09-12</td><td>French</td><td>2023-09-23T20:22:29.129+0000</td></tr><tr><td>169</td><td>fabre</td><td>null</td><td>\\N</td><td>Pascal Fabre</td><td>1960-01-09</td><td>French</td><td>2023-09-23T20:22:29.129+0000</td></tr><tr><td>170</td><td>fabi</td><td>null</td><td>\\N</td><td>Teo Fabi</td><td>1955-03-09</td><td>Italian</td><td>2023-09-23T20:22:29.129+0000</td></tr><tr><td>171</td><td>forini</td><td>null</td><td>\\N</td><td>Franco Forini</td><td>1958-09-22</td><td>Swiss</td><td>2023-09-23T20:22:29.129+0000</td></tr><tr><td>172</td><td>laffite</td><td>null</td><td>\\N</td><td>Jacques Laffite</td><td>1943-11-21</td><td>French</td><td>2023-09-23T20:22:29.129+0000</td></tr><tr><td>173</td><td>angelis</td><td>null</td><td>\\N</td><td>Elio de Angelis</td><td>1958-03-26</td><td>Italian</td><td>2023-09-23T20:22:29.129+0000</td></tr><tr><td>174</td><td>dumfries</td><td>null</td><td>\\N</td><td>Johnny Dumfries</td><td>1958-04-26</td><td>British</td><td>2023-09-23T20:22:29.129+0000</td></tr><tr><td>175</td><td>tambay</td><td>null</td><td>\\N</td><td>Patrick Tambay</td><td>1949-06-25</td><td>French</td><td>2023-09-23T20:22:29.129+0000</td></tr><tr><td>176</td><td>surer</td><td>null</td><td>\\N</td><td>Marc Surer</td><td>1951-09-18</td><td>Swiss</td><td>2023-09-23T20:22:29.129+0000</td></tr><tr><td>177</td><td>keke_rosberg</td><td>null</td><td>\\N</td><td>Keke Rosberg</td><td>1948-12-06</td><td>Finnish</td><td>2023-09-23T20:22:29.129+0000</td></tr><tr><td>178</td><td>jones</td><td>null</td><td>\\N</td><td>Alan Jones</td><td>1946-11-02</td><td>Australian</td><td>2023-09-23T20:22:29.129+0000</td></tr><tr><td>179</td><td>rothengatter</td><td>null</td><td>\\N</td><td>Huub Rothengatter</td><td>1954-10-08</td><td>Dutch</td><td>2023-09-23T20:22:29.129+0000</td></tr><tr><td>180</td><td>berg</td><td>null</td><td>\\N</td><td>Allen Berg</td><td>1961-08-01</td><td>Canadian</td><td>2023-09-23T20:22:29.129+0000</td></tr><tr><td>181</td><td>manfred_winkelhock</td><td>null</td><td>\\N</td><td>Manfred Winkelhock</td><td>1951-10-06</td><td>German</td><td>2023-09-23T20:22:29.129+0000</td></tr><tr><td>182</td><td>lauda</td><td>null</td><td>\\N</td><td>Niki Lauda</td><td>1949-02-22</td><td>Austrian</td><td>2023-09-23T20:22:29.129+0000</td></tr><tr><td>183</td><td>hesnault</td><td>null</td><td>\\N</td><td>François Hesnault</td><td>1956-12-30</td><td>French</td><td>2023-09-23T20:22:29.129+0000</td></tr><tr><td>184</td><td>baldi</td><td>null</td><td>\\N</td><td>Mauro Baldi</td><td>1954-01-31</td><td>Italian</td><td>2023-09-23T20:22:29.129+0000</td></tr><tr><td>185</td><td>bellof</td><td>null</td><td>\\N</td><td>Stefan Bellof</td><td>1957-11-20</td><td>German</td><td>2023-09-23T20:22:29.129+0000</td></tr><tr><td>186</td><td>acheson</td><td>null</td><td>\\N</td><td>Kenny Acheson</td><td>1957-11-27</td><td>British</td><td>2023-09-23T20:22:29.129+0000</td></tr><tr><td>187</td><td>watson</td><td>null</td><td>\\N</td><td>John Watson</td><td>1946-05-04</td><td>British</td><td>2023-09-23T20:22:29.129+0000</td></tr><tr><td>188</td><td>cecotto</td><td>null</td><td>\\N</td><td>Johnny Cecotto</td><td>1956-01-25</td><td>Venezuelan</td><td>2023-09-23T20:22:29.129+0000</td></tr><tr><td>189</td><td>gartner</td><td>null</td><td>\\N</td><td>Jo Gartner</td><td>1954-01-24</td><td>Austrian</td><td>2023-09-23T20:22:29.129+0000</td></tr><tr><td>190</td><td>corrado_fabi</td><td>null</td><td>\\N</td><td>Corrado Fabi</td><td>1961-04-12</td><td>Italian</td><td>2023-09-23T20:22:29.129+0000</td></tr><tr><td>191</td><td>thackwell</td><td>null</td><td>\\N</td><td>Mike Thackwell</td><td>1961-03-30</td><td>New Zealander</td><td>2023-09-23T20:22:29.129+0000</td></tr><tr><td>192</td><td>serra</td><td>null</td><td>\\N</td><td>Chico Serra</td><td>1957-02-03</td><td>Brazilian</td><td>2023-09-23T20:22:29.129+0000</td></tr><tr><td>193</td><td>sullivan</td><td>null</td><td>\\N</td><td>Danny Sullivan</td><td>1950-03-09</td><td>American</td><td>2023-09-23T20:22:29.129+0000</td></tr><tr><td>194</td><td>salazar</td><td>null</td><td>\\N</td><td>Eliseo Salazar</td><td>1954-11-14</td><td>Chilean</td><td>2023-09-23T20:22:29.129+0000</td></tr><tr><td>195</td><td>guerrero</td><td>null</td><td>\\N</td><td>Roberto Guerrero</td><td>1958-11-16</td><td>Colombian</td><td>2023-09-23T20:22:29.129+0000</td></tr><tr><td>196</td><td>boesel</td><td>null</td><td>\\N</td><td>Raul Boesel</td><td>1957-12-04</td><td>Brazilian</td><td>2023-09-23T20:22:29.129+0000</td></tr><tr><td>197</td><td>jarier</td><td>null</td><td>\\N</td><td>Jean-Pierre Jarier</td><td>1946-07-10</td><td>French</td><td>2023-09-23T20:22:29.129+0000</td></tr><tr><td>198</td><td>villeneuve_sr</td><td>null</td><td>\\N</td><td>Jacques Villeneuve Sr.</td><td>1953-11-04</td><td>Canadian</td><td>2023-09-23T20:22:29.129+0000</td></tr><tr><td>199</td><td>reutemann</td><td>null</td><td>\\N</td><td>Carlos Reutemann</td><td>1942-04-12</td><td>Argentine</td><td>2023-09-23T20:22:29.129+0000</td></tr><tr><td>200</td><td>mass</td><td>null</td><td>\\N</td><td>Jochen Mass</td><td>1946-09-30</td><td>German</td><td>2023-09-23T20:22:29.129+0000</td></tr><tr><td>201</td><td>borgudd</td><td>null</td><td>\\N</td><td>Slim Borgudd</td><td>1946-11-25</td><td>Swedish</td><td>2023-09-23T20:22:29.129+0000</td></tr><tr><td>202</td><td>pironi</td><td>null</td><td>\\N</td><td>Didier Pironi</td><td>1952-03-26</td><td>French</td><td>2023-09-23T20:22:29.129+0000</td></tr><tr><td>203</td><td>gilles_villeneuve</td><td>null</td><td>\\N</td><td>Gilles Villeneuve</td><td>1950-01-18</td><td>Canadian</td><td>2023-09-23T20:22:29.129+0000</td></tr><tr><td>204</td><td>paletti</td><td>null</td><td>\\N</td><td>Riccardo Paletti</td><td>1958-06-15</td><td>Italian</td><td>2023-09-23T20:22:29.129+0000</td></tr><tr><td>205</td><td>henton</td><td>null</td><td>\\N</td><td>Brian Henton</td><td>1946-09-19</td><td>British</td><td>2023-09-23T20:22:29.129+0000</td></tr><tr><td>206</td><td>daly</td><td>null</td><td>\\N</td><td>Derek Daly</td><td>1953-03-11</td><td>Irish</td><td>2023-09-23T20:22:29.129+0000</td></tr><tr><td>207</td><td>mario_andretti</td><td>null</td><td>\\N</td><td>Mario Andretti</td><td>1940-02-28</td><td>American</td><td>2023-09-23T20:22:29.129+0000</td></tr><tr><td>208</td><td>villota</td><td>null</td><td>\\N</td><td>Emilio de Villota</td><td>1946-07-26</td><td>Spanish</td><td>2023-09-23T20:22:29.129+0000</td></tr><tr><td>209</td><td>lees</td><td>null</td><td>\\N</td><td>Geoff Lees</td><td>1951-05-01</td><td>British</td><td>2023-09-23T20:22:29.129+0000</td></tr><tr><td>210</td><td>byrne</td><td>null</td><td>\\N</td><td>Tommy Byrne</td><td>1958-05-06</td><td>Irish</td><td>2023-09-23T20:22:29.129+0000</td></tr><tr><td>211</td><td>keegan</td><td>null</td><td>\\N</td><td>Rupert Keegan</td><td>1955-02-26</td><td>British</td><td>2023-09-23T20:22:29.129+0000</td></tr><tr><td>212</td><td>rebaque</td><td>null</td><td>\\N</td><td>Hector Rebaque</td><td>1956-02-05</td><td>Mexican</td><td>2023-09-23T20:22:29.129+0000</td></tr><tr><td>213</td><td>gabbiani</td><td>null</td><td>\\N</td><td>Beppe Gabbiani</td><td>1957-01-02</td><td>Italian</td><td>2023-09-23T20:22:29.129+0000</td></tr><tr><td>214</td><td>cogan</td><td>null</td><td>\\N</td><td>Kevin Cogan</td><td>1956-03-31</td><td>American</td><td>2023-09-23T20:22:29.129+0000</td></tr><tr><td>215</td><td>guerra</td><td>null</td><td>\\N</td><td>Miguel Ángel Guerra</td><td>1953-08-31</td><td>Argentine</td><td>2023-09-23T20:22:29.129+0000</td></tr><tr><td>216</td><td>stohr</td><td>null</td><td>\\N</td><td>Siegfried Stohr</td><td>1952-10-10</td><td>Italian</td><td>2023-09-23T20:22:29.129+0000</td></tr><tr><td>217</td><td>zunino</td><td>null</td><td>\\N</td><td>Ricardo Zunino</td><td>1949-04-13</td><td>Argentine</td><td>2023-09-23T20:22:29.129+0000</td></tr><tr><td>218</td><td>londono</td><td>null</td><td>\\N</td><td>Ricardo Londoño</td><td>1949-08-08</td><td>Colombian</td><td>2023-09-23T20:22:29.129+0000</td></tr><tr><td>219</td><td>jabouille</td><td>null</td><td>\\N</td><td>Jean-Pierre Jabouille</td><td>1942-10-01</td><td>French</td><td>2023-09-23T20:22:29.129+0000</td></tr><tr><td>220</td><td>francia</td><td>null</td><td>\\N</td><td>Giorgio Francia</td><td>1947-11-08</td><td>Italian</td><td>2023-09-23T20:22:29.129+0000</td></tr><tr><td>221</td><td>depailler</td><td>null</td><td>\\N</td><td>Patrick Depailler</td><td>1944-08-09</td><td>French</td><td>2023-09-23T20:22:29.129+0000</td></tr><tr><td>222</td><td>scheckter</td><td>null</td><td>\\N</td><td>Jody Scheckter</td><td>1950-01-29</td><td>South African</td><td>2023-09-23T20:22:29.129+0000</td></tr><tr><td>223</td><td>regazzoni</td><td>null</td><td>\\N</td><td>Clay Regazzoni</td><td>1939-09-05</td><td>Swiss</td><td>2023-09-23T20:22:29.129+0000</td></tr><tr><td>224</td><td>emerson_fittipaldi</td><td>null</td><td>\\N</td><td>Emerson Fittipaldi</td><td>1946-12-12</td><td>Brazilian</td><td>2023-09-23T20:22:29.129+0000</td></tr><tr><td>225</td><td>kennedy</td><td>null</td><td>\\N</td><td>Dave Kennedy</td><td>1953-01-15</td><td>Irish</td><td>2023-09-23T20:22:29.129+0000</td></tr><tr><td>226</td><td>south</td><td>null</td><td>\\N</td><td>Stephen South</td><td>1952-02-19</td><td>British</td><td>2023-09-23T20:22:29.129+0000</td></tr><tr><td>227</td><td>needell</td><td>null</td><td>\\N</td><td>Tiff Needell</td><td>1951-10-29</td><td>British</td><td>2023-09-23T20:22:29.129+0000</td></tr><tr><td>228</td><td>desire_wilson</td><td>null</td><td>\\N</td><td>Desiré Wilson</td><td>1953-11-26</td><td>South African</td><td>2023-09-23T20:22:29.129+0000</td></tr><tr><td>229</td><td>ertl</td><td>null</td><td>\\N</td><td>Harald Ertl</td><td>1948-08-31</td><td>Austrian</td><td>2023-09-23T20:22:29.129+0000</td></tr><tr><td>230</td><td>brambilla</td><td>null</td><td>\\N</td><td>Vittorio Brambilla</td><td>1937-11-11</td><td>Italian</td><td>2023-09-23T20:22:29.129+0000</td></tr><tr><td>231</td><td>hunt</td><td>null</td><td>\\N</td><td>James Hunt</td><td>1947-08-29</td><td>British</td><td>2023-09-23T20:22:29.129+0000</td></tr><tr><td>232</td><td>merzario</td><td>null</td><td>\\N</td><td>Arturo Merzario</td><td>1943-03-11</td><td>Italian</td><td>2023-09-23T20:22:29.129+0000</td></tr><tr><td>233</td><td>stuck</td><td>null</td><td>\\N</td><td>Hans-Joachim Stuck</td><td>1951-01-01</td><td>German</td><td>2023-09-23T20:22:29.129+0000</td></tr><tr><td>234</td><td>brancatelli</td><td>null</td><td>\\N</td><td>Gianfranco Brancatelli</td><td>1950-01-18</td><td>Italian</td><td>2023-09-23T20:22:29.129+0000</td></tr><tr><td>235</td><td>ickx</td><td>null</td><td>\\N</td><td>Jacky Ickx</td><td>1945-01-01</td><td>Belgian</td><td>2023-09-23T20:22:29.129+0000</td></tr><tr><td>236</td><td>gaillard</td><td>null</td><td>\\N</td><td>Patrick Gaillard</td><td>1952-02-12</td><td>French</td><td>2023-09-23T20:22:29.129+0000</td></tr><tr><td>237</td><td>ribeiro</td><td>null</td><td>\\N</td><td>Alex Ribeiro</td><td>1948-11-07</td><td>Brazilian</td><td>2023-09-23T20:22:29.129+0000</td></tr><tr><td>238</td><td>peterson</td><td>null</td><td>\\N</td><td>Ronnie Peterson</td><td>1944-02-14</td><td>Swedish</td><td>2023-09-23T20:22:29.129+0000</td></tr><tr><td>239</td><td>lunger</td><td>null</td><td>\\N</td><td>Brett Lunger</td><td>1945-11-14</td><td>American</td><td>2023-09-23T20:22:29.129+0000</td></tr><tr><td>240</td><td>ongais</td><td>null</td><td>\\N</td><td>Danny Ongais</td><td>1942-05-21</td><td>American</td><td>2023-09-23T20:22:29.129+0000</td></tr><tr><td>241</td><td>leoni</td><td>null</td><td>\\N</td><td>Lamberto Leoni</td><td>1953-05-24</td><td>Italian</td><td>2023-09-23T20:22:29.129+0000</td></tr><tr><td>242</td><td>galica</td><td>null</td><td>\\N</td><td>Divina Galica</td><td>1944-08-13</td><td>British</td><td>2023-09-23T20:22:29.129+0000</td></tr><tr><td>243</td><td>stommelen</td><td>null</td><td>\\N</td><td>Rolf Stommelen</td><td>1943-07-11</td><td>German</td><td>2023-09-23T20:22:29.129+0000</td></tr><tr><td>244</td><td>colombo</td><td>null</td><td>\\N</td><td>Alberto Colombo</td><td>1946-02-23</td><td>Italian</td><td>2023-09-23T20:22:29.129+0000</td></tr><tr><td>245</td><td>trimmer</td><td>null</td><td>\\N</td><td>Tony Trimmer</td><td>1943-01-24</td><td>British</td><td>2023-09-23T20:22:29.129+0000</td></tr><tr><td>246</td><td>binder</td><td>null</td><td>\\N</td><td>Hans Binder</td><td>1948-06-12</td><td>Austrian</td><td>2023-09-23T20:22:29.129+0000</td></tr><tr><td>247</td><td>bleekemolen</td><td>null</td><td>\\N</td><td>Michael Bleekemolen</td><td>1949-10-02</td><td>Dutch</td><td>2023-09-23T20:22:29.129+0000</td></tr><tr><td>248</td><td>gimax</td><td>null</td><td>\\N</td><td>Carlo Franchi</td><td>1938-01-01</td><td>Italian</td><td>2023-09-23T20:22:29.129+0000</td></tr><tr><td>249</td><td>rahal</td><td>null</td><td>\\N</td><td>Bobby Rahal</td><td>1953-01-10</td><td>American</td><td>2023-09-23T20:22:29.129+0000</td></tr><tr><td>250</td><td>pace</td><td>null</td><td>\\N</td><td>Carlos Pace</td><td>1944-10-06</td><td>Brazilian</td><td>2023-09-23T20:22:29.129+0000</td></tr><tr><td>251</td><td>ian_scheckter</td><td>null</td><td>\\N</td><td>Ian Scheckter</td><td>1947-08-22</td><td>South African</td><td>2023-09-23T20:22:29.129+0000</td></tr><tr><td>252</td><td>pryce</td><td>null</td><td>\\N</td><td>Tom Pryce</td><td>1949-06-11</td><td>British</td><td>2023-09-23T20:22:29.129+0000</td></tr><tr><td>253</td><td>hoffmann</td><td>null</td><td>\\N</td><td>Ingo Hoffmann</td><td>1953-02-28</td><td>Brazilian</td><td>2023-09-23T20:22:29.129+0000</td></tr><tr><td>254</td><td>zorzi</td><td>null</td><td>\\N</td><td>Renzo Zorzi</td><td>1946-12-12</td><td>Italian</td><td>2023-09-23T20:22:29.129+0000</td></tr><tr><td>255</td><td>nilsson</td><td>null</td><td>\\N</td><td>Gunnar Nilsson</td><td>1948-11-20</td><td>Swedish</td><td>2023-09-23T20:22:29.129+0000</td></tr><tr><td>256</td><td>perkins</td><td>null</td><td>\\N</td><td>Larry Perkins</td><td>1950-03-18</td><td>Australian</td><td>2023-09-23T20:22:29.129+0000</td></tr><tr><td>257</td><td>hayje</td><td>null</td><td>\\N</td><td>Boy Lunger</td><td>1949-05-03</td><td>Dutch</td><td>2023-09-23T20:22:29.129+0000</td></tr><tr><td>258</td><td>neve</td><td>null</td><td>\\N</td><td>Patrick Nève</td><td>1949-10-13</td><td>Belgian</td><td>2023-09-23T20:22:29.129+0000</td></tr><tr><td>259</td><td>purley</td><td>null</td><td>\\N</td><td>David Purley</td><td>1945-01-26</td><td>British</td><td>2023-09-23T20:22:29.129+0000</td></tr><tr><td>260</td><td>andersson</td><td>null</td><td>\\N</td><td>Conny Andersson</td><td>1939-12-28</td><td>Swedish</td><td>2023-09-23T20:22:29.129+0000</td></tr><tr><td>261</td><td>dryver</td><td>null</td><td>\\N</td><td>Bernard de Dryver</td><td>1952-09-19</td><td>Belgian</td><td>2023-09-23T20:22:29.129+0000</td></tr><tr><td>262</td><td>oliver</td><td>null</td><td>\\N</td><td>Jackie Oliver</td><td>1942-08-14</td><td>British</td><td>2023-09-23T20:22:29.129+0000</td></tr><tr><td>263</td><td>kozarowitzky</td><td>null</td><td>\\N</td><td>Mikko Kozarowitzky</td><td>1948-05-17</td><td>Finnish</td><td>2023-09-23T20:22:29.129+0000</td></tr><tr><td>264</td><td>sutcliffe</td><td>null</td><td>\\N</td><td>Andy Sutcliffe</td><td>1947-05-09</td><td>British</td><td>2023-09-23T20:22:29.129+0000</td></tr><tr><td>265</td><td>edwards</td><td>null</td><td>\\N</td><td>Guy Edwards</td><td>1942-12-30</td><td>British</td><td>2023-09-23T20:22:29.129+0000</td></tr><tr><td>266</td><td>mcguire</td><td>null</td><td>\\N</td><td>Brian McGuire</td><td>1945-12-13</td><td>Australian</td><td>2023-09-23T20:22:29.129+0000</td></tr><tr><td>267</td><td>schuppan</td><td>null</td><td>\\N</td><td>Vern Schuppan</td><td>1943-03-19</td><td>Australian</td><td>2023-09-23T20:22:29.129+0000</td></tr><tr><td>268</td><td>heyer</td><td>null</td><td>\\N</td><td>Hans Heyer</td><td>1943-03-16</td><td>German</td><td>2023-09-23T20:22:29.129+0000</td></tr><tr><td>269</td><td>pilette</td><td>null</td><td>\\N</td><td>Teddy Pilette</td><td>1942-07-26</td><td>Belgian</td><td>2023-09-23T20:22:29.129+0000</td></tr><tr><td>270</td><td>ashley</td><td>null</td><td>\\N</td><td>Ian Ashley</td><td>1947-10-26</td><td>British</td><td>2023-09-23T20:22:29.129+0000</td></tr><tr><td>271</td><td>kessel</td><td>null</td><td>\\N</td><td>Loris Kessel</td><td>1950-04-01</td><td>Swiss</td><td>2023-09-23T20:22:29.129+0000</td></tr><tr><td>272</td><td>takahashi</td><td>null</td><td>\\N</td><td>Kunimitsu Takahashi</td><td>1940-01-29</td><td>Japanese</td><td>2023-09-23T20:22:29.129+0000</td></tr><tr><td>273</td><td>hoshino</td><td>null</td><td>\\N</td><td>Kazuyoshi Hoshino</td><td>1947-07-01</td><td>Japanese</td><td>2023-09-23T20:22:29.129+0000</td></tr><tr><td>274</td><td>takahara</td><td>null</td><td>\\N</td><td>Noritake Takahara</td><td>1951-06-06</td><td>Japanese</td><td>2023-09-23T20:22:29.129+0000</td></tr><tr><td>275</td><td>lombardi</td><td>null</td><td>\\N</td><td>Lella Lombardi</td><td>1941-03-26</td><td>Italian</td><td>2023-09-23T20:22:29.129+0000</td></tr><tr><td>276</td><td>evans</td><td>null</td><td>\\N</td><td>Bob Evans</td><td>1947-06-11</td><td>British</td><td>2023-09-23T20:22:29.129+0000</td></tr><tr><td>277</td><td>leclere</td><td>null</td><td>\\N</td><td>Michel Leclère</td><td>1946-03-18</td><td>French</td><td>2023-09-23T20:22:29.129+0000</td></tr><tr><td>278</td><td>amon</td><td>null</td><td>\\N</td><td>Chris Amon</td><td>1943-07-20</td><td>New Zealander</td><td>2023-09-23T20:22:29.129+0000</td></tr><tr><td>279</td><td>zapico</td><td>null</td><td>\\N</td><td>Emilio Zapico</td><td>1944-05-27</td><td>Spanish</td><td>2023-09-23T20:22:29.129+0000</td></tr><tr><td>280</td><td>pescarolo</td><td>null</td><td>\\N</td><td>Henri Pescarolo</td><td>1942-09-25</td><td>French</td><td>2023-09-23T20:22:29.129+0000</td></tr><tr><td>281</td><td>nelleman</td><td>null</td><td>\\N</td><td>Jac Nelleman</td><td>1944-04-19</td><td>Danish</td><td>2023-09-23T20:22:29.129+0000</td></tr><tr><td>282</td><td>magee</td><td>null</td><td>\\N</td><td>Damien Magee</td><td>1945-11-17</td><td>British</td><td>2023-09-23T20:22:29.129+0000</td></tr><tr><td>283</td><td>wilds</td><td>null</td><td>\\N</td><td>Mike Wilds</td><td>1946-01-07</td><td>British</td><td>2023-09-23T20:22:29.129+0000</td></tr><tr><td>284</td><td>pesenti_rossi</td><td>null</td><td>\\N</td><td>Alessandro Pesenti-Rossi</td><td>1942-08-31</td><td>Italian</td><td>2023-09-23T20:22:29.129+0000</td></tr><tr><td>285</td><td>stuppacher</td><td>null</td><td>\\N</td><td>Otto Stuppacher</td><td>1947-03-03</td><td>Austrian</td><td>2023-09-23T20:22:29.129+0000</td></tr><tr><td>286</td><td>brown</td><td>null</td><td>\\N</td><td>Warwick Brown</td><td>1949-12-24</td><td>Australian</td><td>2023-09-23T20:22:29.129+0000</td></tr><tr><td>287</td><td>hasemi</td><td>null</td><td>\\N</td><td>Masahiro Hasemi</td><td>1945-11-13</td><td>Japanese</td><td>2023-09-23T20:22:29.129+0000</td></tr><tr><td>288</td><td>donohue</td><td>null</td><td>\\N</td><td>Mark Donohue</td><td>1937-03-18</td><td>American</td><td>2023-09-23T20:22:29.129+0000</td></tr><tr><td>289</td><td>hill</td><td>null</td><td>\\N</td><td>Graham Hill</td><td>1929-02-15</td><td>British</td><td>2023-09-23T20:22:29.129+0000</td></tr><tr><td>290</td><td>wilson_fittipaldi</td><td>null</td><td>\\N</td><td>Wilson Fittipaldi</td><td>1943-12-25</td><td>Brazilian</td><td>2023-09-23T20:22:29.129+0000</td></tr><tr><td>291</td><td>tunmer</td><td>null</td><td>\\N</td><td>Guy Tunmer</td><td>1948-12-01</td><td>South African</td><td>2023-09-23T20:22:29.129+0000</td></tr><tr><td>292</td><td>keizan</td><td>null</td><td>\\N</td><td>Eddie Keizan</td><td>1944-09-12</td><td>South African</td><td>2023-09-23T20:22:29.129+0000</td></tr><tr><td>293</td><td>charlton</td><td>null</td><td>\\N</td><td>Dave Charlton</td><td>1936-10-27</td><td>South African</td><td>2023-09-23T20:22:29.129+0000</td></tr><tr><td>294</td><td>brise</td><td>null</td><td>\\N</td><td>Tony Brise</td><td>1952-03-28</td><td>British</td><td>2023-09-23T20:22:29.129+0000</td></tr><tr><td>295</td><td>wunderink</td><td>null</td><td>\\N</td><td>Roelof Wunderink</td><td>1948-12-12</td><td>Dutch</td><td>2023-09-23T20:22:29.129+0000</td></tr><tr><td>296</td><td>migault</td><td>null</td><td>\\N</td><td>François Migault</td><td>1944-12-04</td><td>French</td><td>2023-09-23T20:22:29.129+0000</td></tr><tr><td>297</td><td>palm</td><td>null</td><td>\\N</td><td>Torsten Palm</td><td>1947-07-23</td><td>Swedish</td><td>2023-09-23T20:22:29.129+0000</td></tr><tr><td>298</td><td>lennep</td><td>null</td><td>\\N</td><td>Gijs van Lennep</td><td>1942-03-16</td><td>Dutch</td><td>2023-09-23T20:22:29.129+0000</td></tr><tr><td>299</td><td>fushida</td><td>null</td><td>\\N</td><td>Hiroshi Fushida</td><td>1946-03-10</td><td>Japanese</td><td>2023-09-23T20:22:29.129+0000</td></tr><tr><td>300</td><td>nicholson</td><td>null</td><td>\\N</td><td>John Nicholson</td><td>1941-10-06</td><td>New Zealander</td><td>2023-09-23T20:22:29.129+0000</td></tr><tr><td>301</td><td>morgan</td><td>null</td><td>\\N</td><td>Dave Morgan</td><td>1944-08-07</td><td>British</td><td>2023-09-23T20:22:29.129+0000</td></tr><tr><td>302</td><td>crawford</td><td>null</td><td>\\N</td><td>Jim Crawford</td><td>1948-02-13</td><td>British</td><td>2023-09-23T20:22:29.129+0000</td></tr><tr><td>303</td><td>vonlanthen</td><td>null</td><td>\\N</td><td>Jo Vonlanthen</td><td>1942-05-31</td><td>Swiss</td><td>2023-09-23T20:22:29.129+0000</td></tr><tr><td>304</td><td>hulme</td><td>null</td><td>\\N</td><td>Denny Hulme</td><td>1936-06-18</td><td>New Zealander</td><td>2023-09-23T20:22:29.129+0000</td></tr><tr><td>305</td><td>hailwood</td><td>null</td><td>\\N</td><td>Mike Hailwood</td><td>1940-04-02</td><td>British</td><td>2023-09-23T20:22:29.129+0000</td></tr><tr><td>306</td><td>beltoise</td><td>null</td><td>\\N</td><td>Jean-Pierre Beltoise</td><td>1937-04-26</td><td>French</td><td>2023-09-23T20:22:29.129+0000</td></tr><tr><td>307</td><td>ganley</td><td>null</td><td>\\N</td><td>Howden Ganley</td><td>1941-12-24</td><td>New Zealander</td><td>2023-09-23T20:22:29.129+0000</td></tr><tr><td>308</td><td>robarts</td><td>null</td><td>\\N</td><td>Richard Robarts</td><td>1944-09-22</td><td>British</td><td>2023-09-23T20:22:29.129+0000</td></tr><tr><td>309</td><td>revson</td><td>null</td><td>\\N</td><td>Peter Revson</td><td>1939-02-27</td><td>American</td><td>2023-09-23T20:22:29.129+0000</td></tr><tr><td>310</td><td>driver</td><td>null</td><td>\\N</td><td>Paddy Driver</td><td>1934-05-13</td><td>South African</td><td>2023-09-23T20:22:29.129+0000</td></tr><tr><td>311</td><td>belso</td><td>null</td><td>\\N</td><td>Tom Belsø</td><td>1942-08-27</td><td>Danish</td><td>2023-09-23T20:22:29.129+0000</td></tr><tr><td>312</td><td>redman</td><td>null</td><td>\\N</td><td>Brian Redman</td><td>1937-03-09</td><td>British</td><td>2023-09-23T20:22:29.129+0000</td></tr><tr><td>313</td><td>opel</td><td>null</td><td>\\N</td><td>Rikky von Opel</td><td>1947-10-14</td><td>Liechtensteiner</td><td>2023-09-23T20:22:29.129+0000</td></tr><tr><td>314</td><td>schenken</td><td>null</td><td>\\N</td><td>Tim Schenken</td><td>1943-09-26</td><td>Australian</td><td>2023-09-23T20:22:29.129+0000</td></tr><tr><td>315</td><td>larrousse</td><td>null</td><td>\\N</td><td>Gérard Larrousse</td><td>1940-05-23</td><td>French</td><td>2023-09-23T20:22:29.129+0000</td></tr><tr><td>316</td><td>kinnunen</td><td>null</td><td>\\N</td><td>Leo Kinnunen</td><td>1943-08-05</td><td>Finnish</td><td>2023-09-23T20:22:29.129+0000</td></tr><tr><td>317</td><td>wisell</td><td>null</td><td>\\N</td><td>Reine Wisell</td><td>1941-09-30</td><td>Swedish</td><td>2023-09-23T20:22:29.129+0000</td></tr><tr><td>318</td><td>roos</td><td>null</td><td>\\N</td><td>Bertil Roos</td><td>1943-10-12</td><td>Swedish</td><td>2023-09-23T20:22:29.129+0000</td></tr><tr><td>319</td><td>dolhem</td><td>null</td><td>\\N</td><td>José Dolhem</td><td>1944-04-26</td><td>French</td><td>2023-09-23T20:22:29.129+0000</td></tr><tr><td>320</td><td>gethin</td><td>null</td><td>\\N</td><td>Peter Gethin</td><td>1940-02-21</td><td>British</td><td>2023-09-23T20:22:29.129+0000</td></tr><tr><td>321</td><td>bell</td><td>null</td><td>\\N</td><td>Derek Bell</td><td>1941-10-31</td><td>British</td><td>2023-09-23T20:22:29.129+0000</td></tr><tr><td>322</td><td>hobbs</td><td>null</td><td>\\N</td><td>David Hobbs</td><td>1939-06-09</td><td>British</td><td>2023-09-23T20:22:29.129+0000</td></tr><tr><td>323</td><td>quester</td><td>null</td><td>\\N</td><td>Dieter Quester</td><td>1939-05-30</td><td>Austrian</td><td>2023-09-23T20:22:29.129+0000</td></tr><tr><td>324</td><td>koinigg</td><td>null</td><td>\\N</td><td>Helmuth Koinigg</td><td>1948-11-03</td><td>Austrian</td><td>2023-09-23T20:22:29.129+0000</td></tr><tr><td>325</td><td>facetti</td><td>null</td><td>\\N</td><td>Carlo Facetti</td><td>1935-06-26</td><td>Italian</td><td>2023-09-23T20:22:29.129+0000</td></tr><tr><td>326</td><td>wietzes</td><td>null</td><td>\\N</td><td>Eppie Wietzes</td><td>1938-05-28</td><td>Canadian</td><td>2023-09-23T20:22:29.129+0000</td></tr><tr><td>327</td><td>cevert</td><td>null</td><td>\\N</td><td>François Cevert</td><td>1944-02-25</td><td>French</td><td>2023-09-23T20:22:29.129+0000</td></tr><tr><td>328</td><td>stewart</td><td>null</td><td>\\N</td><td>Jackie Stewart</td><td>1939-06-11</td><td>British</td><td>2023-09-23T20:22:29.129+0000</td></tr><tr><td>329</td><td>beuttler</td><td>null</td><td>\\N</td><td>Mike Beuttler</td><td>1940-04-13</td><td>British</td><td>2023-09-23T20:22:29.129+0000</td></tr><tr><td>330</td><td>galli</td><td>null</td><td>\\N</td><td>Nanni Galli</td><td>1940-10-02</td><td>Italian</td><td>2023-09-23T20:22:29.129+0000</td></tr><tr><td>331</td><td>bueno</td><td>null</td><td>\\N</td><td>Luiz Bueno</td><td>1937-01-16</td><td>Brazilian</td><td>2023-09-23T20:22:29.129+0000</td></tr><tr><td>332</td><td>follmer</td><td>null</td><td>\\N</td><td>George Follmer</td><td>1934-01-27</td><td>American</td><td>2023-09-23T20:22:29.129+0000</td></tr><tr><td>333</td><td>adamich</td><td>null</td><td>\\N</td><td>Andrea de Adamich</td><td>1941-10-03</td><td>Italian</td><td>2023-09-23T20:22:29.129+0000</td></tr><tr><td>334</td><td>pretorius</td><td>null</td><td>\\N</td><td>Jackie Pretorius</td><td>1934-11-22</td><td>South African</td><td>2023-09-23T20:22:29.129+0000</td></tr><tr><td>335</td><td>williamson</td><td>null</td><td>\\N</td><td>Roger Williamson</td><td>1948-02-02</td><td>British</td><td>2023-09-23T20:22:29.129+0000</td></tr><tr><td>336</td><td>mcrae</td><td>null</td><td>\\N</td><td>Graham McRae</td><td>1940-03-05</td><td>New Zealander</td><td>2023-09-23T20:22:29.129+0000</td></tr><tr><td>337</td><td>marko</td><td>null</td><td>\\N</td><td>Helmut Marko</td><td>1943-04-27</td><td>Austrian</td><td>2023-09-23T20:22:29.129+0000</td></tr><tr><td>338</td><td>walker</td><td>null</td><td>\\N</td><td>David Walker</td><td>1941-06-10</td><td>Australian</td><td>2023-09-23T20:22:29.129+0000</td></tr><tr><td>339</td><td>roig</td><td>null</td><td>\\N</td><td>Alex Soler-Roig</td><td>1932-10-29</td><td>Spanish</td><td>2023-09-23T20:22:29.129+0000</td></tr><tr><td>340</td><td>love</td><td>null</td><td>\\N</td><td>John Love</td><td>1924-12-07</td><td>Rhodesian</td><td>2023-09-23T20:22:29.129+0000</td></tr><tr><td>341</td><td>surtees</td><td>null</td><td>\\N</td><td>John Surtees</td><td>1934-02-11</td><td>British</td><td>2023-09-23T20:22:29.129+0000</td></tr><tr><td>342</td><td>barber</td><td>null</td><td>\\N</td><td>Skip Barber</td><td>1936-11-16</td><td>American</td><td>2023-09-23T20:22:29.129+0000</td></tr><tr><td>343</td><td>brack</td><td>null</td><td>\\N</td><td>Bill Brack</td><td>1935-12-26</td><td>Canadian</td><td>2023-09-23T20:22:29.129+0000</td></tr><tr><td>344</td><td>posey</td><td>null</td><td>\\N</td><td>Sam Posey</td><td>1944-05-26</td><td>American</td><td>2023-09-23T20:22:29.129+0000</td></tr><tr><td>345</td><td>rodriguez</td><td>null</td><td>\\N</td><td>Pedro Rodríguez</td><td>1940-01-18</td><td>Mexican</td><td>2023-09-23T20:22:29.129+0000</td></tr><tr><td>346</td><td>siffert</td><td>null</td><td>\\N</td><td>Jo Siffert</td><td>1936-07-07</td><td>Swiss</td><td>2023-09-23T20:22:29.129+0000</td></tr><tr><td>347</td><td>bonnier</td><td>null</td><td>\\N</td><td>Jo Bonnier</td><td>1930-01-31</td><td>Swedish</td><td>2023-09-23T20:22:29.129+0000</td></tr><tr><td>348</td><td>mazet</td><td>null</td><td>\\N</td><td>François Mazet</td><td>1943-02-24</td><td>French</td><td>2023-09-23T20:22:29.129+0000</td></tr><tr><td>349</td><td>jean</td><td>null</td><td>\\N</td><td>Max Jean</td><td>1943-07-27</td><td>French</td><td>2023-09-23T20:22:29.129+0000</td></tr><tr><td>350</td><td>elford</td><td>null</td><td>\\N</td><td>Vic Elford</td><td>1935-06-10</td><td>British</td><td>2023-09-23T20:22:29.129+0000</td></tr><tr><td>351</td><td>moser</td><td>null</td><td>\\N</td><td>Silvio Moser</td><td>1941-04-24</td><td>Swiss</td><td>2023-09-23T20:22:29.129+0000</td></tr><tr><td>352</td><td>eaton</td><td>null</td><td>\\N</td><td>George Eaton</td><td>1945-11-12</td><td>Canadian</td><td>2023-09-23T20:22:29.129+0000</td></tr><tr><td>353</td><td>lovely</td><td>null</td><td>\\N</td><td>Pete Lovely</td><td>1926-04-11</td><td>American</td><td>2023-09-23T20:22:29.129+0000</td></tr><tr><td>354</td><td>craft</td><td>null</td><td>\\N</td><td>Chris Craft</td><td>1939-11-17</td><td>British</td><td>2023-09-23T20:22:29.129+0000</td></tr><tr><td>355</td><td>Cannoc</td><td>null</td><td>\\N</td><td>John Cannon</td><td>1933-06-21</td><td>Canadian</td><td>2023-09-23T20:22:29.129+0000</td></tr><tr><td>356</td><td>jack_brabham</td><td>null</td><td>\\N</td><td>Jack Brabham</td><td>1926-04-02</td><td>Australian</td><td>2023-09-23T20:22:29.129+0000</td></tr><tr><td>357</td><td>miles</td><td>null</td><td>\\N</td><td>John Miles</td><td>1943-06-14</td><td>British</td><td>2023-09-23T20:22:29.129+0000</td></tr><tr><td>358</td><td>rindt</td><td>null</td><td>\\N</td><td>Jochen Rindt</td><td>1942-04-18</td><td>Austrian</td><td>2023-09-23T20:22:29.129+0000</td></tr><tr><td>359</td><td>gavin</td><td>null</td><td>\\N</td><td>Johnny Servoz-Gavin</td><td>1942-01-18</td><td>French</td><td>2023-09-23T20:22:29.129+0000</td></tr><tr><td>360</td><td>mclaren</td><td>null</td><td>\\N</td><td>Bruce McLaren</td><td>1937-08-30</td><td>New Zealander</td><td>2023-09-23T20:22:29.129+0000</td></tr><tr><td>361</td><td>courage</td><td>null</td><td>\\N</td><td>Piers Courage</td><td>1942-05-27</td><td>British</td><td>2023-09-23T20:22:29.129+0000</td></tr><tr><td>362</td><td>klerk</td><td>null</td><td>\\N</td><td>Peter de Klerk</td><td>1935-03-16</td><td>South African</td><td>2023-09-23T20:22:29.129+0000</td></tr><tr><td>363</td><td>giunti</td><td>null</td><td>\\N</td><td>Ignazio Giunti</td><td>1941-08-30</td><td>Italian</td><td>2023-09-23T20:22:29.129+0000</td></tr><tr><td>364</td><td>gurney</td><td>null</td><td>\\N</td><td>Dan Gurney</td><td>1931-04-13</td><td>American</td><td>2023-09-23T20:22:29.129+0000</td></tr><tr><td>365</td><td>hahne</td><td>null</td><td>\\N</td><td>Hubert Hahne</td><td>1935-03-28</td><td>German</td><td>2023-09-23T20:22:29.129+0000</td></tr><tr><td>366</td><td>hutchison</td><td>null</td><td>\\N</td><td>Gus Hutchison</td><td>1937-04-26</td><td>American</td><td>2023-09-23T20:22:29.129+0000</td></tr><tr><td>367</td><td>westbury</td><td>null</td><td>\\N</td><td>Peter Westbury</td><td>1938-05-26</td><td>British</td><td>2023-09-23T20:22:29.129+0000</td></tr><tr><td>368</td><td>tingle</td><td>null</td><td>\\N</td><td>Sam Tingle</td><td>1921-08-24</td><td>Rhodesian</td><td>2023-09-23T20:22:29.129+0000</td></tr><tr><td>369</td><td>rooyen</td><td>null</td><td>\\N</td><td>Basil van Rooyen</td><td>1939-04-19</td><td>South African</td><td>2023-09-23T20:22:29.129+0000</td></tr><tr><td>370</td><td>attwood</td><td>null</td><td>\\N</td><td>Richard Attwood</td><td>1940-04-04</td><td>British</td><td>2023-09-23T20:22:29.129+0000</td></tr><tr><td>371</td><td>pease</td><td>null</td><td>\\N</td><td>Al Pease</td><td>1921-10-15</td><td>Canadian</td><td>2023-09-23T20:22:29.129+0000</td></tr><tr><td>372</td><td>cordts</td><td>null</td><td>\\N</td><td>John Cordts</td><td>1935-07-23</td><td>Canadian</td><td>2023-09-23T20:22:29.129+0000</td></tr><tr><td>373</td><td>clark</td><td>null</td><td>\\N</td><td>Jim Clark</td><td>1936-03-04</td><td>British</td><td>2023-09-23T20:22:29.129+0000</td></tr><tr><td>374</td><td>spence</td><td>null</td><td>\\N</td><td>Mike Spence</td><td>1936-12-30</td><td>British</td><td>2023-09-23T20:22:29.129+0000</td></tr><tr><td>375</td><td>scarfiotti</td><td>null</td><td>\\N</td><td>Ludovico Scarfiotti</td><td>1933-10-18</td><td>Italian</td><td>2023-09-23T20:22:29.129+0000</td></tr><tr><td>376</td><td>bianchi</td><td>null</td><td>BIA</td><td>Lucien Bianchi</td><td>1934-11-10</td><td>Belgian</td><td>2023-09-23T20:22:29.129+0000</td></tr><tr><td>377</td><td>jo_schlesser</td><td>null</td><td>\\N</td><td>Jo Schlesser</td><td>1928-05-18</td><td>French</td><td>2023-09-23T20:22:29.129+0000</td></tr><tr><td>378</td><td>widdows</td><td>null</td><td>\\N</td><td>Robin Widdows</td><td>1942-05-27</td><td>British</td><td>2023-09-23T20:22:29.129+0000</td></tr><tr><td>379</td><td>ahrens</td><td>null</td><td>\\N</td><td>Kurt Ahrens</td><td>1940-04-19</td><td>German</td><td>2023-09-23T20:22:29.129+0000</td></tr><tr><td>380</td><td>gardner</td><td>null</td><td>\\N</td><td>Frank Gardner</td><td>1930-10-01</td><td>Australian</td><td>2023-09-23T20:22:29.129+0000</td></tr><tr><td>381</td><td>unser</td><td>null</td><td>\\N</td><td>Bobby Unser</td><td>1934-02-20</td><td>American</td><td>2023-09-23T20:22:29.129+0000</td></tr><tr><td>382</td><td>solana</td><td>null</td><td>\\N</td><td>Moisés Solana</td><td>1935-12-26</td><td>Mexican</td><td>2023-09-23T20:22:29.129+0000</td></tr><tr><td>383</td><td>anderson</td><td>null</td><td>\\N</td><td>Bob Anderson</td><td>1931-05-19</td><td>British</td><td>2023-09-23T20:22:29.129+0000</td></tr><tr><td>384</td><td>botha</td><td>null</td><td>\\N</td><td>Luki Botha</td><td>1930-01-16</td><td>South African</td><td>2023-09-23T20:22:29.129+0000</td></tr><tr><td>385</td><td>bandini</td><td>null</td><td>\\N</td><td>Lorenzo Bandini</td><td>1935-12-21</td><td>Italian</td><td>2023-09-23T20:22:29.129+0000</td></tr><tr><td>386</td><td>ginther</td><td>null</td><td>\\N</td><td>Richie Ginther</td><td>1930-08-05</td><td>American</td><td>2023-09-23T20:22:29.129+0000</td></tr><tr><td>387</td><td>parkes</td><td>null</td><td>\\N</td><td>Mike Parkes</td><td>1931-09-24</td><td>British</td><td>2023-09-23T20:22:29.129+0000</td></tr><tr><td>388</td><td>irwin</td><td>null</td><td>\\N</td><td>Chris Irwin</td><td>1942-06-27</td><td>British</td><td>2023-09-23T20:22:29.129+0000</td></tr><tr><td>389</td><td>ligier</td><td>null</td><td>\\N</td><td>Guy Ligier</td><td>1930-07-12</td><td>French</td><td>2023-09-23T20:22:29.129+0000</td></tr><tr><td>390</td><td>rees</td><td>null</td><td>\\N</td><td>Alan Rees</td><td>1938-01-12</td><td>British</td><td>2023-09-23T20:22:29.129+0000</td></tr><tr><td>391</td><td>hart</td><td>null</td><td>\\N</td><td>Brian Hart</td><td>1936-09-07</td><td>British</td><td>2023-09-23T20:22:29.129+0000</td></tr><tr><td>392</td><td>fisher</td><td>null</td><td>\\N</td><td>Mike Fisher</td><td>1943-03-13</td><td>American</td><td>2023-09-23T20:22:29.129+0000</td></tr><tr><td>393</td><td>tom_jones</td><td>null</td><td>\\N</td><td>Tom Jones</td><td>1943-04-26</td><td>American</td><td>2023-09-23T20:22:29.129+0000</td></tr><tr><td>394</td><td>baghetti</td><td>null</td><td>\\N</td><td>Giancarlo Baghetti</td><td>1934-12-25</td><td>Italian</td><td>2023-09-23T20:22:29.129+0000</td></tr><tr><td>395</td><td>williams</td><td>null</td><td>\\N</td><td>Jonathan Williams</td><td>1942-10-26</td><td>British</td><td>2023-09-23T20:22:29.129+0000</td></tr><tr><td>396</td><td>bondurant</td><td>null</td><td>\\N</td><td>Bob Bondurant</td><td>1933-04-27</td><td>American</td><td>2023-09-23T20:22:29.129+0000</td></tr><tr><td>397</td><td>arundell</td><td>null</td><td>\\N</td><td>Peter Arundell</td><td>1933-11-08</td><td>British</td><td>2023-09-23T20:22:29.129+0000</td></tr><tr><td>398</td><td>vic_wilson</td><td>null</td><td>\\N</td><td>Vic Wilson</td><td>1931-04-14</td><td>British</td><td>2023-09-23T20:22:29.129+0000</td></tr><tr><td>399</td><td>taylor</td><td>null</td><td>\\N</td><td>John Taylor</td><td>1933-03-23</td><td>British</td><td>2023-09-23T20:22:29.129+0000</td></tr><tr><td>400</td><td>lawrence</td><td>null</td><td>\\N</td><td>Chris Lawrence</td><td>1933-07-27</td><td>British</td><td>2023-09-23T20:22:29.129+0000</td></tr><tr><td>401</td><td>trevor_taylor</td><td>null</td><td>\\N</td><td>Trevor Taylor</td><td>1936-12-26</td><td>British</td><td>2023-09-23T20:22:29.129+0000</td></tr><tr><td>402</td><td>geki</td><td>null</td><td>\\N</td><td>Giacomo Russo</td><td>1937-10-23</td><td>Italian</td><td>2023-09-23T20:22:29.129+0000</td></tr><tr><td>403</td><td>phil_hill</td><td>null</td><td>\\N</td><td>Phil Hill</td><td>1927-04-20</td><td>American</td><td>2023-09-23T20:22:29.129+0000</td></tr><tr><td>404</td><td>ireland</td><td>null</td><td>\\N</td><td>Innes Ireland</td><td>1930-06-12</td><td>British</td><td>2023-09-23T20:22:29.129+0000</td></tr><tr><td>405</td><td>bucknum</td><td>null</td><td>\\N</td><td>Ronnie Bucknum</td><td>1936-04-05</td><td>American</td><td>2023-09-23T20:22:29.129+0000</td></tr><tr><td>406</td><td>hawkins</td><td>null</td><td>\\N</td><td>Paul Hawkins</td><td>1937-10-12</td><td>Australian</td><td>2023-09-23T20:22:29.129+0000</td></tr><tr><td>407</td><td>prophet</td><td>null</td><td>\\N</td><td>David Prophet</td><td>1937-10-09</td><td>British</td><td>2023-09-23T20:22:29.129+0000</td></tr><tr><td>408</td><td>maggs</td><td>null</td><td>\\N</td><td>Tony Maggs</td><td>1937-02-09</td><td>South African</td><td>2023-09-23T20:22:29.129+0000</td></tr><tr><td>409</td><td>blokdyk</td><td>null</td><td>\\N</td><td>Trevor Blokdyk</td><td>1935-11-30</td><td>South African</td><td>2023-09-23T20:22:29.129+0000</td></tr><tr><td>410</td><td>lederle</td><td>null</td><td>\\N</td><td>Neville Lederle</td><td>1938-09-25</td><td>South African</td><td>2023-09-23T20:22:29.129+0000</td></tr><tr><td>411</td><td>serrurier</td><td>null</td><td>\\N</td><td>Doug Serrurier</td><td>1920-12-09</td><td>South African</td><td>2023-09-23T20:22:29.129+0000</td></tr><tr><td>412</td><td>niemann</td><td>null</td><td>\\N</td><td>Brausch Niemann</td><td>1939-01-07</td><td>South African</td><td>2023-09-23T20:22:29.129+0000</td></tr><tr><td>413</td><td>pieterse</td><td>null</td><td>\\N</td><td>Ernie Pieterse</td><td>1938-07-04</td><td>South African</td><td>2023-09-23T20:22:29.129+0000</td></tr><tr><td>414</td><td>puzey</td><td>null</td><td>\\N</td><td>Clive Puzey</td><td>1941-07-11</td><td>Rhodesian</td><td>2023-09-23T20:22:29.129+0000</td></tr><tr><td>415</td><td>reed</td><td>null</td><td>\\N</td><td>Ray Reed</td><td>1932-04-30</td><td>South African</td><td>2023-09-23T20:22:29.129+0000</td></tr><tr><td>416</td><td>clapham</td><td>null</td><td>\\N</td><td>David Clapham</td><td>1931-05-18</td><td>South African</td><td>2023-09-23T20:22:29.129+0000</td></tr><tr><td>417</td><td>blignaut</td><td>null</td><td>\\N</td><td>Alex Blignaut</td><td>1932-11-30</td><td>South African</td><td>2023-09-23T20:22:29.129+0000</td></tr><tr><td>418</td><td>gregory</td><td>null</td><td>\\N</td><td>Masten Gregory</td><td>1932-02-29</td><td>American</td><td>2023-09-23T20:22:29.129+0000</td></tr><tr><td>419</td><td>rhodes</td><td>null</td><td>\\N</td><td>John Rhodes</td><td>1927-08-18</td><td>British</td><td>2023-09-23T20:22:29.129+0000</td></tr><tr><td>420</td><td>raby</td><td>null</td><td>\\N</td><td>Ian Raby</td><td>1921-09-22</td><td>British</td><td>2023-09-23T20:22:29.129+0000</td></tr><tr><td>421</td><td>rollinson</td><td>null</td><td>\\N</td><td>Alan Rollinson</td><td>1943-05-15</td><td>British</td><td>2023-09-23T20:22:29.129+0000</td></tr><tr><td>422</td><td>gubby</td><td>null</td><td>\\N</td><td>Brian Gubby</td><td>1934-04-17</td><td>British</td><td>2023-09-23T20:22:29.129+0000</td></tr><tr><td>423</td><td>mitter</td><td>null</td><td>\\N</td><td>Gerhard Mitter</td><td>1935-08-30</td><td>German</td><td>2023-09-23T20:22:29.129+0000</td></tr><tr><td>424</td><td>bussinello</td><td>null</td><td>\\N</td><td>Roberto Bussinello</td><td>1927-10-04</td><td>Italian</td><td>2023-09-23T20:22:29.129+0000</td></tr><tr><td>425</td><td>vaccarella</td><td>null</td><td>\\N</td><td>Nino Vaccarella</td><td>1933-03-04</td><td>Italian</td><td>2023-09-23T20:22:29.129+0000</td></tr><tr><td>426</td><td>bassi</td><td>null</td><td>\\N</td><td>Giorgio Bassi</td><td>1934-01-20</td><td>Italian</td><td>2023-09-23T20:22:29.129+0000</td></tr><tr><td>427</td><td>trintignant</td><td>null</td><td>\\N</td><td>Maurice Trintignant</td><td>1917-10-30</td><td>French</td><td>2023-09-23T20:22:29.129+0000</td></tr><tr><td>428</td><td>collomb</td><td>null</td><td>\\N</td><td>Bernard Collomb</td><td>1930-10-07</td><td>French</td><td>2023-09-23T20:22:29.129+0000</td></tr><tr><td>429</td><td>andre_pilette</td><td>null</td><td>\\N</td><td>André Pilette</td><td>1918-10-06</td><td>Belgian</td><td>2023-09-23T20:22:29.129+0000</td></tr><tr><td>430</td><td>beaufort</td><td>null</td><td>\\N</td><td>Carel Godin de Beaufort</td><td>1934-04-10</td><td>Dutch</td><td>2023-09-23T20:22:29.129+0000</td></tr><tr><td>431</td><td>barth</td><td>null</td><td>\\N</td><td>Edgar Barth</td><td>1917-01-26</td><td>German</td><td>2023-09-23T20:22:29.129+0000</td></tr><tr><td>432</td><td>cabral</td><td>null</td><td>\\N</td><td>Mário de Araújo Cabral</td><td>1934-01-15</td><td>Portuguese</td><td>2023-09-23T20:22:29.129+0000</td></tr><tr><td>433</td><td>hansgen</td><td>null</td><td>\\N</td><td>Walt Hansgen</td><td>1919-10-28</td><td>American</td><td>2023-09-23T20:22:29.129+0000</td></tr><tr><td>434</td><td>sharp</td><td>null</td><td>\\N</td><td>Hap Sharp</td><td>1928-01-01</td><td>American</td><td>2023-09-23T20:22:29.129+0000</td></tr><tr><td>435</td><td>mairesse</td><td>null</td><td>\\N</td><td>Willy Mairesse</td><td>1928-10-01</td><td>Belgian</td><td>2023-09-23T20:22:29.129+0000</td></tr><tr><td>436</td><td>campbell-jones</td><td>null</td><td>\\N</td><td>John Campbell-Jones</td><td>1930-01-21</td><td>British</td><td>2023-09-23T20:22:29.129+0000</td></tr><tr><td>437</td><td>burgess</td><td>null</td><td>\\N</td><td>Ian Burgess</td><td>1930-07-06</td><td>British</td><td>2023-09-23T20:22:29.129+0000</td></tr><tr><td>438</td><td>settember</td><td>null</td><td>\\N</td><td>Tony Settember</td><td>1926-07-10</td><td>American</td><td>2023-09-23T20:22:29.129+0000</td></tr><tr><td>439</td><td>estefano</td><td>null</td><td>\\N</td><td>Nasif Estéfano</td><td>1932-11-18</td><td>Argentine</td><td>2023-09-23T20:22:29.129+0000</td></tr><tr><td>440</td><td>hall</td><td>null</td><td>\\N</td><td>Jim Hall</td><td>1935-07-23</td><td>American</td><td>2023-09-23T20:22:29.129+0000</td></tr><tr><td>441</td><td>parnell</td><td>null</td><td>\\N</td><td>Tim Parnell</td><td>1932-06-25</td><td>British</td><td>2023-09-23T20:22:29.129+0000</td></tr><tr><td>442</td><td>kuhnke</td><td>null</td><td>\\N</td><td>Kurt Kuhnke</td><td>1910-04-30</td><td>German</td><td>2023-09-23T20:22:29.129+0000</td></tr><tr><td>443</td><td>ernesto_brambilla</td><td>null</td><td>\\N</td><td>Ernesto Brambilla</td><td>1934-01-31</td><td>Italian</td><td>2023-09-23T20:22:29.129+0000</td></tr><tr><td>444</td><td>lippi</td><td>null</td><td>\\N</td><td>Roberto Lippi</td><td>1926-10-17</td><td>Italian</td><td>2023-09-23T20:22:29.129+0000</td></tr><tr><td>445</td><td>seiffert</td><td>null</td><td>\\N</td><td>Günther Seiffert</td><td>1937-10-18</td><td>German</td><td>2023-09-23T20:22:29.129+0000</td></tr><tr><td>446</td><td>abate</td><td>null</td><td>\\N</td><td>Carlo Abate</td><td>1932-07-10</td><td>Italian</td><td>2023-09-23T20:22:29.129+0000</td></tr><tr><td>447</td><td>starrabba</td><td>null</td><td>\\N</td><td>Gaetano Starrabba</td><td>1932-12-03</td><td>Italian</td><td>2023-09-23T20:22:29.129+0000</td></tr><tr><td>448</td><td>broeker</td><td>null</td><td>\\N</td><td>Peter Broeker</td><td>1926-05-15</td><td>Canadian</td><td>2023-09-23T20:22:29.129+0000</td></tr><tr><td>449</td><td>ward</td><td>null</td><td>\\N</td><td>Rodger Ward</td><td>1921-01-10</td><td>American</td><td>2023-09-23T20:22:29.129+0000</td></tr><tr><td>450</td><td>vos</td><td>null</td><td>\\N</td><td>Ernie de Vos</td><td>1941-07-01</td><td>Dutch</td><td>2023-09-23T20:22:29.129+0000</td></tr><tr><td>451</td><td>dochnal</td><td>null</td><td>\\N</td><td>Frank Dochnal</td><td>1920-10-08</td><td>American</td><td>2023-09-23T20:22:29.129+0000</td></tr><tr><td>452</td><td>monarch</td><td>null</td><td>\\N</td><td>Thomas Monarch</td><td>1945-09-03</td><td>American</td><td>2023-09-23T20:22:29.129+0000</td></tr><tr><td>842</td><td>gasly</td><td>10</td><td>GAS</td><td>Pierre Gasly</td><td>1996-02-07</td><td>French</td><td>2023-09-23T20:22:29.129+0000</td></tr><tr><td>453</td><td>lewis</td><td>null</td><td>\\N</td><td>Jackie Lewis</td><td>1936-11-01</td><td>British</td><td>2023-09-23T20:22:29.129+0000</td></tr><tr><td>454</td><td>ricardo_rodriguez</td><td>null</td><td>\\N</td><td>Ricardo Rodríguez</td><td>1942-02-14</td><td>Mexican</td><td>2023-09-23T20:22:29.129+0000</td></tr><tr><td>455</td><td>seidel</td><td>null</td><td>\\N</td><td>Wolfgang Seidel</td><td>1926-07-04</td><td>German</td><td>2023-09-23T20:22:29.129+0000</td></tr><tr><td>456</td><td>salvadori</td><td>null</td><td>\\N</td><td>Roy Salvadori</td><td>1922-05-12</td><td>British</td><td>2023-09-23T20:22:29.129+0000</td></tr><tr><td>457</td><td>pon</td><td>null</td><td>\\N</td><td>Ben Pon</td><td>1936-12-09</td><td>Dutch</td><td>2023-09-23T20:22:29.129+0000</td></tr><tr><td>458</td><td>slotemaker</td><td>null</td><td>\\N</td><td>Rob Slotemaker</td><td>1929-06-13</td><td>Dutch</td><td>2023-09-23T20:22:29.129+0000</td></tr><tr><td>459</td><td>marsh</td><td>null</td><td>\\N</td><td>Tony Marsh</td><td>1931-07-20</td><td>British</td><td>2023-09-23T20:22:29.129+0000</td></tr><tr><td>460</td><td>ashmore</td><td>null</td><td>\\N</td><td>Gerry Ashmore</td><td>1936-07-25</td><td>British</td><td>2023-09-23T20:22:29.129+0000</td></tr><tr><td>461</td><td>schiller</td><td>null</td><td>\\N</td><td>Heinz Schiller</td><td>1930-01-25</td><td>Swiss</td><td>2023-09-23T20:22:29.129+0000</td></tr><tr><td>462</td><td>davis</td><td>null</td><td>\\N</td><td>Colin Davis</td><td>1933-07-29</td><td>British</td><td>2023-09-23T20:22:29.129+0000</td></tr><tr><td>463</td><td>chamberlain</td><td>null</td><td>\\N</td><td>Jay Chamberlain</td><td>1925-12-29</td><td>American</td><td>2023-09-23T20:22:29.129+0000</td></tr><tr><td>464</td><td>shelly</td><td>null</td><td>\\N</td><td>Tony Shelly</td><td>1937-02-02</td><td>New Zealander</td><td>2023-09-23T20:22:29.129+0000</td></tr><tr><td>465</td><td>greene</td><td>null</td><td>\\N</td><td>Keith Greene</td><td>1938-01-05</td><td>British</td><td>2023-09-23T20:22:29.129+0000</td></tr><tr><td>466</td><td>walter</td><td>null</td><td>\\N</td><td>Heini Walter</td><td>1927-07-28</td><td>Swiss</td><td>2023-09-23T20:22:29.129+0000</td></tr><tr><td>467</td><td>prinoth</td><td>null</td><td>\\N</td><td>Ernesto Prinoth</td><td>1923-04-15</td><td>Italian</td><td>2023-09-23T20:22:29.129+0000</td></tr><tr><td>468</td><td>penske</td><td>null</td><td>\\N</td><td>Roger Penske</td><td>1937-02-20</td><td>American</td><td>2023-09-23T20:22:29.129+0000</td></tr><tr><td>469</td><td>schroeder</td><td>null</td><td>\\N</td><td>Rob Schroeder</td><td>1926-05-11</td><td>British</td><td>2023-09-23T20:22:29.129+0000</td></tr><tr><td>470</td><td>mayer</td><td>null</td><td>\\N</td><td>Timmy Mayer</td><td>1938-02-22</td><td>American</td><td>2023-09-23T20:22:29.129+0000</td></tr><tr><td>471</td><td>johnstone</td><td>null</td><td>\\N</td><td>Bruce Johnstone</td><td>1937-01-30</td><td>South African</td><td>2023-09-23T20:22:29.129+0000</td></tr><tr><td>472</td><td>harris</td><td>null</td><td>\\N</td><td>Mike Harris</td><td>1939-05-25</td><td>South African</td><td>2023-09-23T20:22:29.129+0000</td></tr><tr><td>473</td><td>hocking</td><td>null</td><td>\\N</td><td>Gary Hocking</td><td>1937-09-30</td><td>Rhodesian</td><td>2023-09-23T20:22:29.129+0000</td></tr><tr><td>474</td><td>vyver</td><td>null</td><td>\\N</td><td>Syd van der Vyver</td><td>1920-06-01</td><td>South African</td><td>2023-09-23T20:22:29.129+0000</td></tr><tr><td>475</td><td>moss</td><td>null</td><td>\\N</td><td>Stirling Moss</td><td>1929-09-17</td><td>British</td><td>2023-09-23T20:22:29.129+0000</td></tr><tr><td>476</td><td>trips</td><td>null</td><td>\\N</td><td>Wolfgang von Trips</td><td>1928-05-04</td><td>German</td><td>2023-09-23T20:22:29.129+0000</td></tr><tr><td>477</td><td>allison</td><td>null</td><td>\\N</td><td>Cliff Allison</td><td>1932-02-08</td><td>British</td><td>2023-09-23T20:22:29.129+0000</td></tr><tr><td>478</td><td>herrmann</td><td>null</td><td>\\N</td><td>Hans Herrmann</td><td>1928-02-23</td><td>German</td><td>2023-09-23T20:22:29.129+0000</td></tr><tr><td>479</td><td>brooks</td><td>null</td><td>\\N</td><td>Tony Brooks</td><td>1932-02-25</td><td>British</td><td>2023-09-23T20:22:29.129+0000</td></tr><tr><td>480</td><td>may</td><td>null</td><td>\\N</td><td>Michael May</td><td>1934-08-18</td><td>Swiss</td><td>2023-09-23T20:22:29.129+0000</td></tr><tr><td>481</td><td>henry_taylor</td><td>null</td><td>\\N</td><td>Henry Taylor</td><td>1932-12-16</td><td>British</td><td>2023-09-23T20:22:29.129+0000</td></tr><tr><td>482</td><td>gendebien</td><td>null</td><td>\\N</td><td>Olivier Gendebien</td><td>1924-01-12</td><td>Belgian</td><td>2023-09-23T20:22:29.129+0000</td></tr><tr><td>483</td><td>scarlatti</td><td>null</td><td>\\N</td><td>Giorgio Scarlatti</td><td>1921-10-02</td><td>Italian</td><td>2023-09-23T20:22:29.129+0000</td></tr><tr><td>484</td><td>naylor</td><td>null</td><td>\\N</td><td>Brian Naylor</td><td>1923-03-24</td><td>British</td><td>2023-09-23T20:22:29.129+0000</td></tr><tr><td>485</td><td>bordeu</td><td>null</td><td>\\N</td><td>Juan Manuel Bordeu</td><td>1934-01-28</td><td>Argentine</td><td>2023-09-23T20:22:29.129+0000</td></tr><tr><td>486</td><td>fairman</td><td>null</td><td>\\N</td><td>Jack Fairman</td><td>1913-03-15</td><td>British</td><td>2023-09-23T20:22:29.129+0000</td></tr><tr><td>487</td><td>natili</td><td>null</td><td>\\N</td><td>Massimo Natili</td><td>1935-07-28</td><td>Italian</td><td>2023-09-23T20:22:29.129+0000</td></tr><tr><td>488</td><td>monteverdi</td><td>null</td><td>\\N</td><td>Peter Monteverdi</td><td>1934-06-07</td><td>Swiss</td><td>2023-09-23T20:22:29.129+0000</td></tr><tr><td>489</td><td>pirocchi</td><td>null</td><td>\\N</td><td>Renato Pirocchi</td><td>1933-03-26</td><td>Italian</td><td>2023-09-23T20:22:29.129+0000</td></tr><tr><td>490</td><td>duke</td><td>null</td><td>\\N</td><td>Geoff Duke</td><td>1923-03-29</td><td>British</td><td>2023-09-23T20:22:29.129+0000</td></tr><tr><td>491</td><td>thiele</td><td>null</td><td>\\N</td><td>Alfonso Thiele</td><td>1920-04-05</td><td>American-Italian</td><td>2023-09-23T20:22:29.129+0000</td></tr><tr><td>492</td><td>boffa</td><td>null</td><td>\\N</td><td>Menato Boffa</td><td>1930-01-04</td><td>Italian</td><td>2023-09-23T20:22:29.129+0000</td></tr><tr><td>493</td><td>ryan</td><td>null</td><td>\\N</td><td>Peter Ryan</td><td>1940-06-10</td><td>Canadian</td><td>2023-09-23T20:22:29.129+0000</td></tr><tr><td>494</td><td>ruby</td><td>null</td><td>\\N</td><td>Lloyd Ruby</td><td>1928-01-12</td><td>American</td><td>2023-09-23T20:22:29.129+0000</td></tr><tr><td>495</td><td>ken_miles</td><td>null</td><td>\\N</td><td>Ken Miles</td><td>1918-11-01</td><td>British</td><td>2023-09-23T20:22:29.129+0000</td></tr><tr><td>496</td><td>menditeguy</td><td>null</td><td>\\N</td><td>Carlos Menditeguy</td><td>1914-08-10</td><td>Argentine</td><td>2023-09-23T20:22:29.129+0000</td></tr><tr><td>497</td><td>larreta</td><td>null</td><td>\\N</td><td>Alberto Rodriguez Larreta</td><td>1934-01-14</td><td>Argentine</td><td>2023-09-23T20:22:29.129+0000</td></tr><tr><td>498</td><td>gonzalez</td><td>null</td><td>\\N</td><td>José Froilán González</td><td>1922-10-05</td><td>Argentine</td><td>2023-09-23T20:22:29.129+0000</td></tr><tr><td>499</td><td>bonomi</td><td>null</td><td>\\N</td><td>Roberto Bonomi</td><td>1919-09-30</td><td>Argentine</td><td>2023-09-23T20:22:29.129+0000</td></tr><tr><td>500</td><td>munaron</td><td>null</td><td>\\N</td><td>Gino Munaron</td><td>1928-04-02</td><td>Italian</td><td>2023-09-23T20:22:29.129+0000</td></tr><tr><td>501</td><td>schell</td><td>null</td><td>\\N</td><td>Harry Schell</td><td>1921-06-29</td><td>American</td><td>2023-09-23T20:22:29.129+0000</td></tr><tr><td>502</td><td>stacey</td><td>null</td><td>\\N</td><td>Alan Stacey</td><td>1933-08-29</td><td>British</td><td>2023-09-23T20:22:29.129+0000</td></tr><tr><td>503</td><td>chimeri</td><td>null</td><td>\\N</td><td>Ettore Chimeri</td><td>1921-06-04</td><td>Venezuelan</td><td>2023-09-23T20:22:29.129+0000</td></tr><tr><td>504</td><td>creus</td><td>null</td><td>\\N</td><td>Antonio Creus</td><td>1924-10-28</td><td>Spanish</td><td>2023-09-23T20:22:29.129+0000</td></tr><tr><td>505</td><td>bristow</td><td>null</td><td>\\N</td><td>Chris Bristow</td><td>1937-12-02</td><td>British</td><td>2023-09-23T20:22:29.129+0000</td></tr><tr><td>506</td><td>halford</td><td>null</td><td>\\N</td><td>Bruce Halford</td><td>1931-05-18</td><td>British</td><td>2023-09-23T20:22:29.129+0000</td></tr><tr><td>507</td><td>daigh</td><td>null</td><td>\\N</td><td>Chuck Daigh</td><td>1923-11-29</td><td>American</td><td>2023-09-23T20:22:29.129+0000</td></tr><tr><td>508</td><td>reventlow</td><td>null</td><td>\\N</td><td>Lance Reventlow</td><td>1936-02-24</td><td>American</td><td>2023-09-23T20:22:29.129+0000</td></tr><tr><td>509</td><td>rathmann</td><td>null</td><td>\\N</td><td>Jim Rathmann</td><td>1928-07-16</td><td>American</td><td>2023-09-23T20:22:29.129+0000</td></tr><tr><td>510</td><td>goldsmith</td><td>null</td><td>\\N</td><td>Paul Goldsmith</td><td>1925-10-02</td><td>American</td><td>2023-09-23T20:22:29.129+0000</td></tr><tr><td>511</td><td>branson</td><td>null</td><td>\\N</td><td>Don Branson</td><td>1920-06-02</td><td>American</td><td>2023-09-23T20:22:29.129+0000</td></tr><tr><td>512</td><td>thomson</td><td>null</td><td>\\N</td><td>Johnny Thomson</td><td>1922-04-09</td><td>American</td><td>2023-09-23T20:22:29.129+0000</td></tr><tr><td>513</td><td>johnson</td><td>null</td><td>\\N</td><td>Eddie Johnson</td><td>1919-02-10</td><td>American</td><td>2023-09-23T20:22:29.129+0000</td></tr><tr><td>514</td><td>veith</td><td>null</td><td>\\N</td><td>Bob Veith</td><td>1926-11-01</td><td>American</td><td>2023-09-23T20:22:29.129+0000</td></tr><tr><td>515</td><td>tingelstad</td><td>null</td><td>\\N</td><td>Bud Tingelstad</td><td>1928-04-04</td><td>American</td><td>2023-09-23T20:22:29.129+0000</td></tr><tr><td>516</td><td>christie</td><td>null</td><td>\\N</td><td>Bob Christie</td><td>1924-04-04</td><td>American</td><td>2023-09-23T20:22:29.129+0000</td></tr><tr><td>517</td><td>amick</td><td>null</td><td>\\N</td><td>Red Amick</td><td>1929-01-19</td><td>American</td><td>2023-09-23T20:22:29.129+0000</td></tr><tr><td>518</td><td>darter</td><td>null</td><td>\\N</td><td>Duane Carter</td><td>1913-05-05</td><td>American</td><td>2023-09-23T20:22:29.129+0000</td></tr><tr><td>519</td><td>homeier</td><td>null</td><td>\\N</td><td>Bill Homeier</td><td>1918-08-31</td><td>American</td><td>2023-09-23T20:22:29.129+0000</td></tr><tr><td>520</td><td>hartley</td><td>null</td><td>\\N</td><td>Gene Hartley</td><td>1926-01-28</td><td>American</td><td>2023-09-23T20:22:29.129+0000</td></tr><tr><td>521</td><td>stevenson</td><td>null</td><td>\\N</td><td>Chuck Stevenson</td><td>1919-10-15</td><td>American</td><td>2023-09-23T20:22:29.129+0000</td></tr><tr><td>522</td><td>grim</td><td>null</td><td>\\N</td><td>Bobby Grim</td><td>1924-09-04</td><td>American</td><td>2023-09-23T20:22:29.129+0000</td></tr><tr><td>523</td><td>templeman</td><td>null</td><td>\\N</td><td>Shorty Templeman</td><td>1919-08-12</td><td>American</td><td>2023-09-23T20:22:29.129+0000</td></tr><tr><td>524</td><td>hurtubise</td><td>null</td><td>\\N</td><td>Jim Hurtubise</td><td>1932-12-05</td><td>American</td><td>2023-09-23T20:22:29.129+0000</td></tr><tr><td>525</td><td>bryan</td><td>null</td><td>\\N</td><td>Jimmy Bryan</td><td>1926-01-28</td><td>American</td><td>2023-09-23T20:22:29.129+0000</td></tr><tr><td>526</td><td>ruttman</td><td>null</td><td>\\N</td><td>Troy Ruttman</td><td>1930-03-11</td><td>American</td><td>2023-09-23T20:22:29.129+0000</td></tr><tr><td>527</td><td>sachs</td><td>null</td><td>\\N</td><td>Eddie Sachs</td><td>1927-05-28</td><td>American</td><td>2023-09-23T20:22:29.129+0000</td></tr><tr><td>528</td><td>freeland</td><td>null</td><td>\\N</td><td>Don Freeland</td><td>1925-03-25</td><td>American</td><td>2023-09-23T20:22:29.129+0000</td></tr><tr><td>529</td><td>bettenhausen</td><td>null</td><td>\\N</td><td>Tony Bettenhausen</td><td>1916-09-12</td><td>American</td><td>2023-09-23T20:22:29.129+0000</td></tr><tr><td>530</td><td>weiler</td><td>null</td><td>\\N</td><td>Wayne Weiler</td><td>1934-12-09</td><td>American</td><td>2023-09-23T20:22:29.129+0000</td></tr><tr><td>531</td><td>foyt</td><td>null</td><td>\\N</td><td>Anthony Foyt</td><td>1935-01-16</td><td>American</td><td>2023-09-23T20:22:29.129+0000</td></tr><tr><td>532</td><td>russo</td><td>null</td><td>\\N</td><td>Eddie Russo</td><td>1925-11-19</td><td>American</td><td>2023-09-23T20:22:29.129+0000</td></tr><tr><td>533</td><td>boyd</td><td>null</td><td>\\N</td><td>Johnny Boyd</td><td>1926-08-19</td><td>American</td><td>2023-09-23T20:22:29.129+0000</td></tr><tr><td>534</td><td>force</td><td>null</td><td>\\N</td><td>Gene Force</td><td>1916-06-15</td><td>American</td><td>2023-09-23T20:22:29.129+0000</td></tr><tr><td>535</td><td>mcwithey</td><td>null</td><td>\\N</td><td>Jim McWithey</td><td>1927-07-04</td><td>American</td><td>2023-09-23T20:22:29.129+0000</td></tr><tr><td>536</td><td>sutton</td><td>null</td><td>\\N</td><td>Len Sutton</td><td>1925-08-09</td><td>American</td><td>2023-09-23T20:22:29.129+0000</td></tr><tr><td>537</td><td>dick_rathmann</td><td>null</td><td>\\N</td><td>Dick Rathmann</td><td>1924-01-06</td><td>American</td><td>2023-09-23T20:22:29.129+0000</td></tr><tr><td>538</td><td>herman</td><td>null</td><td>\\N</td><td>Al Herman</td><td>1927-03-15</td><td>American</td><td>2023-09-23T20:22:29.129+0000</td></tr><tr><td>539</td><td>dempsey_wilson</td><td>null</td><td>\\N</td><td>Dempsey Wilson</td><td>1927-03-11</td><td>American</td><td>2023-09-23T20:22:29.129+0000</td></tr><tr><td>540</td><td>mike_taylor</td><td>null</td><td>\\N</td><td>Mike Taylor</td><td>1934-04-24</td><td>British</td><td>2023-09-23T20:22:29.129+0000</td></tr><tr><td>541</td><td>flockhart</td><td>null</td><td>\\N</td><td>Ron Flockhart</td><td>1923-06-16</td><td>British</td><td>2023-09-23T20:22:29.129+0000</td></tr><tr><td>542</td><td>piper</td><td>null</td><td>\\N</td><td>David Piper</td><td>1930-12-02</td><td>British</td><td>2023-09-23T20:22:29.129+0000</td></tr><tr><td>543</td><td>cabianca</td><td>null</td><td>\\N</td><td>Giulio Cabianca</td><td>1923-02-19</td><td>Italian</td><td>2023-09-23T20:22:29.129+0000</td></tr><tr><td>544</td><td>drogo</td><td>null</td><td>\\N</td><td>Piero Drogo</td><td>1926-08-08</td><td>Italian</td><td>2023-09-23T20:22:29.129+0000</td></tr><tr><td>545</td><td>gamble</td><td>null</td><td>\\N</td><td>Fred Gamble</td><td>1932-03-17</td><td>American</td><td>2023-09-23T20:22:29.129+0000</td></tr><tr><td>546</td><td>owen</td><td>null</td><td>\\N</td><td>Arthur Owen</td><td>1915-03-23</td><td>British</td><td>2023-09-23T20:22:29.129+0000</td></tr><tr><td>547</td><td>gould</td><td>null</td><td>\\N</td><td>Horace Gould</td><td>1918-09-20</td><td>British</td><td>2023-09-23T20:22:29.129+0000</td></tr><tr><td>548</td><td>drake</td><td>null</td><td>\\N</td><td>Bob Drake</td><td>1919-12-14</td><td>American</td><td>2023-09-23T20:22:29.129+0000</td></tr><tr><td>549</td><td>bueb</td><td>null</td><td>\\N</td><td>Ivor Bueb</td><td>1923-06-06</td><td>British</td><td>2023-09-23T20:22:29.129+0000</td></tr><tr><td>550</td><td>Changy</td><td>null</td><td>\\N</td><td>Alain de Changy</td><td>1922-02-05</td><td>Belgian</td><td>2023-09-23T20:22:29.129+0000</td></tr><tr><td>551</td><td>filippis</td><td>null</td><td>\\N</td><td>Maria de Filippis</td><td>1926-11-11</td><td>Italian</td><td>2023-09-23T20:22:29.129+0000</td></tr><tr><td>552</td><td>lucienbonnet</td><td>null</td><td>\\N</td><td>Jean Lucienbonnet</td><td>1923-01-07</td><td>French</td><td>2023-09-23T20:22:29.129+0000</td></tr><tr><td>553</td><td>testut</td><td>null</td><td>\\N</td><td>André Testut</td><td>1926-04-13</td><td>Monegasque</td><td>2023-09-23T20:22:29.129+0000</td></tr><tr><td>554</td><td>behra</td><td>null</td><td>\\N</td><td>Jean Behra</td><td>1921-02-16</td><td>French</td><td>2023-09-23T20:22:29.129+0000</td></tr><tr><td>555</td><td>paul_russo</td><td>null</td><td>\\N</td><td>Paul Russo</td><td>1914-04-10</td><td>American</td><td>2023-09-23T20:22:29.129+0000</td></tr><tr><td>556</td><td>daywalt</td><td>null</td><td>\\N</td><td>Jimmy Daywalt</td><td>1924-08-28</td><td>American</td><td>2023-09-23T20:22:29.129+0000</td></tr><tr><td>557</td><td>arnold</td><td>null</td><td>\\N</td><td>Chuck Arnold</td><td>1926-05-30</td><td>American</td><td>2023-09-23T20:22:29.129+0000</td></tr><tr><td>558</td><td>keller</td><td>null</td><td>\\N</td><td>Al Keller</td><td>1920-04-11</td><td>American</td><td>2023-09-23T20:22:29.129+0000</td></tr><tr><td>559</td><td>flaherty</td><td>null</td><td>\\N</td><td>Pat Flaherty</td><td>1926-01-06</td><td>American</td><td>2023-09-23T20:22:29.129+0000</td></tr><tr><td>560</td><td>cheesbourg</td><td>null</td><td>\\N</td><td>Bill Cheesbourg</td><td>1927-06-12</td><td>American</td><td>2023-09-23T20:22:29.129+0000</td></tr><tr><td>561</td><td>ray_crawford</td><td>null</td><td>\\N</td><td>Ray Crawford</td><td>1915-10-26</td><td>American</td><td>2023-09-23T20:22:29.129+0000</td></tr><tr><td>562</td><td>turner</td><td>null</td><td>\\N</td><td>Jack Turner</td><td>1920-02-12</td><td>American</td><td>2023-09-23T20:22:29.129+0000</td></tr><tr><td>563</td><td>weyant</td><td>null</td><td>\\N</td><td>Chuck Weyant</td><td>1923-04-03</td><td>American</td><td>2023-09-23T20:22:29.129+0000</td></tr><tr><td>564</td><td>larson</td><td>null</td><td>\\N</td><td>Jud Larson</td><td>1923-01-21</td><td>American</td><td>2023-09-23T20:22:29.129+0000</td></tr><tr><td>565</td><td>magill</td><td>null</td><td>\\N</td><td>Mike Magill</td><td>1920-02-08</td><td>American</td><td>2023-09-23T20:22:29.129+0000</td></tr><tr><td>566</td><td>shelby</td><td>null</td><td>\\N</td><td>Carroll Shelby</td><td>1923-01-11</td><td>American</td><td>2023-09-23T20:22:29.129+0000</td></tr><tr><td>567</td><td>orey</td><td>null</td><td>\\N</td><td>Fritz d'Orey</td><td>1938-03-25</td><td>Brazilian</td><td>2023-09-23T20:22:29.129+0000</td></tr><tr><td>568</td><td>fontes</td><td>null</td><td>\\N</td><td>Azdrubal Fontes</td><td>1922-12-26</td><td>Uruguayan</td><td>2023-09-23T20:22:29.129+0000</td></tr><tr><td>569</td><td>ashdown</td><td>null</td><td>\\N</td><td>Peter Ashdown</td><td>1934-10-16</td><td>British</td><td>2023-09-23T20:22:29.129+0000</td></tr><tr><td>570</td><td>bill_moss</td><td>null</td><td>\\N</td><td>Bill Moss</td><td>1933-09-04</td><td>British</td><td>2023-09-23T20:22:29.129+0000</td></tr><tr><td>571</td><td>dennis_taylor</td><td>null</td><td>\\N</td><td>Dennis Taylor</td><td>1921-06-12</td><td>British</td><td>2023-09-23T20:22:29.129+0000</td></tr><tr><td>572</td><td>blanchard</td><td>null</td><td>\\N</td><td>Harry Blanchard</td><td>1929-06-13</td><td>American</td><td>2023-09-23T20:22:29.129+0000</td></tr><tr><td>573</td><td>tomaso</td><td>null</td><td>\\N</td><td>Alessandro de Tomaso</td><td>1928-07-10</td><td>Argentine-Italian</td><td>2023-09-23T20:22:29.129+0000</td></tr><tr><td>574</td><td>constantine</td><td>null</td><td>\\N</td><td>George Constantine</td><td>1918-02-22</td><td>American</td><td>2023-09-23T20:22:29.129+0000</td></tr><tr><td>575</td><td>said</td><td>null</td><td>\\N</td><td>Bob Said</td><td>1932-05-05</td><td>American</td><td>2023-09-23T20:22:29.129+0000</td></tr><tr><td>576</td><td>cade</td><td>null</td><td>\\N</td><td>Phil Cade</td><td>1916-06-12</td><td>American</td><td>2023-09-23T20:22:29.129+0000</td></tr><tr><td>577</td><td>musso</td><td>null</td><td>\\N</td><td>Luigi Musso</td><td>1924-07-28</td><td>Italian</td><td>2023-09-23T20:22:29.129+0000</td></tr><tr><td>578</td><td>hawthorn</td><td>null</td><td>\\N</td><td>Mike Hawthorn</td><td>1929-04-10</td><td>British</td><td>2023-09-23T20:22:29.129+0000</td></tr><tr><td>579</td><td>fangio</td><td>null</td><td>\\N</td><td>Juan Fangio</td><td>1911-06-24</td><td>Argentine</td><td>2023-09-23T20:22:29.129+0000</td></tr><tr><td>580</td><td>godia</td><td>null</td><td>\\N</td><td>Paco Godia</td><td>1921-03-21</td><td>Spanish</td><td>2023-09-23T20:22:29.129+0000</td></tr><tr><td>581</td><td>collins</td><td>null</td><td>\\N</td><td>Peter Collins</td><td>1931-11-06</td><td>British</td><td>2023-09-23T20:22:29.129+0000</td></tr><tr><td>582</td><td>kavanagh</td><td>null</td><td>\\N</td><td>Ken Kavanagh</td><td>1923-12-12</td><td>Australian</td><td>2023-09-23T20:22:29.129+0000</td></tr><tr><td>583</td><td>gerini</td><td>null</td><td>\\N</td><td>Gerino Gerini</td><td>1928-08-10</td><td>Italian</td><td>2023-09-23T20:22:29.129+0000</td></tr><tr><td>584</td><td>kessler</td><td>null</td><td>\\N</td><td>Bruce Kessler</td><td>1936-03-23</td><td>American</td><td>2023-09-23T20:22:29.129+0000</td></tr><tr><td>585</td><td>emery</td><td>null</td><td>\\N</td><td>Paul Emery</td><td>1916-11-12</td><td>British</td><td>2023-09-23T20:22:29.129+0000</td></tr><tr><td>586</td><td>piotti</td><td>null</td><td>\\N</td><td>Luigi Piotti</td><td>1913-10-27</td><td>Italian</td><td>2023-09-23T20:22:29.129+0000</td></tr><tr><td>587</td><td>ecclestone</td><td>null</td><td>\\N</td><td>Bernie Ecclestone</td><td>1930-10-28</td><td>British</td><td>2023-09-23T20:22:29.129+0000</td></tr><tr><td>588</td><td>taramazzo</td><td>null</td><td>\\N</td><td>Luigi Taramazzo</td><td>1932-05-05</td><td>Italian</td><td>2023-09-23T20:22:29.129+0000</td></tr><tr><td>589</td><td>chiron</td><td>null</td><td>\\N</td><td>Louis Chiron</td><td>1899-08-03</td><td>Monegasque</td><td>2023-09-23T20:22:29.129+0000</td></tr><tr><td>590</td><td>lewis-evans</td><td>null</td><td>\\N</td><td>Stuart Lewis-Evans</td><td>1930-04-20</td><td>British</td><td>2023-09-23T20:22:29.129+0000</td></tr><tr><td>591</td><td>george_amick</td><td>null</td><td>\\N</td><td>George Amick</td><td>1924-10-24</td><td>American</td><td>2023-09-23T20:22:29.129+0000</td></tr><tr><td>592</td><td>reece</td><td>null</td><td>\\N</td><td>Jimmy Reece</td><td>1929-11-17</td><td>American</td><td>2023-09-23T20:22:29.129+0000</td></tr><tr><td>593</td><td>parsons</td><td>null</td><td>\\N</td><td>Johnnie Parsons</td><td>1918-07-04</td><td>American</td><td>2023-09-23T20:22:29.129+0000</td></tr><tr><td>594</td><td>tolan</td><td>null</td><td>\\N</td><td>Johnnie Tolan</td><td>1917-10-22</td><td>American</td><td>2023-09-23T20:22:29.129+0000</td></tr><tr><td>595</td><td>garrett</td><td>null</td><td>\\N</td><td>Billy Garrett</td><td>1933-04-24</td><td>American</td><td>2023-09-23T20:22:29.129+0000</td></tr><tr><td>596</td><td>elisian</td><td>null</td><td>\\N</td><td>Ed Elisian</td><td>1926-12-09</td><td>American</td><td>2023-09-23T20:22:29.129+0000</td></tr><tr><td>597</td><td>connor</td><td>null</td><td>\\N</td><td>Pat O'Connor</td><td>1928-10-09</td><td>American</td><td>2023-09-23T20:22:29.129+0000</td></tr><tr><td>598</td><td>jerry_unser</td><td>null</td><td>\\N</td><td>Jerry Unser</td><td>1932-11-15</td><td>American</td><td>2023-09-23T20:22:29.129+0000</td></tr><tr><td>599</td><td>bisch</td><td>null</td><td>\\N</td><td>Art Bisch</td><td>1926-11-10</td><td>American</td><td>2023-09-23T20:22:29.129+0000</td></tr><tr><td>600</td><td>goethals</td><td>null</td><td>\\N</td><td>Christian Goethals</td><td>1928-08-04</td><td>Belgian</td><td>2023-09-23T20:22:29.129+0000</td></tr><tr><td>601</td><td>gibson</td><td>null</td><td>\\N</td><td>Dick Gibson</td><td>1918-04-16</td><td>British</td><td>2023-09-23T20:22:29.129+0000</td></tr><tr><td>602</td><td>la_caze</td><td>null</td><td>\\N</td><td>Robert La Caze</td><td>1917-02-26</td><td>French</td><td>2023-09-23T20:22:29.129+0000</td></tr><tr><td>603</td><td>guelfi</td><td>null</td><td>\\N</td><td>André Guelfi</td><td>1919-05-06</td><td>French</td><td>2023-09-23T20:22:29.129+0000</td></tr><tr><td>604</td><td>picard</td><td>null</td><td>\\N</td><td>François Picard</td><td>1921-04-26</td><td>French</td><td>2023-09-23T20:22:29.129+0000</td></tr><tr><td>605</td><td>bridger</td><td>null</td><td>\\N</td><td>Tom Bridger</td><td>1934-06-24</td><td>British</td><td>2023-09-23T20:22:29.129+0000</td></tr><tr><td>606</td><td>portago</td><td>null</td><td>\\N</td><td>Alfonso de Portago</td><td>1928-10-11</td><td>Spanish</td><td>2023-09-23T20:22:29.129+0000</td></tr><tr><td>607</td><td>perdisa</td><td>null</td><td>\\N</td><td>Cesare Perdisa</td><td>1932-10-21</td><td>Italian</td><td>2023-09-23T20:22:29.129+0000</td></tr><tr><td>608</td><td>castellotti</td><td>null</td><td>\\N</td><td>Eugenio Castellotti</td><td>1930-10-10</td><td>Italian</td><td>2023-09-23T20:22:29.129+0000</td></tr><tr><td>609</td><td>simon</td><td>null</td><td>\\N</td><td>André Simon</td><td>1920-01-05</td><td>French</td><td>2023-09-23T20:22:29.129+0000</td></tr><tr><td>610</td><td>leston</td><td>null</td><td>\\N</td><td>Les Leston</td><td>1920-12-16</td><td>British</td><td>2023-09-23T20:22:29.129+0000</td></tr><tr><td>611</td><td>hanks</td><td>null</td><td>\\N</td><td>Sam Hanks</td><td>1914-07-13</td><td>American</td><td>2023-09-23T20:22:29.129+0000</td></tr><tr><td>612</td><td>linden</td><td>null</td><td>\\N</td><td>Andy Linden</td><td>1922-04-05</td><td>American</td><td>2023-09-23T20:22:29.129+0000</td></tr><tr><td>613</td><td>teague</td><td>null</td><td>\\N</td><td>Marshall Teague</td><td>1921-02-22</td><td>American</td><td>2023-09-23T20:22:29.129+0000</td></tr><tr><td>614</td><td>edmunds</td><td>null</td><td>\\N</td><td>Don Edmunds</td><td>1930-09-23</td><td>American</td><td>2023-09-23T20:22:29.129+0000</td></tr><tr><td>615</td><td>agabashian</td><td>null</td><td>\\N</td><td>Fred Agabashian</td><td>1913-08-21</td><td>American</td><td>2023-09-23T20:22:29.129+0000</td></tr><tr><td>616</td><td>george</td><td>null</td><td>\\N</td><td>Elmer George</td><td>1928-07-15</td><td>American</td><td>2023-09-23T20:22:29.129+0000</td></tr><tr><td>617</td><td>macdowel</td><td>null</td><td>\\N</td><td>Mike MacDowel</td><td>1932-09-13</td><td>British</td><td>2023-09-23T20:22:29.129+0000</td></tr><tr><td>618</td><td>mackay-fraser</td><td>null</td><td>\\N</td><td>Herbert MacKay-Fraser</td><td>1927-06-23</td><td>American</td><td>2023-09-23T20:22:29.129+0000</td></tr><tr><td>619</td><td>gerard</td><td>null</td><td>\\N</td><td>Bob Gerard</td><td>1914-01-19</td><td>British</td><td>2023-09-23T20:22:29.129+0000</td></tr><tr><td>620</td><td>maglioli</td><td>null</td><td>\\N</td><td>Umberto Maglioli</td><td>1928-06-05</td><td>Italian</td><td>2023-09-23T20:22:29.129+0000</td></tr><tr><td>621</td><td>england</td><td>null</td><td>\\N</td><td>Paul England</td><td>1929-03-28</td><td>Australian</td><td>2023-09-23T20:22:29.129+0000</td></tr><tr><td>622</td><td>landi</td><td>null</td><td>\\N</td><td>Chico Landi</td><td>1907-07-14</td><td>Brazilian</td><td>2023-09-23T20:22:29.129+0000</td></tr><tr><td>623</td><td>uria</td><td>null</td><td>\\N</td><td>Alberto Uria</td><td>1924-07-11</td><td>Uruguayan</td><td>2023-09-23T20:22:29.129+0000</td></tr><tr><td>624</td><td>ramos</td><td>null</td><td>\\N</td><td>Hernando da Silva Ramos</td><td>1925-12-07</td><td>Brazilian</td><td>2023-09-23T20:22:29.129+0000</td></tr><tr><td>625</td><td>bayol</td><td>null</td><td>\\N</td><td>Élie Bayol</td><td>1914-02-28</td><td>French</td><td>2023-09-23T20:22:29.129+0000</td></tr><tr><td>626</td><td>manzon</td><td>null</td><td>\\N</td><td>Robert Manzon</td><td>1917-04-12</td><td>French</td><td>2023-09-23T20:22:29.129+0000</td></tr><tr><td>627</td><td>rosier</td><td>null</td><td>\\N</td><td>Louis Rosier</td><td>1905-11-05</td><td>French</td><td>2023-09-23T20:22:29.129+0000</td></tr><tr><td>628</td><td>sweikert</td><td>null</td><td>\\N</td><td>Bob Sweikert</td><td>1926-05-20</td><td>American</td><td>2023-09-23T20:22:29.129+0000</td></tr><tr><td>629</td><td>griffith</td><td>null</td><td>\\N</td><td>Cliff Griffith</td><td>1916-02-06</td><td>American</td><td>2023-09-23T20:22:29.129+0000</td></tr><tr><td>630</td><td>dinsmore</td><td>null</td><td>\\N</td><td>Duke Dinsmore</td><td>1913-04-10</td><td>American</td><td>2023-09-23T20:22:29.129+0000</td></tr><tr><td>631</td><td>andrews</td><td>null</td><td>\\N</td><td>Keith Andrews</td><td>1920-06-15</td><td>American</td><td>2023-09-23T20:22:29.129+0000</td></tr><tr><td>632</td><td>frere</td><td>null</td><td>\\N</td><td>Paul Frère</td><td>1917-01-30</td><td>Belgian</td><td>2023-09-23T20:22:29.129+0000</td></tr><tr><td>633</td><td>villoresi</td><td>null</td><td>\\N</td><td>Luigi Villoresi</td><td>1909-05-16</td><td>Italian</td><td>2023-09-23T20:22:29.129+0000</td></tr><tr><td>634</td><td>scotti</td><td>null</td><td>\\N</td><td>Piero Scotti</td><td>1909-11-11</td><td>Italian</td><td>2023-09-23T20:22:29.129+0000</td></tr><tr><td>635</td><td>chapman</td><td>null</td><td>\\N</td><td>Colin Chapman</td><td>1928-05-19</td><td>British</td><td>2023-09-23T20:22:29.129+0000</td></tr><tr><td>636</td><td>titterington</td><td>null</td><td>\\N</td><td>Desmond Titterington</td><td>1928-05-01</td><td>British</td><td>2023-09-23T20:22:29.129+0000</td></tr><tr><td>637</td><td>scott_Brown</td><td>null</td><td>\\N</td><td>Archie Scott Brown</td><td>1927-05-13</td><td>British</td><td>2023-09-23T20:22:29.129+0000</td></tr><tr><td>638</td><td>volonterio</td><td>null</td><td>\\N</td><td>Ottorino Volonterio</td><td>1917-12-07</td><td>Swiss</td><td>2023-09-23T20:22:29.129+0000</td></tr><tr><td>639</td><td>milhoux</td><td>null</td><td>\\N</td><td>André Milhoux</td><td>1928-12-09</td><td>Belgian</td><td>2023-09-23T20:22:29.129+0000</td></tr><tr><td>640</td><td>graffenried</td><td>null</td><td>\\N</td><td>Toulo de Graffenried</td><td>1914-05-18</td><td>Swiss</td><td>2023-09-23T20:22:29.129+0000</td></tr><tr><td>641</td><td>taruffi</td><td>null</td><td>\\N</td><td>Piero Taruffi</td><td>1906-10-12</td><td>Italian</td><td>2023-09-23T20:22:29.129+0000</td></tr><tr><td>642</td><td>farina</td><td>null</td><td>\\N</td><td>Nino Farina</td><td>1906-10-30</td><td>Italian</td><td>2023-09-23T20:22:29.129+0000</td></tr><tr><td>643</td><td>mieres</td><td>null</td><td>\\N</td><td>Roberto Mieres</td><td>1924-12-03</td><td>Argentine</td><td>2023-09-23T20:22:29.129+0000</td></tr><tr><td>644</td><td>mantovani</td><td>null</td><td>\\N</td><td>Sergio Mantovani</td><td>1929-05-22</td><td>Italian</td><td>2023-09-23T20:22:29.129+0000</td></tr><tr><td>645</td><td>bucci</td><td>null</td><td>\\N</td><td>Clemar Bucci</td><td>1920-09-04</td><td>Argentine</td><td>2023-09-23T20:22:29.129+0000</td></tr><tr><td>646</td><td>iglesias</td><td>null</td><td>\\N</td><td>Jesús Iglesias</td><td>1922-02-22</td><td>Argentine</td><td>2023-09-23T20:22:29.129+0000</td></tr><tr><td>647</td><td>ascari</td><td>null</td><td>\\N</td><td>Alberto Ascari</td><td>1918-07-13</td><td>Italian</td><td>2023-09-23T20:22:29.129+0000</td></tr><tr><td>648</td><td>kling</td><td>null</td><td>\\N</td><td>Karl Kling</td><td>1910-09-16</td><td>German</td><td>2023-09-23T20:22:29.129+0000</td></tr><tr><td>649</td><td>birger</td><td>null</td><td>\\N</td><td>Pablo Birger</td><td>1924-01-07</td><td>Argentine</td><td>2023-09-23T20:22:29.129+0000</td></tr><tr><td>650</td><td>pollet</td><td>null</td><td>\\N</td><td>Jacques Pollet</td><td>1922-07-02</td><td>French</td><td>2023-09-23T20:22:29.129+0000</td></tr><tr><td>651</td><td>macklin</td><td>null</td><td>\\N</td><td>Lance Macklin</td><td>1919-09-02</td><td>British</td><td>2023-09-23T20:22:29.129+0000</td></tr><tr><td>652</td><td>whiteaway</td><td>null</td><td>\\N</td><td>Ted Whiteaway</td><td>1928-11-01</td><td>British</td><td>2023-09-23T20:22:29.129+0000</td></tr><tr><td>653</td><td>davies</td><td>null</td><td>\\N</td><td>Jimmy Davies</td><td>1929-08-08</td><td>American</td><td>2023-09-23T20:22:29.129+0000</td></tr><tr><td>654</td><td>faulkner</td><td>null</td><td>\\N</td><td>Walt Faulkner</td><td>1920-02-16</td><td>American</td><td>2023-09-23T20:22:29.129+0000</td></tr><tr><td>655</td><td>niday</td><td>null</td><td>\\N</td><td>Cal Niday</td><td>1914-04-29</td><td>American</td><td>2023-09-23T20:22:29.129+0000</td></tr><tr><td>656</td><td>cross</td><td>null</td><td>\\N</td><td>Art Cross</td><td>1918-01-24</td><td>American</td><td>2023-09-23T20:22:29.129+0000</td></tr><tr><td>657</td><td>vukovich</td><td>null</td><td>\\N</td><td>Bill Vukovich</td><td>1918-12-13</td><td>American</td><td>2023-09-23T20:22:29.129+0000</td></tr><tr><td>658</td><td>mcgrath</td><td>null</td><td>\\N</td><td>Jack McGrath</td><td>1919-10-08</td><td>American</td><td>2023-09-23T20:22:29.129+0000</td></tr><tr><td>659</td><td>hoyt</td><td>null</td><td>\\N</td><td>Jerry Hoyt</td><td>1929-01-29</td><td>American</td><td>2023-09-23T20:22:29.129+0000</td></tr><tr><td>660</td><td>claes</td><td>null</td><td>\\N</td><td>Johnny Claes</td><td>1916-08-11</td><td>Belgian</td><td>2023-09-23T20:22:29.129+0000</td></tr><tr><td>661</td><td>peter_walker</td><td>null</td><td>\\N</td><td>Peter Walker</td><td>1912-10-07</td><td>British</td><td>2023-09-23T20:22:29.129+0000</td></tr><tr><td>662</td><td>sparken</td><td>null</td><td>\\N</td><td>Mike Sparken</td><td>1930-06-16</td><td>French</td><td>2023-09-23T20:22:29.129+0000</td></tr><tr><td>663</td><td>wharton</td><td>null</td><td>\\N</td><td>Ken Wharton</td><td>1916-03-21</td><td>British</td><td>2023-09-23T20:22:29.129+0000</td></tr><tr><td>664</td><td>mcalpine</td><td>null</td><td>\\N</td><td>Kenneth McAlpine</td><td>1920-09-21</td><td>British</td><td>2023-09-23T20:22:29.129+0000</td></tr><tr><td>665</td><td>marr</td><td>null</td><td>\\N</td><td>Leslie Marr</td><td>1922-08-14</td><td>British</td><td>2023-09-23T20:22:29.129+0000</td></tr><tr><td>666</td><td>rolt</td><td>null</td><td>\\N</td><td>Tony Rolt</td><td>1918-10-16</td><td>British</td><td>2023-09-23T20:22:29.129+0000</td></tr><tr><td>667</td><td>fitch</td><td>null</td><td>\\N</td><td>John Fitch</td><td>1917-08-04</td><td>American</td><td>2023-09-23T20:22:29.129+0000</td></tr><tr><td>668</td><td>lucas</td><td>null</td><td>\\N</td><td>Jean Lucas</td><td>1917-04-25</td><td>French</td><td>2023-09-23T20:22:29.129+0000</td></tr><tr><td>669</td><td>bira</td><td>null</td><td>\\N</td><td>Prince Bira</td><td>1914-07-15</td><td>Thai</td><td>2023-09-23T20:22:29.129+0000</td></tr><tr><td>670</td><td>marimon</td><td>null</td><td>\\N</td><td>Onofre Marimón</td><td>1923-12-19</td><td>Argentine</td><td>2023-09-23T20:22:29.129+0000</td></tr><tr><td>671</td><td>loyer</td><td>null</td><td>\\N</td><td>Roger Loyer</td><td>1907-08-05</td><td>French</td><td>2023-09-23T20:22:29.129+0000</td></tr><tr><td>672</td><td>daponte</td><td>null</td><td>\\N</td><td>Jorge Daponte</td><td>1923-06-05</td><td>Argentine</td><td>2023-09-23T20:22:29.129+0000</td></tr><tr><td>673</td><td>nazaruk</td><td>null</td><td>\\N</td><td>Mike Nazaruk</td><td>1921-10-02</td><td>American</td><td>2023-09-23T20:22:29.129+0000</td></tr><tr><td>674</td><td>crockett</td><td>null</td><td>\\N</td><td>Larry Crockett</td><td>1926-10-23</td><td>American</td><td>2023-09-23T20:22:29.129+0000</td></tr><tr><td>675</td><td>ayulo</td><td>null</td><td>\\N</td><td>Manny Ayulo</td><td>1921-10-20</td><td>American</td><td>2023-09-23T20:22:29.129+0000</td></tr><tr><td>676</td><td>armi</td><td>null</td><td>\\N</td><td>Frank Armi</td><td>1918-10-12</td><td>American</td><td>2023-09-23T20:22:29.129+0000</td></tr><tr><td>677</td><td>webb</td><td>null</td><td>\\N</td><td>Travis Webb</td><td>1910-10-08</td><td>American</td><td>2023-09-23T20:22:29.129+0000</td></tr><tr><td>678</td><td>duncan</td><td>null</td><td>\\N</td><td>Len Duncan</td><td>1911-07-25</td><td>American</td><td>2023-09-23T20:22:29.129+0000</td></tr><tr><td>679</td><td>mccoy</td><td>null</td><td>\\N</td><td>Ernie McCoy</td><td>1921-02-19</td><td>American</td><td>2023-09-23T20:22:29.129+0000</td></tr><tr><td>680</td><td>swaters</td><td>null</td><td>\\N</td><td>Jacques Swaters</td><td>1926-10-30</td><td>American</td><td>2023-09-23T20:22:29.129+0000</td></tr><tr><td>681</td><td>georges_berger</td><td>null</td><td>\\N</td><td>Georges Berger</td><td>1918-09-14</td><td>Belgian</td><td>2023-09-23T20:22:29.129+0000</td></tr><tr><td>682</td><td>beauman</td><td>null</td><td>\\N</td><td>Don Beauman</td><td>1928-07-26</td><td>British</td><td>2023-09-23T20:22:29.129+0000</td></tr><tr><td>683</td><td>thorne</td><td>null</td><td>\\N</td><td>Leslie Thorne</td><td>1916-06-23</td><td>British</td><td>2023-09-23T20:22:29.129+0000</td></tr><tr><td>684</td><td>whitehouse</td><td>null</td><td>\\N</td><td>Bill Whitehouse</td><td>1909-04-01</td><td>British</td><td>2023-09-23T20:22:29.129+0000</td></tr><tr><td>685</td><td>riseley_prichard</td><td>null</td><td>\\N</td><td>John Riseley-Prichard</td><td>1924-01-17</td><td>British</td><td>2023-09-23T20:22:29.129+0000</td></tr><tr><td>686</td><td>reg_parnell</td><td>null</td><td>\\N</td><td>Reg Parnell</td><td>1911-07-02</td><td>British</td><td>2023-09-23T20:22:29.129+0000</td></tr><tr><td>687</td><td>whitehead</td><td>null</td><td>\\N</td><td>Peter Whitehead</td><td>1914-11-12</td><td>British</td><td>2023-09-23T20:22:29.129+0000</td></tr><tr><td>688</td><td>brandon</td><td>null</td><td>\\N</td><td>Eric Brandon</td><td>1920-07-18</td><td>British</td><td>2023-09-23T20:22:29.129+0000</td></tr><tr><td>689</td><td>alan_brown</td><td>null</td><td>\\N</td><td>Alan Brown</td><td>1919-11-20</td><td>British</td><td>2023-09-23T20:22:29.129+0000</td></tr><tr><td>690</td><td>nuckey</td><td>null</td><td>\\N</td><td>Rodney Nuckey</td><td>1929-06-26</td><td>British</td><td>2023-09-23T20:22:29.129+0000</td></tr><tr><td>691</td><td>lang</td><td>null</td><td>\\N</td><td>Hermann Lang</td><td>1909-04-06</td><td>German</td><td>2023-09-23T20:22:29.129+0000</td></tr><tr><td>692</td><td>helfrich</td><td>null</td><td>\\N</td><td>Theo Helfrich</td><td>1913-05-13</td><td>German</td><td>2023-09-23T20:22:29.129+0000</td></tr><tr><td>693</td><td>wacker</td><td>null</td><td>\\N</td><td>Fred Wacker</td><td>1918-07-10</td><td>American</td><td>2023-09-23T20:22:29.129+0000</td></tr><tr><td>694</td><td>riu</td><td>null</td><td>\\N</td><td>Giovanni de Riu</td><td>1925-03-10</td><td>Italian</td><td>2023-09-23T20:22:29.129+0000</td></tr><tr><td>695</td><td>galvez</td><td>null</td><td>\\N</td><td>Oscar Gálvez</td><td>1913-08-17</td><td>Argentine</td><td>2023-09-23T20:22:29.129+0000</td></tr><tr><td>696</td><td>john_barber</td><td>null</td><td>\\N</td><td>John Barber</td><td>1929-07-22</td><td>British</td><td>2023-09-23T20:22:29.129+0000</td></tr><tr><td>697</td><td>bonetto</td><td>null</td><td>\\N</td><td>Felice Bonetto</td><td>1903-06-09</td><td>Italian</td><td>2023-09-23T20:22:29.129+0000</td></tr><tr><td>698</td><td>cruz</td><td>null</td><td>\\N</td><td>Adolfo Cruz</td><td>1923-06-28</td><td>Argentine</td><td>2023-09-23T20:22:29.129+0000</td></tr><tr><td>699</td><td>nalon</td><td>null</td><td>\\N</td><td>Duke Nalon</td><td>1913-03-02</td><td>American</td><td>2023-09-23T20:22:29.129+0000</td></tr><tr><td>700</td><td>scarborough</td><td>null</td><td>\\N</td><td>Carl Scarborough</td><td>1914-07-03</td><td>American</td><td>2023-09-23T20:22:29.129+0000</td></tr><tr><td>701</td><td>holland</td><td>null</td><td>\\N</td><td>Bill Holland</td><td>1907-12-18</td><td>American</td><td>2023-09-23T20:22:29.129+0000</td></tr><tr><td>702</td><td>bob_scott</td><td>null</td><td>\\N</td><td>Bob Scott</td><td>1928-10-04</td><td>American</td><td>2023-09-23T20:22:29.129+0000</td></tr><tr><td>703</td><td>legat</td><td>null</td><td>\\N</td><td>Arthur Legat</td><td>1898-11-01</td><td>Belgian</td><td>2023-09-23T20:22:29.129+0000</td></tr><tr><td>704</td><td>cabantous</td><td>null</td><td>\\N</td><td>Yves Cabantous</td><td>1904-10-08</td><td>French</td><td>2023-09-23T20:22:29.129+0000</td></tr><tr><td>705</td><td>crook</td><td>null</td><td>\\N</td><td>Tony Crook</td><td>1920-02-16</td><td>British</td><td>2023-09-23T20:22:29.129+0000</td></tr><tr><td>706</td><td>jimmy_stewart</td><td>null</td><td>\\N</td><td>Jimmy Stewart</td><td>1931-03-06</td><td>British</td><td>2023-09-23T20:22:29.129+0000</td></tr><tr><td>707</td><td>ian_stewart</td><td>null</td><td>\\N</td><td>Ian Stewart</td><td>1929-07-15</td><td>British</td><td>2023-09-23T20:22:29.129+0000</td></tr><tr><td>708</td><td>duncan_hamilton</td><td>null</td><td>\\N</td><td>Duncan Hamilton</td><td>1920-04-30</td><td>British</td><td>2023-09-23T20:22:29.129+0000</td></tr><tr><td>709</td><td>klodwig</td><td>null</td><td>\\N</td><td>Ernst Klodwig</td><td>1903-05-23</td><td>East German</td><td>2023-09-23T20:22:29.129+0000</td></tr><tr><td>710</td><td>krause</td><td>null</td><td>\\N</td><td>Rudolf Krause</td><td>1907-03-30</td><td>East German</td><td>2023-09-23T20:22:29.129+0000</td></tr><tr><td>711</td><td>karch</td><td>null</td><td>\\N</td><td>Oswald Karch</td><td>1917-03-06</td><td>German</td><td>2023-09-23T20:22:29.129+0000</td></tr><tr><td>712</td><td>heeks</td><td>null</td><td>\\N</td><td>Willi Heeks</td><td>1922-02-13</td><td>German</td><td>2023-09-23T20:22:29.129+0000</td></tr><tr><td>713</td><td>fitzau</td><td>null</td><td>\\N</td><td>Theo Fitzau</td><td>1923-02-10</td><td>East German</td><td>2023-09-23T20:22:29.129+0000</td></tr><tr><td>714</td><td>adolff</td><td>null</td><td>\\N</td><td>Kurt Adolff</td><td>1921-11-05</td><td>German</td><td>2023-09-23T20:22:29.129+0000</td></tr><tr><td>715</td><td>bechem</td><td>null</td><td>\\N</td><td>Günther Bechem</td><td>1921-12-21</td><td>German</td><td>2023-09-23T20:22:29.129+0000</td></tr><tr><td>716</td><td>bauer</td><td>null</td><td>\\N</td><td>Erwin Bauer</td><td>1912-07-17</td><td>German</td><td>2023-09-23T20:22:29.129+0000</td></tr><tr><td>717</td><td>hans_stuck</td><td>null</td><td>\\N</td><td>Hans von Stuck</td><td>1900-12-27</td><td>German</td><td>2023-09-23T20:22:29.129+0000</td></tr><tr><td>718</td><td>loof</td><td>null</td><td>\\N</td><td>Ernst Loof</td><td>1907-07-04</td><td>German</td><td>2023-09-23T20:22:29.129+0000</td></tr><tr><td>719</td><td>scherrer</td><td>null</td><td>\\N</td><td>Albert Scherrer</td><td>1908-02-28</td><td>Swiss</td><td>2023-09-23T20:22:29.129+0000</td></tr><tr><td>720</td><td>terra</td><td>null</td><td>\\N</td><td>Max de Terra</td><td>1918-10-06</td><td>Swiss</td><td>2023-09-23T20:22:29.129+0000</td></tr><tr><td>721</td><td>hirt</td><td>null</td><td>\\N</td><td>Peter Hirt</td><td>1910-03-30</td><td>Swiss</td><td>2023-09-23T20:22:29.129+0000</td></tr><tr><td>722</td><td>carini</td><td>null</td><td>\\N</td><td>Piero Carini</td><td>1921-03-06</td><td>Italian</td><td>2023-09-23T20:22:29.129+0000</td></tr><tr><td>723</td><td>fischer</td><td>null</td><td>\\N</td><td>Rudi Fischer</td><td>1912-04-19</td><td>Swiss</td><td>2023-09-23T20:22:29.129+0000</td></tr><tr><td>724</td><td>ulmen</td><td>null</td><td>\\N</td><td>Toni Ulmen</td><td>1906-01-25</td><td>German</td><td>2023-09-23T20:22:29.129+0000</td></tr><tr><td>725</td><td>abecassis</td><td>null</td><td>\\N</td><td>George Abecassis</td><td>1913-03-21</td><td>British</td><td>2023-09-23T20:22:29.129+0000</td></tr><tr><td>726</td><td>george_connor</td><td>null</td><td>\\N</td><td>George Connor</td><td>1906-08-16</td><td>American</td><td>2023-09-23T20:22:29.129+0000</td></tr><tr><td>727</td><td>rigsby</td><td>null</td><td>\\N</td><td>Jim Rigsby</td><td>1923-06-06</td><td>American</td><td>2023-09-23T20:22:29.129+0000</td></tr><tr><td>728</td><td>james</td><td>null</td><td>\\N</td><td>Joe James</td><td>1925-05-23</td><td>American</td><td>2023-09-23T20:22:29.129+0000</td></tr><tr><td>729</td><td>schindler</td><td>null</td><td>\\N</td><td>Bill Schindler</td><td>1909-03-06</td><td>American</td><td>2023-09-23T20:22:29.129+0000</td></tr><tr><td>730</td><td>fonder</td><td>null</td><td>\\N</td><td>George Fonder</td><td>1917-06-22</td><td>American</td><td>2023-09-23T20:22:29.129+0000</td></tr><tr><td>731</td><td>banks</td><td>null</td><td>\\N</td><td>Henry Banks</td><td>1913-06-14</td><td>American</td><td>2023-09-23T20:22:29.129+0000</td></tr><tr><td>732</td><td>mcdowell</td><td>null</td><td>\\N</td><td>Johnny McDowell</td><td>1915-01-29</td><td>American</td><td>2023-09-23T20:22:29.129+0000</td></tr><tr><td>733</td><td>miller</td><td>null</td><td>\\N</td><td>Chet Miller</td><td>1902-07-19</td><td>American</td><td>2023-09-23T20:22:29.129+0000</td></tr><tr><td>734</td><td>ball</td><td>null</td><td>\\N</td><td>Bobby Ball</td><td>1925-08-26</td><td>American</td><td>2023-09-23T20:22:29.129+0000</td></tr><tr><td>735</td><td>tornaco</td><td>null</td><td>\\N</td><td>Charles de Tornaco</td><td>1927-06-07</td><td>Belgian</td><td>2023-09-23T20:22:29.129+0000</td></tr><tr><td>736</td><td>laurent</td><td>null</td><td>\\N</td><td>Roger Laurent</td><td>1913-02-21</td><td>Belgian</td><td>2023-09-23T20:22:29.129+0000</td></tr><tr><td>737</td><td>obrien</td><td>null</td><td>\\N</td><td>Robert O'Brien</td><td>1908-04-11</td><td>American</td><td>2023-09-23T20:22:29.129+0000</td></tr><tr><td>738</td><td>gaze</td><td>null</td><td>\\N</td><td>Tony Gaze</td><td>1920-02-03</td><td>Australian</td><td>2023-09-23T20:22:29.129+0000</td></tr><tr><td>739</td><td>charrington</td><td>null</td><td>\\N</td><td>Robin Montgomerie-Charrington</td><td>1915-06-23</td><td>British</td><td>2023-09-23T20:22:29.129+0000</td></tr><tr><td>740</td><td>comotti</td><td>null</td><td>\\N</td><td>Franco Comotti</td><td>1906-07-24</td><td>Italian</td><td>2023-09-23T20:22:29.129+0000</td></tr><tr><td>741</td><td>etancelin</td><td>null</td><td>\\N</td><td>Philippe Étancelin</td><td>1896-12-28</td><td>French</td><td>2023-09-23T20:22:29.129+0000</td></tr><tr><td>742</td><td>poore</td><td>null</td><td>\\N</td><td>Dennis Poore</td><td>1916-08-19</td><td>British</td><td>2023-09-23T20:22:29.129+0000</td></tr><tr><td>743</td><td>thompson</td><td>null</td><td>\\N</td><td>Eric Thompson</td><td>1919-11-04</td><td>British</td><td>2023-09-23T20:22:29.129+0000</td></tr><tr><td>744</td><td>downing</td><td>null</td><td>\\N</td><td>Ken Downing</td><td>1917-12-05</td><td>British</td><td>2023-09-23T20:22:29.129+0000</td></tr><tr><td>745</td><td>graham_whitehead</td><td>null</td><td>\\N</td><td>Graham Whitehead</td><td>1922-04-15</td><td>British</td><td>2023-09-23T20:22:29.129+0000</td></tr><tr><td>746</td><td>bianco</td><td>null</td><td>\\N</td><td>Gino Bianco</td><td>1916-07-22</td><td>Brazilian</td><td>2023-09-23T20:22:29.129+0000</td></tr><tr><td>747</td><td>murray</td><td>null</td><td>\\N</td><td>David Murray</td><td>1909-12-28</td><td>British</td><td>2023-09-23T20:22:29.129+0000</td></tr><tr><td>748</td><td>cantoni</td><td>null</td><td>\\N</td><td>Eitel Cantoni</td><td>1906-10-04</td><td>Uruguayan</td><td>2023-09-23T20:22:29.129+0000</td></tr><tr><td>749</td><td>aston</td><td>null</td><td>\\N</td><td>Bill Aston</td><td>1900-03-29</td><td>British</td><td>2023-09-23T20:22:29.129+0000</td></tr><tr><td>750</td><td>brudes</td><td>null</td><td>\\N</td><td>Adolf Brudes</td><td>1899-10-15</td><td>German</td><td>2023-09-23T20:22:29.129+0000</td></tr><tr><td>751</td><td>riess</td><td>null</td><td>\\N</td><td>Fritz Riess</td><td>1922-07-11</td><td>German</td><td>2023-09-23T20:22:29.129+0000</td></tr><tr><td>752</td><td>niedermayr</td><td>null</td><td>\\N</td><td>Helmut Niedermayr</td><td>1915-11-29</td><td>German</td><td>2023-09-23T20:22:29.129+0000</td></tr><tr><td>753</td><td>klenk</td><td>null</td><td>\\N</td><td>Hans Klenk</td><td>1919-10-28</td><td>German</td><td>2023-09-23T20:22:29.129+0000</td></tr><tr><td>754</td><td>balsa</td><td>null</td><td>\\N</td><td>Marcel Balsa</td><td>1909-01-01</td><td>French</td><td>2023-09-23T20:22:29.129+0000</td></tr><tr><td>755</td><td>schoeller</td><td>null</td><td>\\N</td><td>Rudolf Schoeller</td><td>1902-04-27</td><td>Swiss</td><td>2023-09-23T20:22:29.129+0000</td></tr><tr><td>756</td><td>pietsch</td><td>null</td><td>\\N</td><td>Paul Pietsch</td><td>1911-06-20</td><td>German</td><td>2023-09-23T20:22:29.129+0000</td></tr><tr><td>757</td><td>peters</td><td>null</td><td>\\N</td><td>Josef Peters</td><td>1914-09-16</td><td>German</td><td>2023-09-23T20:22:29.129+0000</td></tr><tr><td>758</td><td>lof</td><td>null</td><td>\\N</td><td>Dries van der Lof</td><td>1919-08-23</td><td>Dutch</td><td>2023-09-23T20:22:29.129+0000</td></tr><tr><td>759</td><td>flinterman</td><td>null</td><td>\\N</td><td>Jan Flinterman</td><td>1919-10-02</td><td>Dutch</td><td>2023-09-23T20:22:29.129+0000</td></tr><tr><td>760</td><td>dusio</td><td>null</td><td>\\N</td><td>Piero Dusio</td><td>1899-10-13</td><td>Italian</td><td>2023-09-23T20:22:29.129+0000</td></tr><tr><td>761</td><td>crespo</td><td>null</td><td>\\N</td><td>Alberto Crespo</td><td>1920-01-16</td><td>Argentine</td><td>2023-09-23T20:22:29.129+0000</td></tr><tr><td>762</td><td>rol</td><td>null</td><td>\\N</td><td>Franco Rol</td><td>1908-06-05</td><td>Italian</td><td>2023-09-23T20:22:29.129+0000</td></tr><tr><td>763</td><td>sanesi</td><td>null</td><td>\\N</td><td>Consalvo Sanesi</td><td>1911-03-28</td><td>Italian</td><td>2023-09-23T20:22:29.129+0000</td></tr><tr><td>764</td><td>guy_mairesse</td><td>null</td><td>\\N</td><td>Guy Mairesse</td><td>1910-08-10</td><td>French</td><td>2023-09-23T20:22:29.129+0000</td></tr><tr><td>765</td><td>louveau</td><td>null</td><td>\\N</td><td>Henri Louveau</td><td>1910-01-25</td><td>French</td><td>2023-09-23T20:22:29.129+0000</td></tr><tr><td>766</td><td>wallard</td><td>null</td><td>\\N</td><td>Lee Wallard</td><td>1910-09-07</td><td>American</td><td>2023-09-23T20:22:29.129+0000</td></tr><tr><td>767</td><td>forberg</td><td>null</td><td>\\N</td><td>Carl Forberg</td><td>1911-03-04</td><td>American</td><td>2023-09-23T20:22:29.129+0000</td></tr><tr><td>768</td><td>rose</td><td>null</td><td>\\N</td><td>Mauri Rose</td><td>1906-05-26</td><td>American</td><td>2023-09-23T20:22:29.129+0000</td></tr><tr><td>769</td><td>mackey</td><td>null</td><td>\\N</td><td>Bill Mackey</td><td>1927-12-15</td><td>American</td><td>2023-09-23T20:22:29.129+0000</td></tr><tr><td>770</td><td>green</td><td>null</td><td>\\N</td><td>Cecil Green</td><td>1919-09-30</td><td>American</td><td>2023-09-23T20:22:29.129+0000</td></tr><tr><td>771</td><td>walt_brown</td><td>null</td><td>\\N</td><td>Walt Brown</td><td>1911-12-30</td><td>American</td><td>2023-09-23T20:22:29.129+0000</td></tr><tr><td>772</td><td>hellings</td><td>null</td><td>\\N</td><td>Mack Hellings</td><td>1915-09-14</td><td>American</td><td>2023-09-23T20:22:29.129+0000</td></tr><tr><td>773</td><td>levegh</td><td>null</td><td>\\N</td><td>Pierre Levegh</td><td>1905-12-22</td><td>French</td><td>2023-09-23T20:22:29.129+0000</td></tr><tr><td>774</td><td>chaboud</td><td>null</td><td>\\N</td><td>Eugène Chaboud</td><td>1907-04-12</td><td>French</td><td>2023-09-23T20:22:29.129+0000</td></tr><tr><td>775</td><td>gordini</td><td>null</td><td>\\N</td><td>Aldo Gordini</td><td>1921-05-20</td><td>French</td><td>2023-09-23T20:22:29.129+0000</td></tr><tr><td>776</td><td>kelly</td><td>null</td><td>\\N</td><td>Joe Kelly</td><td>1913-03-13</td><td>Irish</td><td>2023-09-23T20:22:29.129+0000</td></tr><tr><td>777</td><td>parker</td><td>null</td><td>\\N</td><td>Philip Fotheringham-Parker</td><td>1907-09-22</td><td>British</td><td>2023-09-23T20:22:29.129+0000</td></tr><tr><td>778</td><td>shawe_taylor</td><td>null</td><td>\\N</td><td>Brian Shawe Taylor</td><td>1915-01-28</td><td>British</td><td>2023-09-23T20:22:29.129+0000</td></tr><tr><td>779</td><td>john_james</td><td>null</td><td>\\N</td><td>John James</td><td>1914-05-10</td><td>British</td><td>2023-09-23T20:22:29.129+0000</td></tr><tr><td>780</td><td>branca</td><td>null</td><td>\\N</td><td>Toni Branca</td><td>1916-09-15</td><td>Swiss</td><td>2023-09-23T20:22:29.129+0000</td></tr><tr><td>781</td><td>richardson</td><td>null</td><td>\\N</td><td>Ken Richardson</td><td>1911-08-21</td><td>British</td><td>2023-09-23T20:22:29.129+0000</td></tr><tr><td>782</td><td>jover</td><td>null</td><td>\\N</td><td>Juan Jover</td><td>1903-11-23</td><td>Spanish</td><td>2023-09-23T20:22:29.129+0000</td></tr><tr><td>783</td><td>grignard</td><td>null</td><td>\\N</td><td>Georges Grignard</td><td>1905-07-25</td><td>French</td><td>2023-09-23T20:22:29.129+0000</td></tr><tr><td>784</td><td>hampshire</td><td>null</td><td>\\N</td><td>David Hampshire</td><td>1917-12-29</td><td>British</td><td>2023-09-23T20:22:29.129+0000</td></tr><tr><td>785</td><td>crossley</td><td>null</td><td>\\N</td><td>Geoff Crossley</td><td>1921-05-11</td><td>British</td><td>2023-09-23T20:22:29.129+0000</td></tr><tr><td>786</td><td>fagioli</td><td>null</td><td>\\N</td><td>Luigi Fagioli</td><td>1898-06-09</td><td>Italian</td><td>2023-09-23T20:22:29.129+0000</td></tr><tr><td>787</td><td>harrison</td><td>null</td><td>\\N</td><td>Cuth Harrison</td><td>1906-07-06</td><td>British</td><td>2023-09-23T20:22:29.129+0000</td></tr><tr><td>788</td><td>fry</td><td>null</td><td>\\N</td><td>Joe Fry</td><td>1915-10-26</td><td>British</td><td>2023-09-23T20:22:29.129+0000</td></tr><tr><td>789</td><td>martin</td><td>null</td><td>\\N</td><td>Eugène Martin</td><td>1915-03-24</td><td>French</td><td>2023-09-23T20:22:29.129+0000</td></tr><tr><td>790</td><td>leslie_johnson</td><td>null</td><td>\\N</td><td>Leslie Johnson</td><td>1912-03-22</td><td>British</td><td>2023-09-23T20:22:29.129+0000</td></tr><tr><td>791</td><td>biondetti</td><td>null</td><td>\\N</td><td>Clemente Biondetti</td><td>1898-08-18</td><td>Italian</td><td>2023-09-23T20:22:29.129+0000</td></tr><tr><td>792</td><td>pian</td><td>null</td><td>\\N</td><td>Alfredo Pián</td><td>1912-10-21</td><td>Argentine</td><td>2023-09-23T20:22:29.129+0000</td></tr><tr><td>793</td><td>sommer</td><td>null</td><td>\\N</td><td>Raymond Sommer</td><td>1906-08-31</td><td>French</td><td>2023-09-23T20:22:29.129+0000</td></tr><tr><td>794</td><td>chitwood</td><td>null</td><td>\\N</td><td>Joie Chitwood</td><td>1912-04-14</td><td>American</td><td>2023-09-23T20:22:29.129+0000</td></tr><tr><td>795</td><td>fohr</td><td>null</td><td>\\N</td><td>Myron Fohr</td><td>1912-06-17</td><td>American</td><td>2023-09-23T20:22:29.129+0000</td></tr><tr><td>796</td><td>ader</td><td>null</td><td>\\N</td><td>Walt Ader</td><td>1913-12-15</td><td>American</td><td>2023-09-23T20:22:29.129+0000</td></tr><tr><td>797</td><td>holmes</td><td>null</td><td>\\N</td><td>Jackie Holmes</td><td>1920-09-04</td><td>American</td><td>2023-09-23T20:22:29.129+0000</td></tr><tr><td>798</td><td>levrett</td><td>null</td><td>\\N</td><td>Bayliss Levrett</td><td>1914-02-14</td><td>American</td><td>2023-09-23T20:22:29.129+0000</td></tr><tr><td>799</td><td>jackson</td><td>null</td><td>\\N</td><td>Jimmy Jackson</td><td>1910-07-25</td><td>American</td><td>2023-09-23T20:22:29.129+0000</td></tr><tr><td>800</td><td>pagani</td><td>null</td><td>\\N</td><td>Nello Pagani</td><td>1911-10-11</td><td>Italian</td><td>2023-09-23T20:22:29.129+0000</td></tr><tr><td>801</td><td>pozzi</td><td>null</td><td>\\N</td><td>Charles Pozzi</td><td>1909-08-27</td><td>French</td><td>2023-09-23T20:22:29.129+0000</td></tr><tr><td>802</td><td>serafini</td><td>null</td><td>\\N</td><td>Dorino Serafini</td><td>1909-07-22</td><td>Italian</td><td>2023-09-23T20:22:29.129+0000</td></tr><tr><td>803</td><td>cantrell</td><td>null</td><td>\\N</td><td>Bill Cantrell</td><td>1908-01-31</td><td>American</td><td>2023-09-23T20:22:29.129+0000</td></tr><tr><td>804</td><td>mantz</td><td>null</td><td>\\N</td><td>Johnny Mantz</td><td>1918-09-18</td><td>American</td><td>2023-09-23T20:22:29.129+0000</td></tr><tr><td>805</td><td>kladis</td><td>null</td><td>\\N</td><td>Danny Kladis</td><td>1917-02-10</td><td>American</td><td>2023-09-23T20:22:29.129+0000</td></tr><tr><td>806</td><td>oscar_gonzalez</td><td>null</td><td>\\N</td><td>Óscar González</td><td>1923-11-10</td><td>Uruguayan</td><td>2023-09-23T20:22:29.129+0000</td></tr><tr><td>807</td><td>hulkenberg</td><td>27</td><td>HUL</td><td>Nico Hülkenberg</td><td>1987-08-19</td><td>German</td><td>2023-09-23T20:22:29.129+0000</td></tr><tr><td>808</td><td>petrov</td><td>null</td><td>PET</td><td>Vitaly Petrov</td><td>1984-09-08</td><td>Russian</td><td>2023-09-23T20:22:29.129+0000</td></tr><tr><td>810</td><td>grassi</td><td>null</td><td>DIG</td><td>Lucas di Grassi</td><td>1984-08-11</td><td>Brazilian</td><td>2023-09-23T20:22:29.129+0000</td></tr><tr><td>811</td><td>bruno_senna</td><td>null</td><td>SEN</td><td>Bruno Senna</td><td>1983-10-15</td><td>Brazilian</td><td>2023-09-23T20:22:29.129+0000</td></tr><tr><td>812</td><td>chandhok</td><td>null</td><td>CHA</td><td>Karun Chandhok</td><td>1984-01-19</td><td>Indian</td><td>2023-09-23T20:22:29.129+0000</td></tr><tr><td>813</td><td>maldonado</td><td>13</td><td>MAL</td><td>Pastor Maldonado</td><td>1985-03-09</td><td>Venezuelan</td><td>2023-09-23T20:22:29.129+0000</td></tr><tr><td>814</td><td>resta</td><td>null</td><td>DIR</td><td>Paul di Resta</td><td>1986-04-16</td><td>British</td><td>2023-09-23T20:22:29.129+0000</td></tr><tr><td>815</td><td>perez</td><td>11</td><td>PER</td><td>Sergio Pérez</td><td>1990-01-26</td><td>Mexican</td><td>2023-09-23T20:22:29.129+0000</td></tr><tr><td>816</td><td>ambrosio</td><td>null</td><td>DAM</td><td>Jérôme d'Ambrosio</td><td>1985-12-27</td><td>Belgian</td><td>2023-09-23T20:22:29.129+0000</td></tr><tr><td>817</td><td>ricciardo</td><td>3</td><td>RIC</td><td>Daniel Ricciardo</td><td>1989-07-01</td><td>Australian</td><td>2023-09-23T20:22:29.129+0000</td></tr><tr><td>818</td><td>vergne</td><td>25</td><td>VER</td><td>Jean-Éric Vergne</td><td>1990-04-25</td><td>French</td><td>2023-09-23T20:22:29.129+0000</td></tr><tr><td>819</td><td>pic</td><td>null</td><td>PIC</td><td>Charles Pic</td><td>1990-02-15</td><td>French</td><td>2023-09-23T20:22:29.129+0000</td></tr><tr><td>820</td><td>chilton</td><td>4</td><td>CHI</td><td>Max Chilton</td><td>1991-04-21</td><td>British</td><td>2023-09-23T20:22:29.129+0000</td></tr><tr><td>821</td><td>gutierrez</td><td>21</td><td>GUT</td><td>Esteban Gutiérrez</td><td>1991-08-05</td><td>Mexican</td><td>2023-09-23T20:22:29.129+0000</td></tr><tr><td>822</td><td>bottas</td><td>77</td><td>BOT</td><td>Valtteri Bottas</td><td>1989-08-28</td><td>Finnish</td><td>2023-09-23T20:22:29.129+0000</td></tr><tr><td>823</td><td>garde</td><td>null</td><td>VDG</td><td>Giedo van der Garde</td><td>1985-04-25</td><td>Dutch</td><td>2023-09-23T20:22:29.129+0000</td></tr><tr><td>824</td><td>jules_bianchi</td><td>17</td><td>BIA</td><td>Jules Bianchi</td><td>1989-08-03</td><td>French</td><td>2023-09-23T20:22:29.129+0000</td></tr><tr><td>825</td><td>kevin_magnussen</td><td>20</td><td>MAG</td><td>Kevin Magnussen</td><td>1992-10-05</td><td>Danish</td><td>2023-09-23T20:22:29.129+0000</td></tr><tr><td>826</td><td>kvyat</td><td>26</td><td>KVY</td><td>Daniil Kvyat</td><td>1994-04-26</td><td>Russian</td><td>2023-09-23T20:22:29.129+0000</td></tr><tr><td>827</td><td>lotterer</td><td>45</td><td>LOT</td><td>André Lotterer</td><td>1981-11-19</td><td>German</td><td>2023-09-23T20:22:29.129+0000</td></tr><tr><td>828</td><td>ericsson</td><td>9</td><td>ERI</td><td>Marcus Ericsson</td><td>1990-09-02</td><td>Swedish</td><td>2023-09-23T20:22:29.129+0000</td></tr><tr><td>829</td><td>stevens</td><td>28</td><td>STE</td><td>Will Stevens</td><td>1991-06-28</td><td>British</td><td>2023-09-23T20:22:29.129+0000</td></tr><tr><td>830</td><td>max_verstappen</td><td>33</td><td>VER</td><td>Max Verstappen</td><td>1997-09-30</td><td>Dutch</td><td>2023-09-23T20:22:29.129+0000</td></tr><tr><td>831</td><td>nasr</td><td>12</td><td>NAS</td><td>Felipe Nasr</td><td>1992-08-21</td><td>Brazilian</td><td>2023-09-23T20:22:29.129+0000</td></tr><tr><td>832</td><td>sainz</td><td>55</td><td>SAI</td><td>Carlos Sainz</td><td>1994-09-01</td><td>Spanish</td><td>2023-09-23T20:22:29.129+0000</td></tr><tr><td>833</td><td>merhi</td><td>98</td><td>MER</td><td>Roberto Merhi</td><td>1991-03-22</td><td>Spanish</td><td>2023-09-23T20:22:29.129+0000</td></tr><tr><td>834</td><td>rossi</td><td>53</td><td>RSS</td><td>Alexander Rossi</td><td>1991-09-25</td><td>American</td><td>2023-09-23T20:22:29.129+0000</td></tr><tr><td>835</td><td>jolyon_palmer</td><td>30</td><td>PAL</td><td>Jolyon Palmer</td><td>1991-01-20</td><td>British</td><td>2023-09-23T20:22:29.129+0000</td></tr><tr><td>836</td><td>wehrlein</td><td>94</td><td>WEH</td><td>Pascal Wehrlein</td><td>1994-10-18</td><td>German</td><td>2023-09-23T20:22:29.129+0000</td></tr><tr><td>837</td><td>haryanto</td><td>88</td><td>HAR</td><td>Rio Haryanto</td><td>1993-01-22</td><td>Indonesian</td><td>2023-09-23T20:22:29.129+0000</td></tr><tr><td>838</td><td>vandoorne</td><td>2</td><td>VAN</td><td>Stoffel Vandoorne</td><td>1992-03-26</td><td>Belgian</td><td>2023-09-23T20:22:29.129+0000</td></tr><tr><td>839</td><td>ocon</td><td>31</td><td>OCO</td><td>Esteban Ocon</td><td>1996-09-17</td><td>French</td><td>2023-09-23T20:22:29.129+0000</td></tr><tr><td>840</td><td>stroll</td><td>18</td><td>STR</td><td>Lance Stroll</td><td>1998-10-29</td><td>Canadian</td><td>2023-09-23T20:22:29.129+0000</td></tr><tr><td>841</td><td>giovinazzi</td><td>99</td><td>GIO</td><td>Antonio Giovinazzi</td><td>1993-12-14</td><td>Italian</td><td>2023-09-23T20:22:29.129+0000</td></tr><tr><td>843</td><td>brendon_hartley</td><td>28</td><td>HAR</td><td>Brendon Hartley</td><td>1989-11-10</td><td>New Zealander</td><td>2023-09-23T20:22:29.129+0000</td></tr><tr><td>844</td><td>leclerc</td><td>16</td><td>LEC</td><td>Charles Leclerc</td><td>1997-10-16</td><td>Monegasque</td><td>2023-09-23T20:22:29.129+0000</td></tr><tr><td>845</td><td>sirotkin</td><td>35</td><td>SIR</td><td>Sergey Sirotkin</td><td>1995-08-27</td><td>Russian</td><td>2023-09-23T20:22:29.129+0000</td></tr><tr><td>846</td><td>norris</td><td>4</td><td>NOR</td><td>Lando Norris</td><td>1999-11-13</td><td>British</td><td>2023-09-23T20:22:29.129+0000</td></tr><tr><td>847</td><td>russell</td><td>63</td><td>RUS</td><td>George Russell</td><td>1998-02-15</td><td>British</td><td>2023-09-23T20:22:29.129+0000</td></tr><tr><td>848</td><td>albon</td><td>23</td><td>ALB</td><td>Alexander Albon</td><td>1996-03-23</td><td>Thai</td><td>2023-09-23T20:22:29.129+0000</td></tr><tr><td>849</td><td>latifi</td><td>6</td><td>LAT</td><td>Nicholas Latifi</td><td>1995-06-29</td><td>Canadian</td><td>2023-09-23T20:22:29.129+0000</td></tr><tr><td>850</td><td>pietro_fittipaldi</td><td>51</td><td>FIT</td><td>Pietro Fittipaldi</td><td>1996-06-25</td><td>Brazilian</td><td>2023-09-23T20:22:29.129+0000</td></tr><tr><td>851</td><td>aitken</td><td>89</td><td>AIT</td><td>Jack Aitken</td><td>1995-09-23</td><td>British</td><td>2023-09-23T20:22:29.129+0000</td></tr><tr><td>852</td><td>tsunoda</td><td>null</td><td>TSU</td><td>Yuki Tsunoda</td><td>2000-05-11</td><td>Japanese</td><td>2023-09-23T20:22:29.129+0000</td></tr><tr><td>853</td><td>mazepin</td><td>null</td><td>MAZ</td><td>Nikita Mazepin</td><td>1999-03-02</td><td>Russian</td><td>2023-09-23T20:22:29.129+0000</td></tr><tr><td>854</td><td>mick_schumacher</td><td>null</td><td>SCH</td><td>Mick Schumacher</td><td>1999-03-22</td><td>German</td><td>2023-09-23T20:22:29.129+0000</td></tr></tbody></table></div>"
      ]
     },
     "metadata": {
      "application/vnd.databricks.v1+output": {
       "addedWidgets": {},
       "aggData": [],
       "aggError": "",
       "aggOverflow": false,
       "aggSchema": [],
       "aggSeriesLimitReached": false,
       "aggType": "",
       "arguments": {},
       "columnCustomDisplayInfos": {},
       "data": [
        [
         1,
         "hamilton",
         44,
         "HAM",
         "Lewis Hamilton",
         "1985-01-07",
         "British",
         "2023-09-23T20:22:29.129+0000"
        ],
        [
         2,
         "heidfeld",
         null,
         "HEI",
         "Nick Heidfeld",
         "1977-05-10",
         "German",
         "2023-09-23T20:22:29.129+0000"
        ],
        [
         3,
         "rosberg",
         6,
         "ROS",
         "Nico Rosberg",
         "1985-06-27",
         "German",
         "2023-09-23T20:22:29.129+0000"
        ],
        [
         4,
         "alonso",
         14,
         "ALO",
         "Fernando Alonso",
         "1981-07-29",
         "Spanish",
         "2023-09-23T20:22:29.129+0000"
        ],
        [
         5,
         "kovalainen",
         null,
         "KOV",
         "Heikki Kovalainen",
         "1981-10-19",
         "Finnish",
         "2023-09-23T20:22:29.129+0000"
        ],
        [
         6,
         "nakajima",
         null,
         "NAK",
         "Kazuki Nakajima",
         "1985-01-11",
         "Japanese",
         "2023-09-23T20:22:29.129+0000"
        ],
        [
         7,
         "bourdais",
         null,
         "BOU",
         "Sébastien Bourdais",
         "1979-02-28",
         "French",
         "2023-09-23T20:22:29.129+0000"
        ],
        [
         8,
         "raikkonen",
         7,
         "RAI",
         "Kimi Räikkönen",
         "1979-10-17",
         "Finnish",
         "2023-09-23T20:22:29.129+0000"
        ],
        [
         9,
         "kubica",
         88,
         "KUB",
         "Robert Kubica",
         "1984-12-07",
         "Polish",
         "2023-09-23T20:22:29.129+0000"
        ],
        [
         10,
         "glock",
         null,
         "GLO",
         "Timo Glock",
         "1982-03-18",
         "German",
         "2023-09-23T20:22:29.129+0000"
        ],
        [
         11,
         "sato",
         null,
         "SAT",
         "Takuma Sato",
         "1977-01-28",
         "Japanese",
         "2023-09-23T20:22:29.129+0000"
        ],
        [
         12,
         "piquet_jr",
         null,
         "PIQ",
         "Nelson Piquet Jr.",
         "1985-07-25",
         "Brazilian",
         "2023-09-23T20:22:29.129+0000"
        ],
        [
         13,
         "massa",
         19,
         "MAS",
         "Felipe Massa",
         "1981-04-25",
         "Brazilian",
         "2023-09-23T20:22:29.129+0000"
        ],
        [
         14,
         "coulthard",
         null,
         "COU",
         "David Coulthard",
         "1971-03-27",
         "British",
         "2023-09-23T20:22:29.129+0000"
        ],
        [
         15,
         "trulli",
         null,
         "TRU",
         "Jarno Trulli",
         "1974-07-13",
         "Italian",
         "2023-09-23T20:22:29.129+0000"
        ],
        [
         16,
         "sutil",
         99,
         "SUT",
         "Adrian Sutil",
         "1983-01-11",
         "German",
         "2023-09-23T20:22:29.129+0000"
        ],
        [
         17,
         "webber",
         null,
         "WEB",
         "Mark Webber",
         "1976-08-27",
         "Australian",
         "2023-09-23T20:22:29.129+0000"
        ],
        [
         18,
         "button",
         22,
         "BUT",
         "Jenson Button",
         "1980-01-19",
         "British",
         "2023-09-23T20:22:29.129+0000"
        ],
        [
         19,
         "davidson",
         null,
         "DAV",
         "Anthony Davidson",
         "1979-04-18",
         "British",
         "2023-09-23T20:22:29.129+0000"
        ],
        [
         20,
         "vettel",
         5,
         "VET",
         "Sebastian Vettel",
         "1987-07-03",
         "German",
         "2023-09-23T20:22:29.129+0000"
        ],
        [
         21,
         "fisichella",
         null,
         "FIS",
         "Giancarlo Fisichella",
         "1973-01-14",
         "Italian",
         "2023-09-23T20:22:29.129+0000"
        ],
        [
         22,
         "barrichello",
         null,
         "BAR",
         "Rubens Barrichello",
         "1972-05-23",
         "Brazilian",
         "2023-09-23T20:22:29.129+0000"
        ],
        [
         23,
         "ralf_schumacher",
         null,
         "SCH",
         "Ralf Schumacher",
         "1975-06-30",
         "German",
         "2023-09-23T20:22:29.129+0000"
        ],
        [
         24,
         "liuzzi",
         null,
         "LIU",
         "Vitantonio Liuzzi",
         "1980-08-06",
         "Italian",
         "2023-09-23T20:22:29.129+0000"
        ],
        [
         25,
         "wurz",
         null,
         "WUR",
         "Alexander Wurz",
         "1974-02-15",
         "Austrian",
         "2023-09-23T20:22:29.129+0000"
        ],
        [
         26,
         "speed",
         null,
         "SPE",
         "Scott Speed",
         "1983-01-24",
         "American",
         "2023-09-23T20:22:29.129+0000"
        ],
        [
         27,
         "albers",
         null,
         "ALB",
         "Christijan Albers",
         "1979-04-16",
         "Dutch",
         "2023-09-23T20:22:29.129+0000"
        ],
        [
         28,
         "markus_winkelhock",
         null,
         "WIN",
         "Markus Winkelhock",
         "1980-06-13",
         "German",
         "2023-09-23T20:22:29.129+0000"
        ],
        [
         29,
         "yamamoto",
         null,
         "YAM",
         "Sakon Yamamoto",
         "1982-07-09",
         "Japanese",
         "2023-09-23T20:22:29.129+0000"
        ],
        [
         30,
         "michael_schumacher",
         null,
         "MSC",
         "Michael Schumacher",
         "1969-01-03",
         "German",
         "2023-09-23T20:22:29.129+0000"
        ],
        [
         31,
         "montoya",
         null,
         "MON",
         "Juan Pablo Montoya",
         "1975-09-20",
         "Colombian",
         "2023-09-23T20:22:29.129+0000"
        ],
        [
         32,
         "klien",
         null,
         "KLI",
         "Christian Klien",
         "1983-02-07",
         "Austrian",
         "2023-09-23T20:22:29.129+0000"
        ],
        [
         33,
         "monteiro",
         null,
         "TMO",
         "Tiago Monteiro",
         "1976-07-24",
         "Portuguese",
         "2023-09-23T20:22:29.129+0000"
        ],
        [
         34,
         "ide",
         null,
         "IDE",
         "Yuji Ide",
         "1975-01-21",
         "Japanese",
         "2023-09-23T20:22:29.129+0000"
        ],
        [
         35,
         "villeneuve",
         null,
         "VIL",
         "Jacques Villeneuve",
         "1971-04-09",
         "Canadian",
         "2023-09-23T20:22:29.129+0000"
        ],
        [
         36,
         "montagny",
         null,
         "FMO",
         "Franck Montagny",
         "1978-01-05",
         "French",
         "2023-09-23T20:22:29.129+0000"
        ],
        [
         37,
         "rosa",
         null,
         "DLR",
         "Pedro de la Rosa",
         "1971-02-24",
         "Spanish",
         "2023-09-23T20:22:29.129+0000"
        ],
        [
         38,
         "doornbos",
         null,
         "DOO",
         "Robert Doornbos",
         "1981-09-23",
         "Dutch",
         "2023-09-23T20:22:29.129+0000"
        ],
        [
         39,
         "karthikeyan",
         null,
         "KAR",
         "Narain Karthikeyan",
         "1977-01-14",
         "Indian",
         "2023-09-23T20:22:29.129+0000"
        ],
        [
         40,
         "friesacher",
         null,
         "FRI",
         "Patrick Friesacher",
         "1980-09-26",
         "Austrian",
         "2023-09-23T20:22:29.129+0000"
        ],
        [
         41,
         "zonta",
         null,
         "ZON",
         "Ricardo Zonta",
         "1976-03-23",
         "Brazilian",
         "2023-09-23T20:22:29.129+0000"
        ],
        [
         42,
         "pizzonia",
         null,
         "PIZ",
         "Antônio Pizzonia",
         "1980-09-11",
         "Brazilian",
         "2023-09-23T20:22:29.129+0000"
        ],
        [
         43,
         "matta",
         null,
         "\\N",
         "Cristiano da Matta",
         "1973-09-19",
         "Brazilian",
         "2023-09-23T20:22:29.129+0000"
        ],
        [
         44,
         "panis",
         null,
         "\\N",
         "Olivier Panis",
         "1966-09-02",
         "French",
         "2023-09-23T20:22:29.129+0000"
        ],
        [
         45,
         "pantano",
         null,
         "\\N",
         "Giorgio Pantano",
         "1979-02-04",
         "Italian",
         "2023-09-23T20:22:29.129+0000"
        ],
        [
         46,
         "bruni",
         null,
         "\\N",
         "Gianmaria Bruni",
         "1981-05-30",
         "Italian",
         "2023-09-23T20:22:29.129+0000"
        ],
        [
         47,
         "baumgartner",
         null,
         "\\N",
         "Zsolt Baumgartner",
         "1981-01-01",
         "Hungarian",
         "2023-09-23T20:22:29.129+0000"
        ],
        [
         48,
         "gene",
         null,
         "\\N",
         "Marc Gené",
         "1974-03-29",
         "Spanish",
         "2023-09-23T20:22:29.129+0000"
        ],
        [
         49,
         "frentzen",
         null,
         "\\N",
         "Heinz-Harald Frentzen",
         "1967-05-18",
         "German",
         "2023-09-23T20:22:29.129+0000"
        ],
        [
         50,
         "verstappen",
         null,
         "\\N",
         "Jos Verstappen",
         "1972-03-04",
         "Dutch",
         "2023-09-23T20:22:29.129+0000"
        ],
        [
         51,
         "wilson",
         null,
         "\\N",
         "Justin Wilson",
         "1978-07-31",
         "British",
         "2023-09-23T20:22:29.129+0000"
        ],
        [
         52,
         "firman",
         null,
         "\\N",
         "Ralph Firman",
         "1975-05-20",
         "Irish",
         "2023-09-23T20:22:29.129+0000"
        ],
        [
         53,
         "kiesa",
         null,
         "\\N",
         "Nicolas Kiesa",
         "1978-03-03",
         "Danish",
         "2023-09-23T20:22:29.129+0000"
        ],
        [
         54,
         "burti",
         null,
         "\\N",
         "Luciano Burti",
         "1975-03-05",
         "Brazilian",
         "2023-09-23T20:22:29.129+0000"
        ],
        [
         55,
         "alesi",
         null,
         "\\N",
         "Jean Alesi",
         "1964-06-11",
         "French",
         "2023-09-23T20:22:29.129+0000"
        ],
        [
         56,
         "irvine",
         null,
         "\\N",
         "Eddie Irvine",
         "1965-11-10",
         "British",
         "2023-09-23T20:22:29.129+0000"
        ],
        [
         57,
         "hakkinen",
         null,
         "\\N",
         "Mika Häkkinen",
         "1968-09-28",
         "Finnish",
         "2023-09-23T20:22:29.129+0000"
        ],
        [
         58,
         "marques",
         null,
         "\\N",
         "Tarso Marques",
         "1976-01-19",
         "Brazilian",
         "2023-09-23T20:22:29.129+0000"
        ],
        [
         59,
         "bernoldi",
         null,
         "\\N",
         "Enrique Bernoldi",
         "1978-10-19",
         "Brazilian",
         "2023-09-23T20:22:29.129+0000"
        ],
        [
         60,
         "mazzacane",
         null,
         "\\N",
         "Gastón Mazzacane",
         "1975-05-08",
         "Argentine",
         "2023-09-23T20:22:29.129+0000"
        ],
        [
         61,
         "enge",
         null,
         "\\N",
         "Tomáš Enge",
         "1976-09-11",
         "Czech",
         "2023-09-23T20:22:29.129+0000"
        ],
        [
         62,
         "yoong",
         null,
         "\\N",
         "Alex Yoong",
         "1976-07-20",
         "Malaysian",
         "2023-09-23T20:22:29.129+0000"
        ],
        [
         63,
         "salo",
         null,
         "\\N",
         "Mika Salo",
         "1966-11-30",
         "Finnish",
         "2023-09-23T20:22:29.129+0000"
        ],
        [
         64,
         "diniz",
         null,
         "\\N",
         "Pedro Diniz",
         "1970-05-22",
         "Brazilian",
         "2023-09-23T20:22:29.129+0000"
        ],
        [
         65,
         "herbert",
         null,
         "\\N",
         "Johnny Herbert",
         "1964-06-25",
         "British",
         "2023-09-23T20:22:29.129+0000"
        ],
        [
         66,
         "mcnish",
         null,
         "\\N",
         "Allan McNish",
         "1969-12-29",
         "British",
         "2023-09-23T20:22:29.129+0000"
        ],
        [
         67,
         "buemi",
         null,
         "BUE",
         "Sébastien Buemi",
         "1988-10-31",
         "Swiss",
         "2023-09-23T20:22:29.129+0000"
        ],
        [
         68,
         "takagi",
         null,
         "\\N",
         "Toranosuke Takagi",
         "1974-02-12",
         "Japanese",
         "2023-09-23T20:22:29.129+0000"
        ],
        [
         69,
         "badoer",
         null,
         "BAD",
         "Luca Badoer",
         "1971-01-25",
         "Italian",
         "2023-09-23T20:22:29.129+0000"
        ],
        [
         70,
         "zanardi",
         null,
         "\\N",
         "Alessandro Zanardi",
         "1966-10-23",
         "Italian",
         "2023-09-23T20:22:29.129+0000"
        ],
        [
         71,
         "damon_hill",
         null,
         "\\N",
         "Damon Hill",
         "1960-09-17",
         "British",
         "2023-09-23T20:22:29.129+0000"
        ],
        [
         72,
         "sarrazin",
         null,
         "\\N",
         "Stéphane Sarrazin",
         "1975-11-02",
         "French",
         "2023-09-23T20:22:29.129+0000"
        ],
        [
         73,
         "rosset",
         null,
         "\\N",
         "Ricardo Rosset",
         "1968-07-27",
         "Brazilian",
         "2023-09-23T20:22:29.129+0000"
        ],
        [
         74,
         "tuero",
         null,
         "\\N",
         "Esteban Tuero",
         "1978-04-22",
         "Argentine",
         "2023-09-23T20:22:29.129+0000"
        ],
        [
         75,
         "nakano",
         null,
         "\\N",
         "Shinji Nakano",
         "1971-04-01",
         "Japanese",
         "2023-09-23T20:22:29.129+0000"
        ],
        [
         76,
         "magnussen",
         null,
         "MAG",
         "Jan Magnussen",
         "1973-07-04",
         "Danish",
         "2023-09-23T20:22:29.129+0000"
        ],
        [
         77,
         "berger",
         null,
         "\\N",
         "Gerhard Berger",
         "1959-08-27",
         "Austrian",
         "2023-09-23T20:22:29.129+0000"
        ],
        [
         78,
         "larini",
         null,
         "\\N",
         "Nicola Larini",
         "1964-03-19",
         "Italian",
         "2023-09-23T20:22:29.129+0000"
        ],
        [
         79,
         "katayama",
         null,
         "\\N",
         "Ukyo Katayama",
         "1963-05-29",
         "Japanese",
         "2023-09-23T20:22:29.129+0000"
        ],
        [
         80,
         "sospiri",
         null,
         "\\N",
         "Vincenzo Sospiri",
         "1966-10-07",
         "Italian",
         "2023-09-23T20:22:29.129+0000"
        ],
        [
         81,
         "morbidelli",
         null,
         "\\N",
         "Gianni Morbidelli",
         "1968-01-13",
         "Italian",
         "2023-09-23T20:22:29.129+0000"
        ],
        [
         82,
         "fontana",
         null,
         "\\N",
         "Norberto Fontana",
         "1975-01-20",
         "Argentine",
         "2023-09-23T20:22:29.129+0000"
        ],
        [
         83,
         "lamy",
         null,
         "\\N",
         "Pedro Lamy",
         "1972-03-20",
         "Portuguese",
         "2023-09-23T20:22:29.129+0000"
        ],
        [
         84,
         "brundle",
         null,
         "\\N",
         "Martin Brundle",
         "1959-06-01",
         "British",
         "2023-09-23T20:22:29.129+0000"
        ],
        [
         85,
         "montermini",
         null,
         "\\N",
         "Andrea Montermini",
         "1964-05-30",
         "Italian",
         "2023-09-23T20:22:29.129+0000"
        ],
        [
         86,
         "lavaggi",
         null,
         "\\N",
         "Giovanni Lavaggi",
         "1958-02-18",
         "Italian",
         "2023-09-23T20:22:29.129+0000"
        ],
        [
         87,
         "blundell",
         null,
         "\\N",
         "Mark Blundell",
         "1966-04-08",
         "British",
         "2023-09-23T20:22:29.129+0000"
        ],
        [
         88,
         "suzuki",
         null,
         "\\N",
         "Aguri Suzuki",
         "1960-09-08",
         "Japanese",
         "2023-09-23T20:22:29.129+0000"
        ],
        [
         89,
         "inoue",
         null,
         "\\N",
         "Taki Inoue",
         "1963-09-05",
         "Japanese",
         "2023-09-23T20:22:29.129+0000"
        ],
        [
         90,
         "moreno",
         null,
         "\\N",
         "Roberto Moreno",
         "1959-02-11",
         "Brazilian",
         "2023-09-23T20:22:29.129+0000"
        ],
        [
         91,
         "wendlinger",
         null,
         "\\N",
         "Karl Wendlinger",
         "1968-12-20",
         "Austrian",
         "2023-09-23T20:22:29.129+0000"
        ],
        [
         92,
         "gachot",
         null,
         "\\N",
         "Bertrand Gachot",
         "1962-12-23",
         "Belgian",
         "2023-09-23T20:22:29.129+0000"
        ],
        [
         93,
         "schiattarella",
         null,
         "\\N",
         "Domenico Schiattarella",
         "1967-11-17",
         "Italian",
         "2023-09-23T20:22:29.129+0000"
        ],
        [
         94,
         "martini",
         null,
         "\\N",
         "Pierluigi Martini",
         "1961-04-23",
         "Italian",
         "2023-09-23T20:22:29.129+0000"
        ],
        [
         95,
         "mansell",
         null,
         "\\N",
         "Nigel Mansell",
         "1953-08-08",
         "British",
         "2023-09-23T20:22:29.129+0000"
        ],
        [
         96,
         "boullion",
         null,
         "\\N",
         "Jean-Christophe Boullion",
         "1969-12-27",
         "French",
         "2023-09-23T20:22:29.129+0000"
        ],
        [
         97,
         "papis",
         null,
         "\\N",
         "Massimiliano Papis",
         "1969-10-03",
         "Italian",
         "2023-09-23T20:22:29.129+0000"
        ],
        [
         98,
         "deletraz",
         null,
         "\\N",
         "Jean-Denis Délétraz",
         "1963-10-01",
         "Swiss",
         "2023-09-23T20:22:29.129+0000"
        ],
        [
         99,
         "tarquini",
         null,
         "\\N",
         "Gabriele Tarquini",
         "1962-03-02",
         "Italian",
         "2023-09-23T20:22:29.129+0000"
        ],
        [
         100,
         "comas",
         null,
         "\\N",
         "Érik Comas",
         "1963-09-28",
         "French",
         "2023-09-23T20:22:29.129+0000"
        ],
        [
         101,
         "brabham",
         null,
         "\\N",
         "David Brabham",
         "1965-09-05",
         "Australian",
         "2023-09-23T20:22:29.129+0000"
        ],
        [
         102,
         "senna",
         null,
         "\\N",
         "Ayrton Senna",
         "1960-03-21",
         "Brazilian",
         "2023-09-23T20:22:29.129+0000"
        ],
        [
         103,
         "bernard",
         null,
         "\\N",
         "Éric Bernard",
         "1964-08-24",
         "French",
         "2023-09-23T20:22:29.129+0000"
        ],
        [
         104,
         "fittipaldi",
         null,
         "\\N",
         "Christian Fittipaldi",
         "1971-01-18",
         "Brazilian",
         "2023-09-23T20:22:29.129+0000"
        ],
        [
         105,
         "alboreto",
         null,
         "\\N",
         "Michele Alboreto",
         "1956-12-23",
         "Italian",
         "2023-09-23T20:22:29.129+0000"
        ],
        [
         106,
         "beretta",
         null,
         "\\N",
         "Olivier Beretta",
         "1969-11-23",
         "Monegasque",
         "2023-09-23T20:22:29.129+0000"
        ],
        [
         107,
         "ratzenberger",
         null,
         "\\N",
         "Roland Ratzenberger",
         "1960-07-04",
         "Austrian",
         "2023-09-23T20:22:29.129+0000"
        ],
        [
         108,
         "belmondo",
         null,
         "\\N",
         "Paul Belmondo",
         "1963-04-23",
         "French",
         "2023-09-23T20:22:29.129+0000"
        ],
        [
         109,
         "lehto",
         null,
         "\\N",
         "Jyrki Järvilehto",
         "1966-01-31",
         "Finnish",
         "2023-09-23T20:22:29.129+0000"
        ],
        [
         110,
         "cesaris",
         null,
         "\\N",
         "Andrea de Cesaris",
         "1959-05-31",
         "Italian",
         "2023-09-23T20:22:29.129+0000"
        ],
        [
         111,
         "gounon",
         null,
         "\\N",
         "Jean-Marc Gounon",
         "1963-01-01",
         "French",
         "2023-09-23T20:22:29.129+0000"
        ],
        [
         112,
         "alliot",
         null,
         "\\N",
         "Philippe Alliot",
         "1954-07-27",
         "French",
         "2023-09-23T20:22:29.129+0000"
        ],
        [
         113,
         "adams",
         null,
         "\\N",
         "Philippe Adams",
         "1969-11-19",
         "Belgian",
         "2023-09-23T20:22:29.129+0000"
        ],
        [
         114,
         "dalmas",
         null,
         "\\N",
         "Yannick Dalmas",
         "1961-07-28",
         "French",
         "2023-09-23T20:22:29.129+0000"
        ],
        [
         115,
         "noda",
         null,
         "\\N",
         "Hideki Noda",
         "1969-03-07",
         "Japanese",
         "2023-09-23T20:22:29.129+0000"
        ],
        [
         116,
         "lagorce",
         null,
         "\\N",
         "Franck Lagorce",
         "1968-09-01",
         "French",
         "2023-09-23T20:22:29.129+0000"
        ],
        [
         117,
         "prost",
         null,
         "\\N",
         "Alain Prost",
         "1955-02-24",
         "French",
         "2023-09-23T20:22:29.129+0000"
        ],
        [
         118,
         "warwick",
         null,
         "\\N",
         "Derek Warwick",
         "1954-08-27",
         "British",
         "2023-09-23T20:22:29.129+0000"
        ],
        [
         119,
         "patrese",
         null,
         "\\N",
         "Riccardo Patrese",
         "1954-04-17",
         "Italian",
         "2023-09-23T20:22:29.129+0000"
        ],
        [
         120,
         "barbazza",
         null,
         "\\N",
         "Fabrizio Barbazza",
         "1963-04-02",
         "Italian",
         "2023-09-23T20:22:29.129+0000"
        ],
        [
         121,
         "andretti",
         null,
         "\\N",
         "Michael Andretti",
         "1962-10-05",
         "American",
         "2023-09-23T20:22:29.129+0000"
        ],
        [
         122,
         "capelli",
         null,
         "\\N",
         "Ivan Capelli",
         "1963-05-24",
         "Italian",
         "2023-09-23T20:22:29.129+0000"
        ],
        [
         123,
         "boutsen",
         null,
         "\\N",
         "Thierry Boutsen",
         "1957-07-13",
         "Belgian",
         "2023-09-23T20:22:29.129+0000"
        ],
        [
         124,
         "apicella",
         null,
         "\\N",
         "Marco Apicella",
         "1965-10-07",
         "Italian",
         "2023-09-23T20:22:29.129+0000"
        ],
        [
         125,
         "naspetti",
         null,
         "\\N",
         "Emanuele Naspetti",
         "1968-02-24",
         "Italian",
         "2023-09-23T20:22:29.129+0000"
        ],
        [
         126,
         "toshio_suzuki",
         null,
         "\\N",
         "Toshio Suzuki",
         "1955-03-10",
         "Japanese",
         "2023-09-23T20:22:29.129+0000"
        ],
        [
         127,
         "gugelmin",
         null,
         "\\N",
         "Maurício Gugelmin",
         "1963-04-20",
         "Brazilian",
         "2023-09-23T20:22:29.129+0000"
        ],
        [
         128,
         "poele",
         null,
         "\\N",
         "Eric van de Poele",
         "1961-09-30",
         "Belgian",
         "2023-09-23T20:22:29.129+0000"
        ],
        [
         129,
         "grouillard",
         null,
         "\\N",
         "Olivier Grouillard",
         "1958-09-02",
         "French",
         "2023-09-23T20:22:29.129+0000"
        ],
        [
         130,
         "chiesa",
         null,
         "\\N",
         "Andrea Chiesa",
         "1964-05-06",
         "Swiss",
         "2023-09-23T20:22:29.129+0000"
        ],
        [
         131,
         "modena",
         null,
         "\\N",
         "Stefano Modena",
         "1963-05-12",
         "Italian",
         "2023-09-23T20:22:29.129+0000"
        ],
        [
         132,
         "amati",
         null,
         "\\N",
         "Giovanna Amati",
         "1959-07-20",
         "Italian",
         "2023-09-23T20:22:29.129+0000"
        ],
        [
         133,
         "caffi",
         null,
         "\\N",
         "Alex Caffi",
         "1964-03-18",
         "Italian",
         "2023-09-23T20:22:29.129+0000"
        ],
        [
         134,
         "bertaggia",
         null,
         "\\N",
         "Enrico Bertaggia",
         "1964-09-19",
         "Italian",
         "2023-09-23T20:22:29.129+0000"
        ],
        [
         135,
         "mccarthy",
         null,
         "\\N",
         "Perry McCarthy",
         "1961-03-03",
         "British",
         "2023-09-23T20:22:29.129+0000"
        ],
        [
         136,
         "lammers",
         null,
         "\\N",
         "Jan Lammers",
         "1956-06-02",
         "Dutch",
         "2023-09-23T20:22:29.129+0000"
        ],
        [
         137,
         "piquet",
         null,
         "\\N",
         "Nelson Piquet",
         "1952-08-17",
         "Brazilian",
         "2023-09-23T20:22:29.129+0000"
        ],
        [
         138,
         "satoru_nakajima",
         null,
         "\\N",
         "Satoru Nakajima",
         "1953-02-23",
         "Japanese",
         "2023-09-23T20:22:29.129+0000"
        ],
        [
         139,
         "pirro",
         null,
         "\\N",
         "Emanuele Pirro",
         "1962-01-12",
         "Italian",
         "2023-09-23T20:22:29.129+0000"
        ],
        [
         140,
         "johansson",
         null,
         "\\N",
         "Stefan Johansson",
         "1956-09-08",
         "Swedish",
         "2023-09-23T20:22:29.129+0000"
        ],
        [
         141,
         "bailey",
         null,
         "\\N",
         "Julian Bailey",
         "1961-10-09",
         "British",
         "2023-09-23T20:22:29.129+0000"
        ],
        [
         142,
         "chaves",
         null,
         "\\N",
         "Pedro Chaves",
         "1965-02-27",
         "Portuguese",
         "2023-09-23T20:22:29.129+0000"
        ],
        [
         143,
         "bartels",
         null,
         "\\N",
         "Michael Bartels",
         "1968-03-08",
         "German",
         "2023-09-23T20:22:29.129+0000"
        ],
        [
         144,
         "hattori",
         null,
         "\\N",
         "Naoki Hattori",
         "1966-06-13",
         "Japanese",
         "2023-09-23T20:22:29.129+0000"
        ],
        [
         145,
         "nannini",
         null,
         "\\N",
         "Alessandro Nannini",
         "1959-07-07",
         "Italian",
         "2023-09-23T20:22:29.129+0000"
        ],
        [
         146,
         "schneider",
         null,
         "\\N",
         "Bernd Schneider",
         "1964-07-20",
         "German",
         "2023-09-23T20:22:29.129+0000"
        ],
        [
         147,
         "barilla",
         null,
         "\\N",
         "Paolo Barilla",
         "1961-04-20",
         "Italian",
         "2023-09-23T20:22:29.129+0000"
        ],
        [
         148,
         "foitek",
         null,
         "\\N",
         "Gregor Foitek",
         "1965-03-27",
         "Swiss",
         "2023-09-23T20:22:29.129+0000"
        ],
        [
         149,
         "langes",
         null,
         "\\N",
         "Claudio Langes",
         "1960-07-20",
         "Italian",
         "2023-09-23T20:22:29.129+0000"
        ],
        [
         150,
         "gary_brabham",
         null,
         "\\N",
         "Gary Brabham",
         "1961-03-29",
         "Australian",
         "2023-09-23T20:22:29.129+0000"
        ],
        [
         151,
         "donnelly",
         null,
         "\\N",
         "Martin Donnelly",
         "1964-03-26",
         "British",
         "2023-09-23T20:22:29.129+0000"
        ],
        [
         152,
         "giacomelli",
         null,
         "\\N",
         "Bruno Giacomelli",
         "1952-09-10",
         "Italian",
         "2023-09-23T20:22:29.129+0000"
        ],
        [
         153,
         "alguersuari",
         null,
         "ALG",
         "Jaime Alguersuari",
         "1990-03-23",
         "Spanish",
         "2023-09-23T20:22:29.129+0000"
        ],
        [
         154,
         "grosjean",
         8,
         "GRO",
         "Romain Grosjean",
         "1986-04-17",
         "French",
         "2023-09-23T20:22:29.129+0000"
        ],
        [
         155,
         "kobayashi",
         10,
         "KOB",
         "Kamui Kobayashi",
         "1986-09-13",
         "Japanese",
         "2023-09-23T20:22:29.129+0000"
        ],
        [
         156,
         "palmer",
         null,
         "\\N",
         "Jonathan Palmer",
         "1956-11-07",
         "British",
         "2023-09-23T20:22:29.129+0000"
        ],
        [
         157,
         "danner",
         null,
         "\\N",
         "Christian Danner",
         "1958-04-04",
         "German",
         "2023-09-23T20:22:29.129+0000"
        ],
        [
         158,
         "cheever",
         null,
         "\\N",
         "Eddie Cheever",
         "1958-01-10",
         "American",
         "2023-09-23T20:22:29.129+0000"
        ],
        [
         159,
         "sala",
         null,
         "\\N",
         "Luis Pérez-Sala",
         "1959-05-15",
         "Spanish",
         "2023-09-23T20:22:29.129+0000"
        ],
        [
         160,
         "ghinzani",
         null,
         "\\N",
         "Piercarlo Ghinzani",
         "1952-01-16",
         "Italian",
         "2023-09-23T20:22:29.129+0000"
        ],
        [
         161,
         "weidler",
         null,
         "\\N",
         "Volker Weidler",
         "1962-03-18",
         "German",
         "2023-09-23T20:22:29.129+0000"
        ],
        [
         162,
         "raphanel",
         null,
         "\\N",
         "Pierre-Henri Raphanel",
         "1961-05-27",
         "French",
         "2023-09-23T20:22:29.129+0000"
        ],
        [
         163,
         "arnoux",
         null,
         "\\N",
         "René Arnoux",
         "1948-07-04",
         "French",
         "2023-09-23T20:22:29.129+0000"
        ],
        [
         164,
         "joachim_winkelhock",
         null,
         "\\N",
         "Joachim Winkelhock",
         "1960-10-24",
         "German",
         "2023-09-23T20:22:29.129+0000"
        ],
        [
         165,
         "larrauri",
         null,
         "\\N",
         "Oscar Larrauri",
         "1954-08-19",
         "Argentine",
         "2023-09-23T20:22:29.129+0000"
        ],
        [
         166,
         "streiff",
         null,
         "\\N",
         "Philippe Streiff",
         "1955-06-26",
         "French",
         "2023-09-23T20:22:29.129+0000"
        ],
        [
         167,
         "campos",
         null,
         "\\N",
         "Adrián Campos",
         "1960-06-17",
         "Spanish",
         "2023-09-23T20:22:29.129+0000"
        ],
        [
         168,
         "schlesser",
         null,
         "\\N",
         "Jean-Louis Schlesser",
         "1948-09-12",
         "French",
         "2023-09-23T20:22:29.129+0000"
        ],
        [
         169,
         "fabre",
         null,
         "\\N",
         "Pascal Fabre",
         "1960-01-09",
         "French",
         "2023-09-23T20:22:29.129+0000"
        ],
        [
         170,
         "fabi",
         null,
         "\\N",
         "Teo Fabi",
         "1955-03-09",
         "Italian",
         "2023-09-23T20:22:29.129+0000"
        ],
        [
         171,
         "forini",
         null,
         "\\N",
         "Franco Forini",
         "1958-09-22",
         "Swiss",
         "2023-09-23T20:22:29.129+0000"
        ],
        [
         172,
         "laffite",
         null,
         "\\N",
         "Jacques Laffite",
         "1943-11-21",
         "French",
         "2023-09-23T20:22:29.129+0000"
        ],
        [
         173,
         "angelis",
         null,
         "\\N",
         "Elio de Angelis",
         "1958-03-26",
         "Italian",
         "2023-09-23T20:22:29.129+0000"
        ],
        [
         174,
         "dumfries",
         null,
         "\\N",
         "Johnny Dumfries",
         "1958-04-26",
         "British",
         "2023-09-23T20:22:29.129+0000"
        ],
        [
         175,
         "tambay",
         null,
         "\\N",
         "Patrick Tambay",
         "1949-06-25",
         "French",
         "2023-09-23T20:22:29.129+0000"
        ],
        [
         176,
         "surer",
         null,
         "\\N",
         "Marc Surer",
         "1951-09-18",
         "Swiss",
         "2023-09-23T20:22:29.129+0000"
        ],
        [
         177,
         "keke_rosberg",
         null,
         "\\N",
         "Keke Rosberg",
         "1948-12-06",
         "Finnish",
         "2023-09-23T20:22:29.129+0000"
        ],
        [
         178,
         "jones",
         null,
         "\\N",
         "Alan Jones",
         "1946-11-02",
         "Australian",
         "2023-09-23T20:22:29.129+0000"
        ],
        [
         179,
         "rothengatter",
         null,
         "\\N",
         "Huub Rothengatter",
         "1954-10-08",
         "Dutch",
         "2023-09-23T20:22:29.129+0000"
        ],
        [
         180,
         "berg",
         null,
         "\\N",
         "Allen Berg",
         "1961-08-01",
         "Canadian",
         "2023-09-23T20:22:29.129+0000"
        ],
        [
         181,
         "manfred_winkelhock",
         null,
         "\\N",
         "Manfred Winkelhock",
         "1951-10-06",
         "German",
         "2023-09-23T20:22:29.129+0000"
        ],
        [
         182,
         "lauda",
         null,
         "\\N",
         "Niki Lauda",
         "1949-02-22",
         "Austrian",
         "2023-09-23T20:22:29.129+0000"
        ],
        [
         183,
         "hesnault",
         null,
         "\\N",
         "François Hesnault",
         "1956-12-30",
         "French",
         "2023-09-23T20:22:29.129+0000"
        ],
        [
         184,
         "baldi",
         null,
         "\\N",
         "Mauro Baldi",
         "1954-01-31",
         "Italian",
         "2023-09-23T20:22:29.129+0000"
        ],
        [
         185,
         "bellof",
         null,
         "\\N",
         "Stefan Bellof",
         "1957-11-20",
         "German",
         "2023-09-23T20:22:29.129+0000"
        ],
        [
         186,
         "acheson",
         null,
         "\\N",
         "Kenny Acheson",
         "1957-11-27",
         "British",
         "2023-09-23T20:22:29.129+0000"
        ],
        [
         187,
         "watson",
         null,
         "\\N",
         "John Watson",
         "1946-05-04",
         "British",
         "2023-09-23T20:22:29.129+0000"
        ],
        [
         188,
         "cecotto",
         null,
         "\\N",
         "Johnny Cecotto",
         "1956-01-25",
         "Venezuelan",
         "2023-09-23T20:22:29.129+0000"
        ],
        [
         189,
         "gartner",
         null,
         "\\N",
         "Jo Gartner",
         "1954-01-24",
         "Austrian",
         "2023-09-23T20:22:29.129+0000"
        ],
        [
         190,
         "corrado_fabi",
         null,
         "\\N",
         "Corrado Fabi",
         "1961-04-12",
         "Italian",
         "2023-09-23T20:22:29.129+0000"
        ],
        [
         191,
         "thackwell",
         null,
         "\\N",
         "Mike Thackwell",
         "1961-03-30",
         "New Zealander",
         "2023-09-23T20:22:29.129+0000"
        ],
        [
         192,
         "serra",
         null,
         "\\N",
         "Chico Serra",
         "1957-02-03",
         "Brazilian",
         "2023-09-23T20:22:29.129+0000"
        ],
        [
         193,
         "sullivan",
         null,
         "\\N",
         "Danny Sullivan",
         "1950-03-09",
         "American",
         "2023-09-23T20:22:29.129+0000"
        ],
        [
         194,
         "salazar",
         null,
         "\\N",
         "Eliseo Salazar",
         "1954-11-14",
         "Chilean",
         "2023-09-23T20:22:29.129+0000"
        ],
        [
         195,
         "guerrero",
         null,
         "\\N",
         "Roberto Guerrero",
         "1958-11-16",
         "Colombian",
         "2023-09-23T20:22:29.129+0000"
        ],
        [
         196,
         "boesel",
         null,
         "\\N",
         "Raul Boesel",
         "1957-12-04",
         "Brazilian",
         "2023-09-23T20:22:29.129+0000"
        ],
        [
         197,
         "jarier",
         null,
         "\\N",
         "Jean-Pierre Jarier",
         "1946-07-10",
         "French",
         "2023-09-23T20:22:29.129+0000"
        ],
        [
         198,
         "villeneuve_sr",
         null,
         "\\N",
         "Jacques Villeneuve Sr.",
         "1953-11-04",
         "Canadian",
         "2023-09-23T20:22:29.129+0000"
        ],
        [
         199,
         "reutemann",
         null,
         "\\N",
         "Carlos Reutemann",
         "1942-04-12",
         "Argentine",
         "2023-09-23T20:22:29.129+0000"
        ],
        [
         200,
         "mass",
         null,
         "\\N",
         "Jochen Mass",
         "1946-09-30",
         "German",
         "2023-09-23T20:22:29.129+0000"
        ],
        [
         201,
         "borgudd",
         null,
         "\\N",
         "Slim Borgudd",
         "1946-11-25",
         "Swedish",
         "2023-09-23T20:22:29.129+0000"
        ],
        [
         202,
         "pironi",
         null,
         "\\N",
         "Didier Pironi",
         "1952-03-26",
         "French",
         "2023-09-23T20:22:29.129+0000"
        ],
        [
         203,
         "gilles_villeneuve",
         null,
         "\\N",
         "Gilles Villeneuve",
         "1950-01-18",
         "Canadian",
         "2023-09-23T20:22:29.129+0000"
        ],
        [
         204,
         "paletti",
         null,
         "\\N",
         "Riccardo Paletti",
         "1958-06-15",
         "Italian",
         "2023-09-23T20:22:29.129+0000"
        ],
        [
         205,
         "henton",
         null,
         "\\N",
         "Brian Henton",
         "1946-09-19",
         "British",
         "2023-09-23T20:22:29.129+0000"
        ],
        [
         206,
         "daly",
         null,
         "\\N",
         "Derek Daly",
         "1953-03-11",
         "Irish",
         "2023-09-23T20:22:29.129+0000"
        ],
        [
         207,
         "mario_andretti",
         null,
         "\\N",
         "Mario Andretti",
         "1940-02-28",
         "American",
         "2023-09-23T20:22:29.129+0000"
        ],
        [
         208,
         "villota",
         null,
         "\\N",
         "Emilio de Villota",
         "1946-07-26",
         "Spanish",
         "2023-09-23T20:22:29.129+0000"
        ],
        [
         209,
         "lees",
         null,
         "\\N",
         "Geoff Lees",
         "1951-05-01",
         "British",
         "2023-09-23T20:22:29.129+0000"
        ],
        [
         210,
         "byrne",
         null,
         "\\N",
         "Tommy Byrne",
         "1958-05-06",
         "Irish",
         "2023-09-23T20:22:29.129+0000"
        ],
        [
         211,
         "keegan",
         null,
         "\\N",
         "Rupert Keegan",
         "1955-02-26",
         "British",
         "2023-09-23T20:22:29.129+0000"
        ],
        [
         212,
         "rebaque",
         null,
         "\\N",
         "Hector Rebaque",
         "1956-02-05",
         "Mexican",
         "2023-09-23T20:22:29.129+0000"
        ],
        [
         213,
         "gabbiani",
         null,
         "\\N",
         "Beppe Gabbiani",
         "1957-01-02",
         "Italian",
         "2023-09-23T20:22:29.129+0000"
        ],
        [
         214,
         "cogan",
         null,
         "\\N",
         "Kevin Cogan",
         "1956-03-31",
         "American",
         "2023-09-23T20:22:29.129+0000"
        ],
        [
         215,
         "guerra",
         null,
         "\\N",
         "Miguel Ángel Guerra",
         "1953-08-31",
         "Argentine",
         "2023-09-23T20:22:29.129+0000"
        ],
        [
         216,
         "stohr",
         null,
         "\\N",
         "Siegfried Stohr",
         "1952-10-10",
         "Italian",
         "2023-09-23T20:22:29.129+0000"
        ],
        [
         217,
         "zunino",
         null,
         "\\N",
         "Ricardo Zunino",
         "1949-04-13",
         "Argentine",
         "2023-09-23T20:22:29.129+0000"
        ],
        [
         218,
         "londono",
         null,
         "\\N",
         "Ricardo Londoño",
         "1949-08-08",
         "Colombian",
         "2023-09-23T20:22:29.129+0000"
        ],
        [
         219,
         "jabouille",
         null,
         "\\N",
         "Jean-Pierre Jabouille",
         "1942-10-01",
         "French",
         "2023-09-23T20:22:29.129+0000"
        ],
        [
         220,
         "francia",
         null,
         "\\N",
         "Giorgio Francia",
         "1947-11-08",
         "Italian",
         "2023-09-23T20:22:29.129+0000"
        ],
        [
         221,
         "depailler",
         null,
         "\\N",
         "Patrick Depailler",
         "1944-08-09",
         "French",
         "2023-09-23T20:22:29.129+0000"
        ],
        [
         222,
         "scheckter",
         null,
         "\\N",
         "Jody Scheckter",
         "1950-01-29",
         "South African",
         "2023-09-23T20:22:29.129+0000"
        ],
        [
         223,
         "regazzoni",
         null,
         "\\N",
         "Clay Regazzoni",
         "1939-09-05",
         "Swiss",
         "2023-09-23T20:22:29.129+0000"
        ],
        [
         224,
         "emerson_fittipaldi",
         null,
         "\\N",
         "Emerson Fittipaldi",
         "1946-12-12",
         "Brazilian",
         "2023-09-23T20:22:29.129+0000"
        ],
        [
         225,
         "kennedy",
         null,
         "\\N",
         "Dave Kennedy",
         "1953-01-15",
         "Irish",
         "2023-09-23T20:22:29.129+0000"
        ],
        [
         226,
         "south",
         null,
         "\\N",
         "Stephen South",
         "1952-02-19",
         "British",
         "2023-09-23T20:22:29.129+0000"
        ],
        [
         227,
         "needell",
         null,
         "\\N",
         "Tiff Needell",
         "1951-10-29",
         "British",
         "2023-09-23T20:22:29.129+0000"
        ],
        [
         228,
         "desire_wilson",
         null,
         "\\N",
         "Desiré Wilson",
         "1953-11-26",
         "South African",
         "2023-09-23T20:22:29.129+0000"
        ],
        [
         229,
         "ertl",
         null,
         "\\N",
         "Harald Ertl",
         "1948-08-31",
         "Austrian",
         "2023-09-23T20:22:29.129+0000"
        ],
        [
         230,
         "brambilla",
         null,
         "\\N",
         "Vittorio Brambilla",
         "1937-11-11",
         "Italian",
         "2023-09-23T20:22:29.129+0000"
        ],
        [
         231,
         "hunt",
         null,
         "\\N",
         "James Hunt",
         "1947-08-29",
         "British",
         "2023-09-23T20:22:29.129+0000"
        ],
        [
         232,
         "merzario",
         null,
         "\\N",
         "Arturo Merzario",
         "1943-03-11",
         "Italian",
         "2023-09-23T20:22:29.129+0000"
        ],
        [
         233,
         "stuck",
         null,
         "\\N",
         "Hans-Joachim Stuck",
         "1951-01-01",
         "German",
         "2023-09-23T20:22:29.129+0000"
        ],
        [
         234,
         "brancatelli",
         null,
         "\\N",
         "Gianfranco Brancatelli",
         "1950-01-18",
         "Italian",
         "2023-09-23T20:22:29.129+0000"
        ],
        [
         235,
         "ickx",
         null,
         "\\N",
         "Jacky Ickx",
         "1945-01-01",
         "Belgian",
         "2023-09-23T20:22:29.129+0000"
        ],
        [
         236,
         "gaillard",
         null,
         "\\N",
         "Patrick Gaillard",
         "1952-02-12",
         "French",
         "2023-09-23T20:22:29.129+0000"
        ],
        [
         237,
         "ribeiro",
         null,
         "\\N",
         "Alex Ribeiro",
         "1948-11-07",
         "Brazilian",
         "2023-09-23T20:22:29.129+0000"
        ],
        [
         238,
         "peterson",
         null,
         "\\N",
         "Ronnie Peterson",
         "1944-02-14",
         "Swedish",
         "2023-09-23T20:22:29.129+0000"
        ],
        [
         239,
         "lunger",
         null,
         "\\N",
         "Brett Lunger",
         "1945-11-14",
         "American",
         "2023-09-23T20:22:29.129+0000"
        ],
        [
         240,
         "ongais",
         null,
         "\\N",
         "Danny Ongais",
         "1942-05-21",
         "American",
         "2023-09-23T20:22:29.129+0000"
        ],
        [
         241,
         "leoni",
         null,
         "\\N",
         "Lamberto Leoni",
         "1953-05-24",
         "Italian",
         "2023-09-23T20:22:29.129+0000"
        ],
        [
         242,
         "galica",
         null,
         "\\N",
         "Divina Galica",
         "1944-08-13",
         "British",
         "2023-09-23T20:22:29.129+0000"
        ],
        [
         243,
         "stommelen",
         null,
         "\\N",
         "Rolf Stommelen",
         "1943-07-11",
         "German",
         "2023-09-23T20:22:29.129+0000"
        ],
        [
         244,
         "colombo",
         null,
         "\\N",
         "Alberto Colombo",
         "1946-02-23",
         "Italian",
         "2023-09-23T20:22:29.129+0000"
        ],
        [
         245,
         "trimmer",
         null,
         "\\N",
         "Tony Trimmer",
         "1943-01-24",
         "British",
         "2023-09-23T20:22:29.129+0000"
        ],
        [
         246,
         "binder",
         null,
         "\\N",
         "Hans Binder",
         "1948-06-12",
         "Austrian",
         "2023-09-23T20:22:29.129+0000"
        ],
        [
         247,
         "bleekemolen",
         null,
         "\\N",
         "Michael Bleekemolen",
         "1949-10-02",
         "Dutch",
         "2023-09-23T20:22:29.129+0000"
        ],
        [
         248,
         "gimax",
         null,
         "\\N",
         "Carlo Franchi",
         "1938-01-01",
         "Italian",
         "2023-09-23T20:22:29.129+0000"
        ],
        [
         249,
         "rahal",
         null,
         "\\N",
         "Bobby Rahal",
         "1953-01-10",
         "American",
         "2023-09-23T20:22:29.129+0000"
        ],
        [
         250,
         "pace",
         null,
         "\\N",
         "Carlos Pace",
         "1944-10-06",
         "Brazilian",
         "2023-09-23T20:22:29.129+0000"
        ],
        [
         251,
         "ian_scheckter",
         null,
         "\\N",
         "Ian Scheckter",
         "1947-08-22",
         "South African",
         "2023-09-23T20:22:29.129+0000"
        ],
        [
         252,
         "pryce",
         null,
         "\\N",
         "Tom Pryce",
         "1949-06-11",
         "British",
         "2023-09-23T20:22:29.129+0000"
        ],
        [
         253,
         "hoffmann",
         null,
         "\\N",
         "Ingo Hoffmann",
         "1953-02-28",
         "Brazilian",
         "2023-09-23T20:22:29.129+0000"
        ],
        [
         254,
         "zorzi",
         null,
         "\\N",
         "Renzo Zorzi",
         "1946-12-12",
         "Italian",
         "2023-09-23T20:22:29.129+0000"
        ],
        [
         255,
         "nilsson",
         null,
         "\\N",
         "Gunnar Nilsson",
         "1948-11-20",
         "Swedish",
         "2023-09-23T20:22:29.129+0000"
        ],
        [
         256,
         "perkins",
         null,
         "\\N",
         "Larry Perkins",
         "1950-03-18",
         "Australian",
         "2023-09-23T20:22:29.129+0000"
        ],
        [
         257,
         "hayje",
         null,
         "\\N",
         "Boy Lunger",
         "1949-05-03",
         "Dutch",
         "2023-09-23T20:22:29.129+0000"
        ],
        [
         258,
         "neve",
         null,
         "\\N",
         "Patrick Nève",
         "1949-10-13",
         "Belgian",
         "2023-09-23T20:22:29.129+0000"
        ],
        [
         259,
         "purley",
         null,
         "\\N",
         "David Purley",
         "1945-01-26",
         "British",
         "2023-09-23T20:22:29.129+0000"
        ],
        [
         260,
         "andersson",
         null,
         "\\N",
         "Conny Andersson",
         "1939-12-28",
         "Swedish",
         "2023-09-23T20:22:29.129+0000"
        ],
        [
         261,
         "dryver",
         null,
         "\\N",
         "Bernard de Dryver",
         "1952-09-19",
         "Belgian",
         "2023-09-23T20:22:29.129+0000"
        ],
        [
         262,
         "oliver",
         null,
         "\\N",
         "Jackie Oliver",
         "1942-08-14",
         "British",
         "2023-09-23T20:22:29.129+0000"
        ],
        [
         263,
         "kozarowitzky",
         null,
         "\\N",
         "Mikko Kozarowitzky",
         "1948-05-17",
         "Finnish",
         "2023-09-23T20:22:29.129+0000"
        ],
        [
         264,
         "sutcliffe",
         null,
         "\\N",
         "Andy Sutcliffe",
         "1947-05-09",
         "British",
         "2023-09-23T20:22:29.129+0000"
        ],
        [
         265,
         "edwards",
         null,
         "\\N",
         "Guy Edwards",
         "1942-12-30",
         "British",
         "2023-09-23T20:22:29.129+0000"
        ],
        [
         266,
         "mcguire",
         null,
         "\\N",
         "Brian McGuire",
         "1945-12-13",
         "Australian",
         "2023-09-23T20:22:29.129+0000"
        ],
        [
         267,
         "schuppan",
         null,
         "\\N",
         "Vern Schuppan",
         "1943-03-19",
         "Australian",
         "2023-09-23T20:22:29.129+0000"
        ],
        [
         268,
         "heyer",
         null,
         "\\N",
         "Hans Heyer",
         "1943-03-16",
         "German",
         "2023-09-23T20:22:29.129+0000"
        ],
        [
         269,
         "pilette",
         null,
         "\\N",
         "Teddy Pilette",
         "1942-07-26",
         "Belgian",
         "2023-09-23T20:22:29.129+0000"
        ],
        [
         270,
         "ashley",
         null,
         "\\N",
         "Ian Ashley",
         "1947-10-26",
         "British",
         "2023-09-23T20:22:29.129+0000"
        ],
        [
         271,
         "kessel",
         null,
         "\\N",
         "Loris Kessel",
         "1950-04-01",
         "Swiss",
         "2023-09-23T20:22:29.129+0000"
        ],
        [
         272,
         "takahashi",
         null,
         "\\N",
         "Kunimitsu Takahashi",
         "1940-01-29",
         "Japanese",
         "2023-09-23T20:22:29.129+0000"
        ],
        [
         273,
         "hoshino",
         null,
         "\\N",
         "Kazuyoshi Hoshino",
         "1947-07-01",
         "Japanese",
         "2023-09-23T20:22:29.129+0000"
        ],
        [
         274,
         "takahara",
         null,
         "\\N",
         "Noritake Takahara",
         "1951-06-06",
         "Japanese",
         "2023-09-23T20:22:29.129+0000"
        ],
        [
         275,
         "lombardi",
         null,
         "\\N",
         "Lella Lombardi",
         "1941-03-26",
         "Italian",
         "2023-09-23T20:22:29.129+0000"
        ],
        [
         276,
         "evans",
         null,
         "\\N",
         "Bob Evans",
         "1947-06-11",
         "British",
         "2023-09-23T20:22:29.129+0000"
        ],
        [
         277,
         "leclere",
         null,
         "\\N",
         "Michel Leclère",
         "1946-03-18",
         "French",
         "2023-09-23T20:22:29.129+0000"
        ],
        [
         278,
         "amon",
         null,
         "\\N",
         "Chris Amon",
         "1943-07-20",
         "New Zealander",
         "2023-09-23T20:22:29.129+0000"
        ],
        [
         279,
         "zapico",
         null,
         "\\N",
         "Emilio Zapico",
         "1944-05-27",
         "Spanish",
         "2023-09-23T20:22:29.129+0000"
        ],
        [
         280,
         "pescarolo",
         null,
         "\\N",
         "Henri Pescarolo",
         "1942-09-25",
         "French",
         "2023-09-23T20:22:29.129+0000"
        ],
        [
         281,
         "nelleman",
         null,
         "\\N",
         "Jac Nelleman",
         "1944-04-19",
         "Danish",
         "2023-09-23T20:22:29.129+0000"
        ],
        [
         282,
         "magee",
         null,
         "\\N",
         "Damien Magee",
         "1945-11-17",
         "British",
         "2023-09-23T20:22:29.129+0000"
        ],
        [
         283,
         "wilds",
         null,
         "\\N",
         "Mike Wilds",
         "1946-01-07",
         "British",
         "2023-09-23T20:22:29.129+0000"
        ],
        [
         284,
         "pesenti_rossi",
         null,
         "\\N",
         "Alessandro Pesenti-Rossi",
         "1942-08-31",
         "Italian",
         "2023-09-23T20:22:29.129+0000"
        ],
        [
         285,
         "stuppacher",
         null,
         "\\N",
         "Otto Stuppacher",
         "1947-03-03",
         "Austrian",
         "2023-09-23T20:22:29.129+0000"
        ],
        [
         286,
         "brown",
         null,
         "\\N",
         "Warwick Brown",
         "1949-12-24",
         "Australian",
         "2023-09-23T20:22:29.129+0000"
        ],
        [
         287,
         "hasemi",
         null,
         "\\N",
         "Masahiro Hasemi",
         "1945-11-13",
         "Japanese",
         "2023-09-23T20:22:29.129+0000"
        ],
        [
         288,
         "donohue",
         null,
         "\\N",
         "Mark Donohue",
         "1937-03-18",
         "American",
         "2023-09-23T20:22:29.129+0000"
        ],
        [
         289,
         "hill",
         null,
         "\\N",
         "Graham Hill",
         "1929-02-15",
         "British",
         "2023-09-23T20:22:29.129+0000"
        ],
        [
         290,
         "wilson_fittipaldi",
         null,
         "\\N",
         "Wilson Fittipaldi",
         "1943-12-25",
         "Brazilian",
         "2023-09-23T20:22:29.129+0000"
        ],
        [
         291,
         "tunmer",
         null,
         "\\N",
         "Guy Tunmer",
         "1948-12-01",
         "South African",
         "2023-09-23T20:22:29.129+0000"
        ],
        [
         292,
         "keizan",
         null,
         "\\N",
         "Eddie Keizan",
         "1944-09-12",
         "South African",
         "2023-09-23T20:22:29.129+0000"
        ],
        [
         293,
         "charlton",
         null,
         "\\N",
         "Dave Charlton",
         "1936-10-27",
         "South African",
         "2023-09-23T20:22:29.129+0000"
        ],
        [
         294,
         "brise",
         null,
         "\\N",
         "Tony Brise",
         "1952-03-28",
         "British",
         "2023-09-23T20:22:29.129+0000"
        ],
        [
         295,
         "wunderink",
         null,
         "\\N",
         "Roelof Wunderink",
         "1948-12-12",
         "Dutch",
         "2023-09-23T20:22:29.129+0000"
        ],
        [
         296,
         "migault",
         null,
         "\\N",
         "François Migault",
         "1944-12-04",
         "French",
         "2023-09-23T20:22:29.129+0000"
        ],
        [
         297,
         "palm",
         null,
         "\\N",
         "Torsten Palm",
         "1947-07-23",
         "Swedish",
         "2023-09-23T20:22:29.129+0000"
        ],
        [
         298,
         "lennep",
         null,
         "\\N",
         "Gijs van Lennep",
         "1942-03-16",
         "Dutch",
         "2023-09-23T20:22:29.129+0000"
        ],
        [
         299,
         "fushida",
         null,
         "\\N",
         "Hiroshi Fushida",
         "1946-03-10",
         "Japanese",
         "2023-09-23T20:22:29.129+0000"
        ],
        [
         300,
         "nicholson",
         null,
         "\\N",
         "John Nicholson",
         "1941-10-06",
         "New Zealander",
         "2023-09-23T20:22:29.129+0000"
        ],
        [
         301,
         "morgan",
         null,
         "\\N",
         "Dave Morgan",
         "1944-08-07",
         "British",
         "2023-09-23T20:22:29.129+0000"
        ],
        [
         302,
         "crawford",
         null,
         "\\N",
         "Jim Crawford",
         "1948-02-13",
         "British",
         "2023-09-23T20:22:29.129+0000"
        ],
        [
         303,
         "vonlanthen",
         null,
         "\\N",
         "Jo Vonlanthen",
         "1942-05-31",
         "Swiss",
         "2023-09-23T20:22:29.129+0000"
        ],
        [
         304,
         "hulme",
         null,
         "\\N",
         "Denny Hulme",
         "1936-06-18",
         "New Zealander",
         "2023-09-23T20:22:29.129+0000"
        ],
        [
         305,
         "hailwood",
         null,
         "\\N",
         "Mike Hailwood",
         "1940-04-02",
         "British",
         "2023-09-23T20:22:29.129+0000"
        ],
        [
         306,
         "beltoise",
         null,
         "\\N",
         "Jean-Pierre Beltoise",
         "1937-04-26",
         "French",
         "2023-09-23T20:22:29.129+0000"
        ],
        [
         307,
         "ganley",
         null,
         "\\N",
         "Howden Ganley",
         "1941-12-24",
         "New Zealander",
         "2023-09-23T20:22:29.129+0000"
        ],
        [
         308,
         "robarts",
         null,
         "\\N",
         "Richard Robarts",
         "1944-09-22",
         "British",
         "2023-09-23T20:22:29.129+0000"
        ],
        [
         309,
         "revson",
         null,
         "\\N",
         "Peter Revson",
         "1939-02-27",
         "American",
         "2023-09-23T20:22:29.129+0000"
        ],
        [
         310,
         "driver",
         null,
         "\\N",
         "Paddy Driver",
         "1934-05-13",
         "South African",
         "2023-09-23T20:22:29.129+0000"
        ],
        [
         311,
         "belso",
         null,
         "\\N",
         "Tom Belsø",
         "1942-08-27",
         "Danish",
         "2023-09-23T20:22:29.129+0000"
        ],
        [
         312,
         "redman",
         null,
         "\\N",
         "Brian Redman",
         "1937-03-09",
         "British",
         "2023-09-23T20:22:29.129+0000"
        ],
        [
         313,
         "opel",
         null,
         "\\N",
         "Rikky von Opel",
         "1947-10-14",
         "Liechtensteiner",
         "2023-09-23T20:22:29.129+0000"
        ],
        [
         314,
         "schenken",
         null,
         "\\N",
         "Tim Schenken",
         "1943-09-26",
         "Australian",
         "2023-09-23T20:22:29.129+0000"
        ],
        [
         315,
         "larrousse",
         null,
         "\\N",
         "Gérard Larrousse",
         "1940-05-23",
         "French",
         "2023-09-23T20:22:29.129+0000"
        ],
        [
         316,
         "kinnunen",
         null,
         "\\N",
         "Leo Kinnunen",
         "1943-08-05",
         "Finnish",
         "2023-09-23T20:22:29.129+0000"
        ],
        [
         317,
         "wisell",
         null,
         "\\N",
         "Reine Wisell",
         "1941-09-30",
         "Swedish",
         "2023-09-23T20:22:29.129+0000"
        ],
        [
         318,
         "roos",
         null,
         "\\N",
         "Bertil Roos",
         "1943-10-12",
         "Swedish",
         "2023-09-23T20:22:29.129+0000"
        ],
        [
         319,
         "dolhem",
         null,
         "\\N",
         "José Dolhem",
         "1944-04-26",
         "French",
         "2023-09-23T20:22:29.129+0000"
        ],
        [
         320,
         "gethin",
         null,
         "\\N",
         "Peter Gethin",
         "1940-02-21",
         "British",
         "2023-09-23T20:22:29.129+0000"
        ],
        [
         321,
         "bell",
         null,
         "\\N",
         "Derek Bell",
         "1941-10-31",
         "British",
         "2023-09-23T20:22:29.129+0000"
        ],
        [
         322,
         "hobbs",
         null,
         "\\N",
         "David Hobbs",
         "1939-06-09",
         "British",
         "2023-09-23T20:22:29.129+0000"
        ],
        [
         323,
         "quester",
         null,
         "\\N",
         "Dieter Quester",
         "1939-05-30",
         "Austrian",
         "2023-09-23T20:22:29.129+0000"
        ],
        [
         324,
         "koinigg",
         null,
         "\\N",
         "Helmuth Koinigg",
         "1948-11-03",
         "Austrian",
         "2023-09-23T20:22:29.129+0000"
        ],
        [
         325,
         "facetti",
         null,
         "\\N",
         "Carlo Facetti",
         "1935-06-26",
         "Italian",
         "2023-09-23T20:22:29.129+0000"
        ],
        [
         326,
         "wietzes",
         null,
         "\\N",
         "Eppie Wietzes",
         "1938-05-28",
         "Canadian",
         "2023-09-23T20:22:29.129+0000"
        ],
        [
         327,
         "cevert",
         null,
         "\\N",
         "François Cevert",
         "1944-02-25",
         "French",
         "2023-09-23T20:22:29.129+0000"
        ],
        [
         328,
         "stewart",
         null,
         "\\N",
         "Jackie Stewart",
         "1939-06-11",
         "British",
         "2023-09-23T20:22:29.129+0000"
        ],
        [
         329,
         "beuttler",
         null,
         "\\N",
         "Mike Beuttler",
         "1940-04-13",
         "British",
         "2023-09-23T20:22:29.129+0000"
        ],
        [
         330,
         "galli",
         null,
         "\\N",
         "Nanni Galli",
         "1940-10-02",
         "Italian",
         "2023-09-23T20:22:29.129+0000"
        ],
        [
         331,
         "bueno",
         null,
         "\\N",
         "Luiz Bueno",
         "1937-01-16",
         "Brazilian",
         "2023-09-23T20:22:29.129+0000"
        ],
        [
         332,
         "follmer",
         null,
         "\\N",
         "George Follmer",
         "1934-01-27",
         "American",
         "2023-09-23T20:22:29.129+0000"
        ],
        [
         333,
         "adamich",
         null,
         "\\N",
         "Andrea de Adamich",
         "1941-10-03",
         "Italian",
         "2023-09-23T20:22:29.129+0000"
        ],
        [
         334,
         "pretorius",
         null,
         "\\N",
         "Jackie Pretorius",
         "1934-11-22",
         "South African",
         "2023-09-23T20:22:29.129+0000"
        ],
        [
         335,
         "williamson",
         null,
         "\\N",
         "Roger Williamson",
         "1948-02-02",
         "British",
         "2023-09-23T20:22:29.129+0000"
        ],
        [
         336,
         "mcrae",
         null,
         "\\N",
         "Graham McRae",
         "1940-03-05",
         "New Zealander",
         "2023-09-23T20:22:29.129+0000"
        ],
        [
         337,
         "marko",
         null,
         "\\N",
         "Helmut Marko",
         "1943-04-27",
         "Austrian",
         "2023-09-23T20:22:29.129+0000"
        ],
        [
         338,
         "walker",
         null,
         "\\N",
         "David Walker",
         "1941-06-10",
         "Australian",
         "2023-09-23T20:22:29.129+0000"
        ],
        [
         339,
         "roig",
         null,
         "\\N",
         "Alex Soler-Roig",
         "1932-10-29",
         "Spanish",
         "2023-09-23T20:22:29.129+0000"
        ],
        [
         340,
         "love",
         null,
         "\\N",
         "John Love",
         "1924-12-07",
         "Rhodesian",
         "2023-09-23T20:22:29.129+0000"
        ],
        [
         341,
         "surtees",
         null,
         "\\N",
         "John Surtees",
         "1934-02-11",
         "British",
         "2023-09-23T20:22:29.129+0000"
        ],
        [
         342,
         "barber",
         null,
         "\\N",
         "Skip Barber",
         "1936-11-16",
         "American",
         "2023-09-23T20:22:29.129+0000"
        ],
        [
         343,
         "brack",
         null,
         "\\N",
         "Bill Brack",
         "1935-12-26",
         "Canadian",
         "2023-09-23T20:22:29.129+0000"
        ],
        [
         344,
         "posey",
         null,
         "\\N",
         "Sam Posey",
         "1944-05-26",
         "American",
         "2023-09-23T20:22:29.129+0000"
        ],
        [
         345,
         "rodriguez",
         null,
         "\\N",
         "Pedro Rodríguez",
         "1940-01-18",
         "Mexican",
         "2023-09-23T20:22:29.129+0000"
        ],
        [
         346,
         "siffert",
         null,
         "\\N",
         "Jo Siffert",
         "1936-07-07",
         "Swiss",
         "2023-09-23T20:22:29.129+0000"
        ],
        [
         347,
         "bonnier",
         null,
         "\\N",
         "Jo Bonnier",
         "1930-01-31",
         "Swedish",
         "2023-09-23T20:22:29.129+0000"
        ],
        [
         348,
         "mazet",
         null,
         "\\N",
         "François Mazet",
         "1943-02-24",
         "French",
         "2023-09-23T20:22:29.129+0000"
        ],
        [
         349,
         "jean",
         null,
         "\\N",
         "Max Jean",
         "1943-07-27",
         "French",
         "2023-09-23T20:22:29.129+0000"
        ],
        [
         350,
         "elford",
         null,
         "\\N",
         "Vic Elford",
         "1935-06-10",
         "British",
         "2023-09-23T20:22:29.129+0000"
        ],
        [
         351,
         "moser",
         null,
         "\\N",
         "Silvio Moser",
         "1941-04-24",
         "Swiss",
         "2023-09-23T20:22:29.129+0000"
        ],
        [
         352,
         "eaton",
         null,
         "\\N",
         "George Eaton",
         "1945-11-12",
         "Canadian",
         "2023-09-23T20:22:29.129+0000"
        ],
        [
         353,
         "lovely",
         null,
         "\\N",
         "Pete Lovely",
         "1926-04-11",
         "American",
         "2023-09-23T20:22:29.129+0000"
        ],
        [
         354,
         "craft",
         null,
         "\\N",
         "Chris Craft",
         "1939-11-17",
         "British",
         "2023-09-23T20:22:29.129+0000"
        ],
        [
         355,
         "Cannoc",
         null,
         "\\N",
         "John Cannon",
         "1933-06-21",
         "Canadian",
         "2023-09-23T20:22:29.129+0000"
        ],
        [
         356,
         "jack_brabham",
         null,
         "\\N",
         "Jack Brabham",
         "1926-04-02",
         "Australian",
         "2023-09-23T20:22:29.129+0000"
        ],
        [
         357,
         "miles",
         null,
         "\\N",
         "John Miles",
         "1943-06-14",
         "British",
         "2023-09-23T20:22:29.129+0000"
        ],
        [
         358,
         "rindt",
         null,
         "\\N",
         "Jochen Rindt",
         "1942-04-18",
         "Austrian",
         "2023-09-23T20:22:29.129+0000"
        ],
        [
         359,
         "gavin",
         null,
         "\\N",
         "Johnny Servoz-Gavin",
         "1942-01-18",
         "French",
         "2023-09-23T20:22:29.129+0000"
        ],
        [
         360,
         "mclaren",
         null,
         "\\N",
         "Bruce McLaren",
         "1937-08-30",
         "New Zealander",
         "2023-09-23T20:22:29.129+0000"
        ],
        [
         361,
         "courage",
         null,
         "\\N",
         "Piers Courage",
         "1942-05-27",
         "British",
         "2023-09-23T20:22:29.129+0000"
        ],
        [
         362,
         "klerk",
         null,
         "\\N",
         "Peter de Klerk",
         "1935-03-16",
         "South African",
         "2023-09-23T20:22:29.129+0000"
        ],
        [
         363,
         "giunti",
         null,
         "\\N",
         "Ignazio Giunti",
         "1941-08-30",
         "Italian",
         "2023-09-23T20:22:29.129+0000"
        ],
        [
         364,
         "gurney",
         null,
         "\\N",
         "Dan Gurney",
         "1931-04-13",
         "American",
         "2023-09-23T20:22:29.129+0000"
        ],
        [
         365,
         "hahne",
         null,
         "\\N",
         "Hubert Hahne",
         "1935-03-28",
         "German",
         "2023-09-23T20:22:29.129+0000"
        ],
        [
         366,
         "hutchison",
         null,
         "\\N",
         "Gus Hutchison",
         "1937-04-26",
         "American",
         "2023-09-23T20:22:29.129+0000"
        ],
        [
         367,
         "westbury",
         null,
         "\\N",
         "Peter Westbury",
         "1938-05-26",
         "British",
         "2023-09-23T20:22:29.129+0000"
        ],
        [
         368,
         "tingle",
         null,
         "\\N",
         "Sam Tingle",
         "1921-08-24",
         "Rhodesian",
         "2023-09-23T20:22:29.129+0000"
        ],
        [
         369,
         "rooyen",
         null,
         "\\N",
         "Basil van Rooyen",
         "1939-04-19",
         "South African",
         "2023-09-23T20:22:29.129+0000"
        ],
        [
         370,
         "attwood",
         null,
         "\\N",
         "Richard Attwood",
         "1940-04-04",
         "British",
         "2023-09-23T20:22:29.129+0000"
        ],
        [
         371,
         "pease",
         null,
         "\\N",
         "Al Pease",
         "1921-10-15",
         "Canadian",
         "2023-09-23T20:22:29.129+0000"
        ],
        [
         372,
         "cordts",
         null,
         "\\N",
         "John Cordts",
         "1935-07-23",
         "Canadian",
         "2023-09-23T20:22:29.129+0000"
        ],
        [
         373,
         "clark",
         null,
         "\\N",
         "Jim Clark",
         "1936-03-04",
         "British",
         "2023-09-23T20:22:29.129+0000"
        ],
        [
         374,
         "spence",
         null,
         "\\N",
         "Mike Spence",
         "1936-12-30",
         "British",
         "2023-09-23T20:22:29.129+0000"
        ],
        [
         375,
         "scarfiotti",
         null,
         "\\N",
         "Ludovico Scarfiotti",
         "1933-10-18",
         "Italian",
         "2023-09-23T20:22:29.129+0000"
        ],
        [
         376,
         "bianchi",
         null,
         "BIA",
         "Lucien Bianchi",
         "1934-11-10",
         "Belgian",
         "2023-09-23T20:22:29.129+0000"
        ],
        [
         377,
         "jo_schlesser",
         null,
         "\\N",
         "Jo Schlesser",
         "1928-05-18",
         "French",
         "2023-09-23T20:22:29.129+0000"
        ],
        [
         378,
         "widdows",
         null,
         "\\N",
         "Robin Widdows",
         "1942-05-27",
         "British",
         "2023-09-23T20:22:29.129+0000"
        ],
        [
         379,
         "ahrens",
         null,
         "\\N",
         "Kurt Ahrens",
         "1940-04-19",
         "German",
         "2023-09-23T20:22:29.129+0000"
        ],
        [
         380,
         "gardner",
         null,
         "\\N",
         "Frank Gardner",
         "1930-10-01",
         "Australian",
         "2023-09-23T20:22:29.129+0000"
        ],
        [
         381,
         "unser",
         null,
         "\\N",
         "Bobby Unser",
         "1934-02-20",
         "American",
         "2023-09-23T20:22:29.129+0000"
        ],
        [
         382,
         "solana",
         null,
         "\\N",
         "Moisés Solana",
         "1935-12-26",
         "Mexican",
         "2023-09-23T20:22:29.129+0000"
        ],
        [
         383,
         "anderson",
         null,
         "\\N",
         "Bob Anderson",
         "1931-05-19",
         "British",
         "2023-09-23T20:22:29.129+0000"
        ],
        [
         384,
         "botha",
         null,
         "\\N",
         "Luki Botha",
         "1930-01-16",
         "South African",
         "2023-09-23T20:22:29.129+0000"
        ],
        [
         385,
         "bandini",
         null,
         "\\N",
         "Lorenzo Bandini",
         "1935-12-21",
         "Italian",
         "2023-09-23T20:22:29.129+0000"
        ],
        [
         386,
         "ginther",
         null,
         "\\N",
         "Richie Ginther",
         "1930-08-05",
         "American",
         "2023-09-23T20:22:29.129+0000"
        ],
        [
         387,
         "parkes",
         null,
         "\\N",
         "Mike Parkes",
         "1931-09-24",
         "British",
         "2023-09-23T20:22:29.129+0000"
        ],
        [
         388,
         "irwin",
         null,
         "\\N",
         "Chris Irwin",
         "1942-06-27",
         "British",
         "2023-09-23T20:22:29.129+0000"
        ],
        [
         389,
         "ligier",
         null,
         "\\N",
         "Guy Ligier",
         "1930-07-12",
         "French",
         "2023-09-23T20:22:29.129+0000"
        ],
        [
         390,
         "rees",
         null,
         "\\N",
         "Alan Rees",
         "1938-01-12",
         "British",
         "2023-09-23T20:22:29.129+0000"
        ],
        [
         391,
         "hart",
         null,
         "\\N",
         "Brian Hart",
         "1936-09-07",
         "British",
         "2023-09-23T20:22:29.129+0000"
        ],
        [
         392,
         "fisher",
         null,
         "\\N",
         "Mike Fisher",
         "1943-03-13",
         "American",
         "2023-09-23T20:22:29.129+0000"
        ],
        [
         393,
         "tom_jones",
         null,
         "\\N",
         "Tom Jones",
         "1943-04-26",
         "American",
         "2023-09-23T20:22:29.129+0000"
        ],
        [
         394,
         "baghetti",
         null,
         "\\N",
         "Giancarlo Baghetti",
         "1934-12-25",
         "Italian",
         "2023-09-23T20:22:29.129+0000"
        ],
        [
         395,
         "williams",
         null,
         "\\N",
         "Jonathan Williams",
         "1942-10-26",
         "British",
         "2023-09-23T20:22:29.129+0000"
        ],
        [
         396,
         "bondurant",
         null,
         "\\N",
         "Bob Bondurant",
         "1933-04-27",
         "American",
         "2023-09-23T20:22:29.129+0000"
        ],
        [
         397,
         "arundell",
         null,
         "\\N",
         "Peter Arundell",
         "1933-11-08",
         "British",
         "2023-09-23T20:22:29.129+0000"
        ],
        [
         398,
         "vic_wilson",
         null,
         "\\N",
         "Vic Wilson",
         "1931-04-14",
         "British",
         "2023-09-23T20:22:29.129+0000"
        ],
        [
         399,
         "taylor",
         null,
         "\\N",
         "John Taylor",
         "1933-03-23",
         "British",
         "2023-09-23T20:22:29.129+0000"
        ],
        [
         400,
         "lawrence",
         null,
         "\\N",
         "Chris Lawrence",
         "1933-07-27",
         "British",
         "2023-09-23T20:22:29.129+0000"
        ],
        [
         401,
         "trevor_taylor",
         null,
         "\\N",
         "Trevor Taylor",
         "1936-12-26",
         "British",
         "2023-09-23T20:22:29.129+0000"
        ],
        [
         402,
         "geki",
         null,
         "\\N",
         "Giacomo Russo",
         "1937-10-23",
         "Italian",
         "2023-09-23T20:22:29.129+0000"
        ],
        [
         403,
         "phil_hill",
         null,
         "\\N",
         "Phil Hill",
         "1927-04-20",
         "American",
         "2023-09-23T20:22:29.129+0000"
        ],
        [
         404,
         "ireland",
         null,
         "\\N",
         "Innes Ireland",
         "1930-06-12",
         "British",
         "2023-09-23T20:22:29.129+0000"
        ],
        [
         405,
         "bucknum",
         null,
         "\\N",
         "Ronnie Bucknum",
         "1936-04-05",
         "American",
         "2023-09-23T20:22:29.129+0000"
        ],
        [
         406,
         "hawkins",
         null,
         "\\N",
         "Paul Hawkins",
         "1937-10-12",
         "Australian",
         "2023-09-23T20:22:29.129+0000"
        ],
        [
         407,
         "prophet",
         null,
         "\\N",
         "David Prophet",
         "1937-10-09",
         "British",
         "2023-09-23T20:22:29.129+0000"
        ],
        [
         408,
         "maggs",
         null,
         "\\N",
         "Tony Maggs",
         "1937-02-09",
         "South African",
         "2023-09-23T20:22:29.129+0000"
        ],
        [
         409,
         "blokdyk",
         null,
         "\\N",
         "Trevor Blokdyk",
         "1935-11-30",
         "South African",
         "2023-09-23T20:22:29.129+0000"
        ],
        [
         410,
         "lederle",
         null,
         "\\N",
         "Neville Lederle",
         "1938-09-25",
         "South African",
         "2023-09-23T20:22:29.129+0000"
        ],
        [
         411,
         "serrurier",
         null,
         "\\N",
         "Doug Serrurier",
         "1920-12-09",
         "South African",
         "2023-09-23T20:22:29.129+0000"
        ],
        [
         412,
         "niemann",
         null,
         "\\N",
         "Brausch Niemann",
         "1939-01-07",
         "South African",
         "2023-09-23T20:22:29.129+0000"
        ],
        [
         413,
         "pieterse",
         null,
         "\\N",
         "Ernie Pieterse",
         "1938-07-04",
         "South African",
         "2023-09-23T20:22:29.129+0000"
        ],
        [
         414,
         "puzey",
         null,
         "\\N",
         "Clive Puzey",
         "1941-07-11",
         "Rhodesian",
         "2023-09-23T20:22:29.129+0000"
        ],
        [
         415,
         "reed",
         null,
         "\\N",
         "Ray Reed",
         "1932-04-30",
         "South African",
         "2023-09-23T20:22:29.129+0000"
        ],
        [
         416,
         "clapham",
         null,
         "\\N",
         "David Clapham",
         "1931-05-18",
         "South African",
         "2023-09-23T20:22:29.129+0000"
        ],
        [
         417,
         "blignaut",
         null,
         "\\N",
         "Alex Blignaut",
         "1932-11-30",
         "South African",
         "2023-09-23T20:22:29.129+0000"
        ],
        [
         418,
         "gregory",
         null,
         "\\N",
         "Masten Gregory",
         "1932-02-29",
         "American",
         "2023-09-23T20:22:29.129+0000"
        ],
        [
         419,
         "rhodes",
         null,
         "\\N",
         "John Rhodes",
         "1927-08-18",
         "British",
         "2023-09-23T20:22:29.129+0000"
        ],
        [
         420,
         "raby",
         null,
         "\\N",
         "Ian Raby",
         "1921-09-22",
         "British",
         "2023-09-23T20:22:29.129+0000"
        ],
        [
         421,
         "rollinson",
         null,
         "\\N",
         "Alan Rollinson",
         "1943-05-15",
         "British",
         "2023-09-23T20:22:29.129+0000"
        ],
        [
         422,
         "gubby",
         null,
         "\\N",
         "Brian Gubby",
         "1934-04-17",
         "British",
         "2023-09-23T20:22:29.129+0000"
        ],
        [
         423,
         "mitter",
         null,
         "\\N",
         "Gerhard Mitter",
         "1935-08-30",
         "German",
         "2023-09-23T20:22:29.129+0000"
        ],
        [
         424,
         "bussinello",
         null,
         "\\N",
         "Roberto Bussinello",
         "1927-10-04",
         "Italian",
         "2023-09-23T20:22:29.129+0000"
        ],
        [
         425,
         "vaccarella",
         null,
         "\\N",
         "Nino Vaccarella",
         "1933-03-04",
         "Italian",
         "2023-09-23T20:22:29.129+0000"
        ],
        [
         426,
         "bassi",
         null,
         "\\N",
         "Giorgio Bassi",
         "1934-01-20",
         "Italian",
         "2023-09-23T20:22:29.129+0000"
        ],
        [
         427,
         "trintignant",
         null,
         "\\N",
         "Maurice Trintignant",
         "1917-10-30",
         "French",
         "2023-09-23T20:22:29.129+0000"
        ],
        [
         428,
         "collomb",
         null,
         "\\N",
         "Bernard Collomb",
         "1930-10-07",
         "French",
         "2023-09-23T20:22:29.129+0000"
        ],
        [
         429,
         "andre_pilette",
         null,
         "\\N",
         "André Pilette",
         "1918-10-06",
         "Belgian",
         "2023-09-23T20:22:29.129+0000"
        ],
        [
         430,
         "beaufort",
         null,
         "\\N",
         "Carel Godin de Beaufort",
         "1934-04-10",
         "Dutch",
         "2023-09-23T20:22:29.129+0000"
        ],
        [
         431,
         "barth",
         null,
         "\\N",
         "Edgar Barth",
         "1917-01-26",
         "German",
         "2023-09-23T20:22:29.129+0000"
        ],
        [
         432,
         "cabral",
         null,
         "\\N",
         "Mário de Araújo Cabral",
         "1934-01-15",
         "Portuguese",
         "2023-09-23T20:22:29.129+0000"
        ],
        [
         433,
         "hansgen",
         null,
         "\\N",
         "Walt Hansgen",
         "1919-10-28",
         "American",
         "2023-09-23T20:22:29.129+0000"
        ],
        [
         434,
         "sharp",
         null,
         "\\N",
         "Hap Sharp",
         "1928-01-01",
         "American",
         "2023-09-23T20:22:29.129+0000"
        ],
        [
         435,
         "mairesse",
         null,
         "\\N",
         "Willy Mairesse",
         "1928-10-01",
         "Belgian",
         "2023-09-23T20:22:29.129+0000"
        ],
        [
         436,
         "campbell-jones",
         null,
         "\\N",
         "John Campbell-Jones",
         "1930-01-21",
         "British",
         "2023-09-23T20:22:29.129+0000"
        ],
        [
         437,
         "burgess",
         null,
         "\\N",
         "Ian Burgess",
         "1930-07-06",
         "British",
         "2023-09-23T20:22:29.129+0000"
        ],
        [
         438,
         "settember",
         null,
         "\\N",
         "Tony Settember",
         "1926-07-10",
         "American",
         "2023-09-23T20:22:29.129+0000"
        ],
        [
         439,
         "estefano",
         null,
         "\\N",
         "Nasif Estéfano",
         "1932-11-18",
         "Argentine",
         "2023-09-23T20:22:29.129+0000"
        ],
        [
         440,
         "hall",
         null,
         "\\N",
         "Jim Hall",
         "1935-07-23",
         "American",
         "2023-09-23T20:22:29.129+0000"
        ],
        [
         441,
         "parnell",
         null,
         "\\N",
         "Tim Parnell",
         "1932-06-25",
         "British",
         "2023-09-23T20:22:29.129+0000"
        ],
        [
         442,
         "kuhnke",
         null,
         "\\N",
         "Kurt Kuhnke",
         "1910-04-30",
         "German",
         "2023-09-23T20:22:29.129+0000"
        ],
        [
         443,
         "ernesto_brambilla",
         null,
         "\\N",
         "Ernesto Brambilla",
         "1934-01-31",
         "Italian",
         "2023-09-23T20:22:29.129+0000"
        ],
        [
         444,
         "lippi",
         null,
         "\\N",
         "Roberto Lippi",
         "1926-10-17",
         "Italian",
         "2023-09-23T20:22:29.129+0000"
        ],
        [
         445,
         "seiffert",
         null,
         "\\N",
         "Günther Seiffert",
         "1937-10-18",
         "German",
         "2023-09-23T20:22:29.129+0000"
        ],
        [
         446,
         "abate",
         null,
         "\\N",
         "Carlo Abate",
         "1932-07-10",
         "Italian",
         "2023-09-23T20:22:29.129+0000"
        ],
        [
         447,
         "starrabba",
         null,
         "\\N",
         "Gaetano Starrabba",
         "1932-12-03",
         "Italian",
         "2023-09-23T20:22:29.129+0000"
        ],
        [
         448,
         "broeker",
         null,
         "\\N",
         "Peter Broeker",
         "1926-05-15",
         "Canadian",
         "2023-09-23T20:22:29.129+0000"
        ],
        [
         449,
         "ward",
         null,
         "\\N",
         "Rodger Ward",
         "1921-01-10",
         "American",
         "2023-09-23T20:22:29.129+0000"
        ],
        [
         450,
         "vos",
         null,
         "\\N",
         "Ernie de Vos",
         "1941-07-01",
         "Dutch",
         "2023-09-23T20:22:29.129+0000"
        ],
        [
         451,
         "dochnal",
         null,
         "\\N",
         "Frank Dochnal",
         "1920-10-08",
         "American",
         "2023-09-23T20:22:29.129+0000"
        ],
        [
         452,
         "monarch",
         null,
         "\\N",
         "Thomas Monarch",
         "1945-09-03",
         "American",
         "2023-09-23T20:22:29.129+0000"
        ],
        [
         842,
         "gasly",
         10,
         "GAS",
         "Pierre Gasly",
         "1996-02-07",
         "French",
         "2023-09-23T20:22:29.129+0000"
        ],
        [
         453,
         "lewis",
         null,
         "\\N",
         "Jackie Lewis",
         "1936-11-01",
         "British",
         "2023-09-23T20:22:29.129+0000"
        ],
        [
         454,
         "ricardo_rodriguez",
         null,
         "\\N",
         "Ricardo Rodríguez",
         "1942-02-14",
         "Mexican",
         "2023-09-23T20:22:29.129+0000"
        ],
        [
         455,
         "seidel",
         null,
         "\\N",
         "Wolfgang Seidel",
         "1926-07-04",
         "German",
         "2023-09-23T20:22:29.129+0000"
        ],
        [
         456,
         "salvadori",
         null,
         "\\N",
         "Roy Salvadori",
         "1922-05-12",
         "British",
         "2023-09-23T20:22:29.129+0000"
        ],
        [
         457,
         "pon",
         null,
         "\\N",
         "Ben Pon",
         "1936-12-09",
         "Dutch",
         "2023-09-23T20:22:29.129+0000"
        ],
        [
         458,
         "slotemaker",
         null,
         "\\N",
         "Rob Slotemaker",
         "1929-06-13",
         "Dutch",
         "2023-09-23T20:22:29.129+0000"
        ],
        [
         459,
         "marsh",
         null,
         "\\N",
         "Tony Marsh",
         "1931-07-20",
         "British",
         "2023-09-23T20:22:29.129+0000"
        ],
        [
         460,
         "ashmore",
         null,
         "\\N",
         "Gerry Ashmore",
         "1936-07-25",
         "British",
         "2023-09-23T20:22:29.129+0000"
        ],
        [
         461,
         "schiller",
         null,
         "\\N",
         "Heinz Schiller",
         "1930-01-25",
         "Swiss",
         "2023-09-23T20:22:29.129+0000"
        ],
        [
         462,
         "davis",
         null,
         "\\N",
         "Colin Davis",
         "1933-07-29",
         "British",
         "2023-09-23T20:22:29.129+0000"
        ],
        [
         463,
         "chamberlain",
         null,
         "\\N",
         "Jay Chamberlain",
         "1925-12-29",
         "American",
         "2023-09-23T20:22:29.129+0000"
        ],
        [
         464,
         "shelly",
         null,
         "\\N",
         "Tony Shelly",
         "1937-02-02",
         "New Zealander",
         "2023-09-23T20:22:29.129+0000"
        ],
        [
         465,
         "greene",
         null,
         "\\N",
         "Keith Greene",
         "1938-01-05",
         "British",
         "2023-09-23T20:22:29.129+0000"
        ],
        [
         466,
         "walter",
         null,
         "\\N",
         "Heini Walter",
         "1927-07-28",
         "Swiss",
         "2023-09-23T20:22:29.129+0000"
        ],
        [
         467,
         "prinoth",
         null,
         "\\N",
         "Ernesto Prinoth",
         "1923-04-15",
         "Italian",
         "2023-09-23T20:22:29.129+0000"
        ],
        [
         468,
         "penske",
         null,
         "\\N",
         "Roger Penske",
         "1937-02-20",
         "American",
         "2023-09-23T20:22:29.129+0000"
        ],
        [
         469,
         "schroeder",
         null,
         "\\N",
         "Rob Schroeder",
         "1926-05-11",
         "British",
         "2023-09-23T20:22:29.129+0000"
        ],
        [
         470,
         "mayer",
         null,
         "\\N",
         "Timmy Mayer",
         "1938-02-22",
         "American",
         "2023-09-23T20:22:29.129+0000"
        ],
        [
         471,
         "johnstone",
         null,
         "\\N",
         "Bruce Johnstone",
         "1937-01-30",
         "South African",
         "2023-09-23T20:22:29.129+0000"
        ],
        [
         472,
         "harris",
         null,
         "\\N",
         "Mike Harris",
         "1939-05-25",
         "South African",
         "2023-09-23T20:22:29.129+0000"
        ],
        [
         473,
         "hocking",
         null,
         "\\N",
         "Gary Hocking",
         "1937-09-30",
         "Rhodesian",
         "2023-09-23T20:22:29.129+0000"
        ],
        [
         474,
         "vyver",
         null,
         "\\N",
         "Syd van der Vyver",
         "1920-06-01",
         "South African",
         "2023-09-23T20:22:29.129+0000"
        ],
        [
         475,
         "moss",
         null,
         "\\N",
         "Stirling Moss",
         "1929-09-17",
         "British",
         "2023-09-23T20:22:29.129+0000"
        ],
        [
         476,
         "trips",
         null,
         "\\N",
         "Wolfgang von Trips",
         "1928-05-04",
         "German",
         "2023-09-23T20:22:29.129+0000"
        ],
        [
         477,
         "allison",
         null,
         "\\N",
         "Cliff Allison",
         "1932-02-08",
         "British",
         "2023-09-23T20:22:29.129+0000"
        ],
        [
         478,
         "herrmann",
         null,
         "\\N",
         "Hans Herrmann",
         "1928-02-23",
         "German",
         "2023-09-23T20:22:29.129+0000"
        ],
        [
         479,
         "brooks",
         null,
         "\\N",
         "Tony Brooks",
         "1932-02-25",
         "British",
         "2023-09-23T20:22:29.129+0000"
        ],
        [
         480,
         "may",
         null,
         "\\N",
         "Michael May",
         "1934-08-18",
         "Swiss",
         "2023-09-23T20:22:29.129+0000"
        ],
        [
         481,
         "henry_taylor",
         null,
         "\\N",
         "Henry Taylor",
         "1932-12-16",
         "British",
         "2023-09-23T20:22:29.129+0000"
        ],
        [
         482,
         "gendebien",
         null,
         "\\N",
         "Olivier Gendebien",
         "1924-01-12",
         "Belgian",
         "2023-09-23T20:22:29.129+0000"
        ],
        [
         483,
         "scarlatti",
         null,
         "\\N",
         "Giorgio Scarlatti",
         "1921-10-02",
         "Italian",
         "2023-09-23T20:22:29.129+0000"
        ],
        [
         484,
         "naylor",
         null,
         "\\N",
         "Brian Naylor",
         "1923-03-24",
         "British",
         "2023-09-23T20:22:29.129+0000"
        ],
        [
         485,
         "bordeu",
         null,
         "\\N",
         "Juan Manuel Bordeu",
         "1934-01-28",
         "Argentine",
         "2023-09-23T20:22:29.129+0000"
        ],
        [
         486,
         "fairman",
         null,
         "\\N",
         "Jack Fairman",
         "1913-03-15",
         "British",
         "2023-09-23T20:22:29.129+0000"
        ],
        [
         487,
         "natili",
         null,
         "\\N",
         "Massimo Natili",
         "1935-07-28",
         "Italian",
         "2023-09-23T20:22:29.129+0000"
        ],
        [
         488,
         "monteverdi",
         null,
         "\\N",
         "Peter Monteverdi",
         "1934-06-07",
         "Swiss",
         "2023-09-23T20:22:29.129+0000"
        ],
        [
         489,
         "pirocchi",
         null,
         "\\N",
         "Renato Pirocchi",
         "1933-03-26",
         "Italian",
         "2023-09-23T20:22:29.129+0000"
        ],
        [
         490,
         "duke",
         null,
         "\\N",
         "Geoff Duke",
         "1923-03-29",
         "British",
         "2023-09-23T20:22:29.129+0000"
        ],
        [
         491,
         "thiele",
         null,
         "\\N",
         "Alfonso Thiele",
         "1920-04-05",
         "American-Italian",
         "2023-09-23T20:22:29.129+0000"
        ],
        [
         492,
         "boffa",
         null,
         "\\N",
         "Menato Boffa",
         "1930-01-04",
         "Italian",
         "2023-09-23T20:22:29.129+0000"
        ],
        [
         493,
         "ryan",
         null,
         "\\N",
         "Peter Ryan",
         "1940-06-10",
         "Canadian",
         "2023-09-23T20:22:29.129+0000"
        ],
        [
         494,
         "ruby",
         null,
         "\\N",
         "Lloyd Ruby",
         "1928-01-12",
         "American",
         "2023-09-23T20:22:29.129+0000"
        ],
        [
         495,
         "ken_miles",
         null,
         "\\N",
         "Ken Miles",
         "1918-11-01",
         "British",
         "2023-09-23T20:22:29.129+0000"
        ],
        [
         496,
         "menditeguy",
         null,
         "\\N",
         "Carlos Menditeguy",
         "1914-08-10",
         "Argentine",
         "2023-09-23T20:22:29.129+0000"
        ],
        [
         497,
         "larreta",
         null,
         "\\N",
         "Alberto Rodriguez Larreta",
         "1934-01-14",
         "Argentine",
         "2023-09-23T20:22:29.129+0000"
        ],
        [
         498,
         "gonzalez",
         null,
         "\\N",
         "José Froilán González",
         "1922-10-05",
         "Argentine",
         "2023-09-23T20:22:29.129+0000"
        ],
        [
         499,
         "bonomi",
         null,
         "\\N",
         "Roberto Bonomi",
         "1919-09-30",
         "Argentine",
         "2023-09-23T20:22:29.129+0000"
        ],
        [
         500,
         "munaron",
         null,
         "\\N",
         "Gino Munaron",
         "1928-04-02",
         "Italian",
         "2023-09-23T20:22:29.129+0000"
        ],
        [
         501,
         "schell",
         null,
         "\\N",
         "Harry Schell",
         "1921-06-29",
         "American",
         "2023-09-23T20:22:29.129+0000"
        ],
        [
         502,
         "stacey",
         null,
         "\\N",
         "Alan Stacey",
         "1933-08-29",
         "British",
         "2023-09-23T20:22:29.129+0000"
        ],
        [
         503,
         "chimeri",
         null,
         "\\N",
         "Ettore Chimeri",
         "1921-06-04",
         "Venezuelan",
         "2023-09-23T20:22:29.129+0000"
        ],
        [
         504,
         "creus",
         null,
         "\\N",
         "Antonio Creus",
         "1924-10-28",
         "Spanish",
         "2023-09-23T20:22:29.129+0000"
        ],
        [
         505,
         "bristow",
         null,
         "\\N",
         "Chris Bristow",
         "1937-12-02",
         "British",
         "2023-09-23T20:22:29.129+0000"
        ],
        [
         506,
         "halford",
         null,
         "\\N",
         "Bruce Halford",
         "1931-05-18",
         "British",
         "2023-09-23T20:22:29.129+0000"
        ],
        [
         507,
         "daigh",
         null,
         "\\N",
         "Chuck Daigh",
         "1923-11-29",
         "American",
         "2023-09-23T20:22:29.129+0000"
        ],
        [
         508,
         "reventlow",
         null,
         "\\N",
         "Lance Reventlow",
         "1936-02-24",
         "American",
         "2023-09-23T20:22:29.129+0000"
        ],
        [
         509,
         "rathmann",
         null,
         "\\N",
         "Jim Rathmann",
         "1928-07-16",
         "American",
         "2023-09-23T20:22:29.129+0000"
        ],
        [
         510,
         "goldsmith",
         null,
         "\\N",
         "Paul Goldsmith",
         "1925-10-02",
         "American",
         "2023-09-23T20:22:29.129+0000"
        ],
        [
         511,
         "branson",
         null,
         "\\N",
         "Don Branson",
         "1920-06-02",
         "American",
         "2023-09-23T20:22:29.129+0000"
        ],
        [
         512,
         "thomson",
         null,
         "\\N",
         "Johnny Thomson",
         "1922-04-09",
         "American",
         "2023-09-23T20:22:29.129+0000"
        ],
        [
         513,
         "johnson",
         null,
         "\\N",
         "Eddie Johnson",
         "1919-02-10",
         "American",
         "2023-09-23T20:22:29.129+0000"
        ],
        [
         514,
         "veith",
         null,
         "\\N",
         "Bob Veith",
         "1926-11-01",
         "American",
         "2023-09-23T20:22:29.129+0000"
        ],
        [
         515,
         "tingelstad",
         null,
         "\\N",
         "Bud Tingelstad",
         "1928-04-04",
         "American",
         "2023-09-23T20:22:29.129+0000"
        ],
        [
         516,
         "christie",
         null,
         "\\N",
         "Bob Christie",
         "1924-04-04",
         "American",
         "2023-09-23T20:22:29.129+0000"
        ],
        [
         517,
         "amick",
         null,
         "\\N",
         "Red Amick",
         "1929-01-19",
         "American",
         "2023-09-23T20:22:29.129+0000"
        ],
        [
         518,
         "darter",
         null,
         "\\N",
         "Duane Carter",
         "1913-05-05",
         "American",
         "2023-09-23T20:22:29.129+0000"
        ],
        [
         519,
         "homeier",
         null,
         "\\N",
         "Bill Homeier",
         "1918-08-31",
         "American",
         "2023-09-23T20:22:29.129+0000"
        ],
        [
         520,
         "hartley",
         null,
         "\\N",
         "Gene Hartley",
         "1926-01-28",
         "American",
         "2023-09-23T20:22:29.129+0000"
        ],
        [
         521,
         "stevenson",
         null,
         "\\N",
         "Chuck Stevenson",
         "1919-10-15",
         "American",
         "2023-09-23T20:22:29.129+0000"
        ],
        [
         522,
         "grim",
         null,
         "\\N",
         "Bobby Grim",
         "1924-09-04",
         "American",
         "2023-09-23T20:22:29.129+0000"
        ],
        [
         523,
         "templeman",
         null,
         "\\N",
         "Shorty Templeman",
         "1919-08-12",
         "American",
         "2023-09-23T20:22:29.129+0000"
        ],
        [
         524,
         "hurtubise",
         null,
         "\\N",
         "Jim Hurtubise",
         "1932-12-05",
         "American",
         "2023-09-23T20:22:29.129+0000"
        ],
        [
         525,
         "bryan",
         null,
         "\\N",
         "Jimmy Bryan",
         "1926-01-28",
         "American",
         "2023-09-23T20:22:29.129+0000"
        ],
        [
         526,
         "ruttman",
         null,
         "\\N",
         "Troy Ruttman",
         "1930-03-11",
         "American",
         "2023-09-23T20:22:29.129+0000"
        ],
        [
         527,
         "sachs",
         null,
         "\\N",
         "Eddie Sachs",
         "1927-05-28",
         "American",
         "2023-09-23T20:22:29.129+0000"
        ],
        [
         528,
         "freeland",
         null,
         "\\N",
         "Don Freeland",
         "1925-03-25",
         "American",
         "2023-09-23T20:22:29.129+0000"
        ],
        [
         529,
         "bettenhausen",
         null,
         "\\N",
         "Tony Bettenhausen",
         "1916-09-12",
         "American",
         "2023-09-23T20:22:29.129+0000"
        ],
        [
         530,
         "weiler",
         null,
         "\\N",
         "Wayne Weiler",
         "1934-12-09",
         "American",
         "2023-09-23T20:22:29.129+0000"
        ],
        [
         531,
         "foyt",
         null,
         "\\N",
         "Anthony Foyt",
         "1935-01-16",
         "American",
         "2023-09-23T20:22:29.129+0000"
        ],
        [
         532,
         "russo",
         null,
         "\\N",
         "Eddie Russo",
         "1925-11-19",
         "American",
         "2023-09-23T20:22:29.129+0000"
        ],
        [
         533,
         "boyd",
         null,
         "\\N",
         "Johnny Boyd",
         "1926-08-19",
         "American",
         "2023-09-23T20:22:29.129+0000"
        ],
        [
         534,
         "force",
         null,
         "\\N",
         "Gene Force",
         "1916-06-15",
         "American",
         "2023-09-23T20:22:29.129+0000"
        ],
        [
         535,
         "mcwithey",
         null,
         "\\N",
         "Jim McWithey",
         "1927-07-04",
         "American",
         "2023-09-23T20:22:29.129+0000"
        ],
        [
         536,
         "sutton",
         null,
         "\\N",
         "Len Sutton",
         "1925-08-09",
         "American",
         "2023-09-23T20:22:29.129+0000"
        ],
        [
         537,
         "dick_rathmann",
         null,
         "\\N",
         "Dick Rathmann",
         "1924-01-06",
         "American",
         "2023-09-23T20:22:29.129+0000"
        ],
        [
         538,
         "herman",
         null,
         "\\N",
         "Al Herman",
         "1927-03-15",
         "American",
         "2023-09-23T20:22:29.129+0000"
        ],
        [
         539,
         "dempsey_wilson",
         null,
         "\\N",
         "Dempsey Wilson",
         "1927-03-11",
         "American",
         "2023-09-23T20:22:29.129+0000"
        ],
        [
         540,
         "mike_taylor",
         null,
         "\\N",
         "Mike Taylor",
         "1934-04-24",
         "British",
         "2023-09-23T20:22:29.129+0000"
        ],
        [
         541,
         "flockhart",
         null,
         "\\N",
         "Ron Flockhart",
         "1923-06-16",
         "British",
         "2023-09-23T20:22:29.129+0000"
        ],
        [
         542,
         "piper",
         null,
         "\\N",
         "David Piper",
         "1930-12-02",
         "British",
         "2023-09-23T20:22:29.129+0000"
        ],
        [
         543,
         "cabianca",
         null,
         "\\N",
         "Giulio Cabianca",
         "1923-02-19",
         "Italian",
         "2023-09-23T20:22:29.129+0000"
        ],
        [
         544,
         "drogo",
         null,
         "\\N",
         "Piero Drogo",
         "1926-08-08",
         "Italian",
         "2023-09-23T20:22:29.129+0000"
        ],
        [
         545,
         "gamble",
         null,
         "\\N",
         "Fred Gamble",
         "1932-03-17",
         "American",
         "2023-09-23T20:22:29.129+0000"
        ],
        [
         546,
         "owen",
         null,
         "\\N",
         "Arthur Owen",
         "1915-03-23",
         "British",
         "2023-09-23T20:22:29.129+0000"
        ],
        [
         547,
         "gould",
         null,
         "\\N",
         "Horace Gould",
         "1918-09-20",
         "British",
         "2023-09-23T20:22:29.129+0000"
        ],
        [
         548,
         "drake",
         null,
         "\\N",
         "Bob Drake",
         "1919-12-14",
         "American",
         "2023-09-23T20:22:29.129+0000"
        ],
        [
         549,
         "bueb",
         null,
         "\\N",
         "Ivor Bueb",
         "1923-06-06",
         "British",
         "2023-09-23T20:22:29.129+0000"
        ],
        [
         550,
         "Changy",
         null,
         "\\N",
         "Alain de Changy",
         "1922-02-05",
         "Belgian",
         "2023-09-23T20:22:29.129+0000"
        ],
        [
         551,
         "filippis",
         null,
         "\\N",
         "Maria de Filippis",
         "1926-11-11",
         "Italian",
         "2023-09-23T20:22:29.129+0000"
        ],
        [
         552,
         "lucienbonnet",
         null,
         "\\N",
         "Jean Lucienbonnet",
         "1923-01-07",
         "French",
         "2023-09-23T20:22:29.129+0000"
        ],
        [
         553,
         "testut",
         null,
         "\\N",
         "André Testut",
         "1926-04-13",
         "Monegasque",
         "2023-09-23T20:22:29.129+0000"
        ],
        [
         554,
         "behra",
         null,
         "\\N",
         "Jean Behra",
         "1921-02-16",
         "French",
         "2023-09-23T20:22:29.129+0000"
        ],
        [
         555,
         "paul_russo",
         null,
         "\\N",
         "Paul Russo",
         "1914-04-10",
         "American",
         "2023-09-23T20:22:29.129+0000"
        ],
        [
         556,
         "daywalt",
         null,
         "\\N",
         "Jimmy Daywalt",
         "1924-08-28",
         "American",
         "2023-09-23T20:22:29.129+0000"
        ],
        [
         557,
         "arnold",
         null,
         "\\N",
         "Chuck Arnold",
         "1926-05-30",
         "American",
         "2023-09-23T20:22:29.129+0000"
        ],
        [
         558,
         "keller",
         null,
         "\\N",
         "Al Keller",
         "1920-04-11",
         "American",
         "2023-09-23T20:22:29.129+0000"
        ],
        [
         559,
         "flaherty",
         null,
         "\\N",
         "Pat Flaherty",
         "1926-01-06",
         "American",
         "2023-09-23T20:22:29.129+0000"
        ],
        [
         560,
         "cheesbourg",
         null,
         "\\N",
         "Bill Cheesbourg",
         "1927-06-12",
         "American",
         "2023-09-23T20:22:29.129+0000"
        ],
        [
         561,
         "ray_crawford",
         null,
         "\\N",
         "Ray Crawford",
         "1915-10-26",
         "American",
         "2023-09-23T20:22:29.129+0000"
        ],
        [
         562,
         "turner",
         null,
         "\\N",
         "Jack Turner",
         "1920-02-12",
         "American",
         "2023-09-23T20:22:29.129+0000"
        ],
        [
         563,
         "weyant",
         null,
         "\\N",
         "Chuck Weyant",
         "1923-04-03",
         "American",
         "2023-09-23T20:22:29.129+0000"
        ],
        [
         564,
         "larson",
         null,
         "\\N",
         "Jud Larson",
         "1923-01-21",
         "American",
         "2023-09-23T20:22:29.129+0000"
        ],
        [
         565,
         "magill",
         null,
         "\\N",
         "Mike Magill",
         "1920-02-08",
         "American",
         "2023-09-23T20:22:29.129+0000"
        ],
        [
         566,
         "shelby",
         null,
         "\\N",
         "Carroll Shelby",
         "1923-01-11",
         "American",
         "2023-09-23T20:22:29.129+0000"
        ],
        [
         567,
         "orey",
         null,
         "\\N",
         "Fritz d'Orey",
         "1938-03-25",
         "Brazilian",
         "2023-09-23T20:22:29.129+0000"
        ],
        [
         568,
         "fontes",
         null,
         "\\N",
         "Azdrubal Fontes",
         "1922-12-26",
         "Uruguayan",
         "2023-09-23T20:22:29.129+0000"
        ],
        [
         569,
         "ashdown",
         null,
         "\\N",
         "Peter Ashdown",
         "1934-10-16",
         "British",
         "2023-09-23T20:22:29.129+0000"
        ],
        [
         570,
         "bill_moss",
         null,
         "\\N",
         "Bill Moss",
         "1933-09-04",
         "British",
         "2023-09-23T20:22:29.129+0000"
        ],
        [
         571,
         "dennis_taylor",
         null,
         "\\N",
         "Dennis Taylor",
         "1921-06-12",
         "British",
         "2023-09-23T20:22:29.129+0000"
        ],
        [
         572,
         "blanchard",
         null,
         "\\N",
         "Harry Blanchard",
         "1929-06-13",
         "American",
         "2023-09-23T20:22:29.129+0000"
        ],
        [
         573,
         "tomaso",
         null,
         "\\N",
         "Alessandro de Tomaso",
         "1928-07-10",
         "Argentine-Italian",
         "2023-09-23T20:22:29.129+0000"
        ],
        [
         574,
         "constantine",
         null,
         "\\N",
         "George Constantine",
         "1918-02-22",
         "American",
         "2023-09-23T20:22:29.129+0000"
        ],
        [
         575,
         "said",
         null,
         "\\N",
         "Bob Said",
         "1932-05-05",
         "American",
         "2023-09-23T20:22:29.129+0000"
        ],
        [
         576,
         "cade",
         null,
         "\\N",
         "Phil Cade",
         "1916-06-12",
         "American",
         "2023-09-23T20:22:29.129+0000"
        ],
        [
         577,
         "musso",
         null,
         "\\N",
         "Luigi Musso",
         "1924-07-28",
         "Italian",
         "2023-09-23T20:22:29.129+0000"
        ],
        [
         578,
         "hawthorn",
         null,
         "\\N",
         "Mike Hawthorn",
         "1929-04-10",
         "British",
         "2023-09-23T20:22:29.129+0000"
        ],
        [
         579,
         "fangio",
         null,
         "\\N",
         "Juan Fangio",
         "1911-06-24",
         "Argentine",
         "2023-09-23T20:22:29.129+0000"
        ],
        [
         580,
         "godia",
         null,
         "\\N",
         "Paco Godia",
         "1921-03-21",
         "Spanish",
         "2023-09-23T20:22:29.129+0000"
        ],
        [
         581,
         "collins",
         null,
         "\\N",
         "Peter Collins",
         "1931-11-06",
         "British",
         "2023-09-23T20:22:29.129+0000"
        ],
        [
         582,
         "kavanagh",
         null,
         "\\N",
         "Ken Kavanagh",
         "1923-12-12",
         "Australian",
         "2023-09-23T20:22:29.129+0000"
        ],
        [
         583,
         "gerini",
         null,
         "\\N",
         "Gerino Gerini",
         "1928-08-10",
         "Italian",
         "2023-09-23T20:22:29.129+0000"
        ],
        [
         584,
         "kessler",
         null,
         "\\N",
         "Bruce Kessler",
         "1936-03-23",
         "American",
         "2023-09-23T20:22:29.129+0000"
        ],
        [
         585,
         "emery",
         null,
         "\\N",
         "Paul Emery",
         "1916-11-12",
         "British",
         "2023-09-23T20:22:29.129+0000"
        ],
        [
         586,
         "piotti",
         null,
         "\\N",
         "Luigi Piotti",
         "1913-10-27",
         "Italian",
         "2023-09-23T20:22:29.129+0000"
        ],
        [
         587,
         "ecclestone",
         null,
         "\\N",
         "Bernie Ecclestone",
         "1930-10-28",
         "British",
         "2023-09-23T20:22:29.129+0000"
        ],
        [
         588,
         "taramazzo",
         null,
         "\\N",
         "Luigi Taramazzo",
         "1932-05-05",
         "Italian",
         "2023-09-23T20:22:29.129+0000"
        ],
        [
         589,
         "chiron",
         null,
         "\\N",
         "Louis Chiron",
         "1899-08-03",
         "Monegasque",
         "2023-09-23T20:22:29.129+0000"
        ],
        [
         590,
         "lewis-evans",
         null,
         "\\N",
         "Stuart Lewis-Evans",
         "1930-04-20",
         "British",
         "2023-09-23T20:22:29.129+0000"
        ],
        [
         591,
         "george_amick",
         null,
         "\\N",
         "George Amick",
         "1924-10-24",
         "American",
         "2023-09-23T20:22:29.129+0000"
        ],
        [
         592,
         "reece",
         null,
         "\\N",
         "Jimmy Reece",
         "1929-11-17",
         "American",
         "2023-09-23T20:22:29.129+0000"
        ],
        [
         593,
         "parsons",
         null,
         "\\N",
         "Johnnie Parsons",
         "1918-07-04",
         "American",
         "2023-09-23T20:22:29.129+0000"
        ],
        [
         594,
         "tolan",
         null,
         "\\N",
         "Johnnie Tolan",
         "1917-10-22",
         "American",
         "2023-09-23T20:22:29.129+0000"
        ],
        [
         595,
         "garrett",
         null,
         "\\N",
         "Billy Garrett",
         "1933-04-24",
         "American",
         "2023-09-23T20:22:29.129+0000"
        ],
        [
         596,
         "elisian",
         null,
         "\\N",
         "Ed Elisian",
         "1926-12-09",
         "American",
         "2023-09-23T20:22:29.129+0000"
        ],
        [
         597,
         "connor",
         null,
         "\\N",
         "Pat O'Connor",
         "1928-10-09",
         "American",
         "2023-09-23T20:22:29.129+0000"
        ],
        [
         598,
         "jerry_unser",
         null,
         "\\N",
         "Jerry Unser",
         "1932-11-15",
         "American",
         "2023-09-23T20:22:29.129+0000"
        ],
        [
         599,
         "bisch",
         null,
         "\\N",
         "Art Bisch",
         "1926-11-10",
         "American",
         "2023-09-23T20:22:29.129+0000"
        ],
        [
         600,
         "goethals",
         null,
         "\\N",
         "Christian Goethals",
         "1928-08-04",
         "Belgian",
         "2023-09-23T20:22:29.129+0000"
        ],
        [
         601,
         "gibson",
         null,
         "\\N",
         "Dick Gibson",
         "1918-04-16",
         "British",
         "2023-09-23T20:22:29.129+0000"
        ],
        [
         602,
         "la_caze",
         null,
         "\\N",
         "Robert La Caze",
         "1917-02-26",
         "French",
         "2023-09-23T20:22:29.129+0000"
        ],
        [
         603,
         "guelfi",
         null,
         "\\N",
         "André Guelfi",
         "1919-05-06",
         "French",
         "2023-09-23T20:22:29.129+0000"
        ],
        [
         604,
         "picard",
         null,
         "\\N",
         "François Picard",
         "1921-04-26",
         "French",
         "2023-09-23T20:22:29.129+0000"
        ],
        [
         605,
         "bridger",
         null,
         "\\N",
         "Tom Bridger",
         "1934-06-24",
         "British",
         "2023-09-23T20:22:29.129+0000"
        ],
        [
         606,
         "portago",
         null,
         "\\N",
         "Alfonso de Portago",
         "1928-10-11",
         "Spanish",
         "2023-09-23T20:22:29.129+0000"
        ],
        [
         607,
         "perdisa",
         null,
         "\\N",
         "Cesare Perdisa",
         "1932-10-21",
         "Italian",
         "2023-09-23T20:22:29.129+0000"
        ],
        [
         608,
         "castellotti",
         null,
         "\\N",
         "Eugenio Castellotti",
         "1930-10-10",
         "Italian",
         "2023-09-23T20:22:29.129+0000"
        ],
        [
         609,
         "simon",
         null,
         "\\N",
         "André Simon",
         "1920-01-05",
         "French",
         "2023-09-23T20:22:29.129+0000"
        ],
        [
         610,
         "leston",
         null,
         "\\N",
         "Les Leston",
         "1920-12-16",
         "British",
         "2023-09-23T20:22:29.129+0000"
        ],
        [
         611,
         "hanks",
         null,
         "\\N",
         "Sam Hanks",
         "1914-07-13",
         "American",
         "2023-09-23T20:22:29.129+0000"
        ],
        [
         612,
         "linden",
         null,
         "\\N",
         "Andy Linden",
         "1922-04-05",
         "American",
         "2023-09-23T20:22:29.129+0000"
        ],
        [
         613,
         "teague",
         null,
         "\\N",
         "Marshall Teague",
         "1921-02-22",
         "American",
         "2023-09-23T20:22:29.129+0000"
        ],
        [
         614,
         "edmunds",
         null,
         "\\N",
         "Don Edmunds",
         "1930-09-23",
         "American",
         "2023-09-23T20:22:29.129+0000"
        ],
        [
         615,
         "agabashian",
         null,
         "\\N",
         "Fred Agabashian",
         "1913-08-21",
         "American",
         "2023-09-23T20:22:29.129+0000"
        ],
        [
         616,
         "george",
         null,
         "\\N",
         "Elmer George",
         "1928-07-15",
         "American",
         "2023-09-23T20:22:29.129+0000"
        ],
        [
         617,
         "macdowel",
         null,
         "\\N",
         "Mike MacDowel",
         "1932-09-13",
         "British",
         "2023-09-23T20:22:29.129+0000"
        ],
        [
         618,
         "mackay-fraser",
         null,
         "\\N",
         "Herbert MacKay-Fraser",
         "1927-06-23",
         "American",
         "2023-09-23T20:22:29.129+0000"
        ],
        [
         619,
         "gerard",
         null,
         "\\N",
         "Bob Gerard",
         "1914-01-19",
         "British",
         "2023-09-23T20:22:29.129+0000"
        ],
        [
         620,
         "maglioli",
         null,
         "\\N",
         "Umberto Maglioli",
         "1928-06-05",
         "Italian",
         "2023-09-23T20:22:29.129+0000"
        ],
        [
         621,
         "england",
         null,
         "\\N",
         "Paul England",
         "1929-03-28",
         "Australian",
         "2023-09-23T20:22:29.129+0000"
        ],
        [
         622,
         "landi",
         null,
         "\\N",
         "Chico Landi",
         "1907-07-14",
         "Brazilian",
         "2023-09-23T20:22:29.129+0000"
        ],
        [
         623,
         "uria",
         null,
         "\\N",
         "Alberto Uria",
         "1924-07-11",
         "Uruguayan",
         "2023-09-23T20:22:29.129+0000"
        ],
        [
         624,
         "ramos",
         null,
         "\\N",
         "Hernando da Silva Ramos",
         "1925-12-07",
         "Brazilian",
         "2023-09-23T20:22:29.129+0000"
        ],
        [
         625,
         "bayol",
         null,
         "\\N",
         "Élie Bayol",
         "1914-02-28",
         "French",
         "2023-09-23T20:22:29.129+0000"
        ],
        [
         626,
         "manzon",
         null,
         "\\N",
         "Robert Manzon",
         "1917-04-12",
         "French",
         "2023-09-23T20:22:29.129+0000"
        ],
        [
         627,
         "rosier",
         null,
         "\\N",
         "Louis Rosier",
         "1905-11-05",
         "French",
         "2023-09-23T20:22:29.129+0000"
        ],
        [
         628,
         "sweikert",
         null,
         "\\N",
         "Bob Sweikert",
         "1926-05-20",
         "American",
         "2023-09-23T20:22:29.129+0000"
        ],
        [
         629,
         "griffith",
         null,
         "\\N",
         "Cliff Griffith",
         "1916-02-06",
         "American",
         "2023-09-23T20:22:29.129+0000"
        ],
        [
         630,
         "dinsmore",
         null,
         "\\N",
         "Duke Dinsmore",
         "1913-04-10",
         "American",
         "2023-09-23T20:22:29.129+0000"
        ],
        [
         631,
         "andrews",
         null,
         "\\N",
         "Keith Andrews",
         "1920-06-15",
         "American",
         "2023-09-23T20:22:29.129+0000"
        ],
        [
         632,
         "frere",
         null,
         "\\N",
         "Paul Frère",
         "1917-01-30",
         "Belgian",
         "2023-09-23T20:22:29.129+0000"
        ],
        [
         633,
         "villoresi",
         null,
         "\\N",
         "Luigi Villoresi",
         "1909-05-16",
         "Italian",
         "2023-09-23T20:22:29.129+0000"
        ],
        [
         634,
         "scotti",
         null,
         "\\N",
         "Piero Scotti",
         "1909-11-11",
         "Italian",
         "2023-09-23T20:22:29.129+0000"
        ],
        [
         635,
         "chapman",
         null,
         "\\N",
         "Colin Chapman",
         "1928-05-19",
         "British",
         "2023-09-23T20:22:29.129+0000"
        ],
        [
         636,
         "titterington",
         null,
         "\\N",
         "Desmond Titterington",
         "1928-05-01",
         "British",
         "2023-09-23T20:22:29.129+0000"
        ],
        [
         637,
         "scott_Brown",
         null,
         "\\N",
         "Archie Scott Brown",
         "1927-05-13",
         "British",
         "2023-09-23T20:22:29.129+0000"
        ],
        [
         638,
         "volonterio",
         null,
         "\\N",
         "Ottorino Volonterio",
         "1917-12-07",
         "Swiss",
         "2023-09-23T20:22:29.129+0000"
        ],
        [
         639,
         "milhoux",
         null,
         "\\N",
         "André Milhoux",
         "1928-12-09",
         "Belgian",
         "2023-09-23T20:22:29.129+0000"
        ],
        [
         640,
         "graffenried",
         null,
         "\\N",
         "Toulo de Graffenried",
         "1914-05-18",
         "Swiss",
         "2023-09-23T20:22:29.129+0000"
        ],
        [
         641,
         "taruffi",
         null,
         "\\N",
         "Piero Taruffi",
         "1906-10-12",
         "Italian",
         "2023-09-23T20:22:29.129+0000"
        ],
        [
         642,
         "farina",
         null,
         "\\N",
         "Nino Farina",
         "1906-10-30",
         "Italian",
         "2023-09-23T20:22:29.129+0000"
        ],
        [
         643,
         "mieres",
         null,
         "\\N",
         "Roberto Mieres",
         "1924-12-03",
         "Argentine",
         "2023-09-23T20:22:29.129+0000"
        ],
        [
         644,
         "mantovani",
         null,
         "\\N",
         "Sergio Mantovani",
         "1929-05-22",
         "Italian",
         "2023-09-23T20:22:29.129+0000"
        ],
        [
         645,
         "bucci",
         null,
         "\\N",
         "Clemar Bucci",
         "1920-09-04",
         "Argentine",
         "2023-09-23T20:22:29.129+0000"
        ],
        [
         646,
         "iglesias",
         null,
         "\\N",
         "Jesús Iglesias",
         "1922-02-22",
         "Argentine",
         "2023-09-23T20:22:29.129+0000"
        ],
        [
         647,
         "ascari",
         null,
         "\\N",
         "Alberto Ascari",
         "1918-07-13",
         "Italian",
         "2023-09-23T20:22:29.129+0000"
        ],
        [
         648,
         "kling",
         null,
         "\\N",
         "Karl Kling",
         "1910-09-16",
         "German",
         "2023-09-23T20:22:29.129+0000"
        ],
        [
         649,
         "birger",
         null,
         "\\N",
         "Pablo Birger",
         "1924-01-07",
         "Argentine",
         "2023-09-23T20:22:29.129+0000"
        ],
        [
         650,
         "pollet",
         null,
         "\\N",
         "Jacques Pollet",
         "1922-07-02",
         "French",
         "2023-09-23T20:22:29.129+0000"
        ],
        [
         651,
         "macklin",
         null,
         "\\N",
         "Lance Macklin",
         "1919-09-02",
         "British",
         "2023-09-23T20:22:29.129+0000"
        ],
        [
         652,
         "whiteaway",
         null,
         "\\N",
         "Ted Whiteaway",
         "1928-11-01",
         "British",
         "2023-09-23T20:22:29.129+0000"
        ],
        [
         653,
         "davies",
         null,
         "\\N",
         "Jimmy Davies",
         "1929-08-08",
         "American",
         "2023-09-23T20:22:29.129+0000"
        ],
        [
         654,
         "faulkner",
         null,
         "\\N",
         "Walt Faulkner",
         "1920-02-16",
         "American",
         "2023-09-23T20:22:29.129+0000"
        ],
        [
         655,
         "niday",
         null,
         "\\N",
         "Cal Niday",
         "1914-04-29",
         "American",
         "2023-09-23T20:22:29.129+0000"
        ],
        [
         656,
         "cross",
         null,
         "\\N",
         "Art Cross",
         "1918-01-24",
         "American",
         "2023-09-23T20:22:29.129+0000"
        ],
        [
         657,
         "vukovich",
         null,
         "\\N",
         "Bill Vukovich",
         "1918-12-13",
         "American",
         "2023-09-23T20:22:29.129+0000"
        ],
        [
         658,
         "mcgrath",
         null,
         "\\N",
         "Jack McGrath",
         "1919-10-08",
         "American",
         "2023-09-23T20:22:29.129+0000"
        ],
        [
         659,
         "hoyt",
         null,
         "\\N",
         "Jerry Hoyt",
         "1929-01-29",
         "American",
         "2023-09-23T20:22:29.129+0000"
        ],
        [
         660,
         "claes",
         null,
         "\\N",
         "Johnny Claes",
         "1916-08-11",
         "Belgian",
         "2023-09-23T20:22:29.129+0000"
        ],
        [
         661,
         "peter_walker",
         null,
         "\\N",
         "Peter Walker",
         "1912-10-07",
         "British",
         "2023-09-23T20:22:29.129+0000"
        ],
        [
         662,
         "sparken",
         null,
         "\\N",
         "Mike Sparken",
         "1930-06-16",
         "French",
         "2023-09-23T20:22:29.129+0000"
        ],
        [
         663,
         "wharton",
         null,
         "\\N",
         "Ken Wharton",
         "1916-03-21",
         "British",
         "2023-09-23T20:22:29.129+0000"
        ],
        [
         664,
         "mcalpine",
         null,
         "\\N",
         "Kenneth McAlpine",
         "1920-09-21",
         "British",
         "2023-09-23T20:22:29.129+0000"
        ],
        [
         665,
         "marr",
         null,
         "\\N",
         "Leslie Marr",
         "1922-08-14",
         "British",
         "2023-09-23T20:22:29.129+0000"
        ],
        [
         666,
         "rolt",
         null,
         "\\N",
         "Tony Rolt",
         "1918-10-16",
         "British",
         "2023-09-23T20:22:29.129+0000"
        ],
        [
         667,
         "fitch",
         null,
         "\\N",
         "John Fitch",
         "1917-08-04",
         "American",
         "2023-09-23T20:22:29.129+0000"
        ],
        [
         668,
         "lucas",
         null,
         "\\N",
         "Jean Lucas",
         "1917-04-25",
         "French",
         "2023-09-23T20:22:29.129+0000"
        ],
        [
         669,
         "bira",
         null,
         "\\N",
         "Prince Bira",
         "1914-07-15",
         "Thai",
         "2023-09-23T20:22:29.129+0000"
        ],
        [
         670,
         "marimon",
         null,
         "\\N",
         "Onofre Marimón",
         "1923-12-19",
         "Argentine",
         "2023-09-23T20:22:29.129+0000"
        ],
        [
         671,
         "loyer",
         null,
         "\\N",
         "Roger Loyer",
         "1907-08-05",
         "French",
         "2023-09-23T20:22:29.129+0000"
        ],
        [
         672,
         "daponte",
         null,
         "\\N",
         "Jorge Daponte",
         "1923-06-05",
         "Argentine",
         "2023-09-23T20:22:29.129+0000"
        ],
        [
         673,
         "nazaruk",
         null,
         "\\N",
         "Mike Nazaruk",
         "1921-10-02",
         "American",
         "2023-09-23T20:22:29.129+0000"
        ],
        [
         674,
         "crockett",
         null,
         "\\N",
         "Larry Crockett",
         "1926-10-23",
         "American",
         "2023-09-23T20:22:29.129+0000"
        ],
        [
         675,
         "ayulo",
         null,
         "\\N",
         "Manny Ayulo",
         "1921-10-20",
         "American",
         "2023-09-23T20:22:29.129+0000"
        ],
        [
         676,
         "armi",
         null,
         "\\N",
         "Frank Armi",
         "1918-10-12",
         "American",
         "2023-09-23T20:22:29.129+0000"
        ],
        [
         677,
         "webb",
         null,
         "\\N",
         "Travis Webb",
         "1910-10-08",
         "American",
         "2023-09-23T20:22:29.129+0000"
        ],
        [
         678,
         "duncan",
         null,
         "\\N",
         "Len Duncan",
         "1911-07-25",
         "American",
         "2023-09-23T20:22:29.129+0000"
        ],
        [
         679,
         "mccoy",
         null,
         "\\N",
         "Ernie McCoy",
         "1921-02-19",
         "American",
         "2023-09-23T20:22:29.129+0000"
        ],
        [
         680,
         "swaters",
         null,
         "\\N",
         "Jacques Swaters",
         "1926-10-30",
         "American",
         "2023-09-23T20:22:29.129+0000"
        ],
        [
         681,
         "georges_berger",
         null,
         "\\N",
         "Georges Berger",
         "1918-09-14",
         "Belgian",
         "2023-09-23T20:22:29.129+0000"
        ],
        [
         682,
         "beauman",
         null,
         "\\N",
         "Don Beauman",
         "1928-07-26",
         "British",
         "2023-09-23T20:22:29.129+0000"
        ],
        [
         683,
         "thorne",
         null,
         "\\N",
         "Leslie Thorne",
         "1916-06-23",
         "British",
         "2023-09-23T20:22:29.129+0000"
        ],
        [
         684,
         "whitehouse",
         null,
         "\\N",
         "Bill Whitehouse",
         "1909-04-01",
         "British",
         "2023-09-23T20:22:29.129+0000"
        ],
        [
         685,
         "riseley_prichard",
         null,
         "\\N",
         "John Riseley-Prichard",
         "1924-01-17",
         "British",
         "2023-09-23T20:22:29.129+0000"
        ],
        [
         686,
         "reg_parnell",
         null,
         "\\N",
         "Reg Parnell",
         "1911-07-02",
         "British",
         "2023-09-23T20:22:29.129+0000"
        ],
        [
         687,
         "whitehead",
         null,
         "\\N",
         "Peter Whitehead",
         "1914-11-12",
         "British",
         "2023-09-23T20:22:29.129+0000"
        ],
        [
         688,
         "brandon",
         null,
         "\\N",
         "Eric Brandon",
         "1920-07-18",
         "British",
         "2023-09-23T20:22:29.129+0000"
        ],
        [
         689,
         "alan_brown",
         null,
         "\\N",
         "Alan Brown",
         "1919-11-20",
         "British",
         "2023-09-23T20:22:29.129+0000"
        ],
        [
         690,
         "nuckey",
         null,
         "\\N",
         "Rodney Nuckey",
         "1929-06-26",
         "British",
         "2023-09-23T20:22:29.129+0000"
        ],
        [
         691,
         "lang",
         null,
         "\\N",
         "Hermann Lang",
         "1909-04-06",
         "German",
         "2023-09-23T20:22:29.129+0000"
        ],
        [
         692,
         "helfrich",
         null,
         "\\N",
         "Theo Helfrich",
         "1913-05-13",
         "German",
         "2023-09-23T20:22:29.129+0000"
        ],
        [
         693,
         "wacker",
         null,
         "\\N",
         "Fred Wacker",
         "1918-07-10",
         "American",
         "2023-09-23T20:22:29.129+0000"
        ],
        [
         694,
         "riu",
         null,
         "\\N",
         "Giovanni de Riu",
         "1925-03-10",
         "Italian",
         "2023-09-23T20:22:29.129+0000"
        ],
        [
         695,
         "galvez",
         null,
         "\\N",
         "Oscar Gálvez",
         "1913-08-17",
         "Argentine",
         "2023-09-23T20:22:29.129+0000"
        ],
        [
         696,
         "john_barber",
         null,
         "\\N",
         "John Barber",
         "1929-07-22",
         "British",
         "2023-09-23T20:22:29.129+0000"
        ],
        [
         697,
         "bonetto",
         null,
         "\\N",
         "Felice Bonetto",
         "1903-06-09",
         "Italian",
         "2023-09-23T20:22:29.129+0000"
        ],
        [
         698,
         "cruz",
         null,
         "\\N",
         "Adolfo Cruz",
         "1923-06-28",
         "Argentine",
         "2023-09-23T20:22:29.129+0000"
        ],
        [
         699,
         "nalon",
         null,
         "\\N",
         "Duke Nalon",
         "1913-03-02",
         "American",
         "2023-09-23T20:22:29.129+0000"
        ],
        [
         700,
         "scarborough",
         null,
         "\\N",
         "Carl Scarborough",
         "1914-07-03",
         "American",
         "2023-09-23T20:22:29.129+0000"
        ],
        [
         701,
         "holland",
         null,
         "\\N",
         "Bill Holland",
         "1907-12-18",
         "American",
         "2023-09-23T20:22:29.129+0000"
        ],
        [
         702,
         "bob_scott",
         null,
         "\\N",
         "Bob Scott",
         "1928-10-04",
         "American",
         "2023-09-23T20:22:29.129+0000"
        ],
        [
         703,
         "legat",
         null,
         "\\N",
         "Arthur Legat",
         "1898-11-01",
         "Belgian",
         "2023-09-23T20:22:29.129+0000"
        ],
        [
         704,
         "cabantous",
         null,
         "\\N",
         "Yves Cabantous",
         "1904-10-08",
         "French",
         "2023-09-23T20:22:29.129+0000"
        ],
        [
         705,
         "crook",
         null,
         "\\N",
         "Tony Crook",
         "1920-02-16",
         "British",
         "2023-09-23T20:22:29.129+0000"
        ],
        [
         706,
         "jimmy_stewart",
         null,
         "\\N",
         "Jimmy Stewart",
         "1931-03-06",
         "British",
         "2023-09-23T20:22:29.129+0000"
        ],
        [
         707,
         "ian_stewart",
         null,
         "\\N",
         "Ian Stewart",
         "1929-07-15",
         "British",
         "2023-09-23T20:22:29.129+0000"
        ],
        [
         708,
         "duncan_hamilton",
         null,
         "\\N",
         "Duncan Hamilton",
         "1920-04-30",
         "British",
         "2023-09-23T20:22:29.129+0000"
        ],
        [
         709,
         "klodwig",
         null,
         "\\N",
         "Ernst Klodwig",
         "1903-05-23",
         "East German",
         "2023-09-23T20:22:29.129+0000"
        ],
        [
         710,
         "krause",
         null,
         "\\N",
         "Rudolf Krause",
         "1907-03-30",
         "East German",
         "2023-09-23T20:22:29.129+0000"
        ],
        [
         711,
         "karch",
         null,
         "\\N",
         "Oswald Karch",
         "1917-03-06",
         "German",
         "2023-09-23T20:22:29.129+0000"
        ],
        [
         712,
         "heeks",
         null,
         "\\N",
         "Willi Heeks",
         "1922-02-13",
         "German",
         "2023-09-23T20:22:29.129+0000"
        ],
        [
         713,
         "fitzau",
         null,
         "\\N",
         "Theo Fitzau",
         "1923-02-10",
         "East German",
         "2023-09-23T20:22:29.129+0000"
        ],
        [
         714,
         "adolff",
         null,
         "\\N",
         "Kurt Adolff",
         "1921-11-05",
         "German",
         "2023-09-23T20:22:29.129+0000"
        ],
        [
         715,
         "bechem",
         null,
         "\\N",
         "Günther Bechem",
         "1921-12-21",
         "German",
         "2023-09-23T20:22:29.129+0000"
        ],
        [
         716,
         "bauer",
         null,
         "\\N",
         "Erwin Bauer",
         "1912-07-17",
         "German",
         "2023-09-23T20:22:29.129+0000"
        ],
        [
         717,
         "hans_stuck",
         null,
         "\\N",
         "Hans von Stuck",
         "1900-12-27",
         "German",
         "2023-09-23T20:22:29.129+0000"
        ],
        [
         718,
         "loof",
         null,
         "\\N",
         "Ernst Loof",
         "1907-07-04",
         "German",
         "2023-09-23T20:22:29.129+0000"
        ],
        [
         719,
         "scherrer",
         null,
         "\\N",
         "Albert Scherrer",
         "1908-02-28",
         "Swiss",
         "2023-09-23T20:22:29.129+0000"
        ],
        [
         720,
         "terra",
         null,
         "\\N",
         "Max de Terra",
         "1918-10-06",
         "Swiss",
         "2023-09-23T20:22:29.129+0000"
        ],
        [
         721,
         "hirt",
         null,
         "\\N",
         "Peter Hirt",
         "1910-03-30",
         "Swiss",
         "2023-09-23T20:22:29.129+0000"
        ],
        [
         722,
         "carini",
         null,
         "\\N",
         "Piero Carini",
         "1921-03-06",
         "Italian",
         "2023-09-23T20:22:29.129+0000"
        ],
        [
         723,
         "fischer",
         null,
         "\\N",
         "Rudi Fischer",
         "1912-04-19",
         "Swiss",
         "2023-09-23T20:22:29.129+0000"
        ],
        [
         724,
         "ulmen",
         null,
         "\\N",
         "Toni Ulmen",
         "1906-01-25",
         "German",
         "2023-09-23T20:22:29.129+0000"
        ],
        [
         725,
         "abecassis",
         null,
         "\\N",
         "George Abecassis",
         "1913-03-21",
         "British",
         "2023-09-23T20:22:29.129+0000"
        ],
        [
         726,
         "george_connor",
         null,
         "\\N",
         "George Connor",
         "1906-08-16",
         "American",
         "2023-09-23T20:22:29.129+0000"
        ],
        [
         727,
         "rigsby",
         null,
         "\\N",
         "Jim Rigsby",
         "1923-06-06",
         "American",
         "2023-09-23T20:22:29.129+0000"
        ],
        [
         728,
         "james",
         null,
         "\\N",
         "Joe James",
         "1925-05-23",
         "American",
         "2023-09-23T20:22:29.129+0000"
        ],
        [
         729,
         "schindler",
         null,
         "\\N",
         "Bill Schindler",
         "1909-03-06",
         "American",
         "2023-09-23T20:22:29.129+0000"
        ],
        [
         730,
         "fonder",
         null,
         "\\N",
         "George Fonder",
         "1917-06-22",
         "American",
         "2023-09-23T20:22:29.129+0000"
        ],
        [
         731,
         "banks",
         null,
         "\\N",
         "Henry Banks",
         "1913-06-14",
         "American",
         "2023-09-23T20:22:29.129+0000"
        ],
        [
         732,
         "mcdowell",
         null,
         "\\N",
         "Johnny McDowell",
         "1915-01-29",
         "American",
         "2023-09-23T20:22:29.129+0000"
        ],
        [
         733,
         "miller",
         null,
         "\\N",
         "Chet Miller",
         "1902-07-19",
         "American",
         "2023-09-23T20:22:29.129+0000"
        ],
        [
         734,
         "ball",
         null,
         "\\N",
         "Bobby Ball",
         "1925-08-26",
         "American",
         "2023-09-23T20:22:29.129+0000"
        ],
        [
         735,
         "tornaco",
         null,
         "\\N",
         "Charles de Tornaco",
         "1927-06-07",
         "Belgian",
         "2023-09-23T20:22:29.129+0000"
        ],
        [
         736,
         "laurent",
         null,
         "\\N",
         "Roger Laurent",
         "1913-02-21",
         "Belgian",
         "2023-09-23T20:22:29.129+0000"
        ],
        [
         737,
         "obrien",
         null,
         "\\N",
         "Robert O'Brien",
         "1908-04-11",
         "American",
         "2023-09-23T20:22:29.129+0000"
        ],
        [
         738,
         "gaze",
         null,
         "\\N",
         "Tony Gaze",
         "1920-02-03",
         "Australian",
         "2023-09-23T20:22:29.129+0000"
        ],
        [
         739,
         "charrington",
         null,
         "\\N",
         "Robin Montgomerie-Charrington",
         "1915-06-23",
         "British",
         "2023-09-23T20:22:29.129+0000"
        ],
        [
         740,
         "comotti",
         null,
         "\\N",
         "Franco Comotti",
         "1906-07-24",
         "Italian",
         "2023-09-23T20:22:29.129+0000"
        ],
        [
         741,
         "etancelin",
         null,
         "\\N",
         "Philippe Étancelin",
         "1896-12-28",
         "French",
         "2023-09-23T20:22:29.129+0000"
        ],
        [
         742,
         "poore",
         null,
         "\\N",
         "Dennis Poore",
         "1916-08-19",
         "British",
         "2023-09-23T20:22:29.129+0000"
        ],
        [
         743,
         "thompson",
         null,
         "\\N",
         "Eric Thompson",
         "1919-11-04",
         "British",
         "2023-09-23T20:22:29.129+0000"
        ],
        [
         744,
         "downing",
         null,
         "\\N",
         "Ken Downing",
         "1917-12-05",
         "British",
         "2023-09-23T20:22:29.129+0000"
        ],
        [
         745,
         "graham_whitehead",
         null,
         "\\N",
         "Graham Whitehead",
         "1922-04-15",
         "British",
         "2023-09-23T20:22:29.129+0000"
        ],
        [
         746,
         "bianco",
         null,
         "\\N",
         "Gino Bianco",
         "1916-07-22",
         "Brazilian",
         "2023-09-23T20:22:29.129+0000"
        ],
        [
         747,
         "murray",
         null,
         "\\N",
         "David Murray",
         "1909-12-28",
         "British",
         "2023-09-23T20:22:29.129+0000"
        ],
        [
         748,
         "cantoni",
         null,
         "\\N",
         "Eitel Cantoni",
         "1906-10-04",
         "Uruguayan",
         "2023-09-23T20:22:29.129+0000"
        ],
        [
         749,
         "aston",
         null,
         "\\N",
         "Bill Aston",
         "1900-03-29",
         "British",
         "2023-09-23T20:22:29.129+0000"
        ],
        [
         750,
         "brudes",
         null,
         "\\N",
         "Adolf Brudes",
         "1899-10-15",
         "German",
         "2023-09-23T20:22:29.129+0000"
        ],
        [
         751,
         "riess",
         null,
         "\\N",
         "Fritz Riess",
         "1922-07-11",
         "German",
         "2023-09-23T20:22:29.129+0000"
        ],
        [
         752,
         "niedermayr",
         null,
         "\\N",
         "Helmut Niedermayr",
         "1915-11-29",
         "German",
         "2023-09-23T20:22:29.129+0000"
        ],
        [
         753,
         "klenk",
         null,
         "\\N",
         "Hans Klenk",
         "1919-10-28",
         "German",
         "2023-09-23T20:22:29.129+0000"
        ],
        [
         754,
         "balsa",
         null,
         "\\N",
         "Marcel Balsa",
         "1909-01-01",
         "French",
         "2023-09-23T20:22:29.129+0000"
        ],
        [
         755,
         "schoeller",
         null,
         "\\N",
         "Rudolf Schoeller",
         "1902-04-27",
         "Swiss",
         "2023-09-23T20:22:29.129+0000"
        ],
        [
         756,
         "pietsch",
         null,
         "\\N",
         "Paul Pietsch",
         "1911-06-20",
         "German",
         "2023-09-23T20:22:29.129+0000"
        ],
        [
         757,
         "peters",
         null,
         "\\N",
         "Josef Peters",
         "1914-09-16",
         "German",
         "2023-09-23T20:22:29.129+0000"
        ],
        [
         758,
         "lof",
         null,
         "\\N",
         "Dries van der Lof",
         "1919-08-23",
         "Dutch",
         "2023-09-23T20:22:29.129+0000"
        ],
        [
         759,
         "flinterman",
         null,
         "\\N",
         "Jan Flinterman",
         "1919-10-02",
         "Dutch",
         "2023-09-23T20:22:29.129+0000"
        ],
        [
         760,
         "dusio",
         null,
         "\\N",
         "Piero Dusio",
         "1899-10-13",
         "Italian",
         "2023-09-23T20:22:29.129+0000"
        ],
        [
         761,
         "crespo",
         null,
         "\\N",
         "Alberto Crespo",
         "1920-01-16",
         "Argentine",
         "2023-09-23T20:22:29.129+0000"
        ],
        [
         762,
         "rol",
         null,
         "\\N",
         "Franco Rol",
         "1908-06-05",
         "Italian",
         "2023-09-23T20:22:29.129+0000"
        ],
        [
         763,
         "sanesi",
         null,
         "\\N",
         "Consalvo Sanesi",
         "1911-03-28",
         "Italian",
         "2023-09-23T20:22:29.129+0000"
        ],
        [
         764,
         "guy_mairesse",
         null,
         "\\N",
         "Guy Mairesse",
         "1910-08-10",
         "French",
         "2023-09-23T20:22:29.129+0000"
        ],
        [
         765,
         "louveau",
         null,
         "\\N",
         "Henri Louveau",
         "1910-01-25",
         "French",
         "2023-09-23T20:22:29.129+0000"
        ],
        [
         766,
         "wallard",
         null,
         "\\N",
         "Lee Wallard",
         "1910-09-07",
         "American",
         "2023-09-23T20:22:29.129+0000"
        ],
        [
         767,
         "forberg",
         null,
         "\\N",
         "Carl Forberg",
         "1911-03-04",
         "American",
         "2023-09-23T20:22:29.129+0000"
        ],
        [
         768,
         "rose",
         null,
         "\\N",
         "Mauri Rose",
         "1906-05-26",
         "American",
         "2023-09-23T20:22:29.129+0000"
        ],
        [
         769,
         "mackey",
         null,
         "\\N",
         "Bill Mackey",
         "1927-12-15",
         "American",
         "2023-09-23T20:22:29.129+0000"
        ],
        [
         770,
         "green",
         null,
         "\\N",
         "Cecil Green",
         "1919-09-30",
         "American",
         "2023-09-23T20:22:29.129+0000"
        ],
        [
         771,
         "walt_brown",
         null,
         "\\N",
         "Walt Brown",
         "1911-12-30",
         "American",
         "2023-09-23T20:22:29.129+0000"
        ],
        [
         772,
         "hellings",
         null,
         "\\N",
         "Mack Hellings",
         "1915-09-14",
         "American",
         "2023-09-23T20:22:29.129+0000"
        ],
        [
         773,
         "levegh",
         null,
         "\\N",
         "Pierre Levegh",
         "1905-12-22",
         "French",
         "2023-09-23T20:22:29.129+0000"
        ],
        [
         774,
         "chaboud",
         null,
         "\\N",
         "Eugène Chaboud",
         "1907-04-12",
         "French",
         "2023-09-23T20:22:29.129+0000"
        ],
        [
         775,
         "gordini",
         null,
         "\\N",
         "Aldo Gordini",
         "1921-05-20",
         "French",
         "2023-09-23T20:22:29.129+0000"
        ],
        [
         776,
         "kelly",
         null,
         "\\N",
         "Joe Kelly",
         "1913-03-13",
         "Irish",
         "2023-09-23T20:22:29.129+0000"
        ],
        [
         777,
         "parker",
         null,
         "\\N",
         "Philip Fotheringham-Parker",
         "1907-09-22",
         "British",
         "2023-09-23T20:22:29.129+0000"
        ],
        [
         778,
         "shawe_taylor",
         null,
         "\\N",
         "Brian Shawe Taylor",
         "1915-01-28",
         "British",
         "2023-09-23T20:22:29.129+0000"
        ],
        [
         779,
         "john_james",
         null,
         "\\N",
         "John James",
         "1914-05-10",
         "British",
         "2023-09-23T20:22:29.129+0000"
        ],
        [
         780,
         "branca",
         null,
         "\\N",
         "Toni Branca",
         "1916-09-15",
         "Swiss",
         "2023-09-23T20:22:29.129+0000"
        ],
        [
         781,
         "richardson",
         null,
         "\\N",
         "Ken Richardson",
         "1911-08-21",
         "British",
         "2023-09-23T20:22:29.129+0000"
        ],
        [
         782,
         "jover",
         null,
         "\\N",
         "Juan Jover",
         "1903-11-23",
         "Spanish",
         "2023-09-23T20:22:29.129+0000"
        ],
        [
         783,
         "grignard",
         null,
         "\\N",
         "Georges Grignard",
         "1905-07-25",
         "French",
         "2023-09-23T20:22:29.129+0000"
        ],
        [
         784,
         "hampshire",
         null,
         "\\N",
         "David Hampshire",
         "1917-12-29",
         "British",
         "2023-09-23T20:22:29.129+0000"
        ],
        [
         785,
         "crossley",
         null,
         "\\N",
         "Geoff Crossley",
         "1921-05-11",
         "British",
         "2023-09-23T20:22:29.129+0000"
        ],
        [
         786,
         "fagioli",
         null,
         "\\N",
         "Luigi Fagioli",
         "1898-06-09",
         "Italian",
         "2023-09-23T20:22:29.129+0000"
        ],
        [
         787,
         "harrison",
         null,
         "\\N",
         "Cuth Harrison",
         "1906-07-06",
         "British",
         "2023-09-23T20:22:29.129+0000"
        ],
        [
         788,
         "fry",
         null,
         "\\N",
         "Joe Fry",
         "1915-10-26",
         "British",
         "2023-09-23T20:22:29.129+0000"
        ],
        [
         789,
         "martin",
         null,
         "\\N",
         "Eugène Martin",
         "1915-03-24",
         "French",
         "2023-09-23T20:22:29.129+0000"
        ],
        [
         790,
         "leslie_johnson",
         null,
         "\\N",
         "Leslie Johnson",
         "1912-03-22",
         "British",
         "2023-09-23T20:22:29.129+0000"
        ],
        [
         791,
         "biondetti",
         null,
         "\\N",
         "Clemente Biondetti",
         "1898-08-18",
         "Italian",
         "2023-09-23T20:22:29.129+0000"
        ],
        [
         792,
         "pian",
         null,
         "\\N",
         "Alfredo Pián",
         "1912-10-21",
         "Argentine",
         "2023-09-23T20:22:29.129+0000"
        ],
        [
         793,
         "sommer",
         null,
         "\\N",
         "Raymond Sommer",
         "1906-08-31",
         "French",
         "2023-09-23T20:22:29.129+0000"
        ],
        [
         794,
         "chitwood",
         null,
         "\\N",
         "Joie Chitwood",
         "1912-04-14",
         "American",
         "2023-09-23T20:22:29.129+0000"
        ],
        [
         795,
         "fohr",
         null,
         "\\N",
         "Myron Fohr",
         "1912-06-17",
         "American",
         "2023-09-23T20:22:29.129+0000"
        ],
        [
         796,
         "ader",
         null,
         "\\N",
         "Walt Ader",
         "1913-12-15",
         "American",
         "2023-09-23T20:22:29.129+0000"
        ],
        [
         797,
         "holmes",
         null,
         "\\N",
         "Jackie Holmes",
         "1920-09-04",
         "American",
         "2023-09-23T20:22:29.129+0000"
        ],
        [
         798,
         "levrett",
         null,
         "\\N",
         "Bayliss Levrett",
         "1914-02-14",
         "American",
         "2023-09-23T20:22:29.129+0000"
        ],
        [
         799,
         "jackson",
         null,
         "\\N",
         "Jimmy Jackson",
         "1910-07-25",
         "American",
         "2023-09-23T20:22:29.129+0000"
        ],
        [
         800,
         "pagani",
         null,
         "\\N",
         "Nello Pagani",
         "1911-10-11",
         "Italian",
         "2023-09-23T20:22:29.129+0000"
        ],
        [
         801,
         "pozzi",
         null,
         "\\N",
         "Charles Pozzi",
         "1909-08-27",
         "French",
         "2023-09-23T20:22:29.129+0000"
        ],
        [
         802,
         "serafini",
         null,
         "\\N",
         "Dorino Serafini",
         "1909-07-22",
         "Italian",
         "2023-09-23T20:22:29.129+0000"
        ],
        [
         803,
         "cantrell",
         null,
         "\\N",
         "Bill Cantrell",
         "1908-01-31",
         "American",
         "2023-09-23T20:22:29.129+0000"
        ],
        [
         804,
         "mantz",
         null,
         "\\N",
         "Johnny Mantz",
         "1918-09-18",
         "American",
         "2023-09-23T20:22:29.129+0000"
        ],
        [
         805,
         "kladis",
         null,
         "\\N",
         "Danny Kladis",
         "1917-02-10",
         "American",
         "2023-09-23T20:22:29.129+0000"
        ],
        [
         806,
         "oscar_gonzalez",
         null,
         "\\N",
         "Óscar González",
         "1923-11-10",
         "Uruguayan",
         "2023-09-23T20:22:29.129+0000"
        ],
        [
         807,
         "hulkenberg",
         27,
         "HUL",
         "Nico Hülkenberg",
         "1987-08-19",
         "German",
         "2023-09-23T20:22:29.129+0000"
        ],
        [
         808,
         "petrov",
         null,
         "PET",
         "Vitaly Petrov",
         "1984-09-08",
         "Russian",
         "2023-09-23T20:22:29.129+0000"
        ],
        [
         810,
         "grassi",
         null,
         "DIG",
         "Lucas di Grassi",
         "1984-08-11",
         "Brazilian",
         "2023-09-23T20:22:29.129+0000"
        ],
        [
         811,
         "bruno_senna",
         null,
         "SEN",
         "Bruno Senna",
         "1983-10-15",
         "Brazilian",
         "2023-09-23T20:22:29.129+0000"
        ],
        [
         812,
         "chandhok",
         null,
         "CHA",
         "Karun Chandhok",
         "1984-01-19",
         "Indian",
         "2023-09-23T20:22:29.129+0000"
        ],
        [
         813,
         "maldonado",
         13,
         "MAL",
         "Pastor Maldonado",
         "1985-03-09",
         "Venezuelan",
         "2023-09-23T20:22:29.129+0000"
        ],
        [
         814,
         "resta",
         null,
         "DIR",
         "Paul di Resta",
         "1986-04-16",
         "British",
         "2023-09-23T20:22:29.129+0000"
        ],
        [
         815,
         "perez",
         11,
         "PER",
         "Sergio Pérez",
         "1990-01-26",
         "Mexican",
         "2023-09-23T20:22:29.129+0000"
        ],
        [
         816,
         "ambrosio",
         null,
         "DAM",
         "Jérôme d'Ambrosio",
         "1985-12-27",
         "Belgian",
         "2023-09-23T20:22:29.129+0000"
        ],
        [
         817,
         "ricciardo",
         3,
         "RIC",
         "Daniel Ricciardo",
         "1989-07-01",
         "Australian",
         "2023-09-23T20:22:29.129+0000"
        ],
        [
         818,
         "vergne",
         25,
         "VER",
         "Jean-Éric Vergne",
         "1990-04-25",
         "French",
         "2023-09-23T20:22:29.129+0000"
        ],
        [
         819,
         "pic",
         null,
         "PIC",
         "Charles Pic",
         "1990-02-15",
         "French",
         "2023-09-23T20:22:29.129+0000"
        ],
        [
         820,
         "chilton",
         4,
         "CHI",
         "Max Chilton",
         "1991-04-21",
         "British",
         "2023-09-23T20:22:29.129+0000"
        ],
        [
         821,
         "gutierrez",
         21,
         "GUT",
         "Esteban Gutiérrez",
         "1991-08-05",
         "Mexican",
         "2023-09-23T20:22:29.129+0000"
        ],
        [
         822,
         "bottas",
         77,
         "BOT",
         "Valtteri Bottas",
         "1989-08-28",
         "Finnish",
         "2023-09-23T20:22:29.129+0000"
        ],
        [
         823,
         "garde",
         null,
         "VDG",
         "Giedo van der Garde",
         "1985-04-25",
         "Dutch",
         "2023-09-23T20:22:29.129+0000"
        ],
        [
         824,
         "jules_bianchi",
         17,
         "BIA",
         "Jules Bianchi",
         "1989-08-03",
         "French",
         "2023-09-23T20:22:29.129+0000"
        ],
        [
         825,
         "kevin_magnussen",
         20,
         "MAG",
         "Kevin Magnussen",
         "1992-10-05",
         "Danish",
         "2023-09-23T20:22:29.129+0000"
        ],
        [
         826,
         "kvyat",
         26,
         "KVY",
         "Daniil Kvyat",
         "1994-04-26",
         "Russian",
         "2023-09-23T20:22:29.129+0000"
        ],
        [
         827,
         "lotterer",
         45,
         "LOT",
         "André Lotterer",
         "1981-11-19",
         "German",
         "2023-09-23T20:22:29.129+0000"
        ],
        [
         828,
         "ericsson",
         9,
         "ERI",
         "Marcus Ericsson",
         "1990-09-02",
         "Swedish",
         "2023-09-23T20:22:29.129+0000"
        ],
        [
         829,
         "stevens",
         28,
         "STE",
         "Will Stevens",
         "1991-06-28",
         "British",
         "2023-09-23T20:22:29.129+0000"
        ],
        [
         830,
         "max_verstappen",
         33,
         "VER",
         "Max Verstappen",
         "1997-09-30",
         "Dutch",
         "2023-09-23T20:22:29.129+0000"
        ],
        [
         831,
         "nasr",
         12,
         "NAS",
         "Felipe Nasr",
         "1992-08-21",
         "Brazilian",
         "2023-09-23T20:22:29.129+0000"
        ],
        [
         832,
         "sainz",
         55,
         "SAI",
         "Carlos Sainz",
         "1994-09-01",
         "Spanish",
         "2023-09-23T20:22:29.129+0000"
        ],
        [
         833,
         "merhi",
         98,
         "MER",
         "Roberto Merhi",
         "1991-03-22",
         "Spanish",
         "2023-09-23T20:22:29.129+0000"
        ],
        [
         834,
         "rossi",
         53,
         "RSS",
         "Alexander Rossi",
         "1991-09-25",
         "American",
         "2023-09-23T20:22:29.129+0000"
        ],
        [
         835,
         "jolyon_palmer",
         30,
         "PAL",
         "Jolyon Palmer",
         "1991-01-20",
         "British",
         "2023-09-23T20:22:29.129+0000"
        ],
        [
         836,
         "wehrlein",
         94,
         "WEH",
         "Pascal Wehrlein",
         "1994-10-18",
         "German",
         "2023-09-23T20:22:29.129+0000"
        ],
        [
         837,
         "haryanto",
         88,
         "HAR",
         "Rio Haryanto",
         "1993-01-22",
         "Indonesian",
         "2023-09-23T20:22:29.129+0000"
        ],
        [
         838,
         "vandoorne",
         2,
         "VAN",
         "Stoffel Vandoorne",
         "1992-03-26",
         "Belgian",
         "2023-09-23T20:22:29.129+0000"
        ],
        [
         839,
         "ocon",
         31,
         "OCO",
         "Esteban Ocon",
         "1996-09-17",
         "French",
         "2023-09-23T20:22:29.129+0000"
        ],
        [
         840,
         "stroll",
         18,
         "STR",
         "Lance Stroll",
         "1998-10-29",
         "Canadian",
         "2023-09-23T20:22:29.129+0000"
        ],
        [
         841,
         "giovinazzi",
         99,
         "GIO",
         "Antonio Giovinazzi",
         "1993-12-14",
         "Italian",
         "2023-09-23T20:22:29.129+0000"
        ],
        [
         843,
         "brendon_hartley",
         28,
         "HAR",
         "Brendon Hartley",
         "1989-11-10",
         "New Zealander",
         "2023-09-23T20:22:29.129+0000"
        ],
        [
         844,
         "leclerc",
         16,
         "LEC",
         "Charles Leclerc",
         "1997-10-16",
         "Monegasque",
         "2023-09-23T20:22:29.129+0000"
        ],
        [
         845,
         "sirotkin",
         35,
         "SIR",
         "Sergey Sirotkin",
         "1995-08-27",
         "Russian",
         "2023-09-23T20:22:29.129+0000"
        ],
        [
         846,
         "norris",
         4,
         "NOR",
         "Lando Norris",
         "1999-11-13",
         "British",
         "2023-09-23T20:22:29.129+0000"
        ],
        [
         847,
         "russell",
         63,
         "RUS",
         "George Russell",
         "1998-02-15",
         "British",
         "2023-09-23T20:22:29.129+0000"
        ],
        [
         848,
         "albon",
         23,
         "ALB",
         "Alexander Albon",
         "1996-03-23",
         "Thai",
         "2023-09-23T20:22:29.129+0000"
        ],
        [
         849,
         "latifi",
         6,
         "LAT",
         "Nicholas Latifi",
         "1995-06-29",
         "Canadian",
         "2023-09-23T20:22:29.129+0000"
        ],
        [
         850,
         "pietro_fittipaldi",
         51,
         "FIT",
         "Pietro Fittipaldi",
         "1996-06-25",
         "Brazilian",
         "2023-09-23T20:22:29.129+0000"
        ],
        [
         851,
         "aitken",
         89,
         "AIT",
         "Jack Aitken",
         "1995-09-23",
         "British",
         "2023-09-23T20:22:29.129+0000"
        ],
        [
         852,
         "tsunoda",
         null,
         "TSU",
         "Yuki Tsunoda",
         "2000-05-11",
         "Japanese",
         "2023-09-23T20:22:29.129+0000"
        ],
        [
         853,
         "mazepin",
         null,
         "MAZ",
         "Nikita Mazepin",
         "1999-03-02",
         "Russian",
         "2023-09-23T20:22:29.129+0000"
        ],
        [
         854,
         "mick_schumacher",
         null,
         "SCH",
         "Mick Schumacher",
         "1999-03-22",
         "German",
         "2023-09-23T20:22:29.129+0000"
        ]
       ],
       "datasetInfos": [],
       "dbfsResultPath": null,
       "isJsonSchema": true,
       "metadata": {},
       "overflow": false,
       "plotOptions": {
        "customPlotOptions": {},
        "displayType": "table",
        "pivotAggregation": null,
        "pivotColumns": null,
        "xColumns": null,
        "yColumns": null
       },
       "removedWidgets": [],
       "schema": [
        {
         "metadata": "{}",
         "name": "driver_id",
         "type": "\"integer\""
        },
        {
         "metadata": "{}",
         "name": "driver_ref",
         "type": "\"string\""
        },
        {
         "metadata": "{}",
         "name": "number",
         "type": "\"integer\""
        },
        {
         "metadata": "{}",
         "name": "code",
         "type": "\"string\""
        },
        {
         "metadata": "{}",
         "name": "name",
         "type": "\"string\""
        },
        {
         "metadata": "{}",
         "name": "dob",
         "type": "\"date\""
        },
        {
         "metadata": "{}",
         "name": "nationality",
         "type": "\"string\""
        },
        {
         "metadata": "{}",
         "name": "ingestion_date",
         "type": "\"timestamp\""
        }
       ],
       "type": "table"
      }
     },
     "output_type": "display_data"
    }
   ],
   "source": [
    "display(spark.read.parquet(\"/mnt/jumayelformula1dl/processed/drivers/\"))"
   ]
  }
 ],
 "metadata": {
  "application/vnd.databricks.v1+notebook": {
   "dashboards": [],
   "language": "python",
   "notebookMetadata": {
    "pythonIndentUnit": 4
   },
   "notebookName": "4.ingest_drivers_file",
   "widgets": {}
  }
 },
 "nbformat": 4,
 "nbformat_minor": 0
}
