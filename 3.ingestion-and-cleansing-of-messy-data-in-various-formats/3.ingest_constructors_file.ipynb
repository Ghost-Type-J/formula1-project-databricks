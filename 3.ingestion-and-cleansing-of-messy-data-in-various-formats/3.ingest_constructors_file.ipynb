{
 "cells": [
  {
   "cell_type": "markdown",
   "metadata": {
    "application/vnd.databricks.v1+cell": {
     "cellMetadata": {
      "byteLimit": 2048000,
      "rowLimit": 10000
     },
     "inputWidgets": {},
     "nuid": "e3864d4e-fd59-4f7d-a14d-78c7a18b67d5",
     "showTitle": false,
     "title": ""
    }
   },
   "source": [
    "\n",
    "### Ingest constructors.json file"
   ]
  },
  {
   "cell_type": "markdown",
   "metadata": {
    "application/vnd.databricks.v1+cell": {
     "cellMetadata": {
      "byteLimit": 2048000,
      "rowLimit": 10000
     },
     "inputWidgets": {},
     "nuid": "fd4ac0c4-2367-4a57-85be-dafbc1cd4c0e",
     "showTitle": false,
     "title": ""
    }
   },
   "source": [
    "\n",
    "#####Step 1 - Read the JSON file using the spark dataframe reader"
   ]
  },
  {
   "cell_type": "code",
   "execution_count": 0,
   "metadata": {
    "application/vnd.databricks.v1+cell": {
     "cellMetadata": {
      "byteLimit": 2048000,
      "rowLimit": 10000
     },
     "inputWidgets": {},
     "nuid": "d8a7267a-d707-4494-87ee-f44f035b97e6",
     "showTitle": false,
     "title": ""
    }
   },
   "outputs": [],
   "source": [
    "\n",
    "df = spark.read.json(\"/mnt/jumayelformula1dl/raw/constructors.json/\")"
   ]
  },
  {
   "cell_type": "code",
   "execution_count": 0,
   "metadata": {
    "application/vnd.databricks.v1+cell": {
     "cellMetadata": {
      "byteLimit": 2048000,
      "rowLimit": 10000
     },
     "inputWidgets": {},
     "nuid": "c559e02f-9887-485e-8386-d452b5366f8c",
     "showTitle": false,
     "title": ""
    }
   },
   "outputs": [],
   "source": [
    "contructors_schema = \"constructorId INT, constructorRef STRING, name STRING, nationality STRING, url STRING\""
   ]
  },
  {
   "cell_type": "code",
   "execution_count": 0,
   "metadata": {
    "application/vnd.databricks.v1+cell": {
     "cellMetadata": {
      "byteLimit": 2048000,
      "rowLimit": 10000
     },
     "inputWidgets": {},
     "nuid": "350bbdd3-0928-4f29-b906-00d01a2d6142",
     "showTitle": false,
     "title": ""
    }
   },
   "outputs": [],
   "source": [
    "constructors_df = spark.read.schema(contructors_schema).json(\"/mnt/jumayelformula1dl/raw/constructors.json/\")"
   ]
  },
  {
   "cell_type": "markdown",
   "metadata": {
    "application/vnd.databricks.v1+cell": {
     "cellMetadata": {
      "byteLimit": 2048000,
      "rowLimit": 10000
     },
     "inputWidgets": {},
     "nuid": "fea3a5b8-e4ee-477c-98ee-1c872b9f3f9c",
     "showTitle": false,
     "title": ""
    }
   },
   "source": [
    "\n",
    "##### Step 2 - Drop unwanted columns"
   ]
  },
  {
   "cell_type": "code",
   "execution_count": 0,
   "metadata": {
    "application/vnd.databricks.v1+cell": {
     "cellMetadata": {
      "byteLimit": 2048000,
      "rowLimit": 10000
     },
     "inputWidgets": {},
     "nuid": "ea9740a5-4b44-4350-b51c-20f094532109",
     "showTitle": false,
     "title": ""
    }
   },
   "outputs": [],
   "source": [
    "constructors_dropped_df = constructors_df.drop(\"url\")"
   ]
  },
  {
   "cell_type": "markdown",
   "metadata": {
    "application/vnd.databricks.v1+cell": {
     "cellMetadata": {
      "byteLimit": 2048000,
      "rowLimit": 10000
     },
     "inputWidgets": {},
     "nuid": "a2e3c69b-4b04-4dd8-8e96-e5c373918d58",
     "showTitle": false,
     "title": ""
    }
   },
   "source": [
    "\n",
    "##### Step 3 - Rename columns and add ingestion_date column"
   ]
  },
  {
   "cell_type": "code",
   "execution_count": 0,
   "metadata": {
    "application/vnd.databricks.v1+cell": {
     "cellMetadata": {
      "byteLimit": 2048000,
      "rowLimit": 10000
     },
     "inputWidgets": {},
     "nuid": "0093e317-9b9f-45bd-8475-b6cb9a3daa4c",
     "showTitle": false,
     "title": ""
    }
   },
   "outputs": [],
   "source": [
    "from pyspark.sql.functions import current_timestamp\n",
    "\n",
    "\n",
    "constructors_final_df = constructors_dropped_df.withColumnRenamed(\"constructorId\", \"constructor_id\") \\\n",
    "                                               .withColumnRenamed(\"constructorRef\",\"constructor_ref\") \\\n",
    "                                               .withColumn(\"ingestion_date\", current_timestamp())"
   ]
  },
  {
   "cell_type": "markdown",
   "metadata": {
    "application/vnd.databricks.v1+cell": {
     "cellMetadata": {
      "byteLimit": 2048000,
      "rowLimit": 10000
     },
     "inputWidgets": {},
     "nuid": "b50beac0-d178-4abc-9aac-da179e1aa0f5",
     "showTitle": false,
     "title": ""
    }
   },
   "source": [
    "\n",
    "#####Step 4 - Write output to parquet file"
   ]
  },
  {
   "cell_type": "code",
   "execution_count": 0,
   "metadata": {
    "application/vnd.databricks.v1+cell": {
     "cellMetadata": {
      "byteLimit": 2048000,
      "rowLimit": 10000
     },
     "inputWidgets": {},
     "nuid": "8cdee4c0-5371-4c80-9c4b-65f40278174b",
     "showTitle": false,
     "title": ""
    }
   },
   "outputs": [],
   "source": [
    "constructors_final_df.write.parquet(\"/mnt/jumayelformula1dl/processed/constructors\", mode=\"overwrite\")"
   ]
  },
  {
   "cell_type": "code",
   "execution_count": 0,
   "metadata": {
    "application/vnd.databricks.v1+cell": {
     "cellMetadata": {
      "byteLimit": 2048000,
      "rowLimit": 10000
     },
     "inputWidgets": {},
     "nuid": "8d4262e0-e48c-40ea-a01d-b37e78a992b2",
     "showTitle": false,
     "title": ""
    }
   },
   "outputs": [
    {
     "output_type": "display_data",
     "data": {
      "text/html": [
       "<style scoped>\n",
       "  .table-result-container {\n",
       "    max-height: 300px;\n",
       "    overflow: auto;\n",
       "  }\n",
       "  table, th, td {\n",
       "    border: 1px solid black;\n",
       "    border-collapse: collapse;\n",
       "  }\n",
       "  th, td {\n",
       "    padding: 5px;\n",
       "  }\n",
       "  th {\n",
       "    text-align: left;\n",
       "  }\n",
       "</style><div class='table-result-container'><table class='table-result'><thead style='background-color: white'><tr><th>path</th><th>name</th><th>size</th><th>modificationTime</th></tr></thead><tbody><tr><td>dbfs:/mnt/jumayelformula1dl/processed/constructors/_SUCCESS</td><td>_SUCCESS</td><td>0</td><td>1695497468000</td></tr><tr><td>dbfs:/mnt/jumayelformula1dl/processed/constructors/_committed_5313672199245001653</td><td>_committed_5313672199245001653</td><td>221</td><td>1695497468000</td></tr><tr><td>dbfs:/mnt/jumayelformula1dl/processed/constructors/_committed_5629424136140623927</td><td>_committed_5629424136140623927</td><td>231</td><td>1695497235000</td></tr><tr><td>dbfs:/mnt/jumayelformula1dl/processed/constructors/_committed_6185573293407078336</td><td>_committed_6185573293407078336</td><td>122</td><td>1695497168000</td></tr><tr><td>dbfs:/mnt/jumayelformula1dl/processed/constructors/_committed_6560232622438237765</td><td>_committed_6560232622438237765</td><td>221</td><td>1695497246000</td></tr><tr><td>dbfs:/mnt/jumayelformula1dl/processed/constructors/_committed_8507733314701577063</td><td>_committed_8507733314701577063</td><td>221</td><td>1695497349000</td></tr><tr><td>dbfs:/mnt/jumayelformula1dl/processed/constructors/_started_5313672199245001653</td><td>_started_5313672199245001653</td><td>0</td><td>1695497468000</td></tr><tr><td>dbfs:/mnt/jumayelformula1dl/processed/constructors/_started_5629424136140623927</td><td>_started_5629424136140623927</td><td>0</td><td>1695497235000</td></tr><tr><td>dbfs:/mnt/jumayelformula1dl/processed/constructors/_started_6185573293407078336</td><td>_started_6185573293407078336</td><td>0</td><td>1695497164000</td></tr><tr><td>dbfs:/mnt/jumayelformula1dl/processed/constructors/_started_6560232622438237765</td><td>_started_6560232622438237765</td><td>0</td><td>1695497246000</td></tr><tr><td>dbfs:/mnt/jumayelformula1dl/processed/constructors/_started_8507733314701577063</td><td>_started_8507733314701577063</td><td>0</td><td>1695497349000</td></tr><tr><td>dbfs:/mnt/jumayelformula1dl/processed/constructors/part-00000-tid-5313672199245001653-03b2c5b3-964b-4754-b348-1c2a0fbefdf4-29-1-c000.snappy.parquet</td><td>part-00000-tid-5313672199245001653-03b2c5b3-964b-4754-b348-1c2a0fbefdf4-29-1-c000.snappy.parquet</td><td>6616</td><td>1695497468000</td></tr></tbody></table></div>"
      ]
     },
     "metadata": {
      "application/vnd.databricks.v1+output": {
       "addedWidgets": {},
       "aggData": [],
       "aggError": "",
       "aggOverflow": false,
       "aggSchema": [],
       "aggSeriesLimitReached": false,
       "aggType": "",
       "arguments": {},
       "columnCustomDisplayInfos": {},
       "data": [
        [
         "dbfs:/mnt/jumayelformula1dl/processed/constructors/_SUCCESS",
         "_SUCCESS",
         0,
         1695497468000
        ],
        [
         "dbfs:/mnt/jumayelformula1dl/processed/constructors/_committed_5313672199245001653",
         "_committed_5313672199245001653",
         221,
         1695497468000
        ],
        [
         "dbfs:/mnt/jumayelformula1dl/processed/constructors/_committed_5629424136140623927",
         "_committed_5629424136140623927",
         231,
         1695497235000
        ],
        [
         "dbfs:/mnt/jumayelformula1dl/processed/constructors/_committed_6185573293407078336",
         "_committed_6185573293407078336",
         122,
         1695497168000
        ],
        [
         "dbfs:/mnt/jumayelformula1dl/processed/constructors/_committed_6560232622438237765",
         "_committed_6560232622438237765",
         221,
         1695497246000
        ],
        [
         "dbfs:/mnt/jumayelformula1dl/processed/constructors/_committed_8507733314701577063",
         "_committed_8507733314701577063",
         221,
         1695497349000
        ],
        [
         "dbfs:/mnt/jumayelformula1dl/processed/constructors/_started_5313672199245001653",
         "_started_5313672199245001653",
         0,
         1695497468000
        ],
        [
         "dbfs:/mnt/jumayelformula1dl/processed/constructors/_started_5629424136140623927",
         "_started_5629424136140623927",
         0,
         1695497235000
        ],
        [
         "dbfs:/mnt/jumayelformula1dl/processed/constructors/_started_6185573293407078336",
         "_started_6185573293407078336",
         0,
         1695497164000
        ],
        [
         "dbfs:/mnt/jumayelformula1dl/processed/constructors/_started_6560232622438237765",
         "_started_6560232622438237765",
         0,
         1695497246000
        ],
        [
         "dbfs:/mnt/jumayelformula1dl/processed/constructors/_started_8507733314701577063",
         "_started_8507733314701577063",
         0,
         1695497349000
        ],
        [
         "dbfs:/mnt/jumayelformula1dl/processed/constructors/part-00000-tid-5313672199245001653-03b2c5b3-964b-4754-b348-1c2a0fbefdf4-29-1-c000.snappy.parquet",
         "part-00000-tid-5313672199245001653-03b2c5b3-964b-4754-b348-1c2a0fbefdf4-29-1-c000.snappy.parquet",
         6616,
         1695497468000
        ]
       ],
       "datasetInfos": [],
       "dbfsResultPath": null,
       "isJsonSchema": true,
       "metadata": {},
       "overflow": false,
       "plotOptions": {
        "customPlotOptions": {},
        "displayType": "table",
        "pivotAggregation": null,
        "pivotColumns": null,
        "xColumns": null,
        "yColumns": null
       },
       "removedWidgets": [],
       "schema": [
        {
         "metadata": "{}",
         "name": "path",
         "type": "\"string\""
        },
        {
         "metadata": "{}",
         "name": "name",
         "type": "\"string\""
        },
        {
         "metadata": "{}",
         "name": "size",
         "type": "\"long\""
        },
        {
         "metadata": "{}",
         "name": "modificationTime",
         "type": "\"long\""
        }
       ],
       "type": "table"
      }
     },
     "output_type": "display_data"
    }
   ],
   "source": [
    "display(dbutils.fs.ls(\"/mnt/jumayelformula1dl/processed/constructors\"))"
   ]
  }
 ],
 "metadata": {
  "application/vnd.databricks.v1+notebook": {
   "dashboards": [],
   "language": "python",
   "notebookMetadata": {
    "mostRecentlyExecutedCommandWithImplicitDF": {
     "commandId": -1,
     "dataframes": [
      "_sqldf"
     ]
    },
    "pythonIndentUnit": 4
   },
   "notebookName": "3.ingest_constructors_file",
   "widgets": {}
  }
 },
 "nbformat": 4,
 "nbformat_minor": 0
}
