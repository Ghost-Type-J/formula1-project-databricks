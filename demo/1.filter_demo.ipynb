{
 "cells": [
  {
   "cell_type": "code",
   "execution_count": 0,
   "metadata": {
    "application/vnd.databricks.v1+cell": {
     "cellMetadata": {
      "byteLimit": 2048000,
      "rowLimit": 10000
     },
     "inputWidgets": {},
     "nuid": "058c9c8e-8aef-4205-b4b1-b5cdad68e10b",
     "showTitle": false,
     "title": ""
    }
   },
   "outputs": [],
   "source": [
    "%run\n",
    "\"../includes/configuration\""
   ]
  },
  {
   "cell_type": "code",
   "execution_count": 0,
   "metadata": {
    "application/vnd.databricks.v1+cell": {
     "cellMetadata": {
      "byteLimit": 2048000,
      "rowLimit": 10000
     },
     "inputWidgets": {},
     "nuid": "5becbed2-221c-4d89-b3d2-11668a8e3cca",
     "showTitle": false,
     "title": ""
    }
   },
   "outputs": [],
   "source": [
    "races_df = spark.read.parquet(f\"{processed_folder_path}/races\")"
   ]
  },
  {
   "cell_type": "code",
   "execution_count": 0,
   "metadata": {
    "application/vnd.databricks.v1+cell": {
     "cellMetadata": {
      "byteLimit": 2048000,
      "rowLimit": 10000
     },
     "inputWidgets": {},
     "nuid": "983c5b72-225a-4214-b201-16a61ea48cb3",
     "showTitle": false,
     "title": ""
    }
   },
   "outputs": [],
   "source": [
    "races_filtered_df = races_df.filter(\"race_year = 2019 AND round <= 5\")"
   ]
  },
  {
   "cell_type": "code",
   "execution_count": 0,
   "metadata": {
    "application/vnd.databricks.v1+cell": {
     "cellMetadata": {
      "byteLimit": 2048000,
      "rowLimit": 10000
     },
     "inputWidgets": {},
     "nuid": "efac9ef3-a288-400b-b7f1-10f98d363d5d",
     "showTitle": false,
     "title": ""
    }
   },
   "outputs": [],
   "source": [
    "# races_filtered_df = races_df.filter((races_df[\"race_year\"] == 2019) & (races_df[\"round\"] <= 5))\n",
    "\n",
    "races_filtered_df = races_df.where((races_df[\"race_year\"] == 2019) & (races_df[\"round\"] <= 5))\n",
    "\n",
    "# .filter() and .where() have the same function and are interchangable."
   ]
  },
  {
   "cell_type": "code",
   "execution_count": 0,
   "metadata": {
    "application/vnd.databricks.v1+cell": {
     "cellMetadata": {
      "byteLimit": 2048000,
      "rowLimit": 10000
     },
     "inputWidgets": {},
     "nuid": "6f30f20e-bee6-4d60-b5b1-0fa9cf4f1485",
     "showTitle": false,
     "title": ""
    }
   },
   "outputs": [
    {
     "output_type": "display_data",
     "data": {
      "text/html": [
       "<style scoped>\n",
       "  .table-result-container {\n",
       "    max-height: 300px;\n",
       "    overflow: auto;\n",
       "  }\n",
       "  table, th, td {\n",
       "    border: 1px solid black;\n",
       "    border-collapse: collapse;\n",
       "  }\n",
       "  th, td {\n",
       "    padding: 5px;\n",
       "  }\n",
       "  th {\n",
       "    text-align: left;\n",
       "  }\n",
       "</style><div class='table-result-container'><table class='table-result'><thead style='background-color: white'><tr><th>race_id</th><th>round</th><th>circuit_id</th><th>name</th><th>race_timestamp</th><th>data_source</th><th>ingestion_date</th><th>race_year</th></tr></thead><tbody><tr><td>1010</td><td>1</td><td>1</td><td>Australian Grand Prix</td><td>2019-03-17T05:10:00.000+0000</td><td>ergast_api</td><td>2023-09-25T21:26:03.115+0000</td><td>2019</td></tr><tr><td>1011</td><td>2</td><td>3</td><td>Bahrain Grand Prix</td><td>2019-03-31T15:10:00.000+0000</td><td>ergast_api</td><td>2023-09-25T21:26:03.115+0000</td><td>2019</td></tr><tr><td>1012</td><td>3</td><td>17</td><td>Chinese Grand Prix</td><td>2019-04-14T06:10:00.000+0000</td><td>ergast_api</td><td>2023-09-25T21:26:03.115+0000</td><td>2019</td></tr><tr><td>1013</td><td>4</td><td>73</td><td>Azerbaijan Grand Prix</td><td>2019-04-28T12:10:00.000+0000</td><td>ergast_api</td><td>2023-09-25T21:26:03.115+0000</td><td>2019</td></tr><tr><td>1014</td><td>5</td><td>4</td><td>Spanish Grand Prix</td><td>2019-05-12T13:10:00.000+0000</td><td>ergast_api</td><td>2023-09-25T21:26:03.115+0000</td><td>2019</td></tr></tbody></table></div>"
      ]
     },
     "metadata": {
      "application/vnd.databricks.v1+output": {
       "addedWidgets": {},
       "aggData": [],
       "aggError": "",
       "aggOverflow": false,
       "aggSchema": [],
       "aggSeriesLimitReached": false,
       "aggType": "",
       "arguments": {},
       "columnCustomDisplayInfos": {},
       "data": [
        [
         1010,
         1,
         1,
         "Australian Grand Prix",
         "2019-03-17T05:10:00.000+0000",
         "ergast_api",
         "2023-09-25T21:26:03.115+0000",
         2019
        ],
        [
         1011,
         2,
         3,
         "Bahrain Grand Prix",
         "2019-03-31T15:10:00.000+0000",
         "ergast_api",
         "2023-09-25T21:26:03.115+0000",
         2019
        ],
        [
         1012,
         3,
         17,
         "Chinese Grand Prix",
         "2019-04-14T06:10:00.000+0000",
         "ergast_api",
         "2023-09-25T21:26:03.115+0000",
         2019
        ],
        [
         1013,
         4,
         73,
         "Azerbaijan Grand Prix",
         "2019-04-28T12:10:00.000+0000",
         "ergast_api",
         "2023-09-25T21:26:03.115+0000",
         2019
        ],
        [
         1014,
         5,
         4,
         "Spanish Grand Prix",
         "2019-05-12T13:10:00.000+0000",
         "ergast_api",
         "2023-09-25T21:26:03.115+0000",
         2019
        ]
       ],
       "datasetInfos": [],
       "dbfsResultPath": null,
       "isJsonSchema": true,
       "metadata": {},
       "overflow": false,
       "plotOptions": {
        "customPlotOptions": {},
        "displayType": "table",
        "pivotAggregation": null,
        "pivotColumns": null,
        "xColumns": null,
        "yColumns": null
       },
       "removedWidgets": [],
       "schema": [
        {
         "metadata": "{}",
         "name": "race_id",
         "type": "\"integer\""
        },
        {
         "metadata": "{}",
         "name": "round",
         "type": "\"integer\""
        },
        {
         "metadata": "{}",
         "name": "circuit_id",
         "type": "\"integer\""
        },
        {
         "metadata": "{}",
         "name": "name",
         "type": "\"string\""
        },
        {
         "metadata": "{}",
         "name": "race_timestamp",
         "type": "\"timestamp\""
        },
        {
         "metadata": "{}",
         "name": "data_source",
         "type": "\"string\""
        },
        {
         "metadata": "{}",
         "name": "ingestion_date",
         "type": "\"timestamp\""
        },
        {
         "metadata": "{}",
         "name": "race_year",
         "type": "\"integer\""
        }
       ],
       "type": "table"
      }
     },
     "output_type": "display_data"
    }
   ],
   "source": [
    "display(races_filtered_df)"
   ]
  },
  {
   "cell_type": "code",
   "execution_count": 0,
   "metadata": {
    "application/vnd.databricks.v1+cell": {
     "cellMetadata": {
      "byteLimit": 2048000,
      "rowLimit": 10000
     },
     "inputWidgets": {},
     "nuid": "41fef778-29a6-4f0a-8170-f05768441e9e",
     "showTitle": false,
     "title": ""
    }
   },
   "outputs": [],
   "source": []
  }
 ],
 "metadata": {
  "application/vnd.databricks.v1+notebook": {
   "dashboards": [],
   "language": "python",
   "notebookMetadata": {
    "pythonIndentUnit": 4
   },
   "notebookName": "1.filter_demo",
   "widgets": {}
  }
 },
 "nbformat": 4,
 "nbformat_minor": 0
}
